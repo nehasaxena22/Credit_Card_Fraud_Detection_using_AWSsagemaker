{
 "cells": [
  {
   "cell_type": "code",
   "execution_count": 1,
   "id": "497838c0-6ffe-4ded-b6c1-77b1dd9deb5f",
   "metadata": {},
   "outputs": [
    {
     "name": "stdout",
     "output_type": "stream",
     "text": [
      "Features dropped due to high multicollinearity (VIF > 10): ['V2', 'V3', 'V5', 'V7', 'V10', 'V12', 'V14', 'V16', 'V17']\n",
      "Feature engineering completed and processed dataset uploaded to S3 successfully!\n"
     ]
    }
   ],
   "source": [
    "import pandas as pd\n",
    "import boto3\n",
    "import os\n",
    "from statsmodels.stats.outliers_influence import variance_inflation_factor\n",
    " \n",
    "# S3 Bucket Details\n",
    "s3 = boto3.client(\"s3\")\n",
    "bucket_name = \"fr-detector\"\n",
    " \n",
    "# Download dataset from S3\n",
    "s3.download_file(bucket_name, \"balanced_train/X_train.csv\", \"X_train.csv\")\n",
    "s3.download_file(bucket_name, \"balanced_train/y_train.csv\", \"y_train.csv\")\n",
    " \n",
    "# Load dataset\n",
    "X_train = pd.read_csv(\"X_train.csv\")\n",
    "y_train = pd.read_csv(\"y_train.csv\")\n",
    " \n",
    "# Function to calculate VIF and remove multicollinear features\n",
    "def remove_multicollinear_features(X, threshold=10):\n",
    "    X_numeric = X.select_dtypes(include=['number'])  # Only consider numerical features\n",
    "    vif_data = pd.DataFrame()\n",
    "    vif_data[\"Feature\"] = X_numeric.columns\n",
    "    vif_data[\"VIF\"] = [variance_inflation_factor(X_numeric.values, i) for i in range(len(X_numeric.columns))]\n",
    "    \n",
    "    # Drop features with high VIF\n",
    "    high_vif_features = vif_data[vif_data[\"VIF\"] > threshold][\"Feature\"].tolist()\n",
    "    print(f\"Features dropped due to high multicollinearity (VIF > {threshold}): {high_vif_features}\")\n",
    "    X_dropped = X.drop(columns=high_vif_features, errors='ignore')\n",
    "    \n",
    "    return X_dropped\n",
    " \n",
    "# Remove multicollinear features\n",
    "X_train_processed = remove_multicollinear_features(X_train)\n",
    " \n",
    "# Ensure the target column is included before saving\n",
    "X_train_processed[\"Class\"] = y_train[\"Class\"]\n",
    " \n",
    "# Save the processed dataset\n",
    "os.makedirs(\"feature_store\", exist_ok=True)\n",
    "X_train_processed.to_csv(\"feature_store/X_train_processed.csv\", index=False)\n",
    " \n",
    "# Upload processed dataset to S3\n",
    "s3.upload_file(\"feature_store/X_train_processed.csv\", bucket_name, \"feature_store/X_train_processed.csv\")\n",
    " \n",
    "print(\"Feature engineering completed and processed dataset uploaded to S3 successfully!\")"
   ]
  },
  {
   "cell_type": "code",
   "execution_count": null,
   "id": "101d793f-a54c-47cf-948e-25b319be7453",
   "metadata": {},
   "outputs": [],
   "source": []
  },
  {
   "cell_type": "code",
   "execution_count": 15,
   "id": "b2c7d8c1-35e3-4516-80e9-a410dd56483c",
   "metadata": {},
   "outputs": [
    {
     "name": "stderr",
     "output_type": "stream",
     "text": [
      "/tmp/ipykernel_7351/2727789330.py:50: SettingWithCopyWarning: \n",
      "A value is trying to be set on a copy of a slice from a DataFrame.\n",
      "Try using .loc[row_indexer,col_indexer] = value instead\n",
      "\n",
      "See the caveats in the documentation: https://pandas.pydata.org/pandas-docs/stable/user_guide/indexing.html#returning-a-view-versus-a-copy\n",
      "  X_final[\"Class\"] = df[\"Class\"].values\n",
      "/tmp/ipykernel_7351/2727789330.py:53: SettingWithCopyWarning: \n",
      "A value is trying to be set on a copy of a slice from a DataFrame.\n",
      "Try using .loc[row_indexer,col_indexer] = value instead\n",
      "\n",
      "See the caveats in the documentation: https://pandas.pydata.org/pandas-docs/stable/user_guide/indexing.html#returning-a-view-versus-a-copy\n",
      "  X_final[\"record_id\"] = range(1, len(X_final) + 1)\n",
      "/tmp/ipykernel_7351/2727789330.py:54: SettingWithCopyWarning: \n",
      "A value is trying to be set on a copy of a slice from a DataFrame.\n",
      "Try using .loc[row_indexer,col_indexer] = value instead\n",
      "\n",
      "See the caveats in the documentation: https://pandas.pydata.org/pandas-docs/stable/user_guide/indexing.html#returning-a-view-versus-a-copy\n",
      "  X_final[\"event_time\"] = pd.to_datetime(\"now\", utc=True).strftime(\"%Y-%m-%dT%H:%M:%SZ\")\n"
     ]
    },
    {
     "name": "stdout",
     "output_type": "stream",
     "text": [
      "✅ Feature Group 'credit_card_fraud_features' already exists.\n",
      "✅ Ingested batch 1\n",
      "✅ Ingested batch 2\n",
      "✅ Ingested batch 3\n",
      "✅ Ingested batch 4\n",
      "✅ Ingested batch 5\n",
      "✅ Ingested batch 6\n",
      "✅ Ingested batch 7\n",
      "✅ Ingested batch 8\n",
      "✅ Ingested batch 9\n",
      "✅ Ingested batch 10\n",
      "✅ Ingested batch 11\n",
      "✅ Ingested batch 12\n",
      "✅ Ingested batch 13\n",
      "✅ Ingested batch 14\n",
      "✅ Ingested batch 15\n",
      "✅ Ingested batch 16\n",
      "✅ Ingested batch 17\n",
      "✅ Ingested batch 18\n",
      "✅ Ingested batch 19\n",
      "✅ Ingested batch 20\n",
      "✅ Ingested batch 21\n",
      "✅ Ingested batch 22\n",
      "✅ Ingested batch 23\n",
      "✅ Ingested batch 24\n",
      "✅ Ingested batch 25\n",
      "✅ Ingested batch 26\n",
      "✅ Ingested batch 27\n",
      "✅ Ingested batch 28\n",
      "✅ Ingested batch 29\n",
      "✅ Ingested batch 30\n",
      "✅ Ingested batch 31\n",
      "✅ Ingested batch 32\n",
      "✅ Ingested batch 33\n",
      "✅ Ingested batch 34\n",
      "✅ Ingested batch 35\n",
      "✅ Ingested batch 36\n",
      "✅ Ingested batch 37\n",
      "✅ Ingested batch 38\n",
      "✅ Ingested batch 39\n",
      "✅ Ingested batch 40\n",
      "✅ Ingested batch 41\n",
      "✅ Ingested batch 42\n",
      "✅ Ingested batch 43\n",
      "✅ Ingested batch 44\n",
      "✅ Ingested batch 45\n",
      "✅ Ingested batch 46\n",
      "✅ Ingested batch 47\n",
      "✅ Ingested batch 48\n",
      "✅ Ingested batch 49\n",
      "✅ Ingested batch 50\n",
      "✅ Ingested batch 51\n",
      "✅ Ingested batch 52\n",
      "✅ Ingested batch 53\n",
      "✅ Ingested batch 54\n",
      "✅ Ingested batch 55\n",
      "✅ Ingested batch 56\n",
      "✅ Ingested batch 57\n",
      "✅ Ingested batch 58\n",
      "✅ Ingested batch 59\n",
      "✅ Ingested batch 60\n",
      "✅ Ingested batch 61\n",
      "✅ Ingested batch 62\n",
      "✅ Ingested batch 63\n",
      "✅ Ingested batch 64\n",
      "✅ Ingested batch 65\n",
      "✅ Ingested batch 66\n",
      "✅ Ingested batch 67\n",
      "✅ Ingested batch 68\n",
      "✅ Ingested batch 69\n",
      "🚀 Feature Store Ingestion Completed Successfully!\n"
     ]
    }
   ],
   "source": [
    "import pandas as pd\n",
    "import boto3\n",
    "import sagemaker\n",
    "import numpy as np\n",
    "import time\n",
    "import pyarrow.parquet as pq  # Optimized storage format\n",
    "from sagemaker.feature_store.feature_group import FeatureGroup\n",
    "from statsmodels.stats.outliers_influence import variance_inflation_factor\n",
    "from botocore.exceptions import ClientError  # Correct exception handling\n",
    " \n",
    "# ✅ AWS Setup\n",
    "sagemaker_session = sagemaker.Session()\n",
    "role = sagemaker.get_execution_role()\n",
    "bucket_name = \"fr-detector\"\n",
    "feature_group_name = \"credit_card_fraud_features\"\n",
    " \n",
    "# ✅ Load Balanced Data from S3\n",
    "s3 = boto3.client(\"s3\")\n",
    "s3.download_file(bucket_name, \"balanced_train/X_train.csv\", \"X_train.csv\")\n",
    "s3.download_file(bucket_name, \"balanced_train/y_train.csv\", \"y_train.csv\")\n",
    " \n",
    "X_train = pd.read_csv(\"X_train.csv\")\n",
    "y_train = pd.read_csv(\"y_train.csv\")\n",
    " \n",
    "# ✅ Merge X & y for correlation analysis\n",
    "df = X_train.copy()\n",
    "df[\"Class\"] = y_train  # Ensure Class column is retained\n",
    " \n",
    "# ✅ Step 1: Compute Correlation with Target\n",
    "corr_threshold = 0.2  # Keep features correlated with target\n",
    "correlation_matrix = df.corr()\n",
    "selected_features = correlation_matrix[\"Class\"].abs().sort_values(ascending=False)\n",
    "selected_features = selected_features[selected_features > corr_threshold].index.tolist()\n",
    " \n",
    "# ✅ Step 2: Check for Multicollinearity (VIF Analysis)\n",
    "def calculate_vif(df):\n",
    "    vif_data = pd.DataFrame()\n",
    "    vif_data[\"Feature\"] = df.columns\n",
    "    vif_data[\"VIF\"] = [variance_inflation_factor(df.values, i) for i in range(df.shape[1])]\n",
    "    return vif_data\n",
    " \n",
    "X_selected = df[selected_features].drop(columns=[\"Class\"])  # Keep only selected features\n",
    "vif_result = calculate_vif(X_selected)\n",
    " \n",
    "# ✅ Drop features with high multicollinearity (VIF > 10)\n",
    "low_vif_features = vif_result[vif_result[\"VIF\"] < 10][\"Feature\"].tolist()\n",
    "X_final = X_selected[low_vif_features]\n",
    " \n",
    "# ✅ Ensure \"Class\" column is retained\n",
    "X_final[\"Class\"] = df[\"Class\"].values\n",
    " \n",
    "# ✅ Prepare Data for Feature Store\n",
    "X_final[\"record_id\"] = range(1, len(X_final) + 1)\n",
    "X_final[\"event_time\"] = pd.to_datetime(\"now\", utc=True).strftime(\"%Y-%m-%dT%H:%M:%SZ\")\n",
    " \n",
    "# ✅ Save as Parquet for Feature Store Ingestion\n",
    "parquet_filename = \"optimized_features.parquet\"\n",
    "X_final.to_parquet(parquet_filename, index=False)\n",
    " \n",
    "# ✅ Upload to S3 Feature Store Folder\n",
    "s3.upload_file(parquet_filename, bucket_name, f\"feature_store/{parquet_filename}\")\n",
    " \n",
    "# ✅ Step 3: Create Feature Group (If Not Exists)\n",
    "feature_group = FeatureGroup(name=feature_group_name, sagemaker_session=sagemaker_session)\n",
    " \n",
    "try:\n",
    "    feature_group.describe()  # Check if feature group exists\n",
    "    print(f\"✅ Feature Group '{feature_group_name}' already exists.\")\n",
    "except ClientError as e:\n",
    "    if \"ResourceNotFound\" in str(e):\n",
    "        print(f\"🚀 Creating Feature Group '{feature_group_name}'...\")\n",
    "        feature_group.load_feature_definitions(data_frame=X_final)  # Define schema\n",
    "        feature_group.create(\n",
    "            record_identifier_name=\"record_id\",\n",
    "            event_time_feature_name=\"event_time\",\n",
    "            role_arn=role,\n",
    "            s3_uri=f\"s3://{bucket_name}/feature_store/\",\n",
    "            enable_online_store=True,\n",
    "        )\n",
    "    else:\n",
    "        raise  # Re-raise if error is not ResourceNotFound\n",
    " \n",
    "# ✅ Step 4: Ingest Data into Feature Store in Batches\n",
    "batch_size = 5000  # Reduce batch size for better stability\n",
    "for i in range(0, len(X_final), batch_size):\n",
    "    batch = X_final.iloc[i : i + batch_size]\n",
    "    feature_group.ingest(data_frame=batch, max_workers=3, wait=True)  # Ensure stability\n",
    "    print(f\"✅ Ingested batch {i // batch_size + 1}\")\n",
    " \n",
    "print(\"🚀 Feature Store Ingestion Completed Successfully!\")"
   ]
  },
  {
   "cell_type": "code",
   "execution_count": 2,
   "id": "d312d036-0198-4b0a-9c7f-fc92d9535fec",
   "metadata": {},
   "outputs": [
    {
     "name": "stderr",
     "output_type": "stream",
     "text": [
      "/home/ec2-user/anaconda3/envs/python3/lib/python3.10/site-packages/pydantic/_internal/_fields.py:192: UserWarning: Field name \"json\" in \"MonitoringDatasetFormat\" shadows an attribute in parent \"Base\"\n",
      "  warnings.warn(\n"
     ]
    },
    {
     "data": {
      "text/html": [
       "<pre style=\"white-space:pre;overflow-x:auto;line-height:normal;font-family:Menlo,'DejaVu Sans Mono',consolas,'Courier New',monospace\"><span style=\"color: #7fbfbf; text-decoration-color: #7fbfbf\">[03/12/25 06:22:04] </span><span style=\"color: #0069ff; text-decoration-color: #0069ff; font-weight: bold\">INFO    </span> Found credentials from IAM Role:                                   <a href=\"file:///home/ec2-user/anaconda3/envs/python3/lib/python3.10/site-packages/botocore/credentials.py\" target=\"_blank\"><span style=\"color: #7f7f7f; text-decoration-color: #7f7f7f\">credentials.py</span></a><span style=\"color: #7f7f7f; text-decoration-color: #7f7f7f\">:</span><a href=\"file:///home/ec2-user/anaconda3/envs/python3/lib/python3.10/site-packages/botocore/credentials.py#1132\" target=\"_blank\"><span style=\"color: #7f7f7f; text-decoration-color: #7f7f7f\">1132</span></a>\n",
       "<span style=\"color: #7fbfbf; text-decoration-color: #7fbfbf\">                    </span>         BaseNotebookInstanceEc2InstanceRole                                <span style=\"color: #7f7f7f; text-decoration-color: #7f7f7f\">                   </span>\n",
       "</pre>\n"
      ],
      "text/plain": [
       "\u001b[2;36m[03/12/25 06:22:04]\u001b[0m\u001b[2;36m \u001b[0m\u001b[1;38;2;0;105;255mINFO    \u001b[0m Found credentials from IAM Role:                                   \u001b]8;id=364277;file:///home/ec2-user/anaconda3/envs/python3/lib/python3.10/site-packages/botocore/credentials.py\u001b\\\u001b[2mcredentials.py\u001b[0m\u001b]8;;\u001b\\\u001b[2m:\u001b[0m\u001b]8;id=123957;file:///home/ec2-user/anaconda3/envs/python3/lib/python3.10/site-packages/botocore/credentials.py#1132\u001b\\\u001b[2m1132\u001b[0m\u001b]8;;\u001b\\\n",
       "\u001b[2;36m                    \u001b[0m         BaseNotebookInstanceEc2InstanceRole                                \u001b[2m                   \u001b[0m\n"
      ]
     },
     "metadata": {},
     "output_type": "display_data"
    },
    {
     "name": "stdout",
     "output_type": "stream",
     "text": [
      "sagemaker.config INFO - Not applying SDK defaults from location: /etc/xdg/sagemaker/config.yaml\n",
      "sagemaker.config INFO - Not applying SDK defaults from location: /home/ec2-user/.config/sagemaker/config.yaml\n"
     ]
    },
    {
     "data": {
      "text/html": [
       "<pre style=\"white-space:pre;overflow-x:auto;line-height:normal;font-family:Menlo,'DejaVu Sans Mono',consolas,'Courier New',monospace\"><span style=\"color: #7fbfbf; text-decoration-color: #7fbfbf\">[03/12/25 06:22:07] </span><span style=\"color: #0069ff; text-decoration-color: #0069ff; font-weight: bold\">INFO    </span> Found credentials from IAM Role:                                   <a href=\"file:///home/ec2-user/anaconda3/envs/python3/lib/python3.10/site-packages/botocore/credentials.py\" target=\"_blank\"><span style=\"color: #7f7f7f; text-decoration-color: #7f7f7f\">credentials.py</span></a><span style=\"color: #7f7f7f; text-decoration-color: #7f7f7f\">:</span><a href=\"file:///home/ec2-user/anaconda3/envs/python3/lib/python3.10/site-packages/botocore/credentials.py#1132\" target=\"_blank\"><span style=\"color: #7f7f7f; text-decoration-color: #7f7f7f\">1132</span></a>\n",
       "<span style=\"color: #7fbfbf; text-decoration-color: #7fbfbf\">                    </span>         BaseNotebookInstanceEc2InstanceRole                                <span style=\"color: #7f7f7f; text-decoration-color: #7f7f7f\">                   </span>\n",
       "</pre>\n"
      ],
      "text/plain": [
       "\u001b[2;36m[03/12/25 06:22:07]\u001b[0m\u001b[2;36m \u001b[0m\u001b[1;38;2;0;105;255mINFO    \u001b[0m Found credentials from IAM Role:                                   \u001b]8;id=295535;file:///home/ec2-user/anaconda3/envs/python3/lib/python3.10/site-packages/botocore/credentials.py\u001b\\\u001b[2mcredentials.py\u001b[0m\u001b]8;;\u001b\\\u001b[2m:\u001b[0m\u001b]8;id=686880;file:///home/ec2-user/anaconda3/envs/python3/lib/python3.10/site-packages/botocore/credentials.py#1132\u001b\\\u001b[2m1132\u001b[0m\u001b]8;;\u001b\\\n",
       "\u001b[2;36m                    \u001b[0m         BaseNotebookInstanceEc2InstanceRole                                \u001b[2m                   \u001b[0m\n"
      ]
     },
     "metadata": {},
     "output_type": "display_data"
    },
    {
     "name": "stdout",
     "output_type": "stream",
     "text": [
      "{'ResponseMetadata': {'RequestId': '7137ca40-f993-452d-b590-a6901796657b', 'HTTPStatusCode': 200, 'HTTPHeaders': {'x-amzn-requestid': '7137ca40-f993-452d-b590-a6901796657b', 'content-type': 'application/json', 'content-length': '1174', 'date': 'Wed, 12 Mar 2025 06:22:07 GMT'}, 'RetryAttempts': 0}, 'Record': [{'FeatureName': 'V14', 'ValueAsString': '-0.253266461227142'}, {'FeatureName': 'V4', 'ValueAsString': '0.330155451931532'}, {'FeatureName': 'V11', 'ValueAsString': '0.624995774387124'}, {'FeatureName': 'V9', 'ValueAsString': '1.05456029821935'}, {'FeatureName': 'V7', 'ValueAsString': '-0.627977906310739'}, {'FeatureName': 'V2', 'ValueAsString': '-0.380782710937387'}, {'FeatureName': 'V18', 'ValueAsString': '0.651665792250448'}, {'FeatureName': 'V1', 'ValueAsString': '1.95504092199146'}, {'FeatureName': 'V6', 'ValueAsString': '-0.0861974531704895'}, {'FeatureName': 'V5', 'ValueAsString': '-0.509374248165253'}, {'FeatureName': 'V19', 'ValueAsString': '0.167986640374626'}, {'FeatureName': 'Class', 'ValueAsString': '0'}, {'FeatureName': 'record_id', 'ValueAsString': '1'}, {'FeatureName': 'event_time', 'ValueAsString': '2025-03-07T07:20:34Z'}]}\n"
     ]
    }
   ],
   "source": [
    "import boto3\n",
    "import pandas as pd\n",
    "from sagemaker.feature_store.feature_group import FeatureGroup\n",
    " \n",
    "# Initialize Feature Group\n",
    "feature_store_runtime = boto3.client('sagemaker-featurestore-runtime')\n",
    "feature_group_name = \"credit_card_fraud_features\"\n",
    " \n",
    "# Fetch sample data from Feature Store\n",
    "response = feature_store_runtime.get_record(\n",
    "    FeatureGroupName=feature_group_name,\n",
    "    RecordIdentifierValueAsString=\"1\"  # Change this to an actual record ID\n",
    ")\n",
    " \n",
    "# Print record\n",
    "print(response)"
   ]
  },
  {
   "cell_type": "code",
   "execution_count": 9,
   "id": "75777f67-8b51-4a99-9664-2a2184ca66e2",
   "metadata": {},
   "outputs": [
    {
     "name": "stdout",
     "output_type": "stream",
     "text": [
      "📝 Features in Feature Store:\n",
      "['V14', 'V4', 'V11', 'V9', 'V7', 'V2', 'V18', 'V1', 'V6', 'V5', 'V19', 'Class', 'record_id', 'event_time']\n",
      "📊 Total Features in Feature Store: 14\n"
     ]
    }
   ],
   "source": [
    "import boto3\n",
    " \n",
    "sm_client = boto3.client(\"sagemaker\")\n",
    " \n",
    "feature_group_name = \"credit_card_fraud_features\"  # Your feature group name\n",
    " \n",
    "response = sm_client.describe_feature_group(FeatureGroupName=feature_group_name)\n",
    "feature_definitions = response[\"FeatureDefinitions\"]\n",
    " \n",
    "# Extract column names\n",
    "stored_features = [feature[\"FeatureName\"] for feature in feature_definitions]\n",
    " \n",
    "print(f\"📝 Features in Feature Store:\\n{stored_features}\")\n",
    "print(f\"📊 Total Features in Feature Store: {len(stored_features)}\")"
   ]
  },
  {
   "cell_type": "code",
   "execution_count": null,
   "id": "065d58eb-02d8-4942-a27e-9653423316d3",
   "metadata": {},
   "outputs": [],
   "source": []
  },
  {
   "cell_type": "code",
   "execution_count": null,
   "id": "32445c06-fd2f-4987-bb89-925dcc01d81c",
   "metadata": {},
   "outputs": [],
   "source": []
  }
 ],
 "metadata": {
  "kernelspec": {
   "display_name": "conda_python3",
   "language": "python",
   "name": "conda_python3"
  },
  "language_info": {
   "codemirror_mode": {
    "name": "ipython",
    "version": 3
   },
   "file_extension": ".py",
   "mimetype": "text/x-python",
   "name": "python",
   "nbconvert_exporter": "python",
   "pygments_lexer": "ipython3",
   "version": "3.10.16"
  }
 },
 "nbformat": 4,
 "nbformat_minor": 5
}
