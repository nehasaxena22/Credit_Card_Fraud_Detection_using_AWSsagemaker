{
 "cells": [
  {
   "cell_type": "code",
   "execution_count": 2,
   "id": "879c2fd4-e346-4802-8668-472f6acafb87",
   "metadata": {},
   "outputs": [
    {
     "name": "stdout",
     "output_type": "stream",
     "text": [
      "Collecting xgboost\n",
      "  Using cached xgboost-2.1.4-py3-none-manylinux2014_x86_64.whl.metadata (2.0 kB)\n",
      "Requirement already satisfied: numpy in /home/ec2-user/anaconda3/envs/python3/lib/python3.10/site-packages (from xgboost) (1.26.4)\n",
      "Requirement already satisfied: scipy in /home/ec2-user/anaconda3/envs/python3/lib/python3.10/site-packages (from xgboost) (1.15.1)\n",
      "Using cached xgboost-2.1.4-py3-none-manylinux2014_x86_64.whl (4.5 MB)\n",
      "Installing collected packages: xgboost\n",
      "Successfully installed xgboost-2.1.4\n"
     ]
    }
   ],
   "source": [
    "!pip install xgboost"
   ]
  },
  {
   "cell_type": "code",
   "execution_count": 9,
   "id": "a7ba88ff-8d29-4a73-b7b1-bc87b251275a",
   "metadata": {
    "jupyter": {
     "source_hidden": true
    }
   },
   "outputs": [
    {
     "data": {
      "text/html": [
       "<pre style=\"white-space:pre;overflow-x:auto;line-height:normal;font-family:Menlo,'DejaVu Sans Mono',consolas,'Courier New',monospace\"><span style=\"color: #7fbfbf; text-decoration-color: #7fbfbf\">[03/18/25 13:32:30] </span><span style=\"color: #0069ff; text-decoration-color: #0069ff; font-weight: bold\">INFO    </span> Found credentials from IAM Role:                                   <a href=\"file:///home/ec2-user/anaconda3/envs/python3/lib/python3.10/site-packages/botocore/credentials.py\" target=\"_blank\"><span style=\"color: #7f7f7f; text-decoration-color: #7f7f7f\">credentials.py</span></a><span style=\"color: #7f7f7f; text-decoration-color: #7f7f7f\">:</span><a href=\"file:///home/ec2-user/anaconda3/envs/python3/lib/python3.10/site-packages/botocore/credentials.py#1132\" target=\"_blank\"><span style=\"color: #7f7f7f; text-decoration-color: #7f7f7f\">1132</span></a>\n",
       "<span style=\"color: #7fbfbf; text-decoration-color: #7fbfbf\">                    </span>         BaseNotebookInstanceEc2InstanceRole                                <span style=\"color: #7f7f7f; text-decoration-color: #7f7f7f\">                   </span>\n",
       "</pre>\n"
      ],
      "text/plain": [
       "\u001b[2;36m[03/18/25 13:32:30]\u001b[0m\u001b[2;36m \u001b[0m\u001b[1;38;2;0;105;255mINFO    \u001b[0m Found credentials from IAM Role:                                   \u001b]8;id=335852;file:///home/ec2-user/anaconda3/envs/python3/lib/python3.10/site-packages/botocore/credentials.py\u001b\\\u001b[2mcredentials.py\u001b[0m\u001b]8;;\u001b\\\u001b[2m:\u001b[0m\u001b]8;id=86892;file:///home/ec2-user/anaconda3/envs/python3/lib/python3.10/site-packages/botocore/credentials.py#1132\u001b\\\u001b[2m1132\u001b[0m\u001b]8;;\u001b\\\n",
       "\u001b[2;36m                    \u001b[0m         BaseNotebookInstanceEc2InstanceRole                                \u001b[2m                   \u001b[0m\n"
      ]
     },
     "metadata": {},
     "output_type": "display_data"
    },
    {
     "name": "stdout",
     "output_type": "stream",
     "text": [
      "Files in 'balanced_train/' folder:\n",
      "balanced_train/X_train.csv\n",
      "balanced_train/processed_train.csv\n",
      "balanced_train/train.csv\n",
      "balanced_train/y_train.csv\n"
     ]
    }
   ],
   "source": [
    "import boto3\n",
    " \n",
    "s3 = boto3.client(\"s3\")\n",
    "bucket_name = \"fr-detector\"\n",
    "prefix = \"balanced_train/\"\n",
    " \n",
    "# List files in the 'balanced_train/' folder\n",
    "response = s3.list_objects_v2(Bucket=bucket_name, Prefix=prefix)\n",
    " \n",
    "# Print all file names in the folder\n",
    "if \"Contents\" in response:\n",
    "    print(\"Files in 'balanced_train/' folder:\")\n",
    "    for obj in response[\"Contents\"]:\n",
    "        print(obj[\"Key\"])\n",
    "else:\n",
    "    print(\"No files found in 'balanced_train/' folder.\")"
   ]
  },
  {
   "cell_type": "code",
   "execution_count": 10,
   "id": "bcb59af0-1fc1-48f0-93c8-198f8a74892b",
   "metadata": {},
   "outputs": [
    {
     "name": "stdout",
     "output_type": "stream",
     "text": [
      "Dataset Shape: (341176, 31)\n",
      "\n",
      "Column Names:\n",
      " ['Time', 'V1', 'V2', 'V3', 'V4', 'V5', 'V6', 'V7', 'V8', 'V9', 'V10', 'V11', 'V12', 'V13', 'V14', 'V15', 'V16', 'V17', 'V18', 'V19', 'V20', 'V21', 'V22', 'V23', 'V24', 'V25', 'V26', 'V27', 'V28', 'Amount', 'Class']\n"
     ]
    }
   ],
   "source": [
    "import pandas as pd\n",
    " \n",
    "# Load CSV from S3 into DataFrame\n",
    "file_path = f\"s3://fr-detector/balanced_train/processed_train.csv\"\n",
    "df = pd.read_csv(file_path)\n",
    " \n",
    "# Display basic information\n",
    "print(f\"Dataset Shape: {df.shape}\")  # (rows, columns)\n",
    "print(\"\\nColumn Names:\\n\", df.columns.tolist())"
   ]
  },
  {
   "cell_type": "code",
   "execution_count": 11,
   "id": "b0e12283-8e8d-4838-a465-06da76f24022",
   "metadata": {},
   "outputs": [
    {
     "name": "stdout",
     "output_type": "stream",
     "text": [
      "📝 Features in Feature Store:\n",
      "['V14', 'V4', 'V11', 'V9', 'V7', 'V2', 'V18', 'V1', 'V6', 'V5', 'V19', 'Class', 'record_id', 'event_time']\n",
      "📊 Total Features in Feature Store: 14\n"
     ]
    }
   ],
   "source": [
    "import boto3\n",
    " \n",
    "sm_client = boto3.client(\"sagemaker\")\n",
    " \n",
    "feature_group_name = \"credit_card_fraud_features\"  # Your feature group name\n",
    " \n",
    "response = sm_client.describe_feature_group(FeatureGroupName=feature_group_name)\n",
    "feature_definitions = response[\"FeatureDefinitions\"]\n",
    " \n",
    "# Extract column names\n",
    "stored_features = [feature[\"FeatureName\"] for feature in feature_definitions]\n",
    " \n",
    "print(f\"📝 Features in Feature Store:\\n{stored_features}\")\n",
    "print(f\"📊 Total Features in Feature Store: {len(stored_features)}\")"
   ]
  },
  {
   "cell_type": "code",
   "execution_count": 12,
   "id": "f5657f61-56ef-44ef-9f39-bfddfb8b1e83",
   "metadata": {},
   "outputs": [],
   "source": [
    "df[\"record_id\"]=df.index"
   ]
  },
  {
   "cell_type": "code",
   "execution_count": 13,
   "id": "d039d942-62fa-47d9-a73e-43dfaee48244",
   "metadata": {},
   "outputs": [
    {
     "data": {
      "text/plain": [
       "Index(['Time', 'V1', 'V2', 'V3', 'V4', 'V5', 'V6', 'V7', 'V8', 'V9', 'V10',\n",
       "       'V11', 'V12', 'V13', 'V14', 'V15', 'V16', 'V17', 'V18', 'V19', 'V20',\n",
       "       'V21', 'V22', 'V23', 'V24', 'V25', 'V26', 'V27', 'V28', 'Amount',\n",
       "       'Class', 'record_id'],\n",
       "      dtype='object')"
      ]
     },
     "execution_count": 13,
     "metadata": {},
     "output_type": "execute_result"
    }
   ],
   "source": [
    "df.columns"
   ]
  },
  {
   "cell_type": "code",
   "execution_count": 14,
   "id": "6b2218aa-5b38-48c7-bbf6-3d708fb0893b",
   "metadata": {},
   "outputs": [
    {
     "name": "stdout",
     "output_type": "stream",
     "text": [
      "                  V14                  V4                V11  \\\n",
      "0  -0.253266461227142   0.330155451931532  0.624995774387124   \n",
      "1   -1.19334711605856   -2.01777181381093  -1.94507005977289   \n",
      "2  -0.640248865304589  -0.709896721404095  0.521930561808433   \n",
      "\n",
      "                   V9                  V7                  V2  \\\n",
      "0    1.05456029821935  -0.627977906310739  -0.380782710937387   \n",
      "1  0.0403783170625422   0.017959435638393  -0.626942768707407   \n",
      "2  -0.131275441288599   0.787857599353298   0.820565649655871   \n",
      "\n",
      "                 V18                  V1                   V6  \\\n",
      "0  0.651665792250448    1.95504092199146  -0.0861974531704895   \n",
      "1   2.10686601839936  -0.400975238728654     0.16831047105142   \n",
      "2  0.521918858041672  0.0725090163689562   -0.359429496231352   \n",
      "\n",
      "                   V5                V19 Class record_id            event_time  \n",
      "0  -0.509374248165253  0.167986640374626     0         1  2025-03-07T07:20:34Z  \n",
      "1  -0.107768780879015  -1.69278043647559     0         2  2025-03-07T07:20:34Z  \n",
      "2    1.08039935724521  0.198772253039242     0         3  2025-03-07T07:20:34Z  \n"
     ]
    }
   ],
   "source": [
    "import pandas as pd\n",
    "import boto3\n",
    " \n",
    "# Initialize SageMaker Feature Store Runtime client\n",
    "featurestore_runtime = boto3.client(\"sagemaker-featurestore-runtime\")\n",
    " \n",
    "# Define Feature Group name\n",
    "feature_group_name = \"credit_card_fraud_features\"  # Update if needed\n",
    " \n",
    "# List of Record IDs (should be from your dataset)\n",
    "record_ids = [\"1\", \"2\", \"3\"]  # Replace with actual IDs\n",
    " \n",
    "# Fetch records from Feature Store\n",
    "records = []\n",
    "for record_id in record_ids:\n",
    "    response = featurestore_runtime.get_record(\n",
    "        FeatureGroupName=feature_group_name,\n",
    "        RecordIdentifierValueAsString=record_id\n",
    "    )\n",
    "    \n",
    "    if \"Record\" in response:\n",
    "        record_dict = {item[\"FeatureName\"]: item[\"ValueAsString\"] for item in response[\"Record\"]}\n",
    "        records.append(record_dict)\n",
    " \n",
    "# Convert to DataFrame\n",
    "df_feature_store = pd.DataFrame(records)\n",
    " \n",
    "# Display data\n",
    "print(df_feature_store.head())"
   ]
  },
  {
   "cell_type": "code",
   "execution_count": 15,
   "id": "fa92838f-6848-4ef1-8e71-a0cb1a792bc8",
   "metadata": {},
   "outputs": [
    {
     "name": "stdout",
     "output_type": "stream",
     "text": [
      "Feature Store Data Sample:\n",
      "                  V14                  V4                V11  \\\n",
      "0   -1.19334711605856   -2.01777181381093  -1.94507005977289   \n",
      "1  -0.640248865304589  -0.709896721404095  0.521930561808433   \n",
      "2  -0.253266461227142   0.330155451931532  0.624995774387124   \n",
      "\n",
      "                   V9                  V7                  V2  \\\n",
      "0  0.0403783170625422   0.017959435638393  -0.626942768707407   \n",
      "1  -0.131275441288599   0.787857599353298   0.820565649655871   \n",
      "2    1.05456029821935  -0.627977906310739  -0.380782710937387   \n",
      "\n",
      "                 V18                  V1                   V6  \\\n",
      "0   2.10686601839936  -0.400975238728654     0.16831047105142   \n",
      "1  0.521918858041672  0.0725090163689562   -0.359429496231352   \n",
      "2  0.651665792250448    1.95504092199146  -0.0861974531704895   \n",
      "\n",
      "                   V5                V19 Class record_id            event_time  \n",
      "0  -0.107768780879015  -1.69278043647559     0         2  2025-03-07T07:20:34Z  \n",
      "1    1.08039935724521  0.198772253039242     0         3  2025-03-07T07:20:34Z  \n",
      "2  -0.509374248165253  0.167986640374626     0         1  2025-03-07T07:20:34Z  \n"
     ]
    }
   ],
   "source": [
    "############## testing index##############\n",
    "\n",
    "import boto3\n",
    "import pandas as pd\n",
    " \n",
    "# Initialize SageMaker Feature Store Runtime client\n",
    "featurestore_runtime = boto3.client(\"sagemaker-featurestore-runtime\")\n",
    " \n",
    "# Feature Group name\n",
    "feature_group_name = \"credit_card_fraud_features\"\n",
    " \n",
    "# Initialize empty list to store records\n",
    "records = []\n",
    " \n",
    "# 1️⃣ Query Feature Store to get ALL `record_id` values\n",
    "# Fetch all records in batches (assuming record_id is a unique key)\n",
    "response = featurestore_runtime.batch_get_record(Identifiers=[\n",
    "    {\"FeatureGroupName\": feature_group_name, \"RecordIdentifiersValueAsString\": [\"1\", \"2\", \"3\"]}  # Placeholder, we need to get all IDs dynamically\n",
    "])\n",
    " \n",
    "# 2️⃣ Extract record_id values\n",
    "for record in response.get(\"Records\", []):\n",
    "    record_dict = {item[\"FeatureName\"]: item[\"ValueAsString\"] for item in record[\"Record\"]}\n",
    "    records.append(record_dict)\n",
    " \n",
    "# 3️⃣ Convert to DataFrame\n",
    "df_feature_store = pd.DataFrame(records)\n",
    " \n",
    "# Display feature store data\n",
    "print(\"Feature Store Data Sample:\")\n",
    "print(df_feature_store.head())\n",
    " "
   ]
  },
  {
   "cell_type": "code",
   "execution_count": 16,
   "id": "623e4170-d509-49f7-b2cb-83a6735a574c",
   "metadata": {},
   "outputs": [
    {
     "name": "stdout",
     "output_type": "stream",
     "text": [
      "Time         float64\n",
      "V1           float64\n",
      "V2           float64\n",
      "V3           float64\n",
      "V4           float64\n",
      "V5           float64\n",
      "V6           float64\n",
      "V7           float64\n",
      "V8           float64\n",
      "V9           float64\n",
      "V10          float64\n",
      "V11          float64\n",
      "V12          float64\n",
      "V13          float64\n",
      "V14          float64\n",
      "V15          float64\n",
      "V16          float64\n",
      "V17          float64\n",
      "V18          float64\n",
      "V19          float64\n",
      "V20          float64\n",
      "V21          float64\n",
      "V22          float64\n",
      "V23          float64\n",
      "V24          float64\n",
      "V25          float64\n",
      "V26          float64\n",
      "V27          float64\n",
      "V28          float64\n",
      "Amount       float64\n",
      "Class          int64\n",
      "record_id      int64\n",
      "dtype: object\n",
      "V14           object\n",
      "V4            object\n",
      "V11           object\n",
      "V9            object\n",
      "V7            object\n",
      "V2            object\n",
      "V18           object\n",
      "V1            object\n",
      "V6            object\n",
      "V5            object\n",
      "V19           object\n",
      "Class         object\n",
      "record_id     object\n",
      "event_time    object\n",
      "dtype: object\n"
     ]
    }
   ],
   "source": [
    "print(df.dtypes)\n",
    "print(df_feature_store.dtypes)"
   ]
  },
  {
   "cell_type": "code",
   "execution_count": 17,
   "id": "f9a01cf7-1de4-4c27-9ed7-87f2fb7bf80a",
   "metadata": {},
   "outputs": [],
   "source": [
    "df_feature_store[\"record_id\"]=df_feature_store[\"record_id\"].astype(int)\n",
    "df_merged=df.merge(df_feature_store,on=\"record_id\",how=\"left\")"
   ]
  },
  {
   "cell_type": "code",
   "execution_count": 18,
   "id": "6d085b97-b956-4bec-9598-8821134d6b7b",
   "metadata": {},
   "outputs": [
    {
     "data": {
      "text/html": [
       "<div>\n",
       "<style scoped>\n",
       "    .dataframe tbody tr th:only-of-type {\n",
       "        vertical-align: middle;\n",
       "    }\n",
       "\n",
       "    .dataframe tbody tr th {\n",
       "        vertical-align: top;\n",
       "    }\n",
       "\n",
       "    .dataframe thead th {\n",
       "        text-align: right;\n",
       "    }\n",
       "</style>\n",
       "<table border=\"1\" class=\"dataframe\">\n",
       "  <thead>\n",
       "    <tr style=\"text-align: right;\">\n",
       "      <th></th>\n",
       "      <th>Time</th>\n",
       "      <th>V1_x</th>\n",
       "      <th>V2_x</th>\n",
       "      <th>V3</th>\n",
       "      <th>V4_x</th>\n",
       "      <th>V5_x</th>\n",
       "      <th>V6_x</th>\n",
       "      <th>V7_x</th>\n",
       "      <th>V8</th>\n",
       "      <th>V9_x</th>\n",
       "      <th>...</th>\n",
       "      <th>V9_y</th>\n",
       "      <th>V7_y</th>\n",
       "      <th>V2_y</th>\n",
       "      <th>V18_y</th>\n",
       "      <th>V1_y</th>\n",
       "      <th>V6_y</th>\n",
       "      <th>V5_y</th>\n",
       "      <th>V19_y</th>\n",
       "      <th>Class_y</th>\n",
       "      <th>event_time</th>\n",
       "    </tr>\n",
       "  </thead>\n",
       "  <tbody>\n",
       "    <tr>\n",
       "      <th>0</th>\n",
       "      <td>143352.0</td>\n",
       "      <td>1.955041</td>\n",
       "      <td>-0.380783</td>\n",
       "      <td>-0.315013</td>\n",
       "      <td>0.330155</td>\n",
       "      <td>-0.509374</td>\n",
       "      <td>-0.086197</td>\n",
       "      <td>-0.627978</td>\n",
       "      <td>0.035994</td>\n",
       "      <td>1.054560</td>\n",
       "      <td>...</td>\n",
       "      <td>NaN</td>\n",
       "      <td>NaN</td>\n",
       "      <td>NaN</td>\n",
       "      <td>NaN</td>\n",
       "      <td>NaN</td>\n",
       "      <td>NaN</td>\n",
       "      <td>NaN</td>\n",
       "      <td>NaN</td>\n",
       "      <td>NaN</td>\n",
       "      <td>NaN</td>\n",
       "    </tr>\n",
       "    <tr>\n",
       "      <th>1</th>\n",
       "      <td>117173.0</td>\n",
       "      <td>-0.400975</td>\n",
       "      <td>-0.626943</td>\n",
       "      <td>1.555339</td>\n",
       "      <td>-2.017772</td>\n",
       "      <td>-0.107769</td>\n",
       "      <td>0.168310</td>\n",
       "      <td>0.017959</td>\n",
       "      <td>-0.401619</td>\n",
       "      <td>0.040378</td>\n",
       "      <td>...</td>\n",
       "      <td>1.05456029821935</td>\n",
       "      <td>-0.627977906310739</td>\n",
       "      <td>-0.380782710937387</td>\n",
       "      <td>0.651665792250448</td>\n",
       "      <td>1.95504092199146</td>\n",
       "      <td>-0.0861974531704895</td>\n",
       "      <td>-0.509374248165253</td>\n",
       "      <td>0.167986640374626</td>\n",
       "      <td>0</td>\n",
       "      <td>2025-03-07T07:20:34Z</td>\n",
       "    </tr>\n",
       "    <tr>\n",
       "      <th>2</th>\n",
       "      <td>149565.0</td>\n",
       "      <td>0.072509</td>\n",
       "      <td>0.820566</td>\n",
       "      <td>-0.561351</td>\n",
       "      <td>-0.709897</td>\n",
       "      <td>1.080399</td>\n",
       "      <td>-0.359429</td>\n",
       "      <td>0.787858</td>\n",
       "      <td>0.117276</td>\n",
       "      <td>-0.131275</td>\n",
       "      <td>...</td>\n",
       "      <td>0.0403783170625422</td>\n",
       "      <td>0.017959435638393</td>\n",
       "      <td>-0.626942768707407</td>\n",
       "      <td>2.10686601839936</td>\n",
       "      <td>-0.400975238728654</td>\n",
       "      <td>0.16831047105142</td>\n",
       "      <td>-0.107768780879015</td>\n",
       "      <td>-1.69278043647559</td>\n",
       "      <td>0</td>\n",
       "      <td>2025-03-07T07:20:34Z</td>\n",
       "    </tr>\n",
       "    <tr>\n",
       "      <th>3</th>\n",
       "      <td>93670.0</td>\n",
       "      <td>-0.535045</td>\n",
       "      <td>1.014587</td>\n",
       "      <td>1.750679</td>\n",
       "      <td>2.769390</td>\n",
       "      <td>0.500089</td>\n",
       "      <td>1.002270</td>\n",
       "      <td>0.847902</td>\n",
       "      <td>-0.081323</td>\n",
       "      <td>0.371579</td>\n",
       "      <td>...</td>\n",
       "      <td>-0.131275441288599</td>\n",
       "      <td>0.787857599353298</td>\n",
       "      <td>0.820565649655871</td>\n",
       "      <td>0.521918858041672</td>\n",
       "      <td>0.0725090163689562</td>\n",
       "      <td>-0.359429496231352</td>\n",
       "      <td>1.08039935724521</td>\n",
       "      <td>0.198772253039242</td>\n",
       "      <td>0</td>\n",
       "      <td>2025-03-07T07:20:34Z</td>\n",
       "    </tr>\n",
       "    <tr>\n",
       "      <th>4</th>\n",
       "      <td>82655.0</td>\n",
       "      <td>-4.026938</td>\n",
       "      <td>1.897371</td>\n",
       "      <td>-0.429786</td>\n",
       "      <td>-0.029571</td>\n",
       "      <td>-0.855751</td>\n",
       "      <td>-0.480406</td>\n",
       "      <td>-0.435632</td>\n",
       "      <td>1.313760</td>\n",
       "      <td>0.536044</td>\n",
       "      <td>...</td>\n",
       "      <td>NaN</td>\n",
       "      <td>NaN</td>\n",
       "      <td>NaN</td>\n",
       "      <td>NaN</td>\n",
       "      <td>NaN</td>\n",
       "      <td>NaN</td>\n",
       "      <td>NaN</td>\n",
       "      <td>NaN</td>\n",
       "      <td>NaN</td>\n",
       "      <td>NaN</td>\n",
       "    </tr>\n",
       "  </tbody>\n",
       "</table>\n",
       "<p>5 rows × 45 columns</p>\n",
       "</div>"
      ],
      "text/plain": [
       "       Time      V1_x      V2_x        V3      V4_x      V5_x      V6_x  \\\n",
       "0  143352.0  1.955041 -0.380783 -0.315013  0.330155 -0.509374 -0.086197   \n",
       "1  117173.0 -0.400975 -0.626943  1.555339 -2.017772 -0.107769  0.168310   \n",
       "2  149565.0  0.072509  0.820566 -0.561351 -0.709897  1.080399 -0.359429   \n",
       "3   93670.0 -0.535045  1.014587  1.750679  2.769390  0.500089  1.002270   \n",
       "4   82655.0 -4.026938  1.897371 -0.429786 -0.029571 -0.855751 -0.480406   \n",
       "\n",
       "       V7_x        V8      V9_x  ...                V9_y                V7_y  \\\n",
       "0 -0.627978  0.035994  1.054560  ...                 NaN                 NaN   \n",
       "1  0.017959 -0.401619  0.040378  ...    1.05456029821935  -0.627977906310739   \n",
       "2  0.787858  0.117276 -0.131275  ...  0.0403783170625422   0.017959435638393   \n",
       "3  0.847902 -0.081323  0.371579  ...  -0.131275441288599   0.787857599353298   \n",
       "4 -0.435632  1.313760  0.536044  ...                 NaN                 NaN   \n",
       "\n",
       "                 V2_y              V18_y                V1_y  \\\n",
       "0                 NaN                NaN                 NaN   \n",
       "1  -0.380782710937387  0.651665792250448    1.95504092199146   \n",
       "2  -0.626942768707407   2.10686601839936  -0.400975238728654   \n",
       "3   0.820565649655871  0.521918858041672  0.0725090163689562   \n",
       "4                 NaN                NaN                 NaN   \n",
       "\n",
       "                  V6_y                V5_y              V19_y  Class_y  \\\n",
       "0                  NaN                 NaN                NaN      NaN   \n",
       "1  -0.0861974531704895  -0.509374248165253  0.167986640374626        0   \n",
       "2     0.16831047105142  -0.107768780879015  -1.69278043647559        0   \n",
       "3   -0.359429496231352    1.08039935724521  0.198772253039242        0   \n",
       "4                  NaN                 NaN                NaN      NaN   \n",
       "\n",
       "             event_time  \n",
       "0                   NaN  \n",
       "1  2025-03-07T07:20:34Z  \n",
       "2  2025-03-07T07:20:34Z  \n",
       "3  2025-03-07T07:20:34Z  \n",
       "4                   NaN  \n",
       "\n",
       "[5 rows x 45 columns]"
      ]
     },
     "execution_count": 18,
     "metadata": {},
     "output_type": "execute_result"
    }
   ],
   "source": [
    "df_merged.head()"
   ]
  },
  {
   "cell_type": "code",
   "execution_count": 19,
   "id": "c8fa2124-017d-4fcd-a2c1-e46781d025b6",
   "metadata": {},
   "outputs": [
    {
     "data": {
      "text/plain": [
       "Index(['Time', 'V1_x', 'V2_x', 'V3', 'V4_x', 'V5_x', 'V6_x', 'V7_x', 'V8',\n",
       "       'V9_x', 'V10', 'V11_x', 'V12', 'V13', 'V14_x', 'V15', 'V16', 'V17',\n",
       "       'V18_x', 'V19_x', 'V20', 'V21', 'V22', 'V23', 'V24', 'V25', 'V26',\n",
       "       'V27', 'V28', 'Amount', 'Class_x', 'record_id', 'V14_y', 'V4_y',\n",
       "       'V11_y', 'V9_y', 'V7_y', 'V2_y', 'V18_y', 'V1_y', 'V6_y', 'V5_y',\n",
       "       'V19_y', 'Class_y', 'event_time'],\n",
       "      dtype='object')"
      ]
     },
     "execution_count": 19,
     "metadata": {},
     "output_type": "execute_result"
    }
   ],
   "source": [
    "df_merged.columns"
   ]
  },
  {
   "cell_type": "code",
   "execution_count": 20,
   "id": "28a55b14-019c-4905-a835-c297b3c2197d",
   "metadata": {},
   "outputs": [],
   "source": [
    "df_merged = df_merged.drop(columns=[col for col in df_merged.columns if col.endswith('_y')])\n",
    "df_merged.columns = df_merged.columns.str.replace('_x', '')  # Rename `_x` columns"
   ]
  },
  {
   "cell_type": "code",
   "execution_count": 21,
   "id": "bc63fec7-22df-4cd8-887a-ad62ab111510",
   "metadata": {},
   "outputs": [
    {
     "name": "stdout",
     "output_type": "stream",
     "text": [
      "Index(['Time', 'V1', 'V2', 'V3', 'V4', 'V5', 'V6', 'V7', 'V8', 'V9', 'V10',\n",
      "       'V11', 'V12', 'V13', 'V14', 'V15', 'V16', 'V17', 'V18', 'V19', 'V20',\n",
      "       'V21', 'V22', 'V23', 'V24', 'V25', 'V26', 'V27', 'V28', 'Amount',\n",
      "       'Class', 'record_id', 'event_time'],\n",
      "      dtype='object')\n",
      "Time          float64\n",
      "V1            float64\n",
      "V2            float64\n",
      "V3            float64\n",
      "V4            float64\n",
      "V5            float64\n",
      "V6            float64\n",
      "V7            float64\n",
      "V8            float64\n",
      "V9            float64\n",
      "V10           float64\n",
      "V11           float64\n",
      "V12           float64\n",
      "V13           float64\n",
      "V14           float64\n",
      "V15           float64\n",
      "V16           float64\n",
      "V17           float64\n",
      "V18           float64\n",
      "V19           float64\n",
      "V20           float64\n",
      "V21           float64\n",
      "V22           float64\n",
      "V23           float64\n",
      "V24           float64\n",
      "V25           float64\n",
      "V26           float64\n",
      "V27           float64\n",
      "V28           float64\n",
      "Amount        float64\n",
      "Class           int64\n",
      "record_id       int64\n",
      "event_time     object\n",
      "dtype: object\n"
     ]
    }
   ],
   "source": [
    "print(df_merged.columns)\n",
    "print(df_merged.dtypes)"
   ]
  },
  {
   "cell_type": "code",
   "execution_count": 22,
   "id": "d9a01c08-fd31-416a-8abe-5278b0d9cd23",
   "metadata": {},
   "outputs": [
    {
     "data": {
      "text/plain": [
       "Time               0\n",
       "V1                 0\n",
       "V2                 0\n",
       "V3                 0\n",
       "V4                 0\n",
       "V5                 0\n",
       "V6                 0\n",
       "V7                 0\n",
       "V8                 0\n",
       "V9                 0\n",
       "V10                0\n",
       "V11                0\n",
       "V12                0\n",
       "V13                0\n",
       "V14                0\n",
       "V15                0\n",
       "V16                0\n",
       "V17                0\n",
       "V18                0\n",
       "V19                0\n",
       "V20                0\n",
       "V21                0\n",
       "V22                0\n",
       "V23                0\n",
       "V24                0\n",
       "V25                0\n",
       "V26                0\n",
       "V27                0\n",
       "V28                0\n",
       "Amount             0\n",
       "Class              0\n",
       "record_id          0\n",
       "event_time    341173\n",
       "dtype: int64"
      ]
     },
     "execution_count": 22,
     "metadata": {},
     "output_type": "execute_result"
    }
   ],
   "source": [
    "df_merged.isnull().sum()"
   ]
  },
  {
   "cell_type": "code",
   "execution_count": 23,
   "id": "d12ffe00-9753-43e7-a11b-9daecc796feb",
   "metadata": {},
   "outputs": [
    {
     "data": {
      "text/plain": [
       "0    227451\n",
       "1    113725\n",
       "Name: Class, dtype: int64"
      ]
     },
     "execution_count": 23,
     "metadata": {},
     "output_type": "execute_result"
    }
   ],
   "source": [
    "df_merged['Class'].value_counts()"
   ]
  },
  {
   "cell_type": "code",
   "execution_count": 24,
   "id": "d3443230-89ad-4d52-b708-212dec1aac9a",
   "metadata": {},
   "outputs": [
    {
     "name": "stdout",
     "output_type": "stream",
     "text": [
      "       Time        V1        V2        V3        V4        V5        V6  \\\n",
      "0  143352.0  1.955041 -0.380783 -0.315013  0.330155 -0.509374 -0.086197   \n",
      "1  117173.0 -0.400975 -0.626943  1.555339 -2.017772 -0.107769  0.168310   \n",
      "2  149565.0  0.072509  0.820566 -0.561351 -0.709897  1.080399 -0.359429   \n",
      "3   93670.0 -0.535045  1.014587  1.750679  2.769390  0.500089  1.002270   \n",
      "4   82655.0 -4.026938  1.897371 -0.429786 -0.029571 -0.855751 -0.480406   \n",
      "\n",
      "         V7        V8        V9  ...       V23       V24       V25       V26  \\\n",
      "0 -0.627978  0.035994  1.054560  ...  0.053208 -0.278602 -0.044999 -0.216780   \n",
      "1  0.017959 -0.401619  0.040378  ...  0.113442 -1.004095 -1.176695  0.361924   \n",
      "2  0.787858  0.117276 -0.131275  ...  0.083391  0.148178 -0.431459  0.119690   \n",
      "3  0.847902 -0.081323  0.371579  ... -0.072754  0.448192 -0.655203 -0.181038   \n",
      "4 -0.435632  1.313760  0.536044  ...  0.250717  0.066399  0.470787  0.245335   \n",
      "\n",
      "        V27       V28    Amount  Class  record_id            event_time  \n",
      "0  0.045168 -0.047145 -0.353703      0          0                   NaN  \n",
      "1 -0.370469 -0.144792 -0.200026      0          1  2025-03-07T07:20:34Z  \n",
      "2  0.206395  0.070288 -0.345144      0          2  2025-03-07T07:20:34Z  \n",
      "3 -0.093013 -0.064931  0.106129      0          3  2025-03-07T07:20:34Z  \n",
      "4  0.286904 -0.322672 -0.286215      0          4                   NaN  \n",
      "\n",
      "[5 rows x 33 columns]\n"
     ]
    }
   ],
   "source": [
    "print(df_merged.head())"
   ]
  },
  {
   "cell_type": "code",
   "execution_count": 25,
   "id": "6fe79f70-bfdd-4488-bda4-b1b19f64027a",
   "metadata": {},
   "outputs": [
    {
     "data": {
      "text/plain": [
       "Index(['Time', 'V1', 'V2', 'V3', 'V4', 'V5', 'V6', 'V7', 'V8', 'V9', 'V10',\n",
       "       'V11', 'V12', 'V13', 'V14', 'V15', 'V16', 'V17', 'V18', 'V19', 'V20',\n",
       "       'V21', 'V22', 'V23', 'V24', 'V25', 'V26', 'V27', 'V28', 'Amount',\n",
       "       'Class', 'record_id', 'event_time'],\n",
       "      dtype='object')"
      ]
     },
     "execution_count": 25,
     "metadata": {},
     "output_type": "execute_result"
    }
   ],
   "source": [
    "df_merged.columns"
   ]
  },
  {
   "cell_type": "code",
   "execution_count": 26,
   "id": "2c41b2e6-21f6-468a-b2c3-3b9a4c178a56",
   "metadata": {},
   "outputs": [],
   "source": [
    "df_merged.to_csv(\"train_final.csv\",index=False,header=True)"
   ]
  },
  {
   "cell_type": "code",
   "execution_count": 27,
   "id": "6020ddbb-a25d-4c4f-ba5d-5d3ad27cfa41",
   "metadata": {},
   "outputs": [
    {
     "name": "stdout",
     "output_type": "stream",
     "text": [
      "       Time        V1        V2        V3        V4        V5        V6  \\\n",
      "0  143352.0  1.955041 -0.380783 -0.315013  0.330155 -0.509374 -0.086197   \n",
      "1  117173.0 -0.400975 -0.626943  1.555339 -2.017772 -0.107769  0.168310   \n",
      "2  149565.0  0.072509  0.820566 -0.561351 -0.709897  1.080399 -0.359429   \n",
      "3   93670.0 -0.535045  1.014587  1.750679  2.769390  0.500089  1.002270   \n",
      "4   82655.0 -4.026938  1.897371 -0.429786 -0.029571 -0.855751 -0.480406   \n",
      "\n",
      "         V7        V8        V9  ...       V23       V24       V25       V26  \\\n",
      "0 -0.627978  0.035994  1.054560  ...  0.053208 -0.278602 -0.044999 -0.216780   \n",
      "1  0.017959 -0.401619  0.040378  ...  0.113442 -1.004095 -1.176695  0.361924   \n",
      "2  0.787858  0.117276 -0.131275  ...  0.083391  0.148178 -0.431459  0.119690   \n",
      "3  0.847902 -0.081323  0.371579  ... -0.072754  0.448192 -0.655203 -0.181038   \n",
      "4 -0.435632  1.313760  0.536044  ...  0.250717  0.066399  0.470787  0.245335   \n",
      "\n",
      "        V27       V28    Amount  Class  record_id            event_time  \n",
      "0  0.045168 -0.047145 -0.353703      0          0                   NaN  \n",
      "1 -0.370469 -0.144792 -0.200026      0          1  2025-03-07T07:20:34Z  \n",
      "2  0.206395  0.070288 -0.345144      0          2  2025-03-07T07:20:34Z  \n",
      "3 -0.093013 -0.064931  0.106129      0          3  2025-03-07T07:20:34Z  \n",
      "4  0.286904 -0.322672 -0.286215      0          4                   NaN  \n",
      "\n",
      "[5 rows x 33 columns]\n"
     ]
    },
    {
     "name": "stderr",
     "output_type": "stream",
     "text": [
      "/tmp/ipykernel_22029/391477044.py:2: DtypeWarning: Columns (32) have mixed types. Specify dtype option on import or set low_memory=False.\n",
      "  df_test=pd.read_csv(\"train_final.csv\")\n"
     ]
    }
   ],
   "source": [
    "import pandas as pd\n",
    "df_test=pd.read_csv(\"train_final.csv\")\n",
    "print(df_test.head())"
   ]
  },
  {
   "cell_type": "code",
   "execution_count": 29,
   "id": "fa7f4651-81ac-46ee-9c07-e292b0dc9424",
   "metadata": {},
   "outputs": [
    {
     "data": {
      "text/plain": [
       "(341176, 33)"
      ]
     },
     "execution_count": 29,
     "metadata": {},
     "output_type": "execute_result"
    }
   ],
   "source": [
    "df_test.shape"
   ]
  },
  {
   "cell_type": "code",
   "execution_count": 30,
   "id": "d0613536-4a78-43e3-8285-06f8f3b6ba58",
   "metadata": {},
   "outputs": [
    {
     "data": {
      "text/plain": [
       "2025-03-07T07:20:34Z    3\n",
       "Name: event_time, dtype: int64"
      ]
     },
     "execution_count": 30,
     "metadata": {},
     "output_type": "execute_result"
    }
   ],
   "source": [
    "df_test[\"event_time\"].value_counts()"
   ]
  },
  {
   "cell_type": "code",
   "execution_count": 31,
   "id": "9ae7f3e6-ee98-43e1-aa0f-0b3dfb0394d6",
   "metadata": {},
   "outputs": [],
   "source": [
    "df_test.drop(columns=[\"event_time\"],inplace=True)"
   ]
  },
  {
   "cell_type": "code",
   "execution_count": 32,
   "id": "52adf6a5-e4b9-4a6f-b6cc-87874d78986e",
   "metadata": {},
   "outputs": [
    {
     "data": {
      "text/plain": [
       "Index(['Time', 'V1', 'V2', 'V3', 'V4', 'V5', 'V6', 'V7', 'V8', 'V9', 'V10',\n",
       "       'V11', 'V12', 'V13', 'V14', 'V15', 'V16', 'V17', 'V18', 'V19', 'V20',\n",
       "       'V21', 'V22', 'V23', 'V24', 'V25', 'V26', 'V27', 'V28', 'Amount',\n",
       "       'Class', 'record_id'],\n",
       "      dtype='object')"
      ]
     },
     "execution_count": 32,
     "metadata": {},
     "output_type": "execute_result"
    }
   ],
   "source": [
    "df_test.columns\n"
   ]
  },
  {
   "cell_type": "code",
   "execution_count": 33,
   "id": "e86fdd85-6cb0-415c-9dd5-79eda0066452",
   "metadata": {},
   "outputs": [],
   "source": [
    "df_test.to_csv(\"train_final_1.csv\",index=False, header=True)"
   ]
  },
  {
   "cell_type": "code",
   "execution_count": 36,
   "id": "bbd7b6fb-23e3-4a6d-a94f-c8d0e235f76d",
   "metadata": {},
   "outputs": [],
   "source": [
    "import boto3\n",
    "s3_client=boto3.client(\"s3\")\n",
    "s3_client.upload_file(\"train_final_1.csv\",\"fr-detector\",\"balanced_train/train_final_1.csv\")"
   ]
  },
  {
   "cell_type": "code",
   "execution_count": null,
   "id": "0b080ce3-3096-4400-b0a1-6a2489b0c8fd",
   "metadata": {},
   "outputs": [],
   "source": []
  },
  {
   "cell_type": "code",
   "execution_count": null,
   "id": "e9f66c80-703e-45fb-8821-45406faa42aa",
   "metadata": {},
   "outputs": [],
   "source": []
  },
  {
   "cell_type": "code",
   "execution_count": null,
   "id": "558c105b-58d1-4bb5-a8fc-66f2a9043a30",
   "metadata": {},
   "outputs": [],
   "source": []
  },
  {
   "cell_type": "code",
   "execution_count": null,
   "id": "dc9e6ac4-58ca-4b9d-adac-19a0a9a3f99e",
   "metadata": {},
   "outputs": [],
   "source": []
  },
  {
   "cell_type": "code",
   "execution_count": null,
   "id": "1a9e05d9-7cac-49f6-bb2f-6cb92f2d5e3c",
   "metadata": {},
   "outputs": [],
   "source": []
  },
  {
   "cell_type": "code",
   "execution_count": null,
   "id": "49f2a2d8-418f-4f1a-882d-f9a3479f117d",
   "metadata": {},
   "outputs": [],
   "source": []
  },
  {
   "cell_type": "code",
   "execution_count": null,
   "id": "e7914ac3-305f-435e-b0f2-1dd12a6d88dc",
   "metadata": {},
   "outputs": [],
   "source": []
  },
  {
   "cell_type": "code",
   "execution_count": null,
   "id": "cf31f6ea-f13a-4671-895e-6ef8a497f5b0",
   "metadata": {},
   "outputs": [],
   "source": []
  },
  {
   "cell_type": "code",
   "execution_count": null,
   "id": "a1c9cea8-f638-4274-9a71-19d91788af4f",
   "metadata": {},
   "outputs": [],
   "source": []
  },
  {
   "cell_type": "code",
   "execution_count": null,
   "id": "080bb062-d5fc-4a8c-a5d1-fc26b3f68e0a",
   "metadata": {},
   "outputs": [],
   "source": []
  },
  {
   "cell_type": "code",
   "execution_count": null,
   "id": "46bc2c17-c85b-41ad-a283-6e7893f190a7",
   "metadata": {},
   "outputs": [],
   "source": []
  },
  {
   "cell_type": "code",
   "execution_count": null,
   "id": "6abff1ba-de9e-46fc-8e42-5ac7bc376521",
   "metadata": {},
   "outputs": [],
   "source": []
  },
  {
   "cell_type": "code",
   "execution_count": null,
   "id": "d7e1373b-b601-4639-ad4c-3cf059effe36",
   "metadata": {},
   "outputs": [],
   "source": []
  },
  {
   "cell_type": "code",
   "execution_count": null,
   "id": "4c07804c-76ee-4547-b6d0-ec4938466971",
   "metadata": {},
   "outputs": [],
   "source": []
  },
  {
   "cell_type": "code",
   "execution_count": null,
   "id": "e38b8f83-238b-413c-b019-f35b290bedca",
   "metadata": {},
   "outputs": [],
   "source": []
  },
  {
   "cell_type": "code",
   "execution_count": null,
   "id": "2d15153a-58ee-4940-bfdc-6d4f473714a7",
   "metadata": {},
   "outputs": [],
   "source": []
  },
  {
   "cell_type": "code",
   "execution_count": null,
   "id": "6e727c2e-366d-44c2-8d80-e08747fbf803",
   "metadata": {},
   "outputs": [],
   "source": []
  },
  {
   "cell_type": "code",
   "execution_count": null,
   "id": "d6f5a95f-2dce-4c1e-8939-a1ee2cc63940",
   "metadata": {},
   "outputs": [],
   "source": []
  },
  {
   "cell_type": "code",
   "execution_count": null,
   "id": "37245a4e-c282-4205-8bb0-8d2c8841cf6b",
   "metadata": {},
   "outputs": [],
   "source": []
  },
  {
   "cell_type": "code",
   "execution_count": null,
   "id": "14462dc4-d315-41c6-9a28-b95f716062df",
   "metadata": {},
   "outputs": [],
   "source": []
  },
  {
   "cell_type": "code",
   "execution_count": null,
   "id": "52b4513a-07d2-4e84-b3a3-b84630f8cbd5",
   "metadata": {},
   "outputs": [],
   "source": []
  },
  {
   "cell_type": "code",
   "execution_count": null,
   "id": "d56afe2f-5ee6-4c65-93cf-581dfc51181e",
   "metadata": {},
   "outputs": [],
   "source": []
  },
  {
   "cell_type": "code",
   "execution_count": null,
   "id": "a86a24c9-195b-4cdb-90c4-8cea9b17ce8c",
   "metadata": {},
   "outputs": [],
   "source": []
  },
  {
   "cell_type": "code",
   "execution_count": null,
   "id": "14fe1b42-c492-4899-b803-b92da871d361",
   "metadata": {},
   "outputs": [],
   "source": []
  },
  {
   "cell_type": "code",
   "execution_count": null,
   "id": "436caab2-79b8-4f79-b5a1-3b767c271641",
   "metadata": {},
   "outputs": [],
   "source": []
  },
  {
   "cell_type": "code",
   "execution_count": null,
   "id": "6d6fde13-5996-4177-a4e8-c87768797818",
   "metadata": {},
   "outputs": [],
   "source": []
  },
  {
   "cell_type": "code",
   "execution_count": null,
   "id": "8a35eae8-6fa0-4e72-9f85-54ea4009faac",
   "metadata": {},
   "outputs": [],
   "source": []
  },
  {
   "cell_type": "code",
   "execution_count": null,
   "id": "ea2d8a2b-e345-45cc-841e-4f7346a999db",
   "metadata": {},
   "outputs": [],
   "source": []
  },
  {
   "cell_type": "code",
   "execution_count": null,
   "id": "6b2311f6-5c8f-4ed5-a463-1f57917a08f4",
   "metadata": {},
   "outputs": [],
   "source": []
  },
  {
   "cell_type": "code",
   "execution_count": null,
   "id": "9a1da5d9-9baa-49ba-a9c1-cab7bd9c8c90",
   "metadata": {},
   "outputs": [],
   "source": []
  },
  {
   "cell_type": "code",
   "execution_count": null,
   "id": "fa42009e-7061-4a6e-914c-23d572f01661",
   "metadata": {},
   "outputs": [],
   "source": []
  },
  {
   "cell_type": "code",
   "execution_count": null,
   "id": "f722b141-58ae-4b72-bbc9-99e5cc055217",
   "metadata": {},
   "outputs": [],
   "source": []
  },
  {
   "cell_type": "code",
   "execution_count": null,
   "id": "501bcf5e-c200-456e-9041-cb4161702753",
   "metadata": {},
   "outputs": [],
   "source": []
  },
  {
   "cell_type": "code",
   "execution_count": null,
   "id": "ef20f29b-3874-4d95-b1da-6258085df607",
   "metadata": {},
   "outputs": [],
   "source": []
  },
  {
   "cell_type": "code",
   "execution_count": null,
   "id": "d86e3b4b-b559-454f-bd54-fd29bd97f91a",
   "metadata": {},
   "outputs": [],
   "source": []
  },
  {
   "cell_type": "code",
   "execution_count": null,
   "id": "72c7c0a3-a1fe-44ba-98b7-ee220205a309",
   "metadata": {},
   "outputs": [],
   "source": []
  },
  {
   "cell_type": "code",
   "execution_count": 35,
   "id": "b7ede937-300a-44fc-9164-e92eed87953f",
   "metadata": {},
   "outputs": [],
   "source": [
    "!pip install sagemaker boto3 numpy pandas --quiet\n",
    " \n",
    "import sagemaker\n",
    "import boto3\n",
    "import numpy as np\n",
    "import pandas as pd\n",
    "import os\n",
    "from sagemaker import get_execution_role\n",
    "from datetime import datetime"
   ]
  },
  {
   "cell_type": "code",
   "execution_count": 36,
   "id": "37beaf3b-86c3-4316-bc2b-ee9fba7de04b",
   "metadata": {},
   "outputs": [],
   "source": [
    "# Define S3 bucket and dataset paths\n",
    "bucket = \"fr-detector\"\n",
    "prefix = \"balanced_train\"  # Folder where dataset is stored\n",
    "train_uri = f\"s3://{bucket}/{prefix}/processed_train.csv\"\n",
    " \n",
    "# SageMaker setup\n",
    "role = get_execution_role()\n",
    "region = boto3.Session().region_name\n",
    "sagemaker_session = sagemaker.Session()"
   ]
  },
  {
   "cell_type": "code",
   "execution_count": 37,
   "id": "894abcbb-1446-4a96-b3f0-933fa5ab08f1",
   "metadata": {},
   "outputs": [
    {
     "data": {
      "text/html": [
       "<pre style=\"white-space:pre;overflow-x:auto;line-height:normal;font-family:Menlo,'DejaVu Sans Mono',consolas,'Courier New',monospace\"><span style=\"color: #7fbfbf; text-decoration-color: #7fbfbf\">[03/12/25 12:33:29] </span><span style=\"color: #0069ff; text-decoration-color: #0069ff; font-weight: bold\">INFO    </span> Ignoring unnecessary instance type: <span style=\"color: #e100e1; text-decoration-color: #e100e1; font-style: italic\">None</span>.                            <a href=\"file:///home/ec2-user/anaconda3/envs/python3/lib/python3.10/site-packages/sagemaker/image_uris.py\" target=\"_blank\"><span style=\"color: #7f7f7f; text-decoration-color: #7f7f7f\">image_uris.py</span></a><span style=\"color: #7f7f7f; text-decoration-color: #7f7f7f\">:</span><a href=\"file:///home/ec2-user/anaconda3/envs/python3/lib/python3.10/site-packages/sagemaker/image_uris.py#530\" target=\"_blank\"><span style=\"color: #7f7f7f; text-decoration-color: #7f7f7f\">530</span></a>\n",
       "</pre>\n"
      ],
      "text/plain": [
       "\u001b[2;36m[03/12/25 12:33:29]\u001b[0m\u001b[2;36m \u001b[0m\u001b[1;38;2;0;105;255mINFO    \u001b[0m Ignoring unnecessary instance type: \u001b[3;38;2;225;0;225mNone\u001b[0m.                            \u001b]8;id=117867;file:///home/ec2-user/anaconda3/envs/python3/lib/python3.10/site-packages/sagemaker/image_uris.py\u001b\\\u001b[2mimage_uris.py\u001b[0m\u001b]8;;\u001b\\\u001b[2m:\u001b[0m\u001b]8;id=514835;file:///home/ec2-user/anaconda3/envs/python3/lib/python3.10/site-packages/sagemaker/image_uris.py#530\u001b\\\u001b[2m530\u001b[0m\u001b]8;;\u001b\\\n"
      ]
     },
     "metadata": {},
     "output_type": "display_data"
    },
    {
     "name": "stdout",
     "output_type": "stream",
     "text": [
      "Using XGBoost Image: 811284229777.dkr.ecr.us-east-1.amazonaws.com/xgboost:latest\n"
     ]
    }
   ],
   "source": [
    "image_uri = sagemaker.image_uris.retrieve(region=region, framework=\"xgboost\", version=\"latest\")\n",
    "print(\"Using XGBoost Image:\", image_uri)"
   ]
  },
  {
   "cell_type": "code",
   "execution_count": null,
   "id": "becb9d4a-c03c-4b46-be75-2409e0c51f2c",
   "metadata": {},
   "outputs": [],
   "source": []
  },
  {
   "cell_type": "code",
   "execution_count": 83,
   "id": "1cd4790a-a1cc-4a46-a39e-dc649c0d4451",
   "metadata": {},
   "outputs": [],
   "source": [
    "df_merged.to_csv(\"train_final.csv\", index=False, header=False)"
   ]
  },
  {
   "cell_type": "code",
   "execution_count": 84,
   "id": "09f566a2-2235-4f4e-8bc9-b1832688b0f4",
   "metadata": {},
   "outputs": [
    {
     "name": "stdout",
     "output_type": "stream",
     "text": [
      "Updated training file uploaded to S3.\n"
     ]
    }
   ],
   "source": [
    "import boto3\n",
    " \n",
    "s3_client = boto3.client(\"s3\")\n",
    "s3_client.upload_file(\"train_final.csv\", \"fr-detector\", \"balanced_train/train_final.csv\")\n",
    " \n",
    "print(\"Updated training file uploaded to S3.\")"
   ]
  },
  {
   "cell_type": "code",
   "execution_count": 40,
   "id": "16032e30-1f39-4230-9d21-74cc4550d922",
   "metadata": {},
   "outputs": [
    {
     "name": "stdout",
     "output_type": "stream",
     "text": [
      "Created new experiment: fraud-detection-experiment\n"
     ]
    }
   ],
   "source": [
    "from sagemaker.experiments.experiment import Experiment\n",
    "from sagemaker.session import Session\n",
    " \n",
    "experiment_name = \"fraud-detection-experiment\"\n",
    "sagemaker_session = Session()\n",
    " \n",
    "# Create experiment (if it doesn't exist)\n",
    "try:\n",
    "    experiment = Experiment.load(experiment_name)\n",
    "    print(f\"Loaded existing experiment: {experiment_name}\")\n",
    "except Exception as e:\n",
    "    if \"ResourceNotFound\" in str(e):  # Experiment doesn't exist, create it\n",
    "        experiment = Experiment.create(\n",
    "            experiment_name=experiment_name,\n",
    "            description=\"Credit Card Fraud Detection Experiment\",\n",
    "        )\n",
    "        print(f\"Created new experiment: {experiment_name}\")\n",
    "    else:\n",
    "        raise  # Reraise any other error"
   ]
  },
  {
   "cell_type": "code",
   "execution_count": 76,
   "id": "5982bcf3-589a-43ef-b7c0-11cb97cc311e",
   "metadata": {},
   "outputs": [
    {
     "name": "stdout",
     "output_type": "stream",
     "text": [
      "Loaded existing experiment: fraud-detection-experiment\n",
      "Created trial component: trial-component-xgboost-1741786740-21e1\n"
     ]
    }
   ],
   "source": [
    "import sagemaker\n",
    "from sagemaker.experiments.run import Run\n",
    "from sagemaker.experiments.experiment import Experiment\n",
    "from sagemaker.experiments.trial_component import _TrialComponent  # Use _TrialComponent\n",
    "from sagemaker.session import Session\n",
    "\n",
    "# Create a SageMaker session\n",
    "sagemaker_session = sagemaker.Session()\n",
    "\n",
    "# Define Experiment Name\n",
    "experiment_name = \"fraud-detection-experiment\"\n",
    "\n",
    "# Create the experiment (if it doesn't exist)\n",
    "try:\n",
    "    experiment = Experiment.load(experiment_name=experiment_name, sagemaker_session=sagemaker_session)\n",
    "    print(f\"Loaded existing experiment: {experiment_name}\")\n",
    "except:\n",
    "    experiment = Experiment.create(experiment_name=experiment_name, sagemaker_session=sagemaker_session)\n",
    "    print(f\"Created new experiment: {experiment_name}\")\n",
    "\n",
    "# Create a trial component for this run\n",
    "trial_component_name = f\"trial-component-{sagemaker.utils.unique_name_from_base('xgboost')}\"\n",
    "trial_component = _TrialComponent.create(\n",
    "    trial_component_name=trial_component_name,\n",
    "    display_name=\"XGBoostTrialComponent\",  # Modified display name to meet constraints\n",
    "    sagemaker_session=sagemaker_session\n",
    ")\n",
    "print(f\"Created trial component: {trial_component_name}\")"
   ]
  },
  {
   "cell_type": "code",
   "execution_count": 77,
   "id": "9e474f72-2043-4641-917b-6021b9a2241b",
   "metadata": {},
   "outputs": [
    {
     "data": {
      "text/html": [
       "<pre style=\"white-space:pre;overflow-x:auto;line-height:normal;font-family:Menlo,'DejaVu Sans Mono',consolas,'Courier New',monospace\"><span style=\"color: #7fbfbf; text-decoration-color: #7fbfbf\">[03/12/25 13:40:02] </span><span style=\"color: #0069ff; text-decoration-color: #0069ff; font-weight: bold\">INFO    </span> Ignoring unnecessary instance type: <span style=\"color: #e100e1; text-decoration-color: #e100e1; font-style: italic\">None</span>.                            <a href=\"file:///home/ec2-user/anaconda3/envs/python3/lib/python3.10/site-packages/sagemaker/image_uris.py\" target=\"_blank\"><span style=\"color: #7f7f7f; text-decoration-color: #7f7f7f\">image_uris.py</span></a><span style=\"color: #7f7f7f; text-decoration-color: #7f7f7f\">:</span><a href=\"file:///home/ec2-user/anaconda3/envs/python3/lib/python3.10/site-packages/sagemaker/image_uris.py#530\" target=\"_blank\"><span style=\"color: #7f7f7f; text-decoration-color: #7f7f7f\">530</span></a>\n",
       "</pre>\n"
      ],
      "text/plain": [
       "\u001b[2;36m[03/12/25 13:40:02]\u001b[0m\u001b[2;36m \u001b[0m\u001b[1;38;2;0;105;255mINFO    \u001b[0m Ignoring unnecessary instance type: \u001b[3;38;2;225;0;225mNone\u001b[0m.                            \u001b]8;id=704843;file:///home/ec2-user/anaconda3/envs/python3/lib/python3.10/site-packages/sagemaker/image_uris.py\u001b\\\u001b[2mimage_uris.py\u001b[0m\u001b]8;;\u001b\\\u001b[2m:\u001b[0m\u001b]8;id=539610;file:///home/ec2-user/anaconda3/envs/python3/lib/python3.10/site-packages/sagemaker/image_uris.py#530\u001b\\\u001b[2m530\u001b[0m\u001b]8;;\u001b\\\n"
      ]
     },
     "metadata": {},
     "output_type": "display_data"
    }
   ],
   "source": [
    "from sagemaker.estimator import Estimator\n",
    "from sagemaker.inputs import TrainingInput\n",
    "import boto3\n",
    " \n",
    "# Get XGBoost image URI\n",
    "region = boto3.Session().region_name\n",
    "container = sagemaker.image_uris.retrieve(\"xgboost\", region, \"1.5-1\")\n",
    " \n",
    "# Define the estimator\n",
    "xgb_estimator = Estimator(\n",
    "    image_uri=container,\n",
    "    role=sagemaker.get_execution_role(),\n",
    "    instance_count=1,\n",
    "    instance_type=\"ml.m5.large\",\n",
    "    output_path=\"s3://fr-detector/models/\",\n",
    "    sagemaker_session=sagemaker_session\n",
    ")\n",
    " \n",
    "# Set hyperparameters\n",
    "xgb_estimator.set_hyperparameters(\n",
    "    objective=\"binary:logistic\",  # Since it's fraud detection (binary classification)\n",
    "    num_round=100,                # Number of boosting rounds\n",
    "    eval_metric=\"auc\",\n",
    "    verbosity=2\n",
    ")\n",
    " \n",
    "# Define S3 training input\n",
    "train_data = TrainingInput(\n",
    "    \"s3://fr-detector/balanced_train/train_final.csv\",\n",
    "    content_type=\"text/csv\"\n",
    ")"
   ]
  },
  {
   "cell_type": "code",
   "execution_count": 81,
   "id": "5b5ead7e-2272-4362-a383-cbfcfd8f1a80",
   "metadata": {},
   "outputs": [
    {
     "name": "stdout",
     "output_type": "stream",
     "text": [
      "2025-03-07 05:08:26  185655083 X_train.csv\n",
      "2025-03-12 11:23:46  190159900 processed_train.csv\n",
      "2025-03-07 11:15:54  185400270 train.csv\n",
      "2025-03-12 12:49:30  191675855 train_final.csv\n",
      "2025-03-07 05:08:29     682358 y_train.csv\n"
     ]
    }
   ],
   "source": [
    "!aws s3 ls s3://fr-detector/balanced_train/"
   ]
  },
  {
   "cell_type": "code",
   "execution_count": 82,
   "id": "5e402eff-f11d-4851-9ea0-299d49038bd2",
   "metadata": {},
   "outputs": [
    {
     "name": "stdout",
     "output_type": "stream",
     "text": [
      "Note: AWS CLI version 2, the latest major version of the AWS CLI, is now stable and recommended for general use. For more information, see the AWS CLI version 2 installation instructions at: https://docs.aws.amazon.com/cli/latest/userguide/install-cliv2.html\n",
      "\n",
      "usage: aws [options] <command> <subcommand> [<subcommand> ...] [parameters]\n",
      "To see help text, you can run:\n",
      "\n",
      "  aws help\n",
      "  aws <command> help\n",
      "  aws <command> <subcommand> help\n",
      "aws: error: the following arguments are required: paths\n"
     ]
    }
   ],
   "source": [
    "!aws s3 cp s3://fr-detector/balanced_train/train_final.csv"
   ]
  },
  {
   "cell_type": "code",
   "execution_count": 72,
   "id": "d6c3a4f4-e6c7-48f5-9ef6-227d3bcaf700",
   "metadata": {},
   "outputs": [
    {
     "name": "stdout",
     "output_type": "stream",
     "text": [
      "['ClientError', 'TrialComponentSearchResult', '_TrialComponent', '__builtins__', '__cached__', '__doc__', '__file__', '__loader__', '__name__', '__package__', '__spec__', '_api_types', '_base_types', 'absolute_import', 'format_tags', 'time']\n"
     ]
    }
   ],
   "source": [
    "import sagemaker.experiments.trial_component as trial_component_module\n",
    "print(dir(trial_component_module))"
   ]
  },
  {
   "cell_type": "code",
   "execution_count": 68,
   "id": "a73107e5-df69-422f-a8cd-0b2ba7a65f36",
   "metadata": {},
   "outputs": [
    {
     "name": "stdout",
     "output_type": "stream",
     "text": [
      "['ClientError', '_Trial', '_TrialComponent', '__builtins__', '__cached__', '__doc__', '__file__', '__loader__', '__name__', '__package__', '__spec__', '_api_types', '_base_types', 'absolute_import', 'format_tags']\n"
     ]
    }
   ],
   "source": [
    "import sagemaker.experiments.trial as trial_module\n",
    "print(dir(trial_module))"
   ]
  },
  {
   "cell_type": "code",
   "execution_count": 71,
   "id": "2e31668c-e66b-4ba7-ae2c-f9fac9b797c5",
   "metadata": {},
   "outputs": [
    {
     "name": "stdout",
     "output_type": "stream",
     "text": [
      "['Experiment', 'Run', 'SortByType', 'SortOrderType', '__builtins__', '__cached__', '__doc__', '__file__', '__loader__', '__name__', '__package__', '__path__', '__spec__', '_api_types', '_environment', '_helper', '_metrics', '_run_context', '_utils', 'absolute_import', 'experiment', 'list_runs', 'load_run', 'run', 'trial', 'trial_component']\n"
     ]
    }
   ],
   "source": [
    "import sagemaker.experiments as experiments_module\n",
    "print(dir(experiments_module))"
   ]
  },
  {
   "cell_type": "code",
   "execution_count": 59,
   "id": "7a37a124-bd97-40dc-8534-2fe1dd67d94e",
   "metadata": {},
   "outputs": [
    {
     "name": "stdout",
     "output_type": "stream",
     "text": [
      "Collecting sagemaker.experiments\n",
      "  Downloading sagemaker_experiments-0.1.45-py3-none-any.whl.metadata (10 kB)\n",
      "Requirement already satisfied: boto3>=1.16.27 in /home/ec2-user/anaconda3/envs/python3/lib/python3.10/site-packages (from sagemaker.experiments) (1.37.1)\n",
      "Requirement already satisfied: botocore<1.38.0,>=1.37.1 in /home/ec2-user/anaconda3/envs/python3/lib/python3.10/site-packages (from boto3>=1.16.27->sagemaker.experiments) (1.37.1)\n",
      "Requirement already satisfied: jmespath<2.0.0,>=0.7.1 in /home/ec2-user/anaconda3/envs/python3/lib/python3.10/site-packages (from boto3>=1.16.27->sagemaker.experiments) (1.0.1)\n",
      "Requirement already satisfied: s3transfer<0.12.0,>=0.11.0 in /home/ec2-user/anaconda3/envs/python3/lib/python3.10/site-packages (from boto3>=1.16.27->sagemaker.experiments) (0.11.2)\n",
      "Requirement already satisfied: python-dateutil<3.0.0,>=2.1 in /home/ec2-user/anaconda3/envs/python3/lib/python3.10/site-packages (from botocore<1.38.0,>=1.37.1->boto3>=1.16.27->sagemaker.experiments) (2.9.0.post0)\n",
      "Requirement already satisfied: urllib3!=2.2.0,<3,>=1.25.4 in /home/ec2-user/anaconda3/envs/python3/lib/python3.10/site-packages (from botocore<1.38.0,>=1.37.1->boto3>=1.16.27->sagemaker.experiments) (2.3.0)\n",
      "Requirement already satisfied: six>=1.5 in /home/ec2-user/anaconda3/envs/python3/lib/python3.10/site-packages (from python-dateutil<3.0.0,>=2.1->botocore<1.38.0,>=1.37.1->boto3>=1.16.27->sagemaker.experiments) (1.17.0)\n",
      "Using cached sagemaker_experiments-0.1.45-py3-none-any.whl (42 kB)\n",
      "Installing collected packages: sagemaker.experiments\n",
      "Successfully installed sagemaker.experiments-0.1.45\n"
     ]
    }
   ],
   "source": [
    "!pip install sagemaker.experiments"
   ]
  },
  {
   "cell_type": "code",
   "execution_count": 2,
   "id": "ecc2e5c0-562e-489a-95dd-2de296376584",
   "metadata": {},
   "outputs": [
    {
     "name": "stdout",
     "output_type": "stream",
     "text": [
      "2025-03-07 05:08:26  185655083 X_train.csv\n",
      "2025-03-12 11:23:46  190159900 processed_train.csv\n",
      "2025-03-07 11:15:54  185400270 train.csv\n",
      "2025-03-12 13:52:52  191675855 train_final.csv\n",
      "2025-03-07 05:08:29     682358 y_train.csv\n"
     ]
    }
   ],
   "source": [
    "!aws s3 ls s3://fr-detector/balanced_train/\n"
   ]
  },
  {
   "cell_type": "code",
   "execution_count": 4,
   "id": "f28f49c9-5aa4-4404-9b3a-94252b3a596d",
   "metadata": {},
   "outputs": [
    {
     "data": {
      "text/html": [
       "<pre style=\"white-space:pre;overflow-x:auto;line-height:normal;font-family:Menlo,'DejaVu Sans Mono',consolas,'Courier New',monospace\"><span style=\"color: #7fbfbf; text-decoration-color: #7fbfbf\">[03/18/25 10:46:34] </span><span style=\"color: #0069ff; text-decoration-color: #0069ff; font-weight: bold\">INFO    </span> Found credentials from IAM Role:                                   <a href=\"file:///home/ec2-user/anaconda3/envs/python3/lib/python3.10/site-packages/botocore/credentials.py\" target=\"_blank\"><span style=\"color: #7f7f7f; text-decoration-color: #7f7f7f\">credentials.py</span></a><span style=\"color: #7f7f7f; text-decoration-color: #7f7f7f\">:</span><a href=\"file:///home/ec2-user/anaconda3/envs/python3/lib/python3.10/site-packages/botocore/credentials.py#1132\" target=\"_blank\"><span style=\"color: #7f7f7f; text-decoration-color: #7f7f7f\">1132</span></a>\n",
       "<span style=\"color: #7fbfbf; text-decoration-color: #7fbfbf\">                    </span>         BaseNotebookInstanceEc2InstanceRole                                <span style=\"color: #7f7f7f; text-decoration-color: #7f7f7f\">                   </span>\n",
       "</pre>\n"
      ],
      "text/plain": [
       "\u001b[2;36m[03/18/25 10:46:34]\u001b[0m\u001b[2;36m \u001b[0m\u001b[1;38;2;0;105;255mINFO    \u001b[0m Found credentials from IAM Role:                                   \u001b]8;id=727150;file:///home/ec2-user/anaconda3/envs/python3/lib/python3.10/site-packages/botocore/credentials.py\u001b\\\u001b[2mcredentials.py\u001b[0m\u001b]8;;\u001b\\\u001b[2m:\u001b[0m\u001b]8;id=574139;file:///home/ec2-user/anaconda3/envs/python3/lib/python3.10/site-packages/botocore/credentials.py#1132\u001b\\\u001b[2m1132\u001b[0m\u001b]8;;\u001b\\\n",
       "\u001b[2;36m                    \u001b[0m         BaseNotebookInstanceEc2InstanceRole                                \u001b[2m                   \u001b[0m\n"
      ]
     },
     "metadata": {},
     "output_type": "display_data"
    },
    {
     "data": {
      "text/html": [
       "<pre style=\"white-space:pre;overflow-x:auto;line-height:normal;font-family:Menlo,'DejaVu Sans Mono',consolas,'Courier New',monospace\"><span style=\"color: #7fbfbf; text-decoration-color: #7fbfbf\">[03/18/25 10:46:35] </span><span style=\"color: #0069ff; text-decoration-color: #0069ff; font-weight: bold\">INFO    </span> Found credentials from IAM Role:                                   <a href=\"file:///home/ec2-user/anaconda3/envs/python3/lib/python3.10/site-packages/botocore/credentials.py\" target=\"_blank\"><span style=\"color: #7f7f7f; text-decoration-color: #7f7f7f\">credentials.py</span></a><span style=\"color: #7f7f7f; text-decoration-color: #7f7f7f\">:</span><a href=\"file:///home/ec2-user/anaconda3/envs/python3/lib/python3.10/site-packages/botocore/credentials.py#1132\" target=\"_blank\"><span style=\"color: #7f7f7f; text-decoration-color: #7f7f7f\">1132</span></a>\n",
       "<span style=\"color: #7fbfbf; text-decoration-color: #7fbfbf\">                    </span>         BaseNotebookInstanceEc2InstanceRole                                <span style=\"color: #7f7f7f; text-decoration-color: #7f7f7f\">                   </span>\n",
       "</pre>\n"
      ],
      "text/plain": [
       "\u001b[2;36m[03/18/25 10:46:35]\u001b[0m\u001b[2;36m \u001b[0m\u001b[1;38;2;0;105;255mINFO    \u001b[0m Found credentials from IAM Role:                                   \u001b]8;id=136258;file:///home/ec2-user/anaconda3/envs/python3/lib/python3.10/site-packages/botocore/credentials.py\u001b\\\u001b[2mcredentials.py\u001b[0m\u001b]8;;\u001b\\\u001b[2m:\u001b[0m\u001b]8;id=616913;file:///home/ec2-user/anaconda3/envs/python3/lib/python3.10/site-packages/botocore/credentials.py#1132\u001b\\\u001b[2m1132\u001b[0m\u001b]8;;\u001b\\\n",
       "\u001b[2;36m                    \u001b[0m         BaseNotebookInstanceEc2InstanceRole                                \u001b[2m                   \u001b[0m\n"
      ]
     },
     "metadata": {},
     "output_type": "display_data"
    },
    {
     "name": "stdout",
     "output_type": "stream",
     "text": [
      "Loaded existing experiment: fraud-detection-experiment\n"
     ]
    }
   ],
   "source": [
    "from sagemaker.experiments.experiment import Experiment\n",
    "from sagemaker.session import Session\n",
    " \n",
    "experiment_name = \"fraud-detection-experiment\"\n",
    "sagemaker_session = Session()\n",
    " \n",
    "# Create experiment (if it doesn't exist)\n",
    "try:\n",
    "    experiment = Experiment.load(experiment_name)\n",
    "    print(f\"Loaded existing experiment: {experiment_name}\")\n",
    "except Exception as e:\n",
    "    if \"ResourceNotFound\" in str(e):  # Experiment doesn't exist, create it\n",
    "        experiment = Experiment.create(\n",
    "            experiment_name=experiment_name,\n",
    "            description=\"Credit Card Fraud Detection Experiment\",\n",
    "        )\n",
    "        print(f\"Created new experiment: {experiment_name}\")\n",
    "    else:\n",
    "        raise  # Reraise any other error"
   ]
  },
  {
   "cell_type": "code",
   "execution_count": 3,
   "id": "23cc4552-f012-44e1-9539-e4ca4d6588c1",
   "metadata": {},
   "outputs": [
    {
     "data": {
      "text/html": [
       "<pre style=\"white-space:pre;overflow-x:auto;line-height:normal;font-family:Menlo,'DejaVu Sans Mono',consolas,'Courier New',monospace\"><span style=\"color: #7fbfbf; text-decoration-color: #7fbfbf\">[03/18/25 10:51:55] </span><span style=\"color: #0069ff; text-decoration-color: #0069ff; font-weight: bold\">INFO    </span> Found credentials from IAM Role:                                   <a href=\"file:///home/ec2-user/anaconda3/envs/python3/lib/python3.10/site-packages/botocore/credentials.py\" target=\"_blank\"><span style=\"color: #7f7f7f; text-decoration-color: #7f7f7f\">credentials.py</span></a><span style=\"color: #7f7f7f; text-decoration-color: #7f7f7f\">:</span><a href=\"file:///home/ec2-user/anaconda3/envs/python3/lib/python3.10/site-packages/botocore/credentials.py#1132\" target=\"_blank\"><span style=\"color: #7f7f7f; text-decoration-color: #7f7f7f\">1132</span></a>\n",
       "<span style=\"color: #7fbfbf; text-decoration-color: #7fbfbf\">                    </span>         BaseNotebookInstanceEc2InstanceRole                                <span style=\"color: #7f7f7f; text-decoration-color: #7f7f7f\">                   </span>\n",
       "</pre>\n"
      ],
      "text/plain": [
       "\u001b[2;36m[03/18/25 10:51:55]\u001b[0m\u001b[2;36m \u001b[0m\u001b[1;38;2;0;105;255mINFO    \u001b[0m Found credentials from IAM Role:                                   \u001b]8;id=788121;file:///home/ec2-user/anaconda3/envs/python3/lib/python3.10/site-packages/botocore/credentials.py\u001b\\\u001b[2mcredentials.py\u001b[0m\u001b]8;;\u001b\\\u001b[2m:\u001b[0m\u001b]8;id=355963;file:///home/ec2-user/anaconda3/envs/python3/lib/python3.10/site-packages/botocore/credentials.py#1132\u001b\\\u001b[2m1132\u001b[0m\u001b]8;;\u001b\\\n",
       "\u001b[2;36m                    \u001b[0m         BaseNotebookInstanceEc2InstanceRole                                \u001b[2m                   \u001b[0m\n"
      ]
     },
     "metadata": {},
     "output_type": "display_data"
    },
    {
     "name": "stdout",
     "output_type": "stream",
     "text": [
      "Tracking experiment run: sagemaker-run-1742295115-a016\n"
     ]
    }
   ],
   "source": [
    "from sagemaker.experiments.run import Run\n",
    "from sagemaker.session import Session\n",
    " \n",
    "sagemaker_session = Session()\n",
    "experiment_name = \"fraud-detection-experiment\"\n",
    " \n",
    "with Run(experiment_name=experiment_name, sagemaker_session=sagemaker_session) as run:\n",
    "    run.log_parameter(\"model\", \"xgboost\")\n",
    "    run.log_parameter(\"dataset\", \"train_final.csv\")\n",
    "    run.log_parameter(\"learning_rate\", 0.05)\n",
    "    print(f\"Tracking experiment run: {run.run_name}\")\n",
    " \n",
    " "
   ]
  },
  {
   "cell_type": "code",
   "execution_count": 30,
   "id": "1566c553-2ddc-4d97-ae09-14fd0c302df8",
   "metadata": {},
   "outputs": [],
   "source": [
    "import sagemaker\n",
    "import boto3\n",
    "import pandas as pd\n",
    "import lightgbm as lgb\n",
    "from sagemaker.session import Session\n",
    "from sagemaker.s3 import S3Uploader"
   ]
  },
  {
   "cell_type": "code",
   "execution_count": 31,
   "id": "ad60cc21-385e-4c22-904c-d9752572ebbc",
   "metadata": {},
   "outputs": [
    {
     "name": "stderr",
     "output_type": "stream",
     "text": [
      "/home/ec2-user/anaconda3/envs/python3/lib/python3.10/site-packages/fsspec/registry.py:283: UserWarning: Your installed version of s3fs is very old and known to cause\n",
      "severe performance issues, see also https://github.com/dask/dask/issues/10276\n",
      "\n",
      "To fix, you should specify a lower version bound on s3fs, or\n",
      "update the current installation.\n",
      "\n",
      "  warnings.warn(s3_msg)\n"
     ]
    },
    {
     "data": {
      "text/html": [
       "<pre style=\"white-space:pre;overflow-x:auto;line-height:normal;font-family:Menlo,'DejaVu Sans Mono',consolas,'Courier New',monospace\"><span style=\"color: #7fbfbf; text-decoration-color: #7fbfbf\">[03/19/25 09:38:06] </span><span style=\"color: #0069ff; text-decoration-color: #0069ff; font-weight: bold\">INFO    </span> Found credentials from IAM Role:                                   <a href=\"file:///home/ec2-user/anaconda3/envs/python3/lib/python3.10/site-packages/botocore/credentials.py\" target=\"_blank\"><span style=\"color: #7f7f7f; text-decoration-color: #7f7f7f\">credentials.py</span></a><span style=\"color: #7f7f7f; text-decoration-color: #7f7f7f\">:</span><a href=\"file:///home/ec2-user/anaconda3/envs/python3/lib/python3.10/site-packages/botocore/credentials.py#1132\" target=\"_blank\"><span style=\"color: #7f7f7f; text-decoration-color: #7f7f7f\">1132</span></a>\n",
       "<span style=\"color: #7fbfbf; text-decoration-color: #7fbfbf\">                    </span>         BaseNotebookInstanceEc2InstanceRole                                <span style=\"color: #7f7f7f; text-decoration-color: #7f7f7f\">                   </span>\n",
       "</pre>\n"
      ],
      "text/plain": [
       "\u001b[2;36m[03/19/25 09:38:06]\u001b[0m\u001b[2;36m \u001b[0m\u001b[1;38;2;0;105;255mINFO    \u001b[0m Found credentials from IAM Role:                                   \u001b]8;id=93651;file:///home/ec2-user/anaconda3/envs/python3/lib/python3.10/site-packages/botocore/credentials.py\u001b\\\u001b[2mcredentials.py\u001b[0m\u001b]8;;\u001b\\\u001b[2m:\u001b[0m\u001b]8;id=169056;file:///home/ec2-user/anaconda3/envs/python3/lib/python3.10/site-packages/botocore/credentials.py#1132\u001b\\\u001b[2m1132\u001b[0m\u001b]8;;\u001b\\\n",
       "\u001b[2;36m                    \u001b[0m         BaseNotebookInstanceEc2InstanceRole                                \u001b[2m                   \u001b[0m\n"
      ]
     },
     "metadata": {},
     "output_type": "display_data"
    },
    {
     "data": {
      "text/html": [
       "<div>\n",
       "<style scoped>\n",
       "    .dataframe tbody tr th:only-of-type {\n",
       "        vertical-align: middle;\n",
       "    }\n",
       "\n",
       "    .dataframe tbody tr th {\n",
       "        vertical-align: top;\n",
       "    }\n",
       "\n",
       "    .dataframe thead th {\n",
       "        text-align: right;\n",
       "    }\n",
       "</style>\n",
       "<table border=\"1\" class=\"dataframe\">\n",
       "  <thead>\n",
       "    <tr style=\"text-align: right;\">\n",
       "      <th></th>\n",
       "      <th>Time</th>\n",
       "      <th>V1</th>\n",
       "      <th>V2</th>\n",
       "      <th>V3</th>\n",
       "      <th>V4</th>\n",
       "      <th>V5</th>\n",
       "      <th>V6</th>\n",
       "      <th>V7</th>\n",
       "      <th>V8</th>\n",
       "      <th>V9</th>\n",
       "      <th>...</th>\n",
       "      <th>V22</th>\n",
       "      <th>V23</th>\n",
       "      <th>V24</th>\n",
       "      <th>V25</th>\n",
       "      <th>V26</th>\n",
       "      <th>V27</th>\n",
       "      <th>V28</th>\n",
       "      <th>Amount</th>\n",
       "      <th>Class</th>\n",
       "      <th>record_id</th>\n",
       "    </tr>\n",
       "  </thead>\n",
       "  <tbody>\n",
       "    <tr>\n",
       "      <th>0</th>\n",
       "      <td>143352.0</td>\n",
       "      <td>1.955041</td>\n",
       "      <td>-0.380783</td>\n",
       "      <td>-0.315013</td>\n",
       "      <td>0.330155</td>\n",
       "      <td>-0.509374</td>\n",
       "      <td>-0.086197</td>\n",
       "      <td>-0.627978</td>\n",
       "      <td>0.035994</td>\n",
       "      <td>1.054560</td>\n",
       "      <td>...</td>\n",
       "      <td>0.968305</td>\n",
       "      <td>0.053208</td>\n",
       "      <td>-0.278602</td>\n",
       "      <td>-0.044999</td>\n",
       "      <td>-0.216780</td>\n",
       "      <td>0.045168</td>\n",
       "      <td>-0.047145</td>\n",
       "      <td>-0.353703</td>\n",
       "      <td>0</td>\n",
       "      <td>0</td>\n",
       "    </tr>\n",
       "    <tr>\n",
       "      <th>1</th>\n",
       "      <td>117173.0</td>\n",
       "      <td>-0.400975</td>\n",
       "      <td>-0.626943</td>\n",
       "      <td>1.555339</td>\n",
       "      <td>-2.017772</td>\n",
       "      <td>-0.107769</td>\n",
       "      <td>0.168310</td>\n",
       "      <td>0.017959</td>\n",
       "      <td>-0.401619</td>\n",
       "      <td>0.040378</td>\n",
       "      <td>...</td>\n",
       "      <td>0.421703</td>\n",
       "      <td>0.113442</td>\n",
       "      <td>-1.004095</td>\n",
       "      <td>-1.176695</td>\n",
       "      <td>0.361924</td>\n",
       "      <td>-0.370469</td>\n",
       "      <td>-0.144792</td>\n",
       "      <td>-0.200026</td>\n",
       "      <td>0</td>\n",
       "      <td>1</td>\n",
       "    </tr>\n",
       "    <tr>\n",
       "      <th>2</th>\n",
       "      <td>149565.0</td>\n",
       "      <td>0.072509</td>\n",
       "      <td>0.820566</td>\n",
       "      <td>-0.561351</td>\n",
       "      <td>-0.709897</td>\n",
       "      <td>1.080399</td>\n",
       "      <td>-0.359429</td>\n",
       "      <td>0.787858</td>\n",
       "      <td>0.117276</td>\n",
       "      <td>-0.131275</td>\n",
       "      <td>...</td>\n",
       "      <td>-0.872959</td>\n",
       "      <td>0.083391</td>\n",
       "      <td>0.148178</td>\n",
       "      <td>-0.431459</td>\n",
       "      <td>0.119690</td>\n",
       "      <td>0.206395</td>\n",
       "      <td>0.070288</td>\n",
       "      <td>-0.345144</td>\n",
       "      <td>0</td>\n",
       "      <td>2</td>\n",
       "    </tr>\n",
       "    <tr>\n",
       "      <th>3</th>\n",
       "      <td>93670.0</td>\n",
       "      <td>-0.535045</td>\n",
       "      <td>1.014587</td>\n",
       "      <td>1.750679</td>\n",
       "      <td>2.769390</td>\n",
       "      <td>0.500089</td>\n",
       "      <td>1.002270</td>\n",
       "      <td>0.847902</td>\n",
       "      <td>-0.081323</td>\n",
       "      <td>0.371579</td>\n",
       "      <td>...</td>\n",
       "      <td>0.443431</td>\n",
       "      <td>-0.072754</td>\n",
       "      <td>0.448192</td>\n",
       "      <td>-0.655203</td>\n",
       "      <td>-0.181038</td>\n",
       "      <td>-0.093013</td>\n",
       "      <td>-0.064931</td>\n",
       "      <td>0.106129</td>\n",
       "      <td>0</td>\n",
       "      <td>3</td>\n",
       "    </tr>\n",
       "    <tr>\n",
       "      <th>4</th>\n",
       "      <td>82655.0</td>\n",
       "      <td>-4.026938</td>\n",
       "      <td>1.897371</td>\n",
       "      <td>-0.429786</td>\n",
       "      <td>-0.029571</td>\n",
       "      <td>-0.855751</td>\n",
       "      <td>-0.480406</td>\n",
       "      <td>-0.435632</td>\n",
       "      <td>1.313760</td>\n",
       "      <td>0.536044</td>\n",
       "      <td>...</td>\n",
       "      <td>-0.230369</td>\n",
       "      <td>0.250717</td>\n",
       "      <td>0.066399</td>\n",
       "      <td>0.470787</td>\n",
       "      <td>0.245335</td>\n",
       "      <td>0.286904</td>\n",
       "      <td>-0.322672</td>\n",
       "      <td>-0.286215</td>\n",
       "      <td>0</td>\n",
       "      <td>4</td>\n",
       "    </tr>\n",
       "  </tbody>\n",
       "</table>\n",
       "<p>5 rows × 32 columns</p>\n",
       "</div>"
      ],
      "text/plain": [
       "       Time        V1        V2        V3        V4        V5        V6  \\\n",
       "0  143352.0  1.955041 -0.380783 -0.315013  0.330155 -0.509374 -0.086197   \n",
       "1  117173.0 -0.400975 -0.626943  1.555339 -2.017772 -0.107769  0.168310   \n",
       "2  149565.0  0.072509  0.820566 -0.561351 -0.709897  1.080399 -0.359429   \n",
       "3   93670.0 -0.535045  1.014587  1.750679  2.769390  0.500089  1.002270   \n",
       "4   82655.0 -4.026938  1.897371 -0.429786 -0.029571 -0.855751 -0.480406   \n",
       "\n",
       "         V7        V8        V9  ...       V22       V23       V24       V25  \\\n",
       "0 -0.627978  0.035994  1.054560  ...  0.968305  0.053208 -0.278602 -0.044999   \n",
       "1  0.017959 -0.401619  0.040378  ...  0.421703  0.113442 -1.004095 -1.176695   \n",
       "2  0.787858  0.117276 -0.131275  ... -0.872959  0.083391  0.148178 -0.431459   \n",
       "3  0.847902 -0.081323  0.371579  ...  0.443431 -0.072754  0.448192 -0.655203   \n",
       "4 -0.435632  1.313760  0.536044  ... -0.230369  0.250717  0.066399  0.470787   \n",
       "\n",
       "        V26       V27       V28    Amount  Class  record_id  \n",
       "0 -0.216780  0.045168 -0.047145 -0.353703      0          0  \n",
       "1  0.361924 -0.370469 -0.144792 -0.200026      0          1  \n",
       "2  0.119690  0.206395  0.070288 -0.345144      0          2  \n",
       "3 -0.181038 -0.093013 -0.064931  0.106129      0          3  \n",
       "4  0.245335  0.286904 -0.322672 -0.286215      0          4  \n",
       "\n",
       "[5 rows x 32 columns]"
      ]
     },
     "execution_count": 31,
     "metadata": {},
     "output_type": "execute_result"
    }
   ],
   "source": [
    "import pandas as pd  \n",
    " \n",
    "# Define the S3 URI  \n",
    "s3_uri = \"s3://fr-detector/balanced_train/train_final_1.csv\"  \n",
    " \n",
    "# Load the dataset  \n",
    "df = pd.read_csv(s3_uri, storage_options={\"anon\": False})  \n",
    " \n",
    "# Display the first few rows  \n",
    "df.head()"
   ]
  },
  {
   "cell_type": "code",
   "execution_count": 32,
   "id": "bffcd05e-fa28-409d-8219-d5fb5f6b72ef",
   "metadata": {},
   "outputs": [
    {
     "data": {
      "text/plain": [
       "Time         0\n",
       "V1           0\n",
       "V2           0\n",
       "V3           0\n",
       "V4           0\n",
       "V5           0\n",
       "V6           0\n",
       "V7           0\n",
       "V8           0\n",
       "V9           0\n",
       "V10          0\n",
       "V11          0\n",
       "V12          0\n",
       "V13          0\n",
       "V14          0\n",
       "V15          0\n",
       "V16          0\n",
       "V17          0\n",
       "V18          0\n",
       "V19          0\n",
       "V20          0\n",
       "V21          0\n",
       "V22          0\n",
       "V23          0\n",
       "V24          0\n",
       "V25          0\n",
       "V26          0\n",
       "V27          0\n",
       "V28          0\n",
       "Amount       0\n",
       "Class        0\n",
       "record_id    0\n",
       "dtype: int64"
      ]
     },
     "execution_count": 32,
     "metadata": {},
     "output_type": "execute_result"
    }
   ],
   "source": [
    "df.isnull().sum()"
   ]
  },
  {
   "cell_type": "code",
   "execution_count": 33,
   "id": "07a03a64-01f4-4a35-be2e-e4c61fe29bdc",
   "metadata": {},
   "outputs": [
    {
     "name": "stdout",
     "output_type": "stream",
     "text": [
      "Feature matrix shape: (341176, 31)\n",
      "Target variable shape: (341176,)\n"
     ]
    }
   ],
   "source": [
    "# Define features (X) and target variable (y)\n",
    "target_col = \"Class\"\n",
    "X = df.drop(columns=[target_col])  # All columns except the target\n",
    "y = df[target_col]\n",
    " \n",
    "# Print shape to confirm\n",
    "print(f\"Feature matrix shape: {X.shape}\")\n",
    "print(f\"Target variable shape: {y.shape}\")"
   ]
  },
  {
   "cell_type": "code",
   "execution_count": 34,
   "id": "d6f846e1-06ad-4f59-9933-373d14e64b0d",
   "metadata": {},
   "outputs": [
    {
     "name": "stdout",
     "output_type": "stream",
     "text": [
      "Training set shape: (272940, 31), (272940,)\n",
      "Validation set shape: (68236, 31), (68236,)\n"
     ]
    }
   ],
   "source": [
    "from sklearn.model_selection import train_test_split\n",
    " \n",
    "# Split the data (80% training, 20% validation)\n",
    "X_train, X_val, y_train, y_val = train_test_split(X, y, test_size=0.2, random_state=42, stratify=y)\n",
    " \n",
    "# Print shapes to confirm\n",
    "print(f\"Training set shape: {X_train.shape}, {y_train.shape}\")\n",
    "print(f\"Validation set shape: {X_val.shape}, {y_val.shape}\")"
   ]
  },
  {
   "cell_type": "code",
   "execution_count": 35,
   "id": "0ba0ec52-51e2-4a41-ab28-e4e181749a45",
   "metadata": {},
   "outputs": [
    {
     "data": {
      "text/html": [
       "<pre style=\"white-space:pre;overflow-x:auto;line-height:normal;font-family:Menlo,'DejaVu Sans Mono',consolas,'Courier New',monospace\"><span style=\"color: #7fbfbf; text-decoration-color: #7fbfbf\">[03/19/25 09:38:28] </span><span style=\"color: #0069ff; text-decoration-color: #0069ff; font-weight: bold\">INFO    </span> Found credentials from IAM Role:                                   <a href=\"file:///home/ec2-user/anaconda3/envs/python3/lib/python3.10/site-packages/botocore/credentials.py\" target=\"_blank\"><span style=\"color: #7f7f7f; text-decoration-color: #7f7f7f\">credentials.py</span></a><span style=\"color: #7f7f7f; text-decoration-color: #7f7f7f\">:</span><a href=\"file:///home/ec2-user/anaconda3/envs/python3/lib/python3.10/site-packages/botocore/credentials.py#1132\" target=\"_blank\"><span style=\"color: #7f7f7f; text-decoration-color: #7f7f7f\">1132</span></a>\n",
       "<span style=\"color: #7fbfbf; text-decoration-color: #7fbfbf\">                    </span>         BaseNotebookInstanceEc2InstanceRole                                <span style=\"color: #7f7f7f; text-decoration-color: #7f7f7f\">                   </span>\n",
       "</pre>\n"
      ],
      "text/plain": [
       "\u001b[2;36m[03/19/25 09:38:28]\u001b[0m\u001b[2;36m \u001b[0m\u001b[1;38;2;0;105;255mINFO    \u001b[0m Found credentials from IAM Role:                                   \u001b]8;id=458339;file:///home/ec2-user/anaconda3/envs/python3/lib/python3.10/site-packages/botocore/credentials.py\u001b\\\u001b[2mcredentials.py\u001b[0m\u001b]8;;\u001b\\\u001b[2m:\u001b[0m\u001b]8;id=620458;file:///home/ec2-user/anaconda3/envs/python3/lib/python3.10/site-packages/botocore/credentials.py#1132\u001b\\\u001b[2m1132\u001b[0m\u001b]8;;\u001b\\\n",
       "\u001b[2;36m                    \u001b[0m         BaseNotebookInstanceEc2InstanceRole                                \u001b[2m                   \u001b[0m\n"
      ]
     },
     "metadata": {},
     "output_type": "display_data"
    },
    {
     "name": "stdout",
     "output_type": "stream",
     "text": [
      "✅ Model trained successfully with experiment tracking!\n"
     ]
    }
   ],
   "source": [
    "from sagemaker.experiments.run import Run\n",
    "from sagemaker.session import Session\n",
    "import lightgbm as lgb\n",
    " \n",
    "# Initialize SageMaker session\n",
    "sagemaker_session = Session()\n",
    "experiment_name = \"fraud-detection-experiment\"\n",
    " \n",
    "# Start tracking this training run\n",
    "with Run(experiment_name=experiment_name, sagemaker_session=sagemaker_session) as run:\n",
    "    # Convert dataset to LightGBM format\n",
    "    train_data = lgb.Dataset(X_train, label=y_train)\n",
    "    val_data = lgb.Dataset(X_val, label=y_val, reference=train_data)\n",
    " \n",
    "    # Define LightGBM parameters\n",
    "    params = {\n",
    "        \"objective\": \"binary\",\n",
    "        \"metric\": \"auc\",\n",
    "        \"boosting_type\": \"gbdt\",\n",
    "        \"learning_rate\": 0.05,\n",
    "        \"num_leaves\": 31,\n",
    "        \"max_depth\": -1,\n",
    "        \"verbose\": -1\n",
    "    }\n",
    " \n",
    "    # Train the model (fixed early stopping)\n",
    "    model = lgb.train(\n",
    "        params,\n",
    "        train_data,\n",
    "        valid_sets=[val_data],  # Validation set for monitoring\n",
    "        num_boost_round=100\n",
    "    )\n",
    " \n",
    "    # Log training parameters and metrics in SageMaker Experiment\n",
    "    run.log_parameter(\"learning_rate\", params[\"learning_rate\"])\n",
    "    run.log_parameter(\"num_leaves\", params[\"num_leaves\"])\n",
    "    run.log_parameter(\"max_depth\", params[\"max_depth\"])\n",
    " \n",
    "    # Log final AUC score\n",
    "    if \"auc\" in model.best_score[\"valid_0\"]:\n",
    "        run.log_metric(\"final_auc\", model.best_score[\"valid_0\"][\"auc\"])\n",
    " \n",
    "    run.log_metric(\"best_iteration\", model.best_iteration)\n",
    " \n",
    "print(\"✅ Model trained successfully with experiment tracking!\")"
   ]
  },
  {
   "cell_type": "code",
   "execution_count": 38,
   "id": "bc427fea-8d9d-4947-a800-2cde8fc4630c",
   "metadata": {},
   "outputs": [
    {
     "name": "stdout",
     "output_type": "stream",
     "text": [
      "✅ Model saved as model.txt\n"
     ]
    }
   ],
   "source": [
    "import os\n",
    "import tarfile\n",
    "import boto3\n",
    " \n",
    "# Define model directory\n",
    "model_dir = \"lightgbm_model\"\n",
    "os.makedirs(model_dir, exist_ok=True)\n",
    " \n",
    "# Save the trained model\n",
    "model_path = os.path.join(model_dir, \"model.txt\")\n",
    "model.save_model(model_path)\n",
    " \n",
    "print(\"✅ Model saved as model.txt\")\n",
    " "
   ]
  },
  {
   "cell_type": "code",
   "execution_count": 39,
   "id": "44450838-f0be-4e9e-abbf-b85eb48acc45",
   "metadata": {},
   "outputs": [
    {
     "data": {
      "text/plain": [
       "<lightgbm.basic.Booster at 0x7fca7de20ee0>"
      ]
     },
     "execution_count": 39,
     "metadata": {},
     "output_type": "execute_result"
    }
   ],
   "source": [
    "model.save_model(\"model.bst\")"
   ]
  },
  {
   "cell_type": "code",
   "execution_count": 40,
   "id": "af8ed4ba-ffc0-49fc-bf4d-547bc89cb3c9",
   "metadata": {},
   "outputs": [
    {
     "data": {
      "text/html": [
       "<pre style=\"white-space:pre;overflow-x:auto;line-height:normal;font-family:Menlo,'DejaVu Sans Mono',consolas,'Courier New',monospace\"><span style=\"color: #7fbfbf; text-decoration-color: #7fbfbf\">[03/19/25 09:51:28] </span><span style=\"color: #0069ff; text-decoration-color: #0069ff; font-weight: bold\">INFO    </span> Found credentials from IAM Role:                                   <a href=\"file:///home/ec2-user/anaconda3/envs/python3/lib/python3.10/site-packages/botocore/credentials.py\" target=\"_blank\"><span style=\"color: #7f7f7f; text-decoration-color: #7f7f7f\">credentials.py</span></a><span style=\"color: #7f7f7f; text-decoration-color: #7f7f7f\">:</span><a href=\"file:///home/ec2-user/anaconda3/envs/python3/lib/python3.10/site-packages/botocore/credentials.py#1132\" target=\"_blank\"><span style=\"color: #7f7f7f; text-decoration-color: #7f7f7f\">1132</span></a>\n",
       "<span style=\"color: #7fbfbf; text-decoration-color: #7fbfbf\">                    </span>         BaseNotebookInstanceEc2InstanceRole                                <span style=\"color: #7f7f7f; text-decoration-color: #7f7f7f\">                   </span>\n",
       "</pre>\n"
      ],
      "text/plain": [
       "\u001b[2;36m[03/19/25 09:51:28]\u001b[0m\u001b[2;36m \u001b[0m\u001b[1;38;2;0;105;255mINFO    \u001b[0m Found credentials from IAM Role:                                   \u001b]8;id=133991;file:///home/ec2-user/anaconda3/envs/python3/lib/python3.10/site-packages/botocore/credentials.py\u001b\\\u001b[2mcredentials.py\u001b[0m\u001b]8;;\u001b\\\u001b[2m:\u001b[0m\u001b]8;id=958158;file:///home/ec2-user/anaconda3/envs/python3/lib/python3.10/site-packages/botocore/credentials.py#1132\u001b\\\u001b[2m1132\u001b[0m\u001b]8;;\u001b\\\n",
       "\u001b[2;36m                    \u001b[0m         BaseNotebookInstanceEc2InstanceRole                                \u001b[2m                   \u001b[0m\n"
      ]
     },
     "metadata": {},
     "output_type": "display_data"
    },
    {
     "name": "stdout",
     "output_type": "stream",
     "text": [
      "Model uploaded to s3://fr-detector/models/model.bst\n"
     ]
    }
   ],
   "source": [
    "import boto3\n",
    " \n",
    "s3_bucket = \"fr-detector\"  # Your S3 bucket name\n",
    "s3_model_path = \"models/model.bst\"\n",
    " \n",
    "s3 = boto3.client(\"s3\")\n",
    "s3.upload_file(\"model.bst\", s3_bucket, s3_model_path)\n",
    " \n",
    "print(f\"Model uploaded to s3://{s3_bucket}/{s3_model_path}\")"
   ]
  },
  {
   "cell_type": "code",
   "execution_count": 6,
   "id": "f893bbaf-6a75-4585-a00d-07f6b59467ac",
   "metadata": {},
   "outputs": [
    {
     "name": "stdout",
     "output_type": "stream",
     "text": [
      "Model lightgbm-fraud-model-v5 created successfully!\n"
     ]
    }
   ],
   "source": [
    "import boto3\n",
    " \n",
    "sagemaker = boto3.client(\"sagemaker\", region_name=\"us-east-1\")\n",
    " \n",
    "# Replace with your ECR Image URI and IAM Role\n",
    "ecr_image_uri = \"361769587425.dkr.ecr.us-east-1.amazonaws.com/lightgbm-fraud-detection:latest\"\n",
    "role_arn = \"arn:aws:iam::361769587425:role/service-role/AmazonSageMaker-ExecutionRole-20250204T104128\"\n",
    " \n",
    "model_name = \"lightgbm-fraud-model-v5\"\n",
    " \n",
    "response = sagemaker.create_model(\n",
    "    ModelName=model_name,\n",
    "    PrimaryContainer={\n",
    "        \"Image\": ecr_image_uri,\n",
    "        \"ModelDataUrl\":\"s3://fr-detector/models/lightgbm_sagemaker_v2.tar.gz\"\n",
    "    },\n",
    "    ExecutionRoleArn=role_arn\n",
    ")\n",
    " \n",
    "print(f\"Model {model_name} created successfully!\")"
   ]
  },
  {
   "cell_type": "code",
   "execution_count": 7,
   "id": "fa6bca19-214e-4478-8ab8-cd8fd565799c",
   "metadata": {},
   "outputs": [
    {
     "name": "stdout",
     "output_type": "stream",
     "text": [
      "Endpoint Configuration lightgbm-fraud-endpoint-config-v5 created!\n"
     ]
    }
   ],
   "source": [
    "endpoint_config_name = \"lightgbm-fraud-endpoint-config-v5\"\n",
    " \n",
    "sagemaker.create_endpoint_config(\n",
    "    EndpointConfigName=endpoint_config_name,\n",
    "    ProductionVariants=[\n",
    "        {\n",
    "            \"VariantName\": \"AllTraffic\",\n",
    "            \"ModelName\": model_name,\n",
    "            \"InstanceType\": \"ml.m5.large\",  # Adjust as per your requirement\n",
    "            \"InitialInstanceCount\": 1\n",
    "        }\n",
    "    ]\n",
    ")\n",
    " \n",
    "print(f\"Endpoint Configuration {endpoint_config_name} created!\")"
   ]
  },
  {
   "cell_type": "code",
   "execution_count": 8,
   "id": "4caedff8-7a6a-48ff-8906-2dc1db170292",
   "metadata": {},
   "outputs": [
    {
     "name": "stdout",
     "output_type": "stream",
     "text": [
      "SageMaker Endpoint lightgbm-fraud-endpointv5 is being created!\n"
     ]
    }
   ],
   "source": [
    "endpoint_name = \"lightgbm-fraud-endpointv5\"\n",
    " \n",
    "sagemaker.create_endpoint(\n",
    "    EndpointName=endpoint_name,\n",
    "    EndpointConfigName=endpoint_config_name\n",
    ")\n",
    " \n",
    "print(f\"SageMaker Endpoint {endpoint_name} is being created!\")"
   ]
  },
  {
   "cell_type": "code",
   "execution_count": 9,
   "id": "ac95f93a-794c-413f-b27c-28d88325da83",
   "metadata": {},
   "outputs": [
    {
     "name": "stdout",
     "output_type": "stream",
     "text": [
      "Creating\n"
     ]
    }
   ],
   "source": [
    "response = sagemaker.describe_endpoint(EndpointName=endpoint_name)\n",
    "print(response[\"EndpointStatus\"])"
   ]
  },
  {
   "cell_type": "code",
   "execution_count": 10,
   "id": "6ed4ab34-4717-4eff-82cb-cdd9f508ffca",
   "metadata": {},
   "outputs": [
    {
     "name": "stdout",
     "output_type": "stream",
     "text": [
      "m exits False\n"
     ]
    }
   ],
   "source": [
    "import os\n",
    "model_path=\"/opt/ml/model/model.tar.gz\"\n",
    "print(\"m exits\", os.path.exists(model_path))"
   ]
  },
  {
   "cell_type": "code",
   "execution_count": 13,
   "id": "2765ada8-dcef-4acf-859a-4f683b7332ab",
   "metadata": {},
   "outputs": [
    {
     "name": "stdout",
     "output_type": "stream",
     "text": [
      "SM_MODEL_DIR: None\n",
      "SM_MODULE_DIR: None\n"
     ]
    }
   ],
   "source": [
    "import os\n",
    " \n",
    "print(\"SM_MODEL_DIR:\", os.getenv(\"SM_MODEL_DIR\"))\n",
    "print(\"SM_MODULE_DIR:\", os.getenv(\"SM_MODULE_DIR\"))"
   ]
  },
  {
   "cell_type": "code",
   "execution_count": 14,
   "id": "b0a97b11-0426-4f25-a06b-e4f73d12d2f7",
   "metadata": {},
   "outputs": [
    {
     "name": "stdout",
     "output_type": "stream",
     "text": [
      "✅ Model file found: s3://fr-detector/models/model.tar.gz\n"
     ]
    }
   ],
   "source": [
    "import boto3\n",
    " \n",
    "s3_client = boto3.client(\"s3\")\n",
    "bucket_name = \"fr-detector\"  # Your S3 bucket name\n",
    "model_key = \"models/model.tar.gz\"  # Path to your model file\n",
    " \n",
    "# Check if the model file exists\n",
    "try:\n",
    "    s3_client.head_object(Bucket=bucket_name, Key=model_key)\n",
    "    print(f\"✅ Model file found: s3://{bucket_name}/{model_key}\")\n",
    "except Exception as e:\n",
    "    print(f\"❌ Model file not found! Error: {e}\")"
   ]
  },
  {
   "cell_type": "code",
   "execution_count": 16,
   "id": "43923796-a956-436a-aea8-da55707b99e4",
   "metadata": {},
   "outputs": [
    {
     "name": "stdout",
     "output_type": "stream",
     "text": [
      "✅ SageMaker Role: arn:aws:iam::361769587425:role/service-role/AmazonSageMaker-ExecutionRole-20250204T104128\n",
      "✅ Model URI: s3://fr-detector/models/model.tar.gz\n",
      "✅ Image URI: 361769587425.dkr.ecr.us-east-1.amazonaws.com/lightgbm-fraud-detection:latest\n"
     ]
    }
   ],
   "source": [
    "import sagemaker\n",
    " \n",
    "# Get the SageMaker execution role\n",
    "role = sagemaker.get_execution_role()\n",
    " \n",
    "# Define your model S3 path\n",
    "model_uri = \"s3://fr-detector/models/model.tar.gz\"\n",
    " \n",
    "# Define the SageMaker container image for deployment\n",
    "image_uri = \"361769587425.dkr.ecr.us-east-1.amazonaws.com/lightgbm-fraud-detection:latest\"  # Replace with your actual ECR image URI\n",
    " \n",
    "print(f\"✅ SageMaker Role: {role}\")\n",
    "print(f\"✅ Model URI: {model_uri}\")\n",
    "print(f\"✅ Image URI: {image_uri}\")"
   ]
  },
  {
   "cell_type": "code",
   "execution_count": 19,
   "id": "1ed0713b-bb0d-4a84-8151-3b9b2abc0971",
   "metadata": {},
   "outputs": [
    {
     "name": "stdout",
     "output_type": "stream",
     "text": [
      "✅ SageMaker Model lightgbm-fraud-detection-model-v7 created successfully!\n"
     ]
    }
   ],
   "source": [
    "import boto3\n",
    "import sagemaker\n",
    "from sagemaker.model import Model\n",
    " \n",
    "# Define variables\n",
    "model_name = \"lightgbm-fraud-detection-model-v7\"  # Change version to avoid conflicts\n",
    "execution_role = role  # Already retrieved in the previous step\n",
    "image_uri = \"361769587425.dkr.ecr.us-east-1.amazonaws.com/lightgbm-fraud-detection:latest\"  # Replace with your actual ECR Image URI\n",
    "model_uri = \"s3://fr-detector/models/model.tar.gz\"  # Your model path in S3\n",
    " \n",
    "# Create SageMaker Model\n",
    "model = Model(\n",
    "    name=model_name,\n",
    "    image_uri=image_uri,\n",
    "    model_data=model_uri,\n",
    "    role=execution_role\n",
    ")\n",
    " \n",
    "# Deploy the model\n",
    "print(f\"✅ SageMaker Model {model_name} created successfully!\")"
   ]
  },
  {
   "cell_type": "code",
   "execution_count": 18,
   "id": "23ca8edf-d344-46c2-b52f-05ead8790a3b",
   "metadata": {},
   "outputs": [
    {
     "name": "stdout",
     "output_type": "stream",
     "text": [
      "Available models in SageMaker: ['lightgbm-fraud-model-v5', 'lightgbm-fraud-model-v4', 'lightgbm-fraud-model-v3', 'sagemaker-scikit-learn-2025-03-19-06-35-15-311', 'lightgbm-fraud-detection-model-v2', 'lightgbm-fraud-detection-model', 'sagemaker-scikit-learn-2025-03-13-09-49-35-714', 'sagemaker-scikit-learn-2025-03-13-08-59-43-592', 'sagemaker-scikit-learn-2025-03-13-08-55-47-960', 'sagemaker-scikit-learn-2025-03-13-08-35-42-702']\n"
     ]
    }
   ],
   "source": [
    "import boto3\n",
    " \n",
    "sagemaker_client = boto3.client(\"sagemaker\")\n",
    " \n",
    "# List all models\n",
    "response = sagemaker_client.list_models()\n",
    "model_names = [model[\"ModelName\"] for model in response[\"Models\"]]\n",
    " \n",
    "print(\"Available models in SageMaker:\", model_names)"
   ]
  },
  {
   "cell_type": "code",
   "execution_count": 20,
   "id": "75c5260e-cc5b-4e77-b481-abe71d05a7f7",
   "metadata": {},
   "outputs": [
    {
     "name": "stdout",
     "output_type": "stream",
     "text": [
      "Model lightgbm-fraud-model-v6 created successfully!\n"
     ]
    }
   ],
   "source": [
    "import boto3\n",
    " \n",
    "sagemaker = boto3.client(\"sagemaker\", region_name=\"us-east-1\")\n",
    " \n",
    "# Replace with your ECR Image URI and IAM Role\n",
    "ecr_image_uri = \"361769587425.dkr.ecr.us-east-1.amazonaws.com/lightgbm-fraud-detection:latest\"\n",
    "role_arn = \"arn:aws:iam::361769587425:role/service-role/AmazonSageMaker-ExecutionRole-20250204T104128\"\n",
    " \n",
    "model_name = \"lightgbm-fraud-model-v6\"\n",
    " \n",
    "response = sagemaker.create_model(\n",
    "    ModelName=model_name,\n",
    "    PrimaryContainer={\n",
    "        \"Image\": ecr_image_uri,\n",
    "        \"ModelDataUrl\":\"s3://fr-detector/models/lightgbm_sagemaker_v2.tar.gz\"\n",
    "    },\n",
    "    ExecutionRoleArn=role_arn\n",
    ")\n",
    " \n",
    "print(f\"Model {model_name} created successfully!\")"
   ]
  },
  {
   "cell_type": "code",
   "execution_count": 24,
   "id": "6f3559c2-a335-4c54-9650-2c362771fccb",
   "metadata": {},
   "outputs": [
    {
     "name": "stdout",
     "output_type": "stream",
     "text": [
      "Traceback (most recent call last):\n",
      "  File \"/home/ec2-user/SageMaker/data/neha_exploration/inference.py\", line 45, in <module>\n",
      "    model = load_model()\n",
      "  File \"/home/ec2-user/SageMaker/data/neha_exploration/inference.py\", line 32, in load_model\n",
      "    extract_model()  # Extract model if not already extracted\n",
      "  File \"/home/ec2-user/SageMaker/data/neha_exploration/inference.py\", line 23, in extract_model\n",
      "    raise FileNotFoundError(f\"Model archive not found at {model_tar_path}\")\n",
      "FileNotFoundError: Model archive not found at /opt/ml/model/model.tar.gz\n"
     ]
    }
   ],
   "source": [
    "!python inference.py"
   ]
  },
  {
   "cell_type": "code",
   "execution_count": 23,
   "id": "d3be28f7-e0c9-4f8c-8fb5-c04d594e1a67",
   "metadata": {},
   "outputs": [
    {
     "name": "stdout",
     "output_type": "stream",
     "text": [
      "Requirement already satisfied: flask in /home/ec2-user/anaconda3/envs/python3/lib/python3.10/site-packages (from -r requirements.txt (line 1)) (3.1.0)\n",
      "Collecting gunicorn (from -r requirements.txt (line 2))\n",
      "  Downloading gunicorn-23.0.0-py3-none-any.whl.metadata (4.4 kB)\n",
      "Requirement already satisfied: numpy in /home/ec2-user/anaconda3/envs/python3/lib/python3.10/site-packages (from -r requirements.txt (line 3)) (1.26.4)\n",
      "Requirement already satisfied: pandas in /home/ec2-user/anaconda3/envs/python3/lib/python3.10/site-packages (from -r requirements.txt (line 4)) (1.5.3)\n",
      "Collecting lightgbm (from -r requirements.txt (line 5))\n",
      "  Downloading lightgbm-4.6.0.tar.gz (1.7 MB)\n",
      "\u001b[2K     \u001b[90m━━━━━━━━━━━━━━━━━━━━━━━━━━━━━━━━━━━━━━━━\u001b[0m \u001b[32m1.7/1.7 MB\u001b[0m \u001b[31m48.5 MB/s\u001b[0m eta \u001b[36m0:00:00\u001b[0m\n",
      "  Installing build dependencies ... \u001b[done\n",
      "\u001b[?25h  Getting requirements to build wheel ... \u001b[?25ldone\n",
      "\u001b[?25h  Installing backend dependencies ... \u001b[?25done\n",
      "\u001b[?25h  Preparing metadata (pyproject.toml) ... \u001b[?25ldone\n",
      "\u001b[?25hRequirement already satisfied: joblib in /home/ec2-user/anaconda3/envs/python3/lib/python3.10/site-packages (from -r requirements.txt (line 6)) (1.4.2)\n",
      "Requirement already satisfied: Werkzeug>=3.1 in /home/ec2-user/anaconda3/envs/python3/lib/python3.10/site-packages (from flask->-r requirements.txt (line 1)) (3.1.3)\n",
      "Requirement already satisfied: Jinja2>=3.1.2 in /home/ec2-user/anaconda3/envs/python3/lib/python3.10/site-packages (from flask->-r requirements.txt (line 1)) (3.1.5)\n",
      "Requirement already satisfied: itsdangerous>=2.2 in /home/ec2-user/anaconda3/envs/python3/lib/python3.10/site-packages (from flask->-r requirements.txt (line 1)) (2.2.0)\n",
      "Requirement already satisfied: click>=8.1.3 in /home/ec2-user/anaconda3/envs/python3/lib/python3.10/site-packages (from flask->-r requirements.txt (line 1)) (8.1.8)\n",
      "Requirement already satisfied: blinker>=1.9 in /home/ec2-user/anaconda3/envs/python3/lib/python3.10/site-packages (from flask->-r requirements.txt (line 1)) (1.9.0)\n",
      "Requirement already satisfied: packaging in /home/ec2-user/anaconda3/envs/python3/lib/python3.10/site-packages (from gunicorn->-r requirements.txt (line 2)) (21.3)\n",
      "Requirement already satisfied: python-dateutil>=2.8.1 in /home/ec2-user/anaconda3/envs/python3/lib/python3.10/site-packages (from pandas->-r requirements.txt (line 4)) (2.9.0.post0)\n",
      "Requirement already satisfied: pytz>=2020.1 in /home/ec2-user/anaconda3/envs/python3/lib/python3.10/site-packages (from pandas->-r requirements.txt (line 4)) (2025.1)\n",
      "Requirement already satisfied: scipy in /home/ec2-user/anaconda3/envs/python3/lib/python3.10/site-packages (from lightgbm->-r requirements.txt (line 5)) (1.15.1)\n",
      "Requirement already satisfied: MarkupSafe>=2.0 in /home/ec2-user/anaconda3/envs/python3/lib/python3.10/site-packages (from Jinja2>=3.1.2->flask->-r requirements.txt (line 1)) (3.0.2)\n",
      "Requirement already satisfied: six>=1.5 in /home/ec2-user/anaconda3/envs/python3/lib/python3.10/site-packages (from python-dateutil>=2.8.1->pandas->-r requirements.txt (line 4)) (1.17.0)\n",
      "Requirement already satisfied: pyparsing!=3.0.5,>=2.0.2 in /home/ec2-user/anaconda3/envs/python3/lib/python3.10/site-packages (from packaging->gunicorn->-r requirements.txt (line 2)) (3.2.1)\n",
      "Downloading gunicorn-23.0.0-py3-none-any.whl (85 kB)\n",
      "Building wheels for collected packages: lightgbm\n",
      "  Building whdone\n",
      "\u001b[?25h  Created wheel for lightgbm: filename=lightgbm-4.6.0-py3-none-linux_x86_64.whl size=2737777 sha256=c74086ca353c068b739be0f4dc0b08e71bda9863a7630dc5a3208b2de720b111\n",
      "  Stored in directory: /home/ec2-user/.cache/pip/wheels/bb/db/6d/7814aed03437129dc284a055c084f201b765deb54b6908efab\n",
      "Successfully built lightgbm\n",
      "Installing collected packages: lightgbm, gunicorn\n",
      "Successfully installed gunicorn-23.0.0 lightgbm-4.6.0\n"
     ]
    }
   ],
   "source": [
    "!pip install -r requirements.txt"
   ]
  },
  {
   "cell_type": "code",
   "execution_count": null,
   "id": "cae6ca91-16da-4d2b-a2e3-cc8363d761d2",
   "metadata": {},
   "outputs": [],
   "source": []
  },
  {
   "cell_type": "code",
   "execution_count": null,
   "id": "31263334-aee9-44f6-b778-160b6d291683",
   "metadata": {},
   "outputs": [],
   "source": []
  },
  {
   "cell_type": "code",
   "execution_count": 43,
   "id": "7d28b444-ea58-4931-aa08-78cbe80c7dbf",
   "metadata": {},
   "outputs": [
    {
     "data": {
      "text/html": [
       "<pre style=\"white-space:pre;overflow-x:auto;line-height:normal;font-family:Menlo,'DejaVu Sans Mono',consolas,'Courier New',monospace\"><span style=\"color: #7fbfbf; text-decoration-color: #7fbfbf\">[03/19/25 10:01:46] </span><span style=\"color: #0069ff; text-decoration-color: #0069ff; font-weight: bold\">INFO    </span> Creating model with name: lightgbm-<span style=\"color: #008080; text-decoration-color: #008080; font-weight: bold\">2025</span>-03-19-10-01-46-767             <a href=\"file:///home/ec2-user/anaconda3/envs/python3/lib/python3.10/site-packages/sagemaker/session.py\" target=\"_blank\"><span style=\"color: #7f7f7f; text-decoration-color: #7f7f7f\">session.py</span></a><span style=\"color: #7f7f7f; text-decoration-color: #7f7f7f\">:</span><a href=\"file:///home/ec2-user/anaconda3/envs/python3/lib/python3.10/site-packages/sagemaker/session.py#4094\" target=\"_blank\"><span style=\"color: #7f7f7f; text-decoration-color: #7f7f7f\">4094</span></a>\n",
       "</pre>\n"
      ],
      "text/plain": [
       "\u001b[2;36m[03/19/25 10:01:46]\u001b[0m\u001b[2;36m \u001b[0m\u001b[1;38;2;0;105;255mINFO    \u001b[0m Creating model with name: lightgbm-\u001b[1;36m2025\u001b[0m-03-19-10-01-46-767             \u001b]8;id=793869;file:///home/ec2-user/anaconda3/envs/python3/lib/python3.10/site-packages/sagemaker/session.py\u001b\\\u001b[2msession.py\u001b[0m\u001b]8;;\u001b\\\u001b[2m:\u001b[0m\u001b]8;id=549463;file:///home/ec2-user/anaconda3/envs/python3/lib/python3.10/site-packages/sagemaker/session.py#4094\u001b\\\u001b[2m4094\u001b[0m\u001b]8;;\u001b\\\n"
      ]
     },
     "metadata": {},
     "output_type": "display_data"
    },
    {
     "data": {
      "text/html": [
       "<pre style=\"white-space:pre;overflow-x:auto;line-height:normal;font-family:Menlo,'DejaVu Sans Mono',consolas,'Courier New',monospace\"><span style=\"color: #ff0000; text-decoration-color: #ff0000\">╭─────────────────────────────── </span><span style=\"color: #ff0000; text-decoration-color: #ff0000; font-weight: bold\">Traceback </span><span style=\"color: #ff7f7f; text-decoration-color: #ff7f7f; font-weight: bold\">(most recent call last)</span><span style=\"color: #ff0000; text-decoration-color: #ff0000\"> ────────────────────────────────╮</span>\n",
       "<span style=\"color: #ff0000; text-decoration-color: #ff0000\">│</span> in <span style=\"color: #00ff00; text-decoration-color: #00ff00\">&lt;module&gt;</span>:<span style=\"color: #0000ff; text-decoration-color: #0000ff\">13</span>                                                                                   <span style=\"color: #ff0000; text-decoration-color: #ff0000\">│</span>\n",
       "<span style=\"color: #ff0000; text-decoration-color: #ff0000\">│</span>                                                                                                  <span style=\"color: #ff0000; text-decoration-color: #ff0000\">│</span>\n",
       "<span style=\"color: #ff0000; text-decoration-color: #ff0000\">│</span>   <span style=\"color: #7f7f7f; text-decoration-color: #7f7f7f\">10 </span>)                                                                                           <span style=\"color: #ff0000; text-decoration-color: #ff0000\">│</span>\n",
       "<span style=\"color: #ff0000; text-decoration-color: #ff0000\">│</span>   <span style=\"color: #7f7f7f; text-decoration-color: #7f7f7f\">11 </span>                                                                                            <span style=\"color: #ff0000; text-decoration-color: #ff0000\">│</span>\n",
       "<span style=\"color: #ff0000; text-decoration-color: #ff0000\">│</span>   <span style=\"color: #7f7f7f; text-decoration-color: #7f7f7f\">12 # Deploy endpoint</span>                                                                           <span style=\"color: #ff0000; text-decoration-color: #ff0000\">│</span>\n",
       "<span style=\"color: #ff0000; text-decoration-color: #ff0000\">│</span> <span style=\"color: #800000; text-decoration-color: #800000\">❱ </span>13 predictor = lgb_model.deploy(initial_instance_count=<span style=\"color: #0000ff; text-decoration-color: #0000ff\">1</span>, instance_type=<span style=\"color: #808000; text-decoration-color: #808000\">\"ml.m5.large\"</span>)         <span style=\"color: #ff0000; text-decoration-color: #ff0000\">│</span>\n",
       "<span style=\"color: #ff0000; text-decoration-color: #ff0000\">│</span>   <span style=\"color: #7f7f7f; text-decoration-color: #7f7f7f\">14 </span>                                                                                            <span style=\"color: #ff0000; text-decoration-color: #ff0000\">│</span>\n",
       "<span style=\"color: #ff0000; text-decoration-color: #ff0000\">│</span>   <span style=\"color: #7f7f7f; text-decoration-color: #7f7f7f\">15 </span><span style=\"color: #00ffff; text-decoration-color: #00ffff\">print</span>(<span style=\"color: #808000; text-decoration-color: #808000\">\"Model deployed successfully!\"</span>)                                                       <span style=\"color: #ff0000; text-decoration-color: #ff0000\">│</span>\n",
       "<span style=\"color: #ff0000; text-decoration-color: #ff0000\">│</span>   <span style=\"color: #7f7f7f; text-decoration-color: #7f7f7f\">16 </span>                                                                                            <span style=\"color: #ff0000; text-decoration-color: #ff0000\">│</span>\n",
       "<span style=\"color: #ff0000; text-decoration-color: #ff0000\">│</span>                                                                                                  <span style=\"color: #ff0000; text-decoration-color: #ff0000\">│</span>\n",
       "<span style=\"color: #ff0000; text-decoration-color: #ff0000\">│</span> <span style=\"color: #bfbf7f; text-decoration-color: #bfbf7f\">/home/ec2-user/anaconda3/envs/python3/lib/python3.10/site-packages/sagemaker/</span><span style=\"color: #808000; text-decoration-color: #808000; font-weight: bold\">model.py</span>:<span style=\"color: #0000ff; text-decoration-color: #0000ff\">1728</span> in    <span style=\"color: #ff0000; text-decoration-color: #ff0000\">│</span>\n",
       "<span style=\"color: #ff0000; text-decoration-color: #ff0000\">│</span> <span style=\"color: #00ff00; text-decoration-color: #00ff00\">deploy</span>                                                                                           <span style=\"color: #ff0000; text-decoration-color: #ff0000\">│</span>\n",
       "<span style=\"color: #ff0000; text-decoration-color: #ff0000\">│</span>                                                                                                  <span style=\"color: #ff0000; text-decoration-color: #ff0000\">│</span>\n",
       "<span style=\"color: #ff0000; text-decoration-color: #ff0000\">│</span>   <span style=\"color: #7f7f7f; text-decoration-color: #7f7f7f\">1725 </span><span style=\"color: #7f7f7f; text-decoration-color: #7f7f7f\">│   │   │   </span><span style=\"color: #0000ff; text-decoration-color: #0000ff\">return</span> <span style=\"color: #0000ff; text-decoration-color: #0000ff\">None</span>                                                                   <span style=\"color: #ff0000; text-decoration-color: #ff0000\">│</span>\n",
       "<span style=\"color: #ff0000; text-decoration-color: #ff0000\">│</span>   <span style=\"color: #7f7f7f; text-decoration-color: #7f7f7f\">1726 </span><span style=\"color: #7f7f7f; text-decoration-color: #7f7f7f\">│   │   </span>                                                                                  <span style=\"color: #ff0000; text-decoration-color: #ff0000\">│</span>\n",
       "<span style=\"color: #ff0000; text-decoration-color: #ff0000\">│</span>   <span style=\"color: #7f7f7f; text-decoration-color: #7f7f7f\">1727 </span><span style=\"color: #7f7f7f; text-decoration-color: #7f7f7f\">│   │   </span><span style=\"color: #0000ff; text-decoration-color: #0000ff\">else</span>:  <span style=\"color: #7f7f7f; text-decoration-color: #7f7f7f\"># existing single model endpoint path</span>                                      <span style=\"color: #ff0000; text-decoration-color: #ff0000\">│</span>\n",
       "<span style=\"color: #ff0000; text-decoration-color: #ff0000\">│</span> <span style=\"color: #800000; text-decoration-color: #800000\">❱ </span>1728 <span style=\"color: #7f7f7f; text-decoration-color: #7f7f7f\">│   │   │   </span><span style=\"color: #00ffff; text-decoration-color: #00ffff\">self</span>._create_sagemaker_model(                                                 <span style=\"color: #ff0000; text-decoration-color: #ff0000\">│</span>\n",
       "<span style=\"color: #ff0000; text-decoration-color: #ff0000\">│</span>   <span style=\"color: #7f7f7f; text-decoration-color: #7f7f7f\">1729 </span><span style=\"color: #7f7f7f; text-decoration-color: #7f7f7f\">│   │   │   │   </span>instance_type=instance_type,                                              <span style=\"color: #ff0000; text-decoration-color: #ff0000\">│</span>\n",
       "<span style=\"color: #ff0000; text-decoration-color: #ff0000\">│</span>   <span style=\"color: #7f7f7f; text-decoration-color: #7f7f7f\">1730 </span><span style=\"color: #7f7f7f; text-decoration-color: #7f7f7f\">│   │   │   │   </span>accelerator_type=accelerator_type,                                        <span style=\"color: #ff0000; text-decoration-color: #ff0000\">│</span>\n",
       "<span style=\"color: #ff0000; text-decoration-color: #ff0000\">│</span>   <span style=\"color: #7f7f7f; text-decoration-color: #7f7f7f\">1731 </span><span style=\"color: #7f7f7f; text-decoration-color: #7f7f7f\">│   │   │   │   </span>tags=tags,                                                                <span style=\"color: #ff0000; text-decoration-color: #ff0000\">│</span>\n",
       "<span style=\"color: #ff0000; text-decoration-color: #ff0000\">│</span>                                                                                                  <span style=\"color: #ff0000; text-decoration-color: #ff0000\">│</span>\n",
       "<span style=\"color: #ff0000; text-decoration-color: #ff0000\">│</span> <span style=\"color: #bfbf7f; text-decoration-color: #bfbf7f\">/home/ec2-user/anaconda3/envs/python3/lib/python3.10/site-packages/sagemaker/</span><span style=\"color: #808000; text-decoration-color: #808000; font-weight: bold\">model.py</span>:<span style=\"color: #0000ff; text-decoration-color: #0000ff\">985</span> in     <span style=\"color: #ff0000; text-decoration-color: #ff0000\">│</span>\n",
       "<span style=\"color: #ff0000; text-decoration-color: #ff0000\">│</span> <span style=\"color: #00ff00; text-decoration-color: #00ff00\">_create_sagemaker_model</span>                                                                          <span style=\"color: #ff0000; text-decoration-color: #ff0000\">│</span>\n",
       "<span style=\"color: #ff0000; text-decoration-color: #ff0000\">│</span>                                                                                                  <span style=\"color: #ff0000; text-decoration-color: #ff0000\">│</span>\n",
       "<span style=\"color: #ff0000; text-decoration-color: #ff0000\">│</span>   <span style=\"color: #7f7f7f; text-decoration-color: #7f7f7f\"> 982 </span><span style=\"color: #7f7f7f; text-decoration-color: #7f7f7f\">│   │   │   │   </span>enable_network_isolation=<span style=\"color: #00ffff; text-decoration-color: #00ffff\">self</span>._enable_network_isolation,                  <span style=\"color: #ff0000; text-decoration-color: #ff0000\">│</span>\n",
       "<span style=\"color: #ff0000; text-decoration-color: #ff0000\">│</span>   <span style=\"color: #7f7f7f; text-decoration-color: #7f7f7f\"> 983 </span><span style=\"color: #7f7f7f; text-decoration-color: #7f7f7f\">│   │   │   │   </span>tags=format_tags(tags),                                                   <span style=\"color: #ff0000; text-decoration-color: #ff0000\">│</span>\n",
       "<span style=\"color: #ff0000; text-decoration-color: #ff0000\">│</span>   <span style=\"color: #7f7f7f; text-decoration-color: #7f7f7f\"> 984 </span><span style=\"color: #7f7f7f; text-decoration-color: #7f7f7f\">│   │   │   </span>)                                                                             <span style=\"color: #ff0000; text-decoration-color: #ff0000\">│</span>\n",
       "<span style=\"color: #ff0000; text-decoration-color: #ff0000\">│</span> <span style=\"color: #800000; text-decoration-color: #800000\">❱ </span> 985 <span style=\"color: #7f7f7f; text-decoration-color: #7f7f7f\">│   │   │   </span><span style=\"color: #00ffff; text-decoration-color: #00ffff\">self</span>.sagemaker_session.create_model(**create_model_args)                      <span style=\"color: #ff0000; text-decoration-color: #ff0000\">│</span>\n",
       "<span style=\"color: #ff0000; text-decoration-color: #ff0000\">│</span>   <span style=\"color: #7f7f7f; text-decoration-color: #7f7f7f\"> 986 </span><span style=\"color: #7f7f7f; text-decoration-color: #7f7f7f\">│   </span>                                                                                      <span style=\"color: #ff0000; text-decoration-color: #ff0000\">│</span>\n",
       "<span style=\"color: #ff0000; text-decoration-color: #ff0000\">│</span>   <span style=\"color: #7f7f7f; text-decoration-color: #7f7f7f\"> 987 </span><span style=\"color: #7f7f7f; text-decoration-color: #7f7f7f\">│   </span><span style=\"color: #0000ff; text-decoration-color: #0000ff\">def</span><span style=\"color: #808080; text-decoration-color: #808080\"> </span><span style=\"color: #00ff00; text-decoration-color: #00ff00\">_get_model_uri</span>(<span style=\"color: #00ffff; text-decoration-color: #00ffff\">self</span>):                                                             <span style=\"color: #ff0000; text-decoration-color: #ff0000\">│</span>\n",
       "<span style=\"color: #ff0000; text-decoration-color: #ff0000\">│</span>   <span style=\"color: #7f7f7f; text-decoration-color: #7f7f7f\"> 988 </span><span style=\"color: #7f7f7f; text-decoration-color: #7f7f7f\">│   │   </span>model_uri = <span style=\"color: #0000ff; text-decoration-color: #0000ff\">None</span>                                                                  <span style=\"color: #ff0000; text-decoration-color: #ff0000\">│</span>\n",
       "<span style=\"color: #ff0000; text-decoration-color: #ff0000\">│</span>                                                                                                  <span style=\"color: #ff0000; text-decoration-color: #ff0000\">│</span>\n",
       "<span style=\"color: #ff0000; text-decoration-color: #ff0000\">│</span> <span style=\"color: #bfbf7f; text-decoration-color: #bfbf7f\">/home/ec2-user/anaconda3/envs/python3/lib/python3.10/site-packages/sagemaker/</span><span style=\"color: #808000; text-decoration-color: #808000; font-weight: bold\">session.py</span>:<span style=\"color: #0000ff; text-decoration-color: #0000ff\">4109</span> in  <span style=\"color: #ff0000; text-decoration-color: #ff0000\">│</span>\n",
       "<span style=\"color: #ff0000; text-decoration-color: #ff0000\">│</span> <span style=\"color: #00ff00; text-decoration-color: #00ff00\">create_model</span>                                                                                     <span style=\"color: #ff0000; text-decoration-color: #ff0000\">│</span>\n",
       "<span style=\"color: #ff0000; text-decoration-color: #ff0000\">│</span>                                                                                                  <span style=\"color: #ff0000; text-decoration-color: #ff0000\">│</span>\n",
       "<span style=\"color: #ff0000; text-decoration-color: #ff0000\">│</span>   <span style=\"color: #7f7f7f; text-decoration-color: #7f7f7f\">4106 </span><span style=\"color: #7f7f7f; text-decoration-color: #7f7f7f\">│   │   │   │   </span><span style=\"color: #0000ff; text-decoration-color: #0000ff\">else</span>:                                                                     <span style=\"color: #ff0000; text-decoration-color: #ff0000\">│</span>\n",
       "<span style=\"color: #ff0000; text-decoration-color: #ff0000\">│</span>   <span style=\"color: #7f7f7f; text-decoration-color: #7f7f7f\">4107 </span><span style=\"color: #7f7f7f; text-decoration-color: #7f7f7f\">│   │   │   │   │   </span><span style=\"color: #0000ff; text-decoration-color: #0000ff\">raise</span>                                                                 <span style=\"color: #ff0000; text-decoration-color: #ff0000\">│</span>\n",
       "<span style=\"color: #ff0000; text-decoration-color: #ff0000\">│</span>   <span style=\"color: #7f7f7f; text-decoration-color: #7f7f7f\">4108 </span><span style=\"color: #7f7f7f; text-decoration-color: #7f7f7f\">│   │   </span>                                                                                  <span style=\"color: #ff0000; text-decoration-color: #ff0000\">│</span>\n",
       "<span style=\"color: #ff0000; text-decoration-color: #ff0000\">│</span> <span style=\"color: #800000; text-decoration-color: #800000\">❱ </span>4109 <span style=\"color: #7f7f7f; text-decoration-color: #7f7f7f\">│   │   </span><span style=\"color: #00ffff; text-decoration-color: #00ffff\">self</span>._intercept_create_request(create_model_request, submit, <span style=\"color: #00ffff; text-decoration-color: #00ffff\">self</span>.create_model.<span style=\"color: #ff0000; text-decoration-color: #ff0000\">_</span>  <span style=\"color: #ff0000; text-decoration-color: #ff0000\">│</span>\n",
       "<span style=\"color: #ff0000; text-decoration-color: #ff0000\">│</span>   <span style=\"color: #7f7f7f; text-decoration-color: #7f7f7f\">4110 </span><span style=\"color: #7f7f7f; text-decoration-color: #7f7f7f\">│   │   </span><span style=\"color: #0000ff; text-decoration-color: #0000ff\">return</span> name                                                                       <span style=\"color: #ff0000; text-decoration-color: #ff0000\">│</span>\n",
       "<span style=\"color: #ff0000; text-decoration-color: #ff0000\">│</span>   <span style=\"color: #7f7f7f; text-decoration-color: #7f7f7f\">4111 </span><span style=\"color: #7f7f7f; text-decoration-color: #7f7f7f\">│   </span>                                                                                      <span style=\"color: #ff0000; text-decoration-color: #ff0000\">│</span>\n",
       "<span style=\"color: #ff0000; text-decoration-color: #ff0000\">│</span>   <span style=\"color: #7f7f7f; text-decoration-color: #7f7f7f\">4112 </span><span style=\"color: #7f7f7f; text-decoration-color: #7f7f7f\">│   </span><span style=\"color: #0000ff; text-decoration-color: #0000ff\">def</span><span style=\"color: #808080; text-decoration-color: #808080\"> </span><span style=\"color: #00ff00; text-decoration-color: #00ff00\">create_model_from_job</span>(                                                            <span style=\"color: #ff0000; text-decoration-color: #ff0000\">│</span>\n",
       "<span style=\"color: #ff0000; text-decoration-color: #ff0000\">│</span>                                                                                                  <span style=\"color: #ff0000; text-decoration-color: #ff0000\">│</span>\n",
       "<span style=\"color: #ff0000; text-decoration-color: #ff0000\">│</span> <span style=\"color: #bfbf7f; text-decoration-color: #bfbf7f\">/home/ec2-user/anaconda3/envs/python3/lib/python3.10/site-packages/sagemaker/</span><span style=\"color: #808000; text-decoration-color: #808000; font-weight: bold\">session.py</span>:<span style=\"color: #0000ff; text-decoration-color: #0000ff\">6678</span> in  <span style=\"color: #ff0000; text-decoration-color: #ff0000\">│</span>\n",
       "<span style=\"color: #ff0000; text-decoration-color: #ff0000\">│</span> <span style=\"color: #00ff00; text-decoration-color: #00ff00\">_intercept_create_request</span>                                                                        <span style=\"color: #ff0000; text-decoration-color: #ff0000\">│</span>\n",
       "<span style=\"color: #ff0000; text-decoration-color: #ff0000\">│</span>                                                                                                  <span style=\"color: #ff0000; text-decoration-color: #ff0000\">│</span>\n",
       "<span style=\"color: #ff0000; text-decoration-color: #ff0000\">│</span>   <span style=\"color: #7f7f7f; text-decoration-color: #7f7f7f\">6675 </span><span style=\"color: #bfbf7f; text-decoration-color: #bfbf7f\">│   │   │   </span><span style=\"color: #808000; text-decoration-color: #808000\">create (functor): a functor calls the sagemaker client create method</span>          <span style=\"color: #ff0000; text-decoration-color: #ff0000\">│</span>\n",
       "<span style=\"color: #ff0000; text-decoration-color: #ff0000\">│</span>   <span style=\"color: #7f7f7f; text-decoration-color: #7f7f7f\">6676 </span><span style=\"color: #bfbf7f; text-decoration-color: #bfbf7f\">│   │   │   </span><span style=\"color: #808000; text-decoration-color: #808000\">func_name (str): the name of the function needed intercepting</span>                 <span style=\"color: #ff0000; text-decoration-color: #ff0000\">│</span>\n",
       "<span style=\"color: #ff0000; text-decoration-color: #ff0000\">│</span>   <span style=\"color: #7f7f7f; text-decoration-color: #7f7f7f\">6677 </span><span style=\"color: #bfbf7f; text-decoration-color: #bfbf7f\">│   │   </span><span style=\"color: #808000; text-decoration-color: #808000\">\"\"\"</span>                                                                               <span style=\"color: #ff0000; text-decoration-color: #ff0000\">│</span>\n",
       "<span style=\"color: #ff0000; text-decoration-color: #ff0000\">│</span> <span style=\"color: #800000; text-decoration-color: #800000\">❱ </span>6678 <span style=\"color: #7f7f7f; text-decoration-color: #7f7f7f\">│   │   </span><span style=\"color: #0000ff; text-decoration-color: #0000ff\">return</span> create(request)                                                            <span style=\"color: #ff0000; text-decoration-color: #ff0000\">│</span>\n",
       "<span style=\"color: #ff0000; text-decoration-color: #ff0000\">│</span>   <span style=\"color: #7f7f7f; text-decoration-color: #7f7f7f\">6679 </span><span style=\"color: #7f7f7f; text-decoration-color: #7f7f7f\">│   </span>                                                                                      <span style=\"color: #ff0000; text-decoration-color: #ff0000\">│</span>\n",
       "<span style=\"color: #ff0000; text-decoration-color: #ff0000\">│</span>   <span style=\"color: #7f7f7f; text-decoration-color: #7f7f7f\">6680 </span><span style=\"color: #7f7f7f; text-decoration-color: #7f7f7f\">│   </span><span style=\"color: #0000ff; text-decoration-color: #0000ff\">def</span><span style=\"color: #808080; text-decoration-color: #808080\"> </span><span style=\"color: #00ff00; text-decoration-color: #00ff00\">_create_inference_recommendations_job_request</span>(                                    <span style=\"color: #ff0000; text-decoration-color: #ff0000\">│</span>\n",
       "<span style=\"color: #ff0000; text-decoration-color: #ff0000\">│</span>   <span style=\"color: #7f7f7f; text-decoration-color: #7f7f7f\">6681 </span><span style=\"color: #7f7f7f; text-decoration-color: #7f7f7f\">│   │   </span><span style=\"color: #00ffff; text-decoration-color: #00ffff\">self</span>,                                                                             <span style=\"color: #ff0000; text-decoration-color: #ff0000\">│</span>\n",
       "<span style=\"color: #ff0000; text-decoration-color: #ff0000\">│</span>                                                                                                  <span style=\"color: #ff0000; text-decoration-color: #ff0000\">│</span>\n",
       "<span style=\"color: #ff0000; text-decoration-color: #ff0000\">│</span> <span style=\"color: #bfbf7f; text-decoration-color: #bfbf7f\">/home/ec2-user/anaconda3/envs/python3/lib/python3.10/site-packages/sagemaker/</span><span style=\"color: #808000; text-decoration-color: #808000; font-weight: bold\">session.py</span>:<span style=\"color: #0000ff; text-decoration-color: #0000ff\">4097</span> in  <span style=\"color: #ff0000; text-decoration-color: #ff0000\">│</span>\n",
       "<span style=\"color: #ff0000; text-decoration-color: #ff0000\">│</span> <span style=\"color: #00ff00; text-decoration-color: #00ff00\">submit</span>                                                                                           <span style=\"color: #ff0000; text-decoration-color: #ff0000\">│</span>\n",
       "<span style=\"color: #ff0000; text-decoration-color: #ff0000\">│</span>                                                                                                  <span style=\"color: #ff0000; text-decoration-color: #ff0000\">│</span>\n",
       "<span style=\"color: #ff0000; text-decoration-color: #ff0000\">│</span>   <span style=\"color: #7f7f7f; text-decoration-color: #7f7f7f\">4094 </span><span style=\"color: #7f7f7f; text-decoration-color: #7f7f7f\">│   │   │   </span>logger.info(<span style=\"color: #808000; text-decoration-color: #808000\">\"Creating model with name: %s\"</span>, name)                             <span style=\"color: #ff0000; text-decoration-color: #ff0000\">│</span>\n",
       "<span style=\"color: #ff0000; text-decoration-color: #ff0000\">│</span>   <span style=\"color: #7f7f7f; text-decoration-color: #7f7f7f\">4095 </span><span style=\"color: #7f7f7f; text-decoration-color: #7f7f7f\">│   │   │   </span>logger.debug(<span style=\"color: #808000; text-decoration-color: #808000\">\"CreateModel request: %s\"</span>, json.dumps(request, indent=<span style=\"color: #0000ff; text-decoration-color: #0000ff\">4</span>))        <span style=\"color: #ff0000; text-decoration-color: #ff0000\">│</span>\n",
       "<span style=\"color: #ff0000; text-decoration-color: #ff0000\">│</span>   <span style=\"color: #7f7f7f; text-decoration-color: #7f7f7f\">4096 </span><span style=\"color: #7f7f7f; text-decoration-color: #7f7f7f\">│   │   │   </span><span style=\"color: #0000ff; text-decoration-color: #0000ff\">try</span>:                                                                          <span style=\"color: #ff0000; text-decoration-color: #ff0000\">│</span>\n",
       "<span style=\"color: #ff0000; text-decoration-color: #ff0000\">│</span> <span style=\"color: #800000; text-decoration-color: #800000\">❱ </span>4097 <span style=\"color: #7f7f7f; text-decoration-color: #7f7f7f\">│   │   │   │   </span><span style=\"color: #00ffff; text-decoration-color: #00ffff\">self</span>.sagemaker_client.create_model(**request)                             <span style=\"color: #ff0000; text-decoration-color: #ff0000\">│</span>\n",
       "<span style=\"color: #ff0000; text-decoration-color: #ff0000\">│</span>   <span style=\"color: #7f7f7f; text-decoration-color: #7f7f7f\">4098 </span><span style=\"color: #7f7f7f; text-decoration-color: #7f7f7f\">│   │   │   </span><span style=\"color: #0000ff; text-decoration-color: #0000ff\">except</span> ClientError <span style=\"color: #0000ff; text-decoration-color: #0000ff\">as</span> e:                                                      <span style=\"color: #ff0000; text-decoration-color: #ff0000\">│</span>\n",
       "<span style=\"color: #ff0000; text-decoration-color: #ff0000\">│</span>   <span style=\"color: #7f7f7f; text-decoration-color: #7f7f7f\">4099 </span><span style=\"color: #7f7f7f; text-decoration-color: #7f7f7f\">│   │   │   │   </span>error_code = e.response[<span style=\"color: #808000; text-decoration-color: #808000\">\"Error\"</span>][<span style=\"color: #808000; text-decoration-color: #808000\">\"Code\"</span>]                                  <span style=\"color: #ff0000; text-decoration-color: #ff0000\">│</span>\n",
       "<span style=\"color: #ff0000; text-decoration-color: #ff0000\">│</span>   <span style=\"color: #7f7f7f; text-decoration-color: #7f7f7f\">4100 </span><span style=\"color: #7f7f7f; text-decoration-color: #7f7f7f\">│   │   │   │   </span>message = e.response[<span style=\"color: #808000; text-decoration-color: #808000\">\"Error\"</span>][<span style=\"color: #808000; text-decoration-color: #808000\">\"Message\"</span>]                                  <span style=\"color: #ff0000; text-decoration-color: #ff0000\">│</span>\n",
       "<span style=\"color: #ff0000; text-decoration-color: #ff0000\">│</span>                                                                                                  <span style=\"color: #ff0000; text-decoration-color: #ff0000\">│</span>\n",
       "<span style=\"color: #ff0000; text-decoration-color: #ff0000\">│</span> <span style=\"color: #bfbf7f; text-decoration-color: #bfbf7f\">/home/ec2-user/anaconda3/envs/python3/lib/python3.10/site-packages/botocore/</span><span style=\"color: #808000; text-decoration-color: #808000; font-weight: bold\">client.py</span>:<span style=\"color: #0000ff; text-decoration-color: #0000ff\">569</span> in     <span style=\"color: #ff0000; text-decoration-color: #ff0000\">│</span>\n",
       "<span style=\"color: #ff0000; text-decoration-color: #ff0000\">│</span> <span style=\"color: #00ff00; text-decoration-color: #00ff00\">_api_call</span>                                                                                        <span style=\"color: #ff0000; text-decoration-color: #ff0000\">│</span>\n",
       "<span style=\"color: #ff0000; text-decoration-color: #ff0000\">│</span>                                                                                                  <span style=\"color: #ff0000; text-decoration-color: #ff0000\">│</span>\n",
       "<span style=\"color: #ff0000; text-decoration-color: #ff0000\">│</span>   <span style=\"color: #7f7f7f; text-decoration-color: #7f7f7f\"> 566 </span><span style=\"color: #7f7f7f; text-decoration-color: #7f7f7f\">│   │   │   │   │   </span><span style=\"color: #808000; text-decoration-color: #808000\">f\"{</span>py_operation_name<span style=\"color: #808000; text-decoration-color: #808000\">}() only accepts keyword arguments.\"</span>              <span style=\"color: #ff0000; text-decoration-color: #ff0000\">│</span>\n",
       "<span style=\"color: #ff0000; text-decoration-color: #ff0000\">│</span>   <span style=\"color: #7f7f7f; text-decoration-color: #7f7f7f\"> 567 </span><span style=\"color: #7f7f7f; text-decoration-color: #7f7f7f\">│   │   │   │   </span>)                                                                         <span style=\"color: #ff0000; text-decoration-color: #ff0000\">│</span>\n",
       "<span style=\"color: #ff0000; text-decoration-color: #ff0000\">│</span>   <span style=\"color: #7f7f7f; text-decoration-color: #7f7f7f\"> 568 </span><span style=\"color: #7f7f7f; text-decoration-color: #7f7f7f\">│   │   │   </span><span style=\"color: #7f7f7f; text-decoration-color: #7f7f7f\"># The \"self\" in this scope is referring to the BaseClient.</span>                    <span style=\"color: #ff0000; text-decoration-color: #ff0000\">│</span>\n",
       "<span style=\"color: #ff0000; text-decoration-color: #ff0000\">│</span> <span style=\"color: #800000; text-decoration-color: #800000\">❱ </span> 569 <span style=\"color: #7f7f7f; text-decoration-color: #7f7f7f\">│   │   │   </span><span style=\"color: #0000ff; text-decoration-color: #0000ff\">return</span> <span style=\"color: #00ffff; text-decoration-color: #00ffff\">self</span>._make_api_call(operation_name, kwargs)                            <span style=\"color: #ff0000; text-decoration-color: #ff0000\">│</span>\n",
       "<span style=\"color: #ff0000; text-decoration-color: #ff0000\">│</span>   <span style=\"color: #7f7f7f; text-decoration-color: #7f7f7f\"> 570 </span><span style=\"color: #7f7f7f; text-decoration-color: #7f7f7f\">│   │   </span>                                                                                  <span style=\"color: #ff0000; text-decoration-color: #ff0000\">│</span>\n",
       "<span style=\"color: #ff0000; text-decoration-color: #ff0000\">│</span>   <span style=\"color: #7f7f7f; text-decoration-color: #7f7f7f\"> 571 </span><span style=\"color: #7f7f7f; text-decoration-color: #7f7f7f\">│   │   </span>_api_call.<span style=\"color: #ff0000; text-decoration-color: #ff0000\">__name__</span> = <span style=\"color: #00ffff; text-decoration-color: #00ffff\">str</span>(py_operation_name)                                       <span style=\"color: #ff0000; text-decoration-color: #ff0000\">│</span>\n",
       "<span style=\"color: #ff0000; text-decoration-color: #ff0000\">│</span>   <span style=\"color: #7f7f7f; text-decoration-color: #7f7f7f\"> 572 </span>                                                                                          <span style=\"color: #ff0000; text-decoration-color: #ff0000\">│</span>\n",
       "<span style=\"color: #ff0000; text-decoration-color: #ff0000\">│</span>                                                                                                  <span style=\"color: #ff0000; text-decoration-color: #ff0000\">│</span>\n",
       "<span style=\"color: #ff0000; text-decoration-color: #ff0000\">│</span> <span style=\"color: #bfbf7f; text-decoration-color: #bfbf7f\">/home/ec2-user/anaconda3/envs/python3/lib/python3.10/site-packages/botocore/</span><span style=\"color: #808000; text-decoration-color: #808000; font-weight: bold\">client.py</span>:<span style=\"color: #0000ff; text-decoration-color: #0000ff\">1023</span> in    <span style=\"color: #ff0000; text-decoration-color: #ff0000\">│</span>\n",
       "<span style=\"color: #ff0000; text-decoration-color: #ff0000\">│</span> <span style=\"color: #00ff00; text-decoration-color: #00ff00\">_make_api_call</span>                                                                                   <span style=\"color: #ff0000; text-decoration-color: #ff0000\">│</span>\n",
       "<span style=\"color: #ff0000; text-decoration-color: #ff0000\">│</span>                                                                                                  <span style=\"color: #ff0000; text-decoration-color: #ff0000\">│</span>\n",
       "<span style=\"color: #ff0000; text-decoration-color: #ff0000\">│</span>   <span style=\"color: #7f7f7f; text-decoration-color: #7f7f7f\">1020 </span><span style=\"color: #7f7f7f; text-decoration-color: #7f7f7f\">│   │   │   │   </span><span style=\"color: #808000; text-decoration-color: #808000\">\"Code\"</span>                                                                    <span style=\"color: #ff0000; text-decoration-color: #ff0000\">│</span>\n",
       "<span style=\"color: #ff0000; text-decoration-color: #ff0000\">│</span>   <span style=\"color: #7f7f7f; text-decoration-color: #7f7f7f\">1021 </span><span style=\"color: #7f7f7f; text-decoration-color: #7f7f7f\">│   │   │   </span>)                                                                             <span style=\"color: #ff0000; text-decoration-color: #ff0000\">│</span>\n",
       "<span style=\"color: #ff0000; text-decoration-color: #ff0000\">│</span>   <span style=\"color: #7f7f7f; text-decoration-color: #7f7f7f\">1022 </span><span style=\"color: #7f7f7f; text-decoration-color: #7f7f7f\">│   │   │   </span>error_class = <span style=\"color: #00ffff; text-decoration-color: #00ffff\">self</span>.exceptions.from_code(error_code)                           <span style=\"color: #ff0000; text-decoration-color: #ff0000\">│</span>\n",
       "<span style=\"color: #ff0000; text-decoration-color: #ff0000\">│</span> <span style=\"color: #800000; text-decoration-color: #800000\">❱ </span>1023 <span style=\"color: #7f7f7f; text-decoration-color: #7f7f7f\">│   │   │   </span><span style=\"color: #0000ff; text-decoration-color: #0000ff\">raise</span> error_class(parsed_response, operation_name)                            <span style=\"color: #ff0000; text-decoration-color: #ff0000\">│</span>\n",
       "<span style=\"color: #ff0000; text-decoration-color: #ff0000\">│</span>   <span style=\"color: #7f7f7f; text-decoration-color: #7f7f7f\">1024 </span><span style=\"color: #7f7f7f; text-decoration-color: #7f7f7f\">│   │   </span><span style=\"color: #0000ff; text-decoration-color: #0000ff\">else</span>:                                                                             <span style=\"color: #ff0000; text-decoration-color: #ff0000\">│</span>\n",
       "<span style=\"color: #ff0000; text-decoration-color: #ff0000\">│</span>   <span style=\"color: #7f7f7f; text-decoration-color: #7f7f7f\">1025 </span><span style=\"color: #7f7f7f; text-decoration-color: #7f7f7f\">│   │   │   </span><span style=\"color: #0000ff; text-decoration-color: #0000ff\">return</span> parsed_response                                                        <span style=\"color: #ff0000; text-decoration-color: #ff0000\">│</span>\n",
       "<span style=\"color: #ff0000; text-decoration-color: #ff0000\">│</span>   <span style=\"color: #7f7f7f; text-decoration-color: #7f7f7f\">1026 </span>                                                                                          <span style=\"color: #ff0000; text-decoration-color: #ff0000\">│</span>\n",
       "<span style=\"color: #ff0000; text-decoration-color: #ff0000\">╰──────────────────────────────────────────────────────────────────────────────────────────────────╯</span>\n",
       "<span style=\"color: #ff0000; text-decoration-color: #ff0000; font-weight: bold\">ClientError: </span>An error occurred <span style=\"font-weight: bold\">(</span>ValidationException<span style=\"font-weight: bold\">)</span> when calling the CreateModel operation: The repository of your\n",
       "image <span style=\"color: #008080; text-decoration-color: #008080; font-weight: bold\">683313688378.</span>dkr.ecr.us-east-<span style=\"color: #008080; text-decoration-color: #008080; font-weight: bold\">1.</span>amazonaws.com/lightgbm:latest does not grant ecr:GetDownloadUrlForLayer, \n",
       "ecr:BatchGetImage, ecr:BatchCheckLayerAvailability permission to sagemaker.amazonaws.com service principal.\n",
       "</pre>\n"
      ],
      "text/plain": [
       "\u001b[38;2;255;0;0m╭─\u001b[0m\u001b[38;2;255;0;0m──────────────────────────────\u001b[0m\u001b[38;2;255;0;0m \u001b[0m\u001b[1;38;2;255;0;0mTraceback \u001b[0m\u001b[1;2;38;2;255;0;0m(most recent call last)\u001b[0m\u001b[38;2;255;0;0m \u001b[0m\u001b[38;2;255;0;0m───────────────────────────────\u001b[0m\u001b[38;2;255;0;0m─╮\u001b[0m\n",
       "\u001b[38;2;255;0;0m│\u001b[0m in \u001b[92m<module>\u001b[0m:\u001b[94m13\u001b[0m                                                                                   \u001b[38;2;255;0;0m│\u001b[0m\n",
       "\u001b[38;2;255;0;0m│\u001b[0m                                                                                                  \u001b[38;2;255;0;0m│\u001b[0m\n",
       "\u001b[38;2;255;0;0m│\u001b[0m   \u001b[2m10 \u001b[0m)                                                                                           \u001b[38;2;255;0;0m│\u001b[0m\n",
       "\u001b[38;2;255;0;0m│\u001b[0m   \u001b[2m11 \u001b[0m                                                                                            \u001b[38;2;255;0;0m│\u001b[0m\n",
       "\u001b[38;2;255;0;0m│\u001b[0m   \u001b[2m12 \u001b[0m\u001b[2m# Deploy endpoint\u001b[0m                                                                           \u001b[38;2;255;0;0m│\u001b[0m\n",
       "\u001b[38;2;255;0;0m│\u001b[0m \u001b[31m❱ \u001b[0m13 predictor = lgb_model.deploy(initial_instance_count=\u001b[94m1\u001b[0m, instance_type=\u001b[33m\"\u001b[0m\u001b[33mml.m5.large\u001b[0m\u001b[33m\"\u001b[0m)         \u001b[38;2;255;0;0m│\u001b[0m\n",
       "\u001b[38;2;255;0;0m│\u001b[0m   \u001b[2m14 \u001b[0m                                                                                            \u001b[38;2;255;0;0m│\u001b[0m\n",
       "\u001b[38;2;255;0;0m│\u001b[0m   \u001b[2m15 \u001b[0m\u001b[96mprint\u001b[0m(\u001b[33m\"\u001b[0m\u001b[33mModel deployed successfully!\u001b[0m\u001b[33m\"\u001b[0m)                                                       \u001b[38;2;255;0;0m│\u001b[0m\n",
       "\u001b[38;2;255;0;0m│\u001b[0m   \u001b[2m16 \u001b[0m                                                                                            \u001b[38;2;255;0;0m│\u001b[0m\n",
       "\u001b[38;2;255;0;0m│\u001b[0m                                                                                                  \u001b[38;2;255;0;0m│\u001b[0m\n",
       "\u001b[38;2;255;0;0m│\u001b[0m \u001b[2;33m/home/ec2-user/anaconda3/envs/python3/lib/python3.10/site-packages/sagemaker/\u001b[0m\u001b[1;33mmodel.py\u001b[0m:\u001b[94m1728\u001b[0m in    \u001b[38;2;255;0;0m│\u001b[0m\n",
       "\u001b[38;2;255;0;0m│\u001b[0m \u001b[92mdeploy\u001b[0m                                                                                           \u001b[38;2;255;0;0m│\u001b[0m\n",
       "\u001b[38;2;255;0;0m│\u001b[0m                                                                                                  \u001b[38;2;255;0;0m│\u001b[0m\n",
       "\u001b[38;2;255;0;0m│\u001b[0m   \u001b[2m1725 \u001b[0m\u001b[2m│   │   │   \u001b[0m\u001b[94mreturn\u001b[0m \u001b[94mNone\u001b[0m                                                                   \u001b[38;2;255;0;0m│\u001b[0m\n",
       "\u001b[38;2;255;0;0m│\u001b[0m   \u001b[2m1726 \u001b[0m\u001b[2m│   │   \u001b[0m                                                                                  \u001b[38;2;255;0;0m│\u001b[0m\n",
       "\u001b[38;2;255;0;0m│\u001b[0m   \u001b[2m1727 \u001b[0m\u001b[2m│   │   \u001b[0m\u001b[94melse\u001b[0m:  \u001b[2m# existing single model endpoint path\u001b[0m                                      \u001b[38;2;255;0;0m│\u001b[0m\n",
       "\u001b[38;2;255;0;0m│\u001b[0m \u001b[31m❱ \u001b[0m1728 \u001b[2m│   │   │   \u001b[0m\u001b[96mself\u001b[0m._create_sagemaker_model(                                                 \u001b[38;2;255;0;0m│\u001b[0m\n",
       "\u001b[38;2;255;0;0m│\u001b[0m   \u001b[2m1729 \u001b[0m\u001b[2m│   │   │   │   \u001b[0minstance_type=instance_type,                                              \u001b[38;2;255;0;0m│\u001b[0m\n",
       "\u001b[38;2;255;0;0m│\u001b[0m   \u001b[2m1730 \u001b[0m\u001b[2m│   │   │   │   \u001b[0maccelerator_type=accelerator_type,                                        \u001b[38;2;255;0;0m│\u001b[0m\n",
       "\u001b[38;2;255;0;0m│\u001b[0m   \u001b[2m1731 \u001b[0m\u001b[2m│   │   │   │   \u001b[0mtags=tags,                                                                \u001b[38;2;255;0;0m│\u001b[0m\n",
       "\u001b[38;2;255;0;0m│\u001b[0m                                                                                                  \u001b[38;2;255;0;0m│\u001b[0m\n",
       "\u001b[38;2;255;0;0m│\u001b[0m \u001b[2;33m/home/ec2-user/anaconda3/envs/python3/lib/python3.10/site-packages/sagemaker/\u001b[0m\u001b[1;33mmodel.py\u001b[0m:\u001b[94m985\u001b[0m in     \u001b[38;2;255;0;0m│\u001b[0m\n",
       "\u001b[38;2;255;0;0m│\u001b[0m \u001b[92m_create_sagemaker_model\u001b[0m                                                                          \u001b[38;2;255;0;0m│\u001b[0m\n",
       "\u001b[38;2;255;0;0m│\u001b[0m                                                                                                  \u001b[38;2;255;0;0m│\u001b[0m\n",
       "\u001b[38;2;255;0;0m│\u001b[0m   \u001b[2m 982 \u001b[0m\u001b[2m│   │   │   │   \u001b[0menable_network_isolation=\u001b[96mself\u001b[0m._enable_network_isolation,                  \u001b[38;2;255;0;0m│\u001b[0m\n",
       "\u001b[38;2;255;0;0m│\u001b[0m   \u001b[2m 983 \u001b[0m\u001b[2m│   │   │   │   \u001b[0mtags=format_tags(tags),                                                   \u001b[38;2;255;0;0m│\u001b[0m\n",
       "\u001b[38;2;255;0;0m│\u001b[0m   \u001b[2m 984 \u001b[0m\u001b[2m│   │   │   \u001b[0m)                                                                             \u001b[38;2;255;0;0m│\u001b[0m\n",
       "\u001b[38;2;255;0;0m│\u001b[0m \u001b[31m❱ \u001b[0m 985 \u001b[2m│   │   │   \u001b[0m\u001b[96mself\u001b[0m.sagemaker_session.create_model(**create_model_args)                      \u001b[38;2;255;0;0m│\u001b[0m\n",
       "\u001b[38;2;255;0;0m│\u001b[0m   \u001b[2m 986 \u001b[0m\u001b[2m│   \u001b[0m                                                                                      \u001b[38;2;255;0;0m│\u001b[0m\n",
       "\u001b[38;2;255;0;0m│\u001b[0m   \u001b[2m 987 \u001b[0m\u001b[2m│   \u001b[0m\u001b[94mdef\u001b[0m\u001b[90m \u001b[0m\u001b[92m_get_model_uri\u001b[0m(\u001b[96mself\u001b[0m):                                                             \u001b[38;2;255;0;0m│\u001b[0m\n",
       "\u001b[38;2;255;0;0m│\u001b[0m   \u001b[2m 988 \u001b[0m\u001b[2m│   │   \u001b[0mmodel_uri = \u001b[94mNone\u001b[0m                                                                  \u001b[38;2;255;0;0m│\u001b[0m\n",
       "\u001b[38;2;255;0;0m│\u001b[0m                                                                                                  \u001b[38;2;255;0;0m│\u001b[0m\n",
       "\u001b[38;2;255;0;0m│\u001b[0m \u001b[2;33m/home/ec2-user/anaconda3/envs/python3/lib/python3.10/site-packages/sagemaker/\u001b[0m\u001b[1;33msession.py\u001b[0m:\u001b[94m4109\u001b[0m in  \u001b[38;2;255;0;0m│\u001b[0m\n",
       "\u001b[38;2;255;0;0m│\u001b[0m \u001b[92mcreate_model\u001b[0m                                                                                     \u001b[38;2;255;0;0m│\u001b[0m\n",
       "\u001b[38;2;255;0;0m│\u001b[0m                                                                                                  \u001b[38;2;255;0;0m│\u001b[0m\n",
       "\u001b[38;2;255;0;0m│\u001b[0m   \u001b[2m4106 \u001b[0m\u001b[2m│   │   │   │   \u001b[0m\u001b[94melse\u001b[0m:                                                                     \u001b[38;2;255;0;0m│\u001b[0m\n",
       "\u001b[38;2;255;0;0m│\u001b[0m   \u001b[2m4107 \u001b[0m\u001b[2m│   │   │   │   │   \u001b[0m\u001b[94mraise\u001b[0m                                                                 \u001b[38;2;255;0;0m│\u001b[0m\n",
       "\u001b[38;2;255;0;0m│\u001b[0m   \u001b[2m4108 \u001b[0m\u001b[2m│   │   \u001b[0m                                                                                  \u001b[38;2;255;0;0m│\u001b[0m\n",
       "\u001b[38;2;255;0;0m│\u001b[0m \u001b[31m❱ \u001b[0m4109 \u001b[2m│   │   \u001b[0m\u001b[96mself\u001b[0m._intercept_create_request(create_model_request, submit, \u001b[96mself\u001b[0m.create_model.\u001b[91m_\u001b[0m  \u001b[38;2;255;0;0m│\u001b[0m\n",
       "\u001b[38;2;255;0;0m│\u001b[0m   \u001b[2m4110 \u001b[0m\u001b[2m│   │   \u001b[0m\u001b[94mreturn\u001b[0m name                                                                       \u001b[38;2;255;0;0m│\u001b[0m\n",
       "\u001b[38;2;255;0;0m│\u001b[0m   \u001b[2m4111 \u001b[0m\u001b[2m│   \u001b[0m                                                                                      \u001b[38;2;255;0;0m│\u001b[0m\n",
       "\u001b[38;2;255;0;0m│\u001b[0m   \u001b[2m4112 \u001b[0m\u001b[2m│   \u001b[0m\u001b[94mdef\u001b[0m\u001b[90m \u001b[0m\u001b[92mcreate_model_from_job\u001b[0m(                                                            \u001b[38;2;255;0;0m│\u001b[0m\n",
       "\u001b[38;2;255;0;0m│\u001b[0m                                                                                                  \u001b[38;2;255;0;0m│\u001b[0m\n",
       "\u001b[38;2;255;0;0m│\u001b[0m \u001b[2;33m/home/ec2-user/anaconda3/envs/python3/lib/python3.10/site-packages/sagemaker/\u001b[0m\u001b[1;33msession.py\u001b[0m:\u001b[94m6678\u001b[0m in  \u001b[38;2;255;0;0m│\u001b[0m\n",
       "\u001b[38;2;255;0;0m│\u001b[0m \u001b[92m_intercept_create_request\u001b[0m                                                                        \u001b[38;2;255;0;0m│\u001b[0m\n",
       "\u001b[38;2;255;0;0m│\u001b[0m                                                                                                  \u001b[38;2;255;0;0m│\u001b[0m\n",
       "\u001b[38;2;255;0;0m│\u001b[0m   \u001b[2m6675 \u001b[0m\u001b[2;33m│   │   │   \u001b[0m\u001b[33mcreate (functor): a functor calls the sagemaker client create method\u001b[0m          \u001b[38;2;255;0;0m│\u001b[0m\n",
       "\u001b[38;2;255;0;0m│\u001b[0m   \u001b[2m6676 \u001b[0m\u001b[2;33m│   │   │   \u001b[0m\u001b[33mfunc_name (str): the name of the function needed intercepting\u001b[0m                 \u001b[38;2;255;0;0m│\u001b[0m\n",
       "\u001b[38;2;255;0;0m│\u001b[0m   \u001b[2m6677 \u001b[0m\u001b[2;33m│   │   \u001b[0m\u001b[33m\"\"\"\u001b[0m                                                                               \u001b[38;2;255;0;0m│\u001b[0m\n",
       "\u001b[38;2;255;0;0m│\u001b[0m \u001b[31m❱ \u001b[0m6678 \u001b[2m│   │   \u001b[0m\u001b[94mreturn\u001b[0m create(request)                                                            \u001b[38;2;255;0;0m│\u001b[0m\n",
       "\u001b[38;2;255;0;0m│\u001b[0m   \u001b[2m6679 \u001b[0m\u001b[2m│   \u001b[0m                                                                                      \u001b[38;2;255;0;0m│\u001b[0m\n",
       "\u001b[38;2;255;0;0m│\u001b[0m   \u001b[2m6680 \u001b[0m\u001b[2m│   \u001b[0m\u001b[94mdef\u001b[0m\u001b[90m \u001b[0m\u001b[92m_create_inference_recommendations_job_request\u001b[0m(                                    \u001b[38;2;255;0;0m│\u001b[0m\n",
       "\u001b[38;2;255;0;0m│\u001b[0m   \u001b[2m6681 \u001b[0m\u001b[2m│   │   \u001b[0m\u001b[96mself\u001b[0m,                                                                             \u001b[38;2;255;0;0m│\u001b[0m\n",
       "\u001b[38;2;255;0;0m│\u001b[0m                                                                                                  \u001b[38;2;255;0;0m│\u001b[0m\n",
       "\u001b[38;2;255;0;0m│\u001b[0m \u001b[2;33m/home/ec2-user/anaconda3/envs/python3/lib/python3.10/site-packages/sagemaker/\u001b[0m\u001b[1;33msession.py\u001b[0m:\u001b[94m4097\u001b[0m in  \u001b[38;2;255;0;0m│\u001b[0m\n",
       "\u001b[38;2;255;0;0m│\u001b[0m \u001b[92msubmit\u001b[0m                                                                                           \u001b[38;2;255;0;0m│\u001b[0m\n",
       "\u001b[38;2;255;0;0m│\u001b[0m                                                                                                  \u001b[38;2;255;0;0m│\u001b[0m\n",
       "\u001b[38;2;255;0;0m│\u001b[0m   \u001b[2m4094 \u001b[0m\u001b[2m│   │   │   \u001b[0mlogger.info(\u001b[33m\"\u001b[0m\u001b[33mCreating model with name: \u001b[0m\u001b[33m%s\u001b[0m\u001b[33m\"\u001b[0m, name)                             \u001b[38;2;255;0;0m│\u001b[0m\n",
       "\u001b[38;2;255;0;0m│\u001b[0m   \u001b[2m4095 \u001b[0m\u001b[2m│   │   │   \u001b[0mlogger.debug(\u001b[33m\"\u001b[0m\u001b[33mCreateModel request: \u001b[0m\u001b[33m%s\u001b[0m\u001b[33m\"\u001b[0m, json.dumps(request, indent=\u001b[94m4\u001b[0m))        \u001b[38;2;255;0;0m│\u001b[0m\n",
       "\u001b[38;2;255;0;0m│\u001b[0m   \u001b[2m4096 \u001b[0m\u001b[2m│   │   │   \u001b[0m\u001b[94mtry\u001b[0m:                                                                          \u001b[38;2;255;0;0m│\u001b[0m\n",
       "\u001b[38;2;255;0;0m│\u001b[0m \u001b[31m❱ \u001b[0m4097 \u001b[2m│   │   │   │   \u001b[0m\u001b[96mself\u001b[0m.sagemaker_client.create_model(**request)                             \u001b[38;2;255;0;0m│\u001b[0m\n",
       "\u001b[38;2;255;0;0m│\u001b[0m   \u001b[2m4098 \u001b[0m\u001b[2m│   │   │   \u001b[0m\u001b[94mexcept\u001b[0m ClientError \u001b[94mas\u001b[0m e:                                                      \u001b[38;2;255;0;0m│\u001b[0m\n",
       "\u001b[38;2;255;0;0m│\u001b[0m   \u001b[2m4099 \u001b[0m\u001b[2m│   │   │   │   \u001b[0merror_code = e.response[\u001b[33m\"\u001b[0m\u001b[33mError\u001b[0m\u001b[33m\"\u001b[0m][\u001b[33m\"\u001b[0m\u001b[33mCode\u001b[0m\u001b[33m\"\u001b[0m]                                  \u001b[38;2;255;0;0m│\u001b[0m\n",
       "\u001b[38;2;255;0;0m│\u001b[0m   \u001b[2m4100 \u001b[0m\u001b[2m│   │   │   │   \u001b[0mmessage = e.response[\u001b[33m\"\u001b[0m\u001b[33mError\u001b[0m\u001b[33m\"\u001b[0m][\u001b[33m\"\u001b[0m\u001b[33mMessage\u001b[0m\u001b[33m\"\u001b[0m]                                  \u001b[38;2;255;0;0m│\u001b[0m\n",
       "\u001b[38;2;255;0;0m│\u001b[0m                                                                                                  \u001b[38;2;255;0;0m│\u001b[0m\n",
       "\u001b[38;2;255;0;0m│\u001b[0m \u001b[2;33m/home/ec2-user/anaconda3/envs/python3/lib/python3.10/site-packages/botocore/\u001b[0m\u001b[1;33mclient.py\u001b[0m:\u001b[94m569\u001b[0m in     \u001b[38;2;255;0;0m│\u001b[0m\n",
       "\u001b[38;2;255;0;0m│\u001b[0m \u001b[92m_api_call\u001b[0m                                                                                        \u001b[38;2;255;0;0m│\u001b[0m\n",
       "\u001b[38;2;255;0;0m│\u001b[0m                                                                                                  \u001b[38;2;255;0;0m│\u001b[0m\n",
       "\u001b[38;2;255;0;0m│\u001b[0m   \u001b[2m 566 \u001b[0m\u001b[2m│   │   │   │   │   \u001b[0m\u001b[33mf\u001b[0m\u001b[33m\"\u001b[0m\u001b[33m{\u001b[0mpy_operation_name\u001b[33m}\u001b[0m\u001b[33m() only accepts keyword arguments.\u001b[0m\u001b[33m\"\u001b[0m              \u001b[38;2;255;0;0m│\u001b[0m\n",
       "\u001b[38;2;255;0;0m│\u001b[0m   \u001b[2m 567 \u001b[0m\u001b[2m│   │   │   │   \u001b[0m)                                                                         \u001b[38;2;255;0;0m│\u001b[0m\n",
       "\u001b[38;2;255;0;0m│\u001b[0m   \u001b[2m 568 \u001b[0m\u001b[2m│   │   │   \u001b[0m\u001b[2m# The \"self\" in this scope is referring to the BaseClient.\u001b[0m                    \u001b[38;2;255;0;0m│\u001b[0m\n",
       "\u001b[38;2;255;0;0m│\u001b[0m \u001b[31m❱ \u001b[0m 569 \u001b[2m│   │   │   \u001b[0m\u001b[94mreturn\u001b[0m \u001b[96mself\u001b[0m._make_api_call(operation_name, kwargs)                            \u001b[38;2;255;0;0m│\u001b[0m\n",
       "\u001b[38;2;255;0;0m│\u001b[0m   \u001b[2m 570 \u001b[0m\u001b[2m│   │   \u001b[0m                                                                                  \u001b[38;2;255;0;0m│\u001b[0m\n",
       "\u001b[38;2;255;0;0m│\u001b[0m   \u001b[2m 571 \u001b[0m\u001b[2m│   │   \u001b[0m_api_call.\u001b[91m__name__\u001b[0m = \u001b[96mstr\u001b[0m(py_operation_name)                                       \u001b[38;2;255;0;0m│\u001b[0m\n",
       "\u001b[38;2;255;0;0m│\u001b[0m   \u001b[2m 572 \u001b[0m                                                                                          \u001b[38;2;255;0;0m│\u001b[0m\n",
       "\u001b[38;2;255;0;0m│\u001b[0m                                                                                                  \u001b[38;2;255;0;0m│\u001b[0m\n",
       "\u001b[38;2;255;0;0m│\u001b[0m \u001b[2;33m/home/ec2-user/anaconda3/envs/python3/lib/python3.10/site-packages/botocore/\u001b[0m\u001b[1;33mclient.py\u001b[0m:\u001b[94m1023\u001b[0m in    \u001b[38;2;255;0;0m│\u001b[0m\n",
       "\u001b[38;2;255;0;0m│\u001b[0m \u001b[92m_make_api_call\u001b[0m                                                                                   \u001b[38;2;255;0;0m│\u001b[0m\n",
       "\u001b[38;2;255;0;0m│\u001b[0m                                                                                                  \u001b[38;2;255;0;0m│\u001b[0m\n",
       "\u001b[38;2;255;0;0m│\u001b[0m   \u001b[2m1020 \u001b[0m\u001b[2m│   │   │   │   \u001b[0m\u001b[33m\"\u001b[0m\u001b[33mCode\u001b[0m\u001b[33m\"\u001b[0m                                                                    \u001b[38;2;255;0;0m│\u001b[0m\n",
       "\u001b[38;2;255;0;0m│\u001b[0m   \u001b[2m1021 \u001b[0m\u001b[2m│   │   │   \u001b[0m)                                                                             \u001b[38;2;255;0;0m│\u001b[0m\n",
       "\u001b[38;2;255;0;0m│\u001b[0m   \u001b[2m1022 \u001b[0m\u001b[2m│   │   │   \u001b[0merror_class = \u001b[96mself\u001b[0m.exceptions.from_code(error_code)                           \u001b[38;2;255;0;0m│\u001b[0m\n",
       "\u001b[38;2;255;0;0m│\u001b[0m \u001b[31m❱ \u001b[0m1023 \u001b[2m│   │   │   \u001b[0m\u001b[94mraise\u001b[0m error_class(parsed_response, operation_name)                            \u001b[38;2;255;0;0m│\u001b[0m\n",
       "\u001b[38;2;255;0;0m│\u001b[0m   \u001b[2m1024 \u001b[0m\u001b[2m│   │   \u001b[0m\u001b[94melse\u001b[0m:                                                                             \u001b[38;2;255;0;0m│\u001b[0m\n",
       "\u001b[38;2;255;0;0m│\u001b[0m   \u001b[2m1025 \u001b[0m\u001b[2m│   │   │   \u001b[0m\u001b[94mreturn\u001b[0m parsed_response                                                        \u001b[38;2;255;0;0m│\u001b[0m\n",
       "\u001b[38;2;255;0;0m│\u001b[0m   \u001b[2m1026 \u001b[0m                                                                                          \u001b[38;2;255;0;0m│\u001b[0m\n",
       "\u001b[38;2;255;0;0m╰──────────────────────────────────────────────────────────────────────────────────────────────────╯\u001b[0m\n",
       "\u001b[1;91mClientError: \u001b[0mAn error occurred \u001b[1m(\u001b[0mValidationException\u001b[1m)\u001b[0m when calling the CreateModel operation: The repository of your\n",
       "image \u001b[1;36m683313688378.\u001b[0mdkr.ecr.us-east-\u001b[1;36m1.\u001b[0mamazonaws.com/lightgbm:latest does not grant ecr:GetDownloadUrlForLayer, \n",
       "ecr:BatchGetImage, ecr:BatchCheckLayerAvailability permission to sagemaker.amazonaws.com service principal.\n"
      ]
     },
     "metadata": {},
     "output_type": "display_data"
    }
   ],
   "source": [
    "from sagemaker.model import Model\n",
    " \n",
    "model_data = f\"s3://{s3_bucket}/{s3_model_path}\"\n",
    " \n",
    "# Define a SageMaker model\n",
    "lgb_model = Model(\n",
    "image_uri=\"683313688378.dkr.ecr.us-east-1.amazonaws.com/lightgbm:latest\",\n",
    "    model_data=model_data,\n",
    "    role= sagemaker.get_execution_role(),\n",
    ")\n",
    " \n",
    "# Deploy endpoint\n",
    "predictor = lgb_model.deploy(initial_instance_count=1, instance_type=\"ml.m5.large\")\n",
    " \n",
    "print(\"Model deployed successfully!\")"
   ]
  },
  {
   "cell_type": "code",
   "execution_count": 47,
   "id": "c1289135-3bd9-419a-bfc3-691743880a1f",
   "metadata": {},
   "outputs": [
    {
     "name": "stdout",
     "output_type": "stream",
     "text": [
      "Downloading model.bst from S3...\n",
      "Packaging model into model.tar.gz...\n",
      "Uploading model.tar.gz to S3...\n",
      "Deploying the model on SageMaker...\n"
     ]
    },
    {
     "data": {
      "text/html": [
       "<pre style=\"white-space:pre;overflow-x:auto;line-height:normal;font-family:Menlo,'DejaVu Sans Mono',consolas,'Courier New',monospace\"><span style=\"color: #7fbfbf; text-decoration-color: #7fbfbf\">[03/19/25 10:21:47] </span><span style=\"color: #0069ff; text-decoration-color: #0069ff; font-weight: bold\">INFO    </span> Creating model with name:                                              <a href=\"file:///home/ec2-user/anaconda3/envs/python3/lib/python3.10/site-packages/sagemaker/session.py\" target=\"_blank\"><span style=\"color: #7f7f7f; text-decoration-color: #7f7f7f\">session.py</span></a><span style=\"color: #7f7f7f; text-decoration-color: #7f7f7f\">:</span><a href=\"file:///home/ec2-user/anaconda3/envs/python3/lib/python3.10/site-packages/sagemaker/session.py#4094\" target=\"_blank\"><span style=\"color: #7f7f7f; text-decoration-color: #7f7f7f\">4094</span></a>\n",
       "<span style=\"color: #7fbfbf; text-decoration-color: #7fbfbf\">                    </span>         lightgbm-fraud-detection-<span style=\"color: #008080; text-decoration-color: #008080; font-weight: bold\">2025</span>-03-19-10-21-47-337                       <span style=\"color: #7f7f7f; text-decoration-color: #7f7f7f\">               </span>\n",
       "</pre>\n"
      ],
      "text/plain": [
       "\u001b[2;36m[03/19/25 10:21:47]\u001b[0m\u001b[2;36m \u001b[0m\u001b[1;38;2;0;105;255mINFO    \u001b[0m Creating model with name:                                              \u001b]8;id=478784;file:///home/ec2-user/anaconda3/envs/python3/lib/python3.10/site-packages/sagemaker/session.py\u001b\\\u001b[2msession.py\u001b[0m\u001b]8;;\u001b\\\u001b[2m:\u001b[0m\u001b]8;id=106864;file:///home/ec2-user/anaconda3/envs/python3/lib/python3.10/site-packages/sagemaker/session.py#4094\u001b\\\u001b[2m4094\u001b[0m\u001b]8;;\u001b\\\n",
       "\u001b[2;36m                    \u001b[0m         lightgbm-fraud-detection-\u001b[1;36m2025\u001b[0m-03-19-10-21-47-337                       \u001b[2m               \u001b[0m\n"
      ]
     },
     "metadata": {},
     "output_type": "display_data"
    },
    {
     "data": {
      "text/html": [
       "<pre style=\"white-space:pre;overflow-x:auto;line-height:normal;font-family:Menlo,'DejaVu Sans Mono',consolas,'Courier New',monospace\"><span style=\"color: #ff0000; text-decoration-color: #ff0000\">╭─────────────────────────────── </span><span style=\"color: #ff0000; text-decoration-color: #ff0000; font-weight: bold\">Traceback </span><span style=\"color: #ff7f7f; text-decoration-color: #ff7f7f; font-weight: bold\">(most recent call last)</span><span style=\"color: #ff0000; text-decoration-color: #ff0000\"> ────────────────────────────────╮</span>\n",
       "<span style=\"color: #ff0000; text-decoration-color: #ff0000\">│</span> in <span style=\"color: #00ff00; text-decoration-color: #00ff00\">&lt;module&gt;</span>:<span style=\"color: #0000ff; text-decoration-color: #0000ff\">46</span>                                                                                   <span style=\"color: #ff0000; text-decoration-color: #ff0000\">│</span>\n",
       "<span style=\"color: #ff0000; text-decoration-color: #ff0000\">│</span>                                                                                                  <span style=\"color: #ff0000; text-decoration-color: #ff0000\">│</span>\n",
       "<span style=\"color: #ff0000; text-decoration-color: #ff0000\">│</span>   <span style=\"color: #7f7f7f; text-decoration-color: #7f7f7f\">43 </span><span style=\"color: #7f7f7f; text-decoration-color: #7f7f7f\">│   </span>role=role_arn,                                                                          <span style=\"color: #ff0000; text-decoration-color: #ff0000\">│</span>\n",
       "<span style=\"color: #ff0000; text-decoration-color: #ff0000\">│</span>   <span style=\"color: #7f7f7f; text-decoration-color: #7f7f7f\">44 </span>)                                                                                           <span style=\"color: #ff0000; text-decoration-color: #ff0000\">│</span>\n",
       "<span style=\"color: #ff0000; text-decoration-color: #ff0000\">│</span>   <span style=\"color: #7f7f7f; text-decoration-color: #7f7f7f\">45 </span>                                                                                            <span style=\"color: #ff0000; text-decoration-color: #ff0000\">│</span>\n",
       "<span style=\"color: #ff0000; text-decoration-color: #ff0000\">│</span> <span style=\"color: #800000; text-decoration-color: #800000\">❱ </span>46 predictor = model.deploy(instance_type=<span style=\"color: #808000; text-decoration-color: #808000\">\"ml.m5.large\"</span>, initial_instance_count=<span style=\"color: #0000ff; text-decoration-color: #0000ff\">1</span>)             <span style=\"color: #ff0000; text-decoration-color: #ff0000\">│</span>\n",
       "<span style=\"color: #ff0000; text-decoration-color: #ff0000\">│</span>   <span style=\"color: #7f7f7f; text-decoration-color: #7f7f7f\">47 </span>                                                                                            <span style=\"color: #ff0000; text-decoration-color: #ff0000\">│</span>\n",
       "<span style=\"color: #ff0000; text-decoration-color: #ff0000\">│</span>   <span style=\"color: #7f7f7f; text-decoration-color: #7f7f7f\">48 # Step 5: Print endpoint details</span>                                                            <span style=\"color: #ff0000; text-decoration-color: #ff0000\">│</span>\n",
       "<span style=\"color: #ff0000; text-decoration-color: #ff0000\">│</span>   <span style=\"color: #7f7f7f; text-decoration-color: #7f7f7f\">49 </span><span style=\"color: #00ffff; text-decoration-color: #00ffff\">print</span>(<span style=\"color: #808000; text-decoration-color: #808000\">\"Model deployed successfully!\"</span>)                                                       <span style=\"color: #ff0000; text-decoration-color: #ff0000\">│</span>\n",
       "<span style=\"color: #ff0000; text-decoration-color: #ff0000\">│</span>                                                                                                  <span style=\"color: #ff0000; text-decoration-color: #ff0000\">│</span>\n",
       "<span style=\"color: #ff0000; text-decoration-color: #ff0000\">│</span> <span style=\"color: #bfbf7f; text-decoration-color: #bfbf7f\">/home/ec2-user/anaconda3/envs/python3/lib/python3.10/site-packages/sagemaker/</span><span style=\"color: #808000; text-decoration-color: #808000; font-weight: bold\">model.py</span>:<span style=\"color: #0000ff; text-decoration-color: #0000ff\">1728</span> in    <span style=\"color: #ff0000; text-decoration-color: #ff0000\">│</span>\n",
       "<span style=\"color: #ff0000; text-decoration-color: #ff0000\">│</span> <span style=\"color: #00ff00; text-decoration-color: #00ff00\">deploy</span>                                                                                           <span style=\"color: #ff0000; text-decoration-color: #ff0000\">│</span>\n",
       "<span style=\"color: #ff0000; text-decoration-color: #ff0000\">│</span>                                                                                                  <span style=\"color: #ff0000; text-decoration-color: #ff0000\">│</span>\n",
       "<span style=\"color: #ff0000; text-decoration-color: #ff0000\">│</span>   <span style=\"color: #7f7f7f; text-decoration-color: #7f7f7f\">1725 </span><span style=\"color: #7f7f7f; text-decoration-color: #7f7f7f\">│   │   │   </span><span style=\"color: #0000ff; text-decoration-color: #0000ff\">return</span> <span style=\"color: #0000ff; text-decoration-color: #0000ff\">None</span>                                                                   <span style=\"color: #ff0000; text-decoration-color: #ff0000\">│</span>\n",
       "<span style=\"color: #ff0000; text-decoration-color: #ff0000\">│</span>   <span style=\"color: #7f7f7f; text-decoration-color: #7f7f7f\">1726 </span><span style=\"color: #7f7f7f; text-decoration-color: #7f7f7f\">│   │   </span>                                                                                  <span style=\"color: #ff0000; text-decoration-color: #ff0000\">│</span>\n",
       "<span style=\"color: #ff0000; text-decoration-color: #ff0000\">│</span>   <span style=\"color: #7f7f7f; text-decoration-color: #7f7f7f\">1727 </span><span style=\"color: #7f7f7f; text-decoration-color: #7f7f7f\">│   │   </span><span style=\"color: #0000ff; text-decoration-color: #0000ff\">else</span>:  <span style=\"color: #7f7f7f; text-decoration-color: #7f7f7f\"># existing single model endpoint path</span>                                      <span style=\"color: #ff0000; text-decoration-color: #ff0000\">│</span>\n",
       "<span style=\"color: #ff0000; text-decoration-color: #ff0000\">│</span> <span style=\"color: #800000; text-decoration-color: #800000\">❱ </span>1728 <span style=\"color: #7f7f7f; text-decoration-color: #7f7f7f\">│   │   │   </span><span style=\"color: #00ffff; text-decoration-color: #00ffff\">self</span>._create_sagemaker_model(                                                 <span style=\"color: #ff0000; text-decoration-color: #ff0000\">│</span>\n",
       "<span style=\"color: #ff0000; text-decoration-color: #ff0000\">│</span>   <span style=\"color: #7f7f7f; text-decoration-color: #7f7f7f\">1729 </span><span style=\"color: #7f7f7f; text-decoration-color: #7f7f7f\">│   │   │   │   </span>instance_type=instance_type,                                              <span style=\"color: #ff0000; text-decoration-color: #ff0000\">│</span>\n",
       "<span style=\"color: #ff0000; text-decoration-color: #ff0000\">│</span>   <span style=\"color: #7f7f7f; text-decoration-color: #7f7f7f\">1730 </span><span style=\"color: #7f7f7f; text-decoration-color: #7f7f7f\">│   │   │   │   </span>accelerator_type=accelerator_type,                                        <span style=\"color: #ff0000; text-decoration-color: #ff0000\">│</span>\n",
       "<span style=\"color: #ff0000; text-decoration-color: #ff0000\">│</span>   <span style=\"color: #7f7f7f; text-decoration-color: #7f7f7f\">1731 </span><span style=\"color: #7f7f7f; text-decoration-color: #7f7f7f\">│   │   │   │   </span>tags=tags,                                                                <span style=\"color: #ff0000; text-decoration-color: #ff0000\">│</span>\n",
       "<span style=\"color: #ff0000; text-decoration-color: #ff0000\">│</span>                                                                                                  <span style=\"color: #ff0000; text-decoration-color: #ff0000\">│</span>\n",
       "<span style=\"color: #ff0000; text-decoration-color: #ff0000\">│</span> <span style=\"color: #bfbf7f; text-decoration-color: #bfbf7f\">/home/ec2-user/anaconda3/envs/python3/lib/python3.10/site-packages/sagemaker/</span><span style=\"color: #808000; text-decoration-color: #808000; font-weight: bold\">model.py</span>:<span style=\"color: #0000ff; text-decoration-color: #0000ff\">985</span> in     <span style=\"color: #ff0000; text-decoration-color: #ff0000\">│</span>\n",
       "<span style=\"color: #ff0000; text-decoration-color: #ff0000\">│</span> <span style=\"color: #00ff00; text-decoration-color: #00ff00\">_create_sagemaker_model</span>                                                                          <span style=\"color: #ff0000; text-decoration-color: #ff0000\">│</span>\n",
       "<span style=\"color: #ff0000; text-decoration-color: #ff0000\">│</span>                                                                                                  <span style=\"color: #ff0000; text-decoration-color: #ff0000\">│</span>\n",
       "<span style=\"color: #ff0000; text-decoration-color: #ff0000\">│</span>   <span style=\"color: #7f7f7f; text-decoration-color: #7f7f7f\"> 982 </span><span style=\"color: #7f7f7f; text-decoration-color: #7f7f7f\">│   │   │   │   </span>enable_network_isolation=<span style=\"color: #00ffff; text-decoration-color: #00ffff\">self</span>._enable_network_isolation,                  <span style=\"color: #ff0000; text-decoration-color: #ff0000\">│</span>\n",
       "<span style=\"color: #ff0000; text-decoration-color: #ff0000\">│</span>   <span style=\"color: #7f7f7f; text-decoration-color: #7f7f7f\"> 983 </span><span style=\"color: #7f7f7f; text-decoration-color: #7f7f7f\">│   │   │   │   </span>tags=format_tags(tags),                                                   <span style=\"color: #ff0000; text-decoration-color: #ff0000\">│</span>\n",
       "<span style=\"color: #ff0000; text-decoration-color: #ff0000\">│</span>   <span style=\"color: #7f7f7f; text-decoration-color: #7f7f7f\"> 984 </span><span style=\"color: #7f7f7f; text-decoration-color: #7f7f7f\">│   │   │   </span>)                                                                             <span style=\"color: #ff0000; text-decoration-color: #ff0000\">│</span>\n",
       "<span style=\"color: #ff0000; text-decoration-color: #ff0000\">│</span> <span style=\"color: #800000; text-decoration-color: #800000\">❱ </span> 985 <span style=\"color: #7f7f7f; text-decoration-color: #7f7f7f\">│   │   │   </span><span style=\"color: #00ffff; text-decoration-color: #00ffff\">self</span>.sagemaker_session.create_model(**create_model_args)                      <span style=\"color: #ff0000; text-decoration-color: #ff0000\">│</span>\n",
       "<span style=\"color: #ff0000; text-decoration-color: #ff0000\">│</span>   <span style=\"color: #7f7f7f; text-decoration-color: #7f7f7f\"> 986 </span><span style=\"color: #7f7f7f; text-decoration-color: #7f7f7f\">│   </span>                                                                                      <span style=\"color: #ff0000; text-decoration-color: #ff0000\">│</span>\n",
       "<span style=\"color: #ff0000; text-decoration-color: #ff0000\">│</span>   <span style=\"color: #7f7f7f; text-decoration-color: #7f7f7f\"> 987 </span><span style=\"color: #7f7f7f; text-decoration-color: #7f7f7f\">│   </span><span style=\"color: #0000ff; text-decoration-color: #0000ff\">def</span><span style=\"color: #808080; text-decoration-color: #808080\"> </span><span style=\"color: #00ff00; text-decoration-color: #00ff00\">_get_model_uri</span>(<span style=\"color: #00ffff; text-decoration-color: #00ffff\">self</span>):                                                             <span style=\"color: #ff0000; text-decoration-color: #ff0000\">│</span>\n",
       "<span style=\"color: #ff0000; text-decoration-color: #ff0000\">│</span>   <span style=\"color: #7f7f7f; text-decoration-color: #7f7f7f\"> 988 </span><span style=\"color: #7f7f7f; text-decoration-color: #7f7f7f\">│   │   </span>model_uri = <span style=\"color: #0000ff; text-decoration-color: #0000ff\">None</span>                                                                  <span style=\"color: #ff0000; text-decoration-color: #ff0000\">│</span>\n",
       "<span style=\"color: #ff0000; text-decoration-color: #ff0000\">│</span>                                                                                                  <span style=\"color: #ff0000; text-decoration-color: #ff0000\">│</span>\n",
       "<span style=\"color: #ff0000; text-decoration-color: #ff0000\">│</span> <span style=\"color: #bfbf7f; text-decoration-color: #bfbf7f\">/home/ec2-user/anaconda3/envs/python3/lib/python3.10/site-packages/sagemaker/</span><span style=\"color: #808000; text-decoration-color: #808000; font-weight: bold\">session.py</span>:<span style=\"color: #0000ff; text-decoration-color: #0000ff\">4109</span> in  <span style=\"color: #ff0000; text-decoration-color: #ff0000\">│</span>\n",
       "<span style=\"color: #ff0000; text-decoration-color: #ff0000\">│</span> <span style=\"color: #00ff00; text-decoration-color: #00ff00\">create_model</span>                                                                                     <span style=\"color: #ff0000; text-decoration-color: #ff0000\">│</span>\n",
       "<span style=\"color: #ff0000; text-decoration-color: #ff0000\">│</span>                                                                                                  <span style=\"color: #ff0000; text-decoration-color: #ff0000\">│</span>\n",
       "<span style=\"color: #ff0000; text-decoration-color: #ff0000\">│</span>   <span style=\"color: #7f7f7f; text-decoration-color: #7f7f7f\">4106 </span><span style=\"color: #7f7f7f; text-decoration-color: #7f7f7f\">│   │   │   │   </span><span style=\"color: #0000ff; text-decoration-color: #0000ff\">else</span>:                                                                     <span style=\"color: #ff0000; text-decoration-color: #ff0000\">│</span>\n",
       "<span style=\"color: #ff0000; text-decoration-color: #ff0000\">│</span>   <span style=\"color: #7f7f7f; text-decoration-color: #7f7f7f\">4107 </span><span style=\"color: #7f7f7f; text-decoration-color: #7f7f7f\">│   │   │   │   │   </span><span style=\"color: #0000ff; text-decoration-color: #0000ff\">raise</span>                                                                 <span style=\"color: #ff0000; text-decoration-color: #ff0000\">│</span>\n",
       "<span style=\"color: #ff0000; text-decoration-color: #ff0000\">│</span>   <span style=\"color: #7f7f7f; text-decoration-color: #7f7f7f\">4108 </span><span style=\"color: #7f7f7f; text-decoration-color: #7f7f7f\">│   │   </span>                                                                                  <span style=\"color: #ff0000; text-decoration-color: #ff0000\">│</span>\n",
       "<span style=\"color: #ff0000; text-decoration-color: #ff0000\">│</span> <span style=\"color: #800000; text-decoration-color: #800000\">❱ </span>4109 <span style=\"color: #7f7f7f; text-decoration-color: #7f7f7f\">│   │   </span><span style=\"color: #00ffff; text-decoration-color: #00ffff\">self</span>._intercept_create_request(create_model_request, submit, <span style=\"color: #00ffff; text-decoration-color: #00ffff\">self</span>.create_model.<span style=\"color: #ff0000; text-decoration-color: #ff0000\">_</span>  <span style=\"color: #ff0000; text-decoration-color: #ff0000\">│</span>\n",
       "<span style=\"color: #ff0000; text-decoration-color: #ff0000\">│</span>   <span style=\"color: #7f7f7f; text-decoration-color: #7f7f7f\">4110 </span><span style=\"color: #7f7f7f; text-decoration-color: #7f7f7f\">│   │   </span><span style=\"color: #0000ff; text-decoration-color: #0000ff\">return</span> name                                                                       <span style=\"color: #ff0000; text-decoration-color: #ff0000\">│</span>\n",
       "<span style=\"color: #ff0000; text-decoration-color: #ff0000\">│</span>   <span style=\"color: #7f7f7f; text-decoration-color: #7f7f7f\">4111 </span><span style=\"color: #7f7f7f; text-decoration-color: #7f7f7f\">│   </span>                                                                                      <span style=\"color: #ff0000; text-decoration-color: #ff0000\">│</span>\n",
       "<span style=\"color: #ff0000; text-decoration-color: #ff0000\">│</span>   <span style=\"color: #7f7f7f; text-decoration-color: #7f7f7f\">4112 </span><span style=\"color: #7f7f7f; text-decoration-color: #7f7f7f\">│   </span><span style=\"color: #0000ff; text-decoration-color: #0000ff\">def</span><span style=\"color: #808080; text-decoration-color: #808080\"> </span><span style=\"color: #00ff00; text-decoration-color: #00ff00\">create_model_from_job</span>(                                                            <span style=\"color: #ff0000; text-decoration-color: #ff0000\">│</span>\n",
       "<span style=\"color: #ff0000; text-decoration-color: #ff0000\">│</span>                                                                                                  <span style=\"color: #ff0000; text-decoration-color: #ff0000\">│</span>\n",
       "<span style=\"color: #ff0000; text-decoration-color: #ff0000\">│</span> <span style=\"color: #bfbf7f; text-decoration-color: #bfbf7f\">/home/ec2-user/anaconda3/envs/python3/lib/python3.10/site-packages/sagemaker/</span><span style=\"color: #808000; text-decoration-color: #808000; font-weight: bold\">session.py</span>:<span style=\"color: #0000ff; text-decoration-color: #0000ff\">6678</span> in  <span style=\"color: #ff0000; text-decoration-color: #ff0000\">│</span>\n",
       "<span style=\"color: #ff0000; text-decoration-color: #ff0000\">│</span> <span style=\"color: #00ff00; text-decoration-color: #00ff00\">_intercept_create_request</span>                                                                        <span style=\"color: #ff0000; text-decoration-color: #ff0000\">│</span>\n",
       "<span style=\"color: #ff0000; text-decoration-color: #ff0000\">│</span>                                                                                                  <span style=\"color: #ff0000; text-decoration-color: #ff0000\">│</span>\n",
       "<span style=\"color: #ff0000; text-decoration-color: #ff0000\">│</span>   <span style=\"color: #7f7f7f; text-decoration-color: #7f7f7f\">6675 </span><span style=\"color: #bfbf7f; text-decoration-color: #bfbf7f\">│   │   │   </span><span style=\"color: #808000; text-decoration-color: #808000\">create (functor): a functor calls the sagemaker client create method</span>          <span style=\"color: #ff0000; text-decoration-color: #ff0000\">│</span>\n",
       "<span style=\"color: #ff0000; text-decoration-color: #ff0000\">│</span>   <span style=\"color: #7f7f7f; text-decoration-color: #7f7f7f\">6676 </span><span style=\"color: #bfbf7f; text-decoration-color: #bfbf7f\">│   │   │   </span><span style=\"color: #808000; text-decoration-color: #808000\">func_name (str): the name of the function needed intercepting</span>                 <span style=\"color: #ff0000; text-decoration-color: #ff0000\">│</span>\n",
       "<span style=\"color: #ff0000; text-decoration-color: #ff0000\">│</span>   <span style=\"color: #7f7f7f; text-decoration-color: #7f7f7f\">6677 </span><span style=\"color: #bfbf7f; text-decoration-color: #bfbf7f\">│   │   </span><span style=\"color: #808000; text-decoration-color: #808000\">\"\"\"</span>                                                                               <span style=\"color: #ff0000; text-decoration-color: #ff0000\">│</span>\n",
       "<span style=\"color: #ff0000; text-decoration-color: #ff0000\">│</span> <span style=\"color: #800000; text-decoration-color: #800000\">❱ </span>6678 <span style=\"color: #7f7f7f; text-decoration-color: #7f7f7f\">│   │   </span><span style=\"color: #0000ff; text-decoration-color: #0000ff\">return</span> create(request)                                                            <span style=\"color: #ff0000; text-decoration-color: #ff0000\">│</span>\n",
       "<span style=\"color: #ff0000; text-decoration-color: #ff0000\">│</span>   <span style=\"color: #7f7f7f; text-decoration-color: #7f7f7f\">6679 </span><span style=\"color: #7f7f7f; text-decoration-color: #7f7f7f\">│   </span>                                                                                      <span style=\"color: #ff0000; text-decoration-color: #ff0000\">│</span>\n",
       "<span style=\"color: #ff0000; text-decoration-color: #ff0000\">│</span>   <span style=\"color: #7f7f7f; text-decoration-color: #7f7f7f\">6680 </span><span style=\"color: #7f7f7f; text-decoration-color: #7f7f7f\">│   </span><span style=\"color: #0000ff; text-decoration-color: #0000ff\">def</span><span style=\"color: #808080; text-decoration-color: #808080\"> </span><span style=\"color: #00ff00; text-decoration-color: #00ff00\">_create_inference_recommendations_job_request</span>(                                    <span style=\"color: #ff0000; text-decoration-color: #ff0000\">│</span>\n",
       "<span style=\"color: #ff0000; text-decoration-color: #ff0000\">│</span>   <span style=\"color: #7f7f7f; text-decoration-color: #7f7f7f\">6681 </span><span style=\"color: #7f7f7f; text-decoration-color: #7f7f7f\">│   │   </span><span style=\"color: #00ffff; text-decoration-color: #00ffff\">self</span>,                                                                             <span style=\"color: #ff0000; text-decoration-color: #ff0000\">│</span>\n",
       "<span style=\"color: #ff0000; text-decoration-color: #ff0000\">│</span>                                                                                                  <span style=\"color: #ff0000; text-decoration-color: #ff0000\">│</span>\n",
       "<span style=\"color: #ff0000; text-decoration-color: #ff0000\">│</span> <span style=\"color: #bfbf7f; text-decoration-color: #bfbf7f\">/home/ec2-user/anaconda3/envs/python3/lib/python3.10/site-packages/sagemaker/</span><span style=\"color: #808000; text-decoration-color: #808000; font-weight: bold\">session.py</span>:<span style=\"color: #0000ff; text-decoration-color: #0000ff\">4097</span> in  <span style=\"color: #ff0000; text-decoration-color: #ff0000\">│</span>\n",
       "<span style=\"color: #ff0000; text-decoration-color: #ff0000\">│</span> <span style=\"color: #00ff00; text-decoration-color: #00ff00\">submit</span>                                                                                           <span style=\"color: #ff0000; text-decoration-color: #ff0000\">│</span>\n",
       "<span style=\"color: #ff0000; text-decoration-color: #ff0000\">│</span>                                                                                                  <span style=\"color: #ff0000; text-decoration-color: #ff0000\">│</span>\n",
       "<span style=\"color: #ff0000; text-decoration-color: #ff0000\">│</span>   <span style=\"color: #7f7f7f; text-decoration-color: #7f7f7f\">4094 </span><span style=\"color: #7f7f7f; text-decoration-color: #7f7f7f\">│   │   │   </span>logger.info(<span style=\"color: #808000; text-decoration-color: #808000\">\"Creating model with name: %s\"</span>, name)                             <span style=\"color: #ff0000; text-decoration-color: #ff0000\">│</span>\n",
       "<span style=\"color: #ff0000; text-decoration-color: #ff0000\">│</span>   <span style=\"color: #7f7f7f; text-decoration-color: #7f7f7f\">4095 </span><span style=\"color: #7f7f7f; text-decoration-color: #7f7f7f\">│   │   │   </span>logger.debug(<span style=\"color: #808000; text-decoration-color: #808000\">\"CreateModel request: %s\"</span>, json.dumps(request, indent=<span style=\"color: #0000ff; text-decoration-color: #0000ff\">4</span>))        <span style=\"color: #ff0000; text-decoration-color: #ff0000\">│</span>\n",
       "<span style=\"color: #ff0000; text-decoration-color: #ff0000\">│</span>   <span style=\"color: #7f7f7f; text-decoration-color: #7f7f7f\">4096 </span><span style=\"color: #7f7f7f; text-decoration-color: #7f7f7f\">│   │   │   </span><span style=\"color: #0000ff; text-decoration-color: #0000ff\">try</span>:                                                                          <span style=\"color: #ff0000; text-decoration-color: #ff0000\">│</span>\n",
       "<span style=\"color: #ff0000; text-decoration-color: #ff0000\">│</span> <span style=\"color: #800000; text-decoration-color: #800000\">❱ </span>4097 <span style=\"color: #7f7f7f; text-decoration-color: #7f7f7f\">│   │   │   │   </span><span style=\"color: #00ffff; text-decoration-color: #00ffff\">self</span>.sagemaker_client.create_model(**request)                             <span style=\"color: #ff0000; text-decoration-color: #ff0000\">│</span>\n",
       "<span style=\"color: #ff0000; text-decoration-color: #ff0000\">│</span>   <span style=\"color: #7f7f7f; text-decoration-color: #7f7f7f\">4098 </span><span style=\"color: #7f7f7f; text-decoration-color: #7f7f7f\">│   │   │   </span><span style=\"color: #0000ff; text-decoration-color: #0000ff\">except</span> ClientError <span style=\"color: #0000ff; text-decoration-color: #0000ff\">as</span> e:                                                      <span style=\"color: #ff0000; text-decoration-color: #ff0000\">│</span>\n",
       "<span style=\"color: #ff0000; text-decoration-color: #ff0000\">│</span>   <span style=\"color: #7f7f7f; text-decoration-color: #7f7f7f\">4099 </span><span style=\"color: #7f7f7f; text-decoration-color: #7f7f7f\">│   │   │   │   </span>error_code = e.response[<span style=\"color: #808000; text-decoration-color: #808000\">\"Error\"</span>][<span style=\"color: #808000; text-decoration-color: #808000\">\"Code\"</span>]                                  <span style=\"color: #ff0000; text-decoration-color: #ff0000\">│</span>\n",
       "<span style=\"color: #ff0000; text-decoration-color: #ff0000\">│</span>   <span style=\"color: #7f7f7f; text-decoration-color: #7f7f7f\">4100 </span><span style=\"color: #7f7f7f; text-decoration-color: #7f7f7f\">│   │   │   │   </span>message = e.response[<span style=\"color: #808000; text-decoration-color: #808000\">\"Error\"</span>][<span style=\"color: #808000; text-decoration-color: #808000\">\"Message\"</span>]                                  <span style=\"color: #ff0000; text-decoration-color: #ff0000\">│</span>\n",
       "<span style=\"color: #ff0000; text-decoration-color: #ff0000\">│</span>                                                                                                  <span style=\"color: #ff0000; text-decoration-color: #ff0000\">│</span>\n",
       "<span style=\"color: #ff0000; text-decoration-color: #ff0000\">│</span> <span style=\"color: #bfbf7f; text-decoration-color: #bfbf7f\">/home/ec2-user/anaconda3/envs/python3/lib/python3.10/site-packages/botocore/</span><span style=\"color: #808000; text-decoration-color: #808000; font-weight: bold\">client.py</span>:<span style=\"color: #0000ff; text-decoration-color: #0000ff\">569</span> in     <span style=\"color: #ff0000; text-decoration-color: #ff0000\">│</span>\n",
       "<span style=\"color: #ff0000; text-decoration-color: #ff0000\">│</span> <span style=\"color: #00ff00; text-decoration-color: #00ff00\">_api_call</span>                                                                                        <span style=\"color: #ff0000; text-decoration-color: #ff0000\">│</span>\n",
       "<span style=\"color: #ff0000; text-decoration-color: #ff0000\">│</span>                                                                                                  <span style=\"color: #ff0000; text-decoration-color: #ff0000\">│</span>\n",
       "<span style=\"color: #ff0000; text-decoration-color: #ff0000\">│</span>   <span style=\"color: #7f7f7f; text-decoration-color: #7f7f7f\"> 566 </span><span style=\"color: #7f7f7f; text-decoration-color: #7f7f7f\">│   │   │   │   │   </span><span style=\"color: #808000; text-decoration-color: #808000\">f\"{</span>py_operation_name<span style=\"color: #808000; text-decoration-color: #808000\">}() only accepts keyword arguments.\"</span>              <span style=\"color: #ff0000; text-decoration-color: #ff0000\">│</span>\n",
       "<span style=\"color: #ff0000; text-decoration-color: #ff0000\">│</span>   <span style=\"color: #7f7f7f; text-decoration-color: #7f7f7f\"> 567 </span><span style=\"color: #7f7f7f; text-decoration-color: #7f7f7f\">│   │   │   │   </span>)                                                                         <span style=\"color: #ff0000; text-decoration-color: #ff0000\">│</span>\n",
       "<span style=\"color: #ff0000; text-decoration-color: #ff0000\">│</span>   <span style=\"color: #7f7f7f; text-decoration-color: #7f7f7f\"> 568 </span><span style=\"color: #7f7f7f; text-decoration-color: #7f7f7f\">│   │   │   </span><span style=\"color: #7f7f7f; text-decoration-color: #7f7f7f\"># The \"self\" in this scope is referring to the BaseClient.</span>                    <span style=\"color: #ff0000; text-decoration-color: #ff0000\">│</span>\n",
       "<span style=\"color: #ff0000; text-decoration-color: #ff0000\">│</span> <span style=\"color: #800000; text-decoration-color: #800000\">❱ </span> 569 <span style=\"color: #7f7f7f; text-decoration-color: #7f7f7f\">│   │   │   </span><span style=\"color: #0000ff; text-decoration-color: #0000ff\">return</span> <span style=\"color: #00ffff; text-decoration-color: #00ffff\">self</span>._make_api_call(operation_name, kwargs)                            <span style=\"color: #ff0000; text-decoration-color: #ff0000\">│</span>\n",
       "<span style=\"color: #ff0000; text-decoration-color: #ff0000\">│</span>   <span style=\"color: #7f7f7f; text-decoration-color: #7f7f7f\"> 570 </span><span style=\"color: #7f7f7f; text-decoration-color: #7f7f7f\">│   │   </span>                                                                                  <span style=\"color: #ff0000; text-decoration-color: #ff0000\">│</span>\n",
       "<span style=\"color: #ff0000; text-decoration-color: #ff0000\">│</span>   <span style=\"color: #7f7f7f; text-decoration-color: #7f7f7f\"> 571 </span><span style=\"color: #7f7f7f; text-decoration-color: #7f7f7f\">│   │   </span>_api_call.<span style=\"color: #ff0000; text-decoration-color: #ff0000\">__name__</span> = <span style=\"color: #00ffff; text-decoration-color: #00ffff\">str</span>(py_operation_name)                                       <span style=\"color: #ff0000; text-decoration-color: #ff0000\">│</span>\n",
       "<span style=\"color: #ff0000; text-decoration-color: #ff0000\">│</span>   <span style=\"color: #7f7f7f; text-decoration-color: #7f7f7f\"> 572 </span>                                                                                          <span style=\"color: #ff0000; text-decoration-color: #ff0000\">│</span>\n",
       "<span style=\"color: #ff0000; text-decoration-color: #ff0000\">│</span>                                                                                                  <span style=\"color: #ff0000; text-decoration-color: #ff0000\">│</span>\n",
       "<span style=\"color: #ff0000; text-decoration-color: #ff0000\">│</span> <span style=\"color: #bfbf7f; text-decoration-color: #bfbf7f\">/home/ec2-user/anaconda3/envs/python3/lib/python3.10/site-packages/botocore/</span><span style=\"color: #808000; text-decoration-color: #808000; font-weight: bold\">client.py</span>:<span style=\"color: #0000ff; text-decoration-color: #0000ff\">1023</span> in    <span style=\"color: #ff0000; text-decoration-color: #ff0000\">│</span>\n",
       "<span style=\"color: #ff0000; text-decoration-color: #ff0000\">│</span> <span style=\"color: #00ff00; text-decoration-color: #00ff00\">_make_api_call</span>                                                                                   <span style=\"color: #ff0000; text-decoration-color: #ff0000\">│</span>\n",
       "<span style=\"color: #ff0000; text-decoration-color: #ff0000\">│</span>                                                                                                  <span style=\"color: #ff0000; text-decoration-color: #ff0000\">│</span>\n",
       "<span style=\"color: #ff0000; text-decoration-color: #ff0000\">│</span>   <span style=\"color: #7f7f7f; text-decoration-color: #7f7f7f\">1020 </span><span style=\"color: #7f7f7f; text-decoration-color: #7f7f7f\">│   │   │   │   </span><span style=\"color: #808000; text-decoration-color: #808000\">\"Code\"</span>                                                                    <span style=\"color: #ff0000; text-decoration-color: #ff0000\">│</span>\n",
       "<span style=\"color: #ff0000; text-decoration-color: #ff0000\">│</span>   <span style=\"color: #7f7f7f; text-decoration-color: #7f7f7f\">1021 </span><span style=\"color: #7f7f7f; text-decoration-color: #7f7f7f\">│   │   │   </span>)                                                                             <span style=\"color: #ff0000; text-decoration-color: #ff0000\">│</span>\n",
       "<span style=\"color: #ff0000; text-decoration-color: #ff0000\">│</span>   <span style=\"color: #7f7f7f; text-decoration-color: #7f7f7f\">1022 </span><span style=\"color: #7f7f7f; text-decoration-color: #7f7f7f\">│   │   │   </span>error_class = <span style=\"color: #00ffff; text-decoration-color: #00ffff\">self</span>.exceptions.from_code(error_code)                           <span style=\"color: #ff0000; text-decoration-color: #ff0000\">│</span>\n",
       "<span style=\"color: #ff0000; text-decoration-color: #ff0000\">│</span> <span style=\"color: #800000; text-decoration-color: #800000\">❱ </span>1023 <span style=\"color: #7f7f7f; text-decoration-color: #7f7f7f\">│   │   │   </span><span style=\"color: #0000ff; text-decoration-color: #0000ff\">raise</span> error_class(parsed_response, operation_name)                            <span style=\"color: #ff0000; text-decoration-color: #ff0000\">│</span>\n",
       "<span style=\"color: #ff0000; text-decoration-color: #ff0000\">│</span>   <span style=\"color: #7f7f7f; text-decoration-color: #7f7f7f\">1024 </span><span style=\"color: #7f7f7f; text-decoration-color: #7f7f7f\">│   │   </span><span style=\"color: #0000ff; text-decoration-color: #0000ff\">else</span>:                                                                             <span style=\"color: #ff0000; text-decoration-color: #ff0000\">│</span>\n",
       "<span style=\"color: #ff0000; text-decoration-color: #ff0000\">│</span>   <span style=\"color: #7f7f7f; text-decoration-color: #7f7f7f\">1025 </span><span style=\"color: #7f7f7f; text-decoration-color: #7f7f7f\">│   │   │   </span><span style=\"color: #0000ff; text-decoration-color: #0000ff\">return</span> parsed_response                                                        <span style=\"color: #ff0000; text-decoration-color: #ff0000\">│</span>\n",
       "<span style=\"color: #ff0000; text-decoration-color: #ff0000\">│</span>   <span style=\"color: #7f7f7f; text-decoration-color: #7f7f7f\">1026 </span>                                                                                          <span style=\"color: #ff0000; text-decoration-color: #ff0000\">│</span>\n",
       "<span style=\"color: #ff0000; text-decoration-color: #ff0000\">╰──────────────────────────────────────────────────────────────────────────────────────────────────╯</span>\n",
       "<span style=\"color: #ff0000; text-decoration-color: #ff0000; font-weight: bold\">ClientError: </span>An error occurred <span style=\"font-weight: bold\">(</span>ValidationException<span style=\"font-weight: bold\">)</span> when calling the CreateModel operation: Requested image \n",
       "<span style=\"color: #008080; text-decoration-color: #008080; font-weight: bold\">361769587425.</span>dkr.ecr.us-east-<span style=\"color: #008080; text-decoration-color: #008080; font-weight: bold\">1.</span>amazonaws.com/lightgbm-fraud-detection not found.\n",
       "</pre>\n"
      ],
      "text/plain": [
       "\u001b[38;2;255;0;0m╭─\u001b[0m\u001b[38;2;255;0;0m──────────────────────────────\u001b[0m\u001b[38;2;255;0;0m \u001b[0m\u001b[1;38;2;255;0;0mTraceback \u001b[0m\u001b[1;2;38;2;255;0;0m(most recent call last)\u001b[0m\u001b[38;2;255;0;0m \u001b[0m\u001b[38;2;255;0;0m───────────────────────────────\u001b[0m\u001b[38;2;255;0;0m─╮\u001b[0m\n",
       "\u001b[38;2;255;0;0m│\u001b[0m in \u001b[92m<module>\u001b[0m:\u001b[94m46\u001b[0m                                                                                   \u001b[38;2;255;0;0m│\u001b[0m\n",
       "\u001b[38;2;255;0;0m│\u001b[0m                                                                                                  \u001b[38;2;255;0;0m│\u001b[0m\n",
       "\u001b[38;2;255;0;0m│\u001b[0m   \u001b[2m43 \u001b[0m\u001b[2m│   \u001b[0mrole=role_arn,                                                                          \u001b[38;2;255;0;0m│\u001b[0m\n",
       "\u001b[38;2;255;0;0m│\u001b[0m   \u001b[2m44 \u001b[0m)                                                                                           \u001b[38;2;255;0;0m│\u001b[0m\n",
       "\u001b[38;2;255;0;0m│\u001b[0m   \u001b[2m45 \u001b[0m                                                                                            \u001b[38;2;255;0;0m│\u001b[0m\n",
       "\u001b[38;2;255;0;0m│\u001b[0m \u001b[31m❱ \u001b[0m46 predictor = model.deploy(instance_type=\u001b[33m\"\u001b[0m\u001b[33mml.m5.large\u001b[0m\u001b[33m\"\u001b[0m, initial_instance_count=\u001b[94m1\u001b[0m)             \u001b[38;2;255;0;0m│\u001b[0m\n",
       "\u001b[38;2;255;0;0m│\u001b[0m   \u001b[2m47 \u001b[0m                                                                                            \u001b[38;2;255;0;0m│\u001b[0m\n",
       "\u001b[38;2;255;0;0m│\u001b[0m   \u001b[2m48 \u001b[0m\u001b[2m# Step 5: Print endpoint details\u001b[0m                                                            \u001b[38;2;255;0;0m│\u001b[0m\n",
       "\u001b[38;2;255;0;0m│\u001b[0m   \u001b[2m49 \u001b[0m\u001b[96mprint\u001b[0m(\u001b[33m\"\u001b[0m\u001b[33mModel deployed successfully!\u001b[0m\u001b[33m\"\u001b[0m)                                                       \u001b[38;2;255;0;0m│\u001b[0m\n",
       "\u001b[38;2;255;0;0m│\u001b[0m                                                                                                  \u001b[38;2;255;0;0m│\u001b[0m\n",
       "\u001b[38;2;255;0;0m│\u001b[0m \u001b[2;33m/home/ec2-user/anaconda3/envs/python3/lib/python3.10/site-packages/sagemaker/\u001b[0m\u001b[1;33mmodel.py\u001b[0m:\u001b[94m1728\u001b[0m in    \u001b[38;2;255;0;0m│\u001b[0m\n",
       "\u001b[38;2;255;0;0m│\u001b[0m \u001b[92mdeploy\u001b[0m                                                                                           \u001b[38;2;255;0;0m│\u001b[0m\n",
       "\u001b[38;2;255;0;0m│\u001b[0m                                                                                                  \u001b[38;2;255;0;0m│\u001b[0m\n",
       "\u001b[38;2;255;0;0m│\u001b[0m   \u001b[2m1725 \u001b[0m\u001b[2m│   │   │   \u001b[0m\u001b[94mreturn\u001b[0m \u001b[94mNone\u001b[0m                                                                   \u001b[38;2;255;0;0m│\u001b[0m\n",
       "\u001b[38;2;255;0;0m│\u001b[0m   \u001b[2m1726 \u001b[0m\u001b[2m│   │   \u001b[0m                                                                                  \u001b[38;2;255;0;0m│\u001b[0m\n",
       "\u001b[38;2;255;0;0m│\u001b[0m   \u001b[2m1727 \u001b[0m\u001b[2m│   │   \u001b[0m\u001b[94melse\u001b[0m:  \u001b[2m# existing single model endpoint path\u001b[0m                                      \u001b[38;2;255;0;0m│\u001b[0m\n",
       "\u001b[38;2;255;0;0m│\u001b[0m \u001b[31m❱ \u001b[0m1728 \u001b[2m│   │   │   \u001b[0m\u001b[96mself\u001b[0m._create_sagemaker_model(                                                 \u001b[38;2;255;0;0m│\u001b[0m\n",
       "\u001b[38;2;255;0;0m│\u001b[0m   \u001b[2m1729 \u001b[0m\u001b[2m│   │   │   │   \u001b[0minstance_type=instance_type,                                              \u001b[38;2;255;0;0m│\u001b[0m\n",
       "\u001b[38;2;255;0;0m│\u001b[0m   \u001b[2m1730 \u001b[0m\u001b[2m│   │   │   │   \u001b[0maccelerator_type=accelerator_type,                                        \u001b[38;2;255;0;0m│\u001b[0m\n",
       "\u001b[38;2;255;0;0m│\u001b[0m   \u001b[2m1731 \u001b[0m\u001b[2m│   │   │   │   \u001b[0mtags=tags,                                                                \u001b[38;2;255;0;0m│\u001b[0m\n",
       "\u001b[38;2;255;0;0m│\u001b[0m                                                                                                  \u001b[38;2;255;0;0m│\u001b[0m\n",
       "\u001b[38;2;255;0;0m│\u001b[0m \u001b[2;33m/home/ec2-user/anaconda3/envs/python3/lib/python3.10/site-packages/sagemaker/\u001b[0m\u001b[1;33mmodel.py\u001b[0m:\u001b[94m985\u001b[0m in     \u001b[38;2;255;0;0m│\u001b[0m\n",
       "\u001b[38;2;255;0;0m│\u001b[0m \u001b[92m_create_sagemaker_model\u001b[0m                                                                          \u001b[38;2;255;0;0m│\u001b[0m\n",
       "\u001b[38;2;255;0;0m│\u001b[0m                                                                                                  \u001b[38;2;255;0;0m│\u001b[0m\n",
       "\u001b[38;2;255;0;0m│\u001b[0m   \u001b[2m 982 \u001b[0m\u001b[2m│   │   │   │   \u001b[0menable_network_isolation=\u001b[96mself\u001b[0m._enable_network_isolation,                  \u001b[38;2;255;0;0m│\u001b[0m\n",
       "\u001b[38;2;255;0;0m│\u001b[0m   \u001b[2m 983 \u001b[0m\u001b[2m│   │   │   │   \u001b[0mtags=format_tags(tags),                                                   \u001b[38;2;255;0;0m│\u001b[0m\n",
       "\u001b[38;2;255;0;0m│\u001b[0m   \u001b[2m 984 \u001b[0m\u001b[2m│   │   │   \u001b[0m)                                                                             \u001b[38;2;255;0;0m│\u001b[0m\n",
       "\u001b[38;2;255;0;0m│\u001b[0m \u001b[31m❱ \u001b[0m 985 \u001b[2m│   │   │   \u001b[0m\u001b[96mself\u001b[0m.sagemaker_session.create_model(**create_model_args)                      \u001b[38;2;255;0;0m│\u001b[0m\n",
       "\u001b[38;2;255;0;0m│\u001b[0m   \u001b[2m 986 \u001b[0m\u001b[2m│   \u001b[0m                                                                                      \u001b[38;2;255;0;0m│\u001b[0m\n",
       "\u001b[38;2;255;0;0m│\u001b[0m   \u001b[2m 987 \u001b[0m\u001b[2m│   \u001b[0m\u001b[94mdef\u001b[0m\u001b[90m \u001b[0m\u001b[92m_get_model_uri\u001b[0m(\u001b[96mself\u001b[0m):                                                             \u001b[38;2;255;0;0m│\u001b[0m\n",
       "\u001b[38;2;255;0;0m│\u001b[0m   \u001b[2m 988 \u001b[0m\u001b[2m│   │   \u001b[0mmodel_uri = \u001b[94mNone\u001b[0m                                                                  \u001b[38;2;255;0;0m│\u001b[0m\n",
       "\u001b[38;2;255;0;0m│\u001b[0m                                                                                                  \u001b[38;2;255;0;0m│\u001b[0m\n",
       "\u001b[38;2;255;0;0m│\u001b[0m \u001b[2;33m/home/ec2-user/anaconda3/envs/python3/lib/python3.10/site-packages/sagemaker/\u001b[0m\u001b[1;33msession.py\u001b[0m:\u001b[94m4109\u001b[0m in  \u001b[38;2;255;0;0m│\u001b[0m\n",
       "\u001b[38;2;255;0;0m│\u001b[0m \u001b[92mcreate_model\u001b[0m                                                                                     \u001b[38;2;255;0;0m│\u001b[0m\n",
       "\u001b[38;2;255;0;0m│\u001b[0m                                                                                                  \u001b[38;2;255;0;0m│\u001b[0m\n",
       "\u001b[38;2;255;0;0m│\u001b[0m   \u001b[2m4106 \u001b[0m\u001b[2m│   │   │   │   \u001b[0m\u001b[94melse\u001b[0m:                                                                     \u001b[38;2;255;0;0m│\u001b[0m\n",
       "\u001b[38;2;255;0;0m│\u001b[0m   \u001b[2m4107 \u001b[0m\u001b[2m│   │   │   │   │   \u001b[0m\u001b[94mraise\u001b[0m                                                                 \u001b[38;2;255;0;0m│\u001b[0m\n",
       "\u001b[38;2;255;0;0m│\u001b[0m   \u001b[2m4108 \u001b[0m\u001b[2m│   │   \u001b[0m                                                                                  \u001b[38;2;255;0;0m│\u001b[0m\n",
       "\u001b[38;2;255;0;0m│\u001b[0m \u001b[31m❱ \u001b[0m4109 \u001b[2m│   │   \u001b[0m\u001b[96mself\u001b[0m._intercept_create_request(create_model_request, submit, \u001b[96mself\u001b[0m.create_model.\u001b[91m_\u001b[0m  \u001b[38;2;255;0;0m│\u001b[0m\n",
       "\u001b[38;2;255;0;0m│\u001b[0m   \u001b[2m4110 \u001b[0m\u001b[2m│   │   \u001b[0m\u001b[94mreturn\u001b[0m name                                                                       \u001b[38;2;255;0;0m│\u001b[0m\n",
       "\u001b[38;2;255;0;0m│\u001b[0m   \u001b[2m4111 \u001b[0m\u001b[2m│   \u001b[0m                                                                                      \u001b[38;2;255;0;0m│\u001b[0m\n",
       "\u001b[38;2;255;0;0m│\u001b[0m   \u001b[2m4112 \u001b[0m\u001b[2m│   \u001b[0m\u001b[94mdef\u001b[0m\u001b[90m \u001b[0m\u001b[92mcreate_model_from_job\u001b[0m(                                                            \u001b[38;2;255;0;0m│\u001b[0m\n",
       "\u001b[38;2;255;0;0m│\u001b[0m                                                                                                  \u001b[38;2;255;0;0m│\u001b[0m\n",
       "\u001b[38;2;255;0;0m│\u001b[0m \u001b[2;33m/home/ec2-user/anaconda3/envs/python3/lib/python3.10/site-packages/sagemaker/\u001b[0m\u001b[1;33msession.py\u001b[0m:\u001b[94m6678\u001b[0m in  \u001b[38;2;255;0;0m│\u001b[0m\n",
       "\u001b[38;2;255;0;0m│\u001b[0m \u001b[92m_intercept_create_request\u001b[0m                                                                        \u001b[38;2;255;0;0m│\u001b[0m\n",
       "\u001b[38;2;255;0;0m│\u001b[0m                                                                                                  \u001b[38;2;255;0;0m│\u001b[0m\n",
       "\u001b[38;2;255;0;0m│\u001b[0m   \u001b[2m6675 \u001b[0m\u001b[2;33m│   │   │   \u001b[0m\u001b[33mcreate (functor): a functor calls the sagemaker client create method\u001b[0m          \u001b[38;2;255;0;0m│\u001b[0m\n",
       "\u001b[38;2;255;0;0m│\u001b[0m   \u001b[2m6676 \u001b[0m\u001b[2;33m│   │   │   \u001b[0m\u001b[33mfunc_name (str): the name of the function needed intercepting\u001b[0m                 \u001b[38;2;255;0;0m│\u001b[0m\n",
       "\u001b[38;2;255;0;0m│\u001b[0m   \u001b[2m6677 \u001b[0m\u001b[2;33m│   │   \u001b[0m\u001b[33m\"\"\"\u001b[0m                                                                               \u001b[38;2;255;0;0m│\u001b[0m\n",
       "\u001b[38;2;255;0;0m│\u001b[0m \u001b[31m❱ \u001b[0m6678 \u001b[2m│   │   \u001b[0m\u001b[94mreturn\u001b[0m create(request)                                                            \u001b[38;2;255;0;0m│\u001b[0m\n",
       "\u001b[38;2;255;0;0m│\u001b[0m   \u001b[2m6679 \u001b[0m\u001b[2m│   \u001b[0m                                                                                      \u001b[38;2;255;0;0m│\u001b[0m\n",
       "\u001b[38;2;255;0;0m│\u001b[0m   \u001b[2m6680 \u001b[0m\u001b[2m│   \u001b[0m\u001b[94mdef\u001b[0m\u001b[90m \u001b[0m\u001b[92m_create_inference_recommendations_job_request\u001b[0m(                                    \u001b[38;2;255;0;0m│\u001b[0m\n",
       "\u001b[38;2;255;0;0m│\u001b[0m   \u001b[2m6681 \u001b[0m\u001b[2m│   │   \u001b[0m\u001b[96mself\u001b[0m,                                                                             \u001b[38;2;255;0;0m│\u001b[0m\n",
       "\u001b[38;2;255;0;0m│\u001b[0m                                                                                                  \u001b[38;2;255;0;0m│\u001b[0m\n",
       "\u001b[38;2;255;0;0m│\u001b[0m \u001b[2;33m/home/ec2-user/anaconda3/envs/python3/lib/python3.10/site-packages/sagemaker/\u001b[0m\u001b[1;33msession.py\u001b[0m:\u001b[94m4097\u001b[0m in  \u001b[38;2;255;0;0m│\u001b[0m\n",
       "\u001b[38;2;255;0;0m│\u001b[0m \u001b[92msubmit\u001b[0m                                                                                           \u001b[38;2;255;0;0m│\u001b[0m\n",
       "\u001b[38;2;255;0;0m│\u001b[0m                                                                                                  \u001b[38;2;255;0;0m│\u001b[0m\n",
       "\u001b[38;2;255;0;0m│\u001b[0m   \u001b[2m4094 \u001b[0m\u001b[2m│   │   │   \u001b[0mlogger.info(\u001b[33m\"\u001b[0m\u001b[33mCreating model with name: \u001b[0m\u001b[33m%s\u001b[0m\u001b[33m\"\u001b[0m, name)                             \u001b[38;2;255;0;0m│\u001b[0m\n",
       "\u001b[38;2;255;0;0m│\u001b[0m   \u001b[2m4095 \u001b[0m\u001b[2m│   │   │   \u001b[0mlogger.debug(\u001b[33m\"\u001b[0m\u001b[33mCreateModel request: \u001b[0m\u001b[33m%s\u001b[0m\u001b[33m\"\u001b[0m, json.dumps(request, indent=\u001b[94m4\u001b[0m))        \u001b[38;2;255;0;0m│\u001b[0m\n",
       "\u001b[38;2;255;0;0m│\u001b[0m   \u001b[2m4096 \u001b[0m\u001b[2m│   │   │   \u001b[0m\u001b[94mtry\u001b[0m:                                                                          \u001b[38;2;255;0;0m│\u001b[0m\n",
       "\u001b[38;2;255;0;0m│\u001b[0m \u001b[31m❱ \u001b[0m4097 \u001b[2m│   │   │   │   \u001b[0m\u001b[96mself\u001b[0m.sagemaker_client.create_model(**request)                             \u001b[38;2;255;0;0m│\u001b[0m\n",
       "\u001b[38;2;255;0;0m│\u001b[0m   \u001b[2m4098 \u001b[0m\u001b[2m│   │   │   \u001b[0m\u001b[94mexcept\u001b[0m ClientError \u001b[94mas\u001b[0m e:                                                      \u001b[38;2;255;0;0m│\u001b[0m\n",
       "\u001b[38;2;255;0;0m│\u001b[0m   \u001b[2m4099 \u001b[0m\u001b[2m│   │   │   │   \u001b[0merror_code = e.response[\u001b[33m\"\u001b[0m\u001b[33mError\u001b[0m\u001b[33m\"\u001b[0m][\u001b[33m\"\u001b[0m\u001b[33mCode\u001b[0m\u001b[33m\"\u001b[0m]                                  \u001b[38;2;255;0;0m│\u001b[0m\n",
       "\u001b[38;2;255;0;0m│\u001b[0m   \u001b[2m4100 \u001b[0m\u001b[2m│   │   │   │   \u001b[0mmessage = e.response[\u001b[33m\"\u001b[0m\u001b[33mError\u001b[0m\u001b[33m\"\u001b[0m][\u001b[33m\"\u001b[0m\u001b[33mMessage\u001b[0m\u001b[33m\"\u001b[0m]                                  \u001b[38;2;255;0;0m│\u001b[0m\n",
       "\u001b[38;2;255;0;0m│\u001b[0m                                                                                                  \u001b[38;2;255;0;0m│\u001b[0m\n",
       "\u001b[38;2;255;0;0m│\u001b[0m \u001b[2;33m/home/ec2-user/anaconda3/envs/python3/lib/python3.10/site-packages/botocore/\u001b[0m\u001b[1;33mclient.py\u001b[0m:\u001b[94m569\u001b[0m in     \u001b[38;2;255;0;0m│\u001b[0m\n",
       "\u001b[38;2;255;0;0m│\u001b[0m \u001b[92m_api_call\u001b[0m                                                                                        \u001b[38;2;255;0;0m│\u001b[0m\n",
       "\u001b[38;2;255;0;0m│\u001b[0m                                                                                                  \u001b[38;2;255;0;0m│\u001b[0m\n",
       "\u001b[38;2;255;0;0m│\u001b[0m   \u001b[2m 566 \u001b[0m\u001b[2m│   │   │   │   │   \u001b[0m\u001b[33mf\u001b[0m\u001b[33m\"\u001b[0m\u001b[33m{\u001b[0mpy_operation_name\u001b[33m}\u001b[0m\u001b[33m() only accepts keyword arguments.\u001b[0m\u001b[33m\"\u001b[0m              \u001b[38;2;255;0;0m│\u001b[0m\n",
       "\u001b[38;2;255;0;0m│\u001b[0m   \u001b[2m 567 \u001b[0m\u001b[2m│   │   │   │   \u001b[0m)                                                                         \u001b[38;2;255;0;0m│\u001b[0m\n",
       "\u001b[38;2;255;0;0m│\u001b[0m   \u001b[2m 568 \u001b[0m\u001b[2m│   │   │   \u001b[0m\u001b[2m# The \"self\" in this scope is referring to the BaseClient.\u001b[0m                    \u001b[38;2;255;0;0m│\u001b[0m\n",
       "\u001b[38;2;255;0;0m│\u001b[0m \u001b[31m❱ \u001b[0m 569 \u001b[2m│   │   │   \u001b[0m\u001b[94mreturn\u001b[0m \u001b[96mself\u001b[0m._make_api_call(operation_name, kwargs)                            \u001b[38;2;255;0;0m│\u001b[0m\n",
       "\u001b[38;2;255;0;0m│\u001b[0m   \u001b[2m 570 \u001b[0m\u001b[2m│   │   \u001b[0m                                                                                  \u001b[38;2;255;0;0m│\u001b[0m\n",
       "\u001b[38;2;255;0;0m│\u001b[0m   \u001b[2m 571 \u001b[0m\u001b[2m│   │   \u001b[0m_api_call.\u001b[91m__name__\u001b[0m = \u001b[96mstr\u001b[0m(py_operation_name)                                       \u001b[38;2;255;0;0m│\u001b[0m\n",
       "\u001b[38;2;255;0;0m│\u001b[0m   \u001b[2m 572 \u001b[0m                                                                                          \u001b[38;2;255;0;0m│\u001b[0m\n",
       "\u001b[38;2;255;0;0m│\u001b[0m                                                                                                  \u001b[38;2;255;0;0m│\u001b[0m\n",
       "\u001b[38;2;255;0;0m│\u001b[0m \u001b[2;33m/home/ec2-user/anaconda3/envs/python3/lib/python3.10/site-packages/botocore/\u001b[0m\u001b[1;33mclient.py\u001b[0m:\u001b[94m1023\u001b[0m in    \u001b[38;2;255;0;0m│\u001b[0m\n",
       "\u001b[38;2;255;0;0m│\u001b[0m \u001b[92m_make_api_call\u001b[0m                                                                                   \u001b[38;2;255;0;0m│\u001b[0m\n",
       "\u001b[38;2;255;0;0m│\u001b[0m                                                                                                  \u001b[38;2;255;0;0m│\u001b[0m\n",
       "\u001b[38;2;255;0;0m│\u001b[0m   \u001b[2m1020 \u001b[0m\u001b[2m│   │   │   │   \u001b[0m\u001b[33m\"\u001b[0m\u001b[33mCode\u001b[0m\u001b[33m\"\u001b[0m                                                                    \u001b[38;2;255;0;0m│\u001b[0m\n",
       "\u001b[38;2;255;0;0m│\u001b[0m   \u001b[2m1021 \u001b[0m\u001b[2m│   │   │   \u001b[0m)                                                                             \u001b[38;2;255;0;0m│\u001b[0m\n",
       "\u001b[38;2;255;0;0m│\u001b[0m   \u001b[2m1022 \u001b[0m\u001b[2m│   │   │   \u001b[0merror_class = \u001b[96mself\u001b[0m.exceptions.from_code(error_code)                           \u001b[38;2;255;0;0m│\u001b[0m\n",
       "\u001b[38;2;255;0;0m│\u001b[0m \u001b[31m❱ \u001b[0m1023 \u001b[2m│   │   │   \u001b[0m\u001b[94mraise\u001b[0m error_class(parsed_response, operation_name)                            \u001b[38;2;255;0;0m│\u001b[0m\n",
       "\u001b[38;2;255;0;0m│\u001b[0m   \u001b[2m1024 \u001b[0m\u001b[2m│   │   \u001b[0m\u001b[94melse\u001b[0m:                                                                             \u001b[38;2;255;0;0m│\u001b[0m\n",
       "\u001b[38;2;255;0;0m│\u001b[0m   \u001b[2m1025 \u001b[0m\u001b[2m│   │   │   \u001b[0m\u001b[94mreturn\u001b[0m parsed_response                                                        \u001b[38;2;255;0;0m│\u001b[0m\n",
       "\u001b[38;2;255;0;0m│\u001b[0m   \u001b[2m1026 \u001b[0m                                                                                          \u001b[38;2;255;0;0m│\u001b[0m\n",
       "\u001b[38;2;255;0;0m╰──────────────────────────────────────────────────────────────────────────────────────────────────╯\u001b[0m\n",
       "\u001b[1;91mClientError: \u001b[0mAn error occurred \u001b[1m(\u001b[0mValidationException\u001b[1m)\u001b[0m when calling the CreateModel operation: Requested image \n",
       "\u001b[1;36m361769587425.\u001b[0mdkr.ecr.us-east-\u001b[1;36m1.\u001b[0mamazonaws.com/lightgbm-fraud-detection not found.\n"
      ]
     },
     "metadata": {},
     "output_type": "display_data"
    }
   ],
   "source": [
    "import boto3\n",
    "import tarfile\n",
    "import os\n",
    "from sagemaker.model import Model\n",
    " \n",
    "# Define S3 URIs\n",
    "s3_model_bst_uri = \"s3://fr-detector/models/model.bst\"  # Model file in S3\n",
    "s3_model_tar_uri = \"s3://fr-detector/models/model.tar.gz\"  # Path for the tar file\n",
    " \n",
    "# Extract bucket name and key from S3 URI\n",
    "s3_bucket = s3_model_bst_uri.split('/')[2]\n",
    "s3_bst_key = \"/\".join(s3_model_bst_uri.split('/')[3:])  # Path inside S3\n",
    " \n",
    "s3_tar_key = \"/\".join(s3_model_tar_uri.split('/')[3:])  # Path for tar.gz in S3\n",
    " \n",
    "# Initialize S3 client\n",
    "s3 = boto3.client(\"s3\")\n",
    " \n",
    "# Step 1: Download model.bst from S3\n",
    "print(\"Downloading model.bst from S3...\")\n",
    "s3.download_file(s3_bucket, s3_bst_key, \"model.bst\")\n",
    " \n",
    "# Step 2: Package model into model.tar.gz\n",
    "print(\"Packaging model into model.tar.gz...\")\n",
    "os.makedirs(\"model\", exist_ok=True)\n",
    "os.rename(\"model.bst\", \"model/model.bst\")\n",
    " \n",
    "with tarfile.open(\"model.tar.gz\", \"w:gz\") as tar:\n",
    "    tar.add(\"model\", arcname=\".\")\n",
    " \n",
    "# Step 3: Upload model.tar.gz to the same S3 bucket\n",
    "print(\"Uploading model.tar.gz to S3...\")\n",
    "s3.upload_file(\"model.tar.gz\", s3_bucket, s3_tar_key)\n",
    " \n",
    "# Step 4: Deploy the model in SageMaker\n",
    "role_arn = \"arn:aws:iam::361769587425:role/service-role/AmazonSageMaker-ExecutionRole-20250204T104128\"  # Replace with actual SageMaker role\n",
    "image_uri = \"361769587425.dkr.ecr.us-east-1.amazonaws.com/lightgbm-fraud-detection\"\n",
    " \n",
    "print(\"Deploying the model on SageMaker...\")\n",
    "model = Model(\n",
    "    image_uri=image_uri,\n",
    "    model_data=s3_model_tar_uri,  # Direct S3 URI for tar.gz\n",
    "    role=role_arn,\n",
    ")\n",
    " \n",
    "predictor = model.deploy(instance_type=\"ml.m5.large\", initial_instance_count=1)\n",
    " \n",
    "# Step 5: Print endpoint details\n",
    "print(\"Model deployed successfully!\")\n",
    "print(f\"Endpoint name: {predictor.endpoint_name}\")"
   ]
  },
  {
   "cell_type": "code",
   "execution_count": null,
   "id": "6cd51acc-48a8-4706-81f1-390c5a7f2e6e",
   "metadata": {},
   "outputs": [],
   "source": []
  },
  {
   "cell_type": "code",
   "execution_count": null,
   "id": "4b8d061b-3a8f-41ce-a0c2-6f42f9709b87",
   "metadata": {},
   "outputs": [],
   "source": []
  },
  {
   "cell_type": "code",
   "execution_count": null,
   "id": "f939d3c7-1c48-40c7-889f-c27c0af5b221",
   "metadata": {},
   "outputs": [],
   "source": []
  },
  {
   "cell_type": "code",
   "execution_count": null,
   "id": "c0d79cc6-c4a1-4e02-9779-f51b96b1a854",
   "metadata": {},
   "outputs": [],
   "source": []
  },
  {
   "cell_type": "code",
   "execution_count": null,
   "id": "6c06a57a-44c7-4f3a-a64a-724dd9475dc8",
   "metadata": {},
   "outputs": [],
   "source": []
  },
  {
   "cell_type": "code",
   "execution_count": null,
   "id": "eae0e206-e590-450a-a6ac-2126d2481f18",
   "metadata": {},
   "outputs": [],
   "source": []
  },
  {
   "cell_type": "code",
   "execution_count": null,
   "id": "0457804b-5c8f-4fad-9a80-0895b8fcca9a",
   "metadata": {},
   "outputs": [],
   "source": []
  },
  {
   "cell_type": "code",
   "execution_count": null,
   "id": "8b23322e-bab0-4835-8b94-86d94a7f0e90",
   "metadata": {},
   "outputs": [],
   "source": []
  },
  {
   "cell_type": "code",
   "execution_count": null,
   "id": "4b00546e-c94c-43e1-b57a-1b67ab332648",
   "metadata": {},
   "outputs": [],
   "source": []
  },
  {
   "cell_type": "raw",
   "id": "648bbb22-1a02-4b3d-94c9-36a91e6dfbe2",
   "metadata": {},
   "source": [
    "# Create a tar.gz archive\n",
    "tar_path = \"lightgbm_model.tar.gz\"\n",
    "with tarfile.open(tar_path, \"w:gz\") as tar:\n",
    "    tar.add(model_path, arcname=\"model.txt\")\n",
    " \n",
    "print(\"✅ Model archived as lightgbm_model.tar.gz\")\n",
    " "
   ]
  },
  {
   "cell_type": "code",
   "execution_count": 52,
   "id": "b617c3d3-7fa1-4724-8088-1b2ca18fd907",
   "metadata": {},
   "outputs": [
    {
     "name": "stdout",
     "output_type": "stream",
     "text": [
      "✅ Model uploaded successfully to s3://fr-detector/models/lightgbm_model.tar.gz\n"
     ]
    }
   ],
   "source": [
    "import boto3\n",
    " \n",
    "# Define S3 bucket and model path\n",
    "s3_bucket = \"fr-detector\"  # Your S3 bucket name\n",
    "s3_model_path = f\"models/lightgbm_model.tar.gz\"  # Model path inside the bucket\n",
    " \n",
    "# Upload to S3\n",
    "s3_client = boto3.client(\"s3\")\n",
    "s3_client.upload_file(\"lightgbm_model.tar.gz\", s3_bucket, s3_model_path)\n",
    " \n",
    "print(f\"✅ Model uploaded successfully to s3://{s3_bucket}/{s3_model_path}\")"
   ]
  },
  {
   "cell_type": "raw",
   "id": "ff6f2daa-4cf9-4bf9-bd94-d198effd0eeb",
   "metadata": {},
   "source": [
    "import sagemaker\n",
    "from sagemaker.model import Model\n",
    " \n",
    "# Define model S3 path\n",
    "s3_model_uri = f\"s3://fr-detector/models/lightgbm_model.tar.gz\"\n",
    " \n",
    "# Get execution role\n",
    "role = sagemaker.get_execution_role()\n",
    " \n",
    "# Create SageMaker Model\n",
    "lightgbm_model = Model(\n",
    "    image_uri=sagemaker.image_uris.retrieve(\"lightgbm\", sagemaker.Session().boto_region_name, \"latest\"),\n",
    "    model_data=s3_model_uri,\n",
    "    role=role,\n",
    ")\n",
    " \n",
    "print(\"✅ SageMaker model created successfully!\")"
   ]
  },
  {
   "cell_type": "code",
   "execution_count": 55,
   "id": "6a1b4a5a-9e8d-49d3-98b9-008312728b82",
   "metadata": {},
   "outputs": [
    {
     "name": "stdout",
     "output_type": "stream",
     "text": [
      "✅ Model exists at s3://fr-detector/models/lightgbm_model.tar.gz\n"
     ]
    }
   ],
   "source": [
    "import boto3\n",
    " \n",
    "s3_client = boto3.client(\"s3\")\n",
    "s3_bucket = \"fr-detector\"\n",
    "s3_model_key = \"models/lightgbm_model.tar.gz\"\n",
    " \n",
    "# Check if model exists in S3\n",
    "try:\n",
    "    s3_client.head_object(Bucket=s3_bucket, Key=s3_model_key)\n",
    "    print(f\"✅ Model exists at s3://{s3_bucket}/{s3_model_key}\")\n",
    "except Exception as e:\n",
    "    print(f\"❌ Model not found in S3: {e}\")"
   ]
  },
  {
   "cell_type": "code",
   "execution_count": 56,
   "id": "fa002fe7-a714-493e-bac3-a7d0721ef91c",
   "metadata": {},
   "outputs": [
    {
     "name": "stdout",
     "output_type": "stream",
     "text": [
      "Writing inference.py\n"
     ]
    }
   ],
   "source": [
    "%%writefile inference.py\n",
    " \n",
    "import os\n",
    "import lightgbm as lgb\n",
    "import json\n",
    "import numpy as np\n",
    "import pandas as pd\n",
    "import joblib\n",
    " \n",
    "# Model loading function\n",
    "def model_fn(model_dir):\n",
    "    \"\"\"Loads the trained LightGBM model from disk.\"\"\"\n",
    "    model_path = os.path.join(model_dir, \"model.txt\")\n",
    "    model = lgb.Booster(model_file=model_path)\n",
    "    return model\n",
    " \n",
    "# Input processing function\n",
    "def input_fn(request_body, request_content_type):\n",
    "    \"\"\"Converts input JSON into a Pandas DataFrame.\"\"\"\n",
    "    if request_content_type == \"application/json\":\n",
    "        data = json.loads(request_body)\n",
    "        return pd.DataFrame(data)\n",
    "    else:\n",
    "        raise ValueError(f\"Unsupported content type: {request_content_type}\")\n",
    " \n",
    "# Prediction function\n",
    "def predict_fn(input_data, model):\n",
    "    \"\"\"Runs inference and returns predictions.\"\"\"\n",
    "    predictions = model.predict(input_data)\n",
    "    return predictions.tolist()\n",
    " \n",
    "# Output formatting function\n",
    "def output_fn(predictions, response_content_type):\n",
    "    \"\"\"Formats the output as JSON.\"\"\"\n",
    "    if response_content_type == \"application/json\":\n",
    "        return json.dumps(predictions)\n",
    "    else:\n",
    "        raise ValueError(f\"Unsupported response type: {response_content_type}\")"
   ]
  },
  {
   "cell_type": "code",
   "execution_count": 59,
   "id": "103b7f0c-9b75-4d36-8dba-3a9109bccbf8",
   "metadata": {},
   "outputs": [
    {
     "name": "stdout",
     "output_type": "stream",
     "text": [
      "✅ Model directory prepared!\n"
     ]
    }
   ],
   "source": [
    "import os\n",
    "import shutil\n",
    " \n",
    "# Define model directory\n",
    "model_dir = \"lightgbm_sagemaker\"\n",
    "os.makedirs(model_dir, exist_ok=True)\n",
    " \n",
    "# Move model.txt and inference.py to this directory\n",
    "shutil.move(\"lightgbm_model/model.txt\", os.path.join(model_dir, \"model.txt\"))\n",
    "shutil.move(\"inference.py\", os.path.join(model_dir, \"inference.py\"))\n",
    " \n",
    "print(\"✅ Model directory prepared!\")"
   ]
  },
  {
   "cell_type": "code",
   "execution_count": 60,
   "id": "7cf49f79-688c-4c84-8e20-47ef5aca4b97",
   "metadata": {},
   "outputs": [
    {
     "name": "stdout",
     "output_type": "stream",
     "text": [
      "✅ Model and inference script archived successfully!\n"
     ]
    }
   ],
   "source": [
    "import tarfile\n",
    " \n",
    "tar_path = \"lightgbm_sagemaker.tar.gz\"\n",
    "with tarfile.open(tar_path, \"w:gz\") as tar:\n",
    "    tar.add(model_dir, arcname=\".\")\n",
    " \n",
    "print(\"✅ Model and inference script archived successfully!\")\n",
    " "
   ]
  },
  {
   "cell_type": "code",
   "execution_count": 61,
   "id": "6af84b10-9997-44b6-8181-e71393f5137b",
   "metadata": {},
   "outputs": [
    {
     "name": "stdout",
     "output_type": "stream",
     "text": [
      "✅ Model uploaded successfully to s3://fr-detector/models/lightgbm_sagemaker.tar.gz\n"
     ]
    }
   ],
   "source": [
    "import boto3\n",
    " \n",
    "# Define S3 bucket and model path\n",
    "s3_bucket = \"fr-detector\"  # Your S3 bucket name\n",
    "s3_model_path = f\"models/lightgbm_sagemaker.tar.gz\"  # Path inside the bucket\n",
    " \n",
    "# Upload to S3\n",
    "s3_client = boto3.client(\"s3\")\n",
    "s3_client.upload_file(\"lightgbm_sagemaker.tar.gz\", s3_bucket, s3_model_path)\n",
    " \n",
    "print(f\"✅ Model uploaded successfully to s3://{s3_bucket}/{s3_model_path}\")"
   ]
  },
  {
   "cell_type": "code",
   "execution_count": 62,
   "id": "cb06cfa7-6591-4977-bcc7-ccbcd6976147",
   "metadata": {},
   "outputs": [
    {
     "name": "stdout",
     "output_type": "stream",
     "text": [
      "✅ SageMaker Model created successfully!\n"
     ]
    }
   ],
   "source": [
    "import sagemaker\n",
    "from sagemaker.model import Model\n",
    " \n",
    "# Define model S3 path\n",
    "s3_model_uri = f\"s3://fr-detector/models/lightgbm_sagemaker.tar.gz\"\n",
    " \n",
    "# Get SageMaker execution role\n",
    "role = sagemaker.get_execution_role()\n",
    " \n",
    "# Define the container for deployment (using a generic Python container)\n",
    "image_uri = \"683313688378.dkr.ecr.us-east-1.amazonaws.com/sagemaker-scikit-learn:1.2-1-cpu-py3\"\n",
    " \n",
    "# Create a SageMaker Model\n",
    "lightgbm_model = Model(\n",
    "    model_data=s3_model_uri,\n",
    "    image_uri=image_uri,\n",
    "    role=role,\n",
    "    predictor_cls=sagemaker.predictor.Predictor\n",
    ")\n",
    " \n",
    "print(\"✅ SageMaker Model created successfully!\")"
   ]
  },
  {
   "cell_type": "code",
   "execution_count": 63,
   "id": "9632f606-aed6-4457-accc-8ac6447e3115",
   "metadata": {},
   "outputs": [
    {
     "name": "stdout",
     "output_type": "stream",
     "text": [
      "hello\n"
     ]
    }
   ],
   "source": [
    "print(\"hello\")"
   ]
  },
  {
   "cell_type": "code",
   "execution_count": 64,
   "id": "d747ece5-9328-4205-a503-bab44046fa07",
   "metadata": {},
   "outputs": [
    {
     "name": "stdout",
     "output_type": "stream",
     "text": [
      "Model Name: sagemaker-scikit-learn-2025-03-13-10-45-28-137, Created At: 2025-03-13 10:45:28.626000+00:00\n",
      "Model Name: sagemaker-scikit-learn-2025-03-13-10-45-05-048, Created At: 2025-03-13 10:45:05.531000+00:00\n",
      "Model Name: sagemaker-scikit-learn-2025-03-13-10-40-51-005, Created At: 2025-03-13 10:40:51.453000+00:00\n",
      "Model Name: sagemaker-scikit-learn-2025-03-13-09-49-35-714, Created At: 2025-03-13 09:49:36.243000+00:00\n",
      "Model Name: sagemaker-scikit-learn-2025-03-13-08-59-43-592, Created At: 2025-03-13 08:59:44.115000+00:00\n",
      "Model Name: sagemaker-scikit-learn-2025-03-13-08-55-47-960, Created At: 2025-03-13 08:55:48.453000+00:00\n",
      "Model Name: sagemaker-scikit-learn-2025-03-13-08-35-42-702, Created At: 2025-03-13 08:35:43.195000+00:00\n",
      "Model Name: sagemaker-scikit-learn-2025-03-13-08-35-13-607, Created At: 2025-03-13 08:35:14.065000+00:00\n",
      "Model Name: sagemaker-scikit-learn-2025-03-13-08-20-54-313, Created At: 2025-03-13 08:20:54.845000+00:00\n",
      "Model Name: sagemaker-scikit-learn-2025-03-13-08-11-10-579, Created At: 2025-03-13 08:11:11.128000+00:00\n"
     ]
    }
   ],
   "source": [
    "import boto3\n",
    " \n",
    "sm_client = boto3.client(\"sagemaker\")\n",
    " \n",
    "# List all models\n",
    "response = sm_client.list_models()\n",
    " \n",
    "# Print model names and creation time\n",
    "for model in response[\"Models\"]:\n",
    "    print(f\"Model Name: {model['ModelName']}, Created At: {model['CreationTime']}\")"
   ]
  },
  {
   "cell_type": "code",
   "execution_count": 65,
   "id": "0af38d90-e889-4376-971f-f9b40baa0811",
   "metadata": {},
   "outputs": [
    {
     "name": "stdout",
     "output_type": "stream",
     "text": [
      "Model Name: sagemaker-scikit-learn-2025-03-13-10-45-28-137, Created At: 2025-03-13 10:45:28.626000+00:00\n",
      "Model Name: sagemaker-scikit-learn-2025-03-13-10-45-05-048, Created At: 2025-03-13 10:45:05.531000+00:00\n",
      "Model Name: sagemaker-scikit-learn-2025-03-13-10-40-51-005, Created At: 2025-03-13 10:40:51.453000+00:00\n",
      "Model Name: sagemaker-scikit-learn-2025-03-13-09-49-35-714, Created At: 2025-03-13 09:49:36.243000+00:00\n",
      "Model Name: sagemaker-scikit-learn-2025-03-13-08-59-43-592, Created At: 2025-03-13 08:59:44.115000+00:00\n"
     ]
    }
   ],
   "source": [
    "import boto3\n",
    " \n",
    "sm_client = boto3.client(\"sagemaker\")\n",
    " \n",
    "# Get the most recent model\n",
    "response = sm_client.list_models(SortBy=\"CreationTime\", SortOrder=\"Descending\", MaxResults=5)\n",
    " \n",
    "# Print model names and creation time\n",
    "for model in response[\"Models\"]:\n",
    "    print(f\"Model Name: {model['ModelName']}, Created At: {model['CreationTime']}\")"
   ]
  },
  {
   "cell_type": "code",
   "execution_count": 66,
   "id": "6bc445d2-0e7a-4e68-9f3a-b1be39db338e",
   "metadata": {},
   "outputs": [
    {
     "data": {
      "text/html": [
       "<pre style=\"white-space:pre;overflow-x:auto;line-height:normal;font-family:Menlo,'DejaVu Sans Mono',consolas,'Courier New',monospace\"><span style=\"color: #7fbfbf; text-decoration-color: #7fbfbf\">[03/18/25 14:48:50] </span><span style=\"color: #0069ff; text-decoration-color: #0069ff; font-weight: bold\">INFO    </span> Creating model with name: lightgbm-fraud-detection-model               <a href=\"file:///home/ec2-user/anaconda3/envs/python3/lib/python3.10/site-packages/sagemaker/session.py\" target=\"_blank\"><span style=\"color: #7f7f7f; text-decoration-color: #7f7f7f\">session.py</span></a><span style=\"color: #7f7f7f; text-decoration-color: #7f7f7f\">:</span><a href=\"file:///home/ec2-user/anaconda3/envs/python3/lib/python3.10/site-packages/sagemaker/session.py#4094\" target=\"_blank\"><span style=\"color: #7f7f7f; text-decoration-color: #7f7f7f\">4094</span></a>\n",
       "</pre>\n"
      ],
      "text/plain": [
       "\u001b[2;36m[03/18/25 14:48:50]\u001b[0m\u001b[2;36m \u001b[0m\u001b[1;38;2;0;105;255mINFO    \u001b[0m Creating model with name: lightgbm-fraud-detection-model               \u001b]8;id=688669;file:///home/ec2-user/anaconda3/envs/python3/lib/python3.10/site-packages/sagemaker/session.py\u001b\\\u001b[2msession.py\u001b[0m\u001b]8;;\u001b\\\u001b[2m:\u001b[0m\u001b]8;id=2678;file:///home/ec2-user/anaconda3/envs/python3/lib/python3.10/site-packages/sagemaker/session.py#4094\u001b\\\u001b[2m4094\u001b[0m\u001b]8;;\u001b\\\n"
      ]
     },
     "metadata": {},
     "output_type": "display_data"
    },
    {
     "name": "stdout",
     "output_type": "stream",
     "text": [
      "✅ SageMaker Model 'lightgbm-fraud-detection-model' created successfully!\n"
     ]
    }
   ],
   "source": [
    "import sagemaker\n",
    "from sagemaker.model import Model\n",
    " \n",
    "# Define model name explicitly\n",
    "model_name = \"lightgbm-fraud-detection-model\"\n",
    " \n",
    "# Define S3 path for the model\n",
    "s3_model_uri = \"s3://fr-detector/models/lightgbm_sagemaker.tar.gz\"\n",
    " \n",
    "# Get SageMaker execution role\n",
    "role = sagemaker.get_execution_role()\n",
    " \n",
    "# Define the container for deployment (using a generic Python container)\n",
    "image_uri = \"683313688378.dkr.ecr.us-east-1.amazonaws.com/sagemaker-scikit-learn:1.2-1-cpu-py3\"\n",
    " \n",
    "# Create the SageMaker model\n",
    "lightgbm_model = Model(\n",
    "    model_data=s3_model_uri,\n",
    "    image_uri=image_uri,\n",
    "    role=role,\n",
    "    predictor_cls=sagemaker.predictor.Predictor,\n",
    "    name=model_name  # Explicitly setting the model name\n",
    ")\n",
    " \n",
    "# Register the model in SageMaker\n",
    "lightgbm_model.create()\n",
    "print(f\"✅ SageMaker Model '{model_name}' created successfully!\")"
   ]
  },
  {
   "cell_type": "code",
   "execution_count": 67,
   "id": "293c5d48-374c-4090-80b5-775a735b458d",
   "metadata": {},
   "outputs": [
    {
     "name": "stdout",
     "output_type": "stream",
     "text": [
      "✅ Endpoint configuration 'lightgbm-fraud-detection-endpoint-config' created successfully!\n"
     ]
    }
   ],
   "source": [
    "import boto3\n",
    " \n",
    "sm_client = boto3.client(\"sagemaker\")\n",
    " \n",
    "# Define endpoint configuration name\n",
    "endpoint_config_name = \"lightgbm-fraud-detection-endpoint-config\"\n",
    " \n",
    "# Create endpoint configuration\n",
    "response = sm_client.create_endpoint_config(\n",
    "    EndpointConfigName=endpoint_config_name,\n",
    "    ProductionVariants=[\n",
    "        {\n",
    "            \"VariantName\": \"AllTraffic\",\n",
    "            \"ModelName\": \"lightgbm-fraud-detection-model\",  # The model name we registered\n",
    "            \"InstanceType\": \"ml.m5.large\",  # Change instance type if needed\n",
    "            \"InitialInstanceCount\": 1\n",
    "        }\n",
    "    ]\n",
    ")\n",
    " \n",
    "print(f\"✅ Endpoint configuration '{endpoint_config_name}' created successfully!\")"
   ]
  },
  {
   "cell_type": "code",
   "execution_count": 68,
   "id": "068dfb04-fb14-44e0-96e1-d00a2e22508b",
   "metadata": {},
   "outputs": [
    {
     "name": "stdout",
     "output_type": "stream",
     "text": [
      "🚀 SageMaker Endpoint 'lightgbm-fraud-detection-endpoint' is being deployed! This may take a few minutes...\n"
     ]
    }
   ],
   "source": [
    "# Define endpoint name\n",
    "endpoint_name = \"lightgbm-fraud-detection-endpoint\"\n",
    " \n",
    "# Create the endpoint\n",
    "response = sm_client.create_endpoint(\n",
    "    EndpointName=endpoint_name,\n",
    "    EndpointConfigName=\"lightgbm-fraud-detection-endpoint-config\"  # Use the config we created\n",
    ")\n",
    " \n",
    "print(f\"🚀 SageMaker Endpoint '{endpoint_name}' is being deployed! This may take a few minutes...\")"
   ]
  },
  {
   "cell_type": "code",
   "execution_count": 69,
   "id": "9216a790-f9d6-4e42-92f6-ab6c327dc334",
   "metadata": {},
   "outputs": [
    {
     "name": "stdout",
     "output_type": "stream",
     "text": [
      "🚀 Endpoint Status: Creating\n",
      "🚀 Endpoint Status: Creating\n",
      "🚀 Endpoint Status: Creating\n",
      "🚀 Endpoint Status: Creating\n",
      "🚀 Endpoint Status: Creating\n",
      "🚀 Endpoint Status: Creating\n",
      "🚀 Endpoint Status: Creating\n",
      "🚀 Endpoint Status: Creating\n",
      "🚀 Endpoint Status: Creating\n",
      "🚀 Endpoint Status: Creating\n",
      "🚀 Endpoint Status: Creating\n",
      "🚀 Endpoint Status: Creating\n",
      "🚀 Endpoint Status: Creating\n",
      "🚀 Endpoint Status: Creating\n",
      "🚀 Endpoint Status: Creating\n",
      "🚀 Endpoint Status: Creating\n",
      "🚀 Endpoint Status: Creating\n",
      "🚀 Endpoint Status: Creating\n",
      "🚀 Endpoint Status: Creating\n",
      "🚀 Endpoint Status: Creating\n",
      "🚀 Endpoint Status: Creating\n",
      "🚀 Endpoint Status: Creating\n",
      "🚀 Endpoint Status: Creating\n",
      "🚀 Endpoint Status: Creating\n",
      "🚀 Endpoint Status: Creating\n",
      "🚀 Endpoint Status: Creating\n",
      "🚀 Endpoint Status: Creating\n",
      "🚀 Endpoint Status: Creating\n",
      "🚀 Endpoint Status: Creating\n",
      "🚀 Endpoint Status: Creating\n",
      "🚀 Endpoint Status: Creating\n",
      "🚀 Endpoint Status: Creating\n",
      "🚀 Endpoint Status: Creating\n",
      "🚀 Endpoint Status: Creating\n",
      "🚀 Endpoint Status: Creating\n",
      "🚀 Endpoint Status: Creating\n",
      "🚀 Endpoint Status: Creating\n",
      "🚀 Endpoint Status: Creating\n",
      "🚀 Endpoint Status: Creating\n",
      "🚀 Endpoint Status: Creating\n",
      "🚀 Endpoint Status: Creating\n",
      "🚀 Endpoint Status: Creating\n",
      "🚀 Endpoint Status: Creating\n",
      "🚀 Endpoint Status: Creating\n",
      "🚀 Endpoint Status: Creating\n",
      "🚀 Endpoint Status: Creating\n",
      "🚀 Endpoint Status: Creating\n",
      "🚀 Endpoint Status: Failed\n"
     ]
    }
   ],
   "source": [
    "import time\n",
    " \n",
    "# Function to check endpoint status\n",
    "def check_endpoint_status(endpoint_name):\n",
    "    while True:\n",
    "        response = sm_client.describe_endpoint(EndpointName=endpoint_name)\n",
    "        status = response[\"EndpointStatus\"]\n",
    "        print(f\"🚀 Endpoint Status: {status}\")\n",
    " \n",
    "        if status in [\"InService\", \"Failed\"]:\n",
    "            break  # Stop when deployment is complete or failed\n",
    "        time.sleep(30)  # Wait 30 seconds before checking again\n",
    " \n",
    "# Check status of the deployed endpoint\n",
    "check_endpoint_status(\"lightgbm-fraud-detection-endpoint\")"
   ]
  },
  {
   "cell_type": "code",
   "execution_count": 70,
   "id": "7e4af7d7-4fc3-470f-b297-613559fbfdaa",
   "metadata": {},
   "outputs": [
    {
     "name": "stdout",
     "output_type": "stream",
     "text": [
      "🚨 Failure Reason: The primary container for production variant AllTraffic did not pass the ping health check. Please check CloudWatch logs for this endpoint.\n"
     ]
    }
   ],
   "source": [
    "response = sm_client.describe_endpoint(EndpointName=\"lightgbm-fraud-detection-endpoint\")\n",
    "print(\"🚨 Failure Reason:\", response[\"FailureReason\"])"
   ]
  },
  {
   "cell_type": "code",
   "execution_count": 37,
   "id": "7e8a0e8a-efc8-4dcc-b64b-de9efb36bfd3",
   "metadata": {},
   "outputs": [
    {
     "data": {
      "text/html": [
       "<pre style=\"white-space:pre;overflow-x:auto;line-height:normal;font-family:Menlo,'DejaVu Sans Mono',consolas,'Courier New',monospace\"><span style=\"color: #7fbfbf; text-decoration-color: #7fbfbf\">[03/19/25 09:46:47] </span><span style=\"color: #0069ff; text-decoration-color: #0069ff; font-weight: bold\">INFO    </span> Found credentials from IAM Role:                                   <a href=\"file:///home/ec2-user/anaconda3/envs/python3/lib/python3.10/site-packages/botocore/credentials.py\" target=\"_blank\"><span style=\"color: #7f7f7f; text-decoration-color: #7f7f7f\">credentials.py</span></a><span style=\"color: #7f7f7f; text-decoration-color: #7f7f7f\">:</span><a href=\"file:///home/ec2-user/anaconda3/envs/python3/lib/python3.10/site-packages/botocore/credentials.py#1132\" target=\"_blank\"><span style=\"color: #7f7f7f; text-decoration-color: #7f7f7f\">1132</span></a>\n",
       "<span style=\"color: #7fbfbf; text-decoration-color: #7fbfbf\">                    </span>         BaseNotebookInstanceEc2InstanceRole                                <span style=\"color: #7f7f7f; text-decoration-color: #7f7f7f\">                   </span>\n",
       "</pre>\n"
      ],
      "text/plain": [
       "\u001b[2;36m[03/19/25 09:46:47]\u001b[0m\u001b[2;36m \u001b[0m\u001b[1;38;2;0;105;255mINFO    \u001b[0m Found credentials from IAM Role:                                   \u001b]8;id=539349;file:///home/ec2-user/anaconda3/envs/python3/lib/python3.10/site-packages/botocore/credentials.py\u001b\\\u001b[2mcredentials.py\u001b[0m\u001b]8;;\u001b\\\u001b[2m:\u001b[0m\u001b]8;id=579729;file:///home/ec2-user/anaconda3/envs/python3/lib/python3.10/site-packages/botocore/credentials.py#1132\u001b\\\u001b[2m1132\u001b[0m\u001b]8;;\u001b\\\n",
       "\u001b[2;36m                    \u001b[0m         BaseNotebookInstanceEc2InstanceRole                                \u001b[2m                   \u001b[0m\n"
      ]
     },
     "metadata": {},
     "output_type": "display_data"
    },
    {
     "data": {
      "text/html": [
       "<div>\n",
       "<style scoped>\n",
       "    .dataframe tbody tr th:only-of-type {\n",
       "        vertical-align: middle;\n",
       "    }\n",
       "\n",
       "    .dataframe tbody tr th {\n",
       "        vertical-align: top;\n",
       "    }\n",
       "\n",
       "    .dataframe thead th {\n",
       "        text-align: right;\n",
       "    }\n",
       "</style>\n",
       "<table border=\"1\" class=\"dataframe\">\n",
       "  <thead>\n",
       "    <tr style=\"text-align: right;\">\n",
       "      <th></th>\n",
       "      <th>TrialComponentName</th>\n",
       "      <th>DisplayName</th>\n",
       "      <th>learning_rate</th>\n",
       "      <th>max_depth</th>\n",
       "      <th>num_leaves</th>\n",
       "      <th>final_auc - Min</th>\n",
       "      <th>final_auc - Max</th>\n",
       "      <th>final_auc - Avg</th>\n",
       "      <th>final_auc - StdDev</th>\n",
       "      <th>final_auc - Last</th>\n",
       "      <th>...</th>\n",
       "      <th>train - Value</th>\n",
       "      <th>SageMaker.DebugHookOutput - MediaType</th>\n",
       "      <th>SageMaker.DebugHookOutput - Value</th>\n",
       "      <th>SageMaker.ModelArtifact - MediaType</th>\n",
       "      <th>SageMaker.ModelArtifact - Value</th>\n",
       "      <th>eta</th>\n",
       "      <th>gamma</th>\n",
       "      <th>min_child_weight</th>\n",
       "      <th>silent</th>\n",
       "      <th>subsample</th>\n",
       "    </tr>\n",
       "  </thead>\n",
       "  <tbody>\n",
       "    <tr>\n",
       "      <th>0</th>\n",
       "      <td>fraud-detection-experiment-sagemaker-run-17423...</td>\n",
       "      <td>fraud-detection-experiment-sagemaker-run-17423...</td>\n",
       "      <td>0.05</td>\n",
       "      <td>-1.0</td>\n",
       "      <td>31.0</td>\n",
       "      <td>0.999889</td>\n",
       "      <td>0.999889</td>\n",
       "      <td>0.999889</td>\n",
       "      <td>0.0</td>\n",
       "      <td>0.999889</td>\n",
       "      <td>...</td>\n",
       "      <td>NaN</td>\n",
       "      <td>NaN</td>\n",
       "      <td>NaN</td>\n",
       "      <td>NaN</td>\n",
       "      <td>NaN</td>\n",
       "      <td>NaN</td>\n",
       "      <td>NaN</td>\n",
       "      <td>NaN</td>\n",
       "      <td>NaN</td>\n",
       "      <td>NaN</td>\n",
       "    </tr>\n",
       "    <tr>\n",
       "      <th>1</th>\n",
       "      <td>fraud-detection-experiment-sagemaker-run-17423...</td>\n",
       "      <td>fraud-detection-experiment-sagemaker-run-17423...</td>\n",
       "      <td>NaN</td>\n",
       "      <td>NaN</td>\n",
       "      <td>NaN</td>\n",
       "      <td>NaN</td>\n",
       "      <td>NaN</td>\n",
       "      <td>NaN</td>\n",
       "      <td>NaN</td>\n",
       "      <td>NaN</td>\n",
       "      <td>...</td>\n",
       "      <td>NaN</td>\n",
       "      <td>NaN</td>\n",
       "      <td>NaN</td>\n",
       "      <td>NaN</td>\n",
       "      <td>NaN</td>\n",
       "      <td>NaN</td>\n",
       "      <td>NaN</td>\n",
       "      <td>NaN</td>\n",
       "      <td>NaN</td>\n",
       "      <td>NaN</td>\n",
       "    </tr>\n",
       "    <tr>\n",
       "      <th>2</th>\n",
       "      <td>fraud-detection-experiment-sagemaker-run-17423...</td>\n",
       "      <td>fraud-detection-experiment-sagemaker-run-17423...</td>\n",
       "      <td>0.05</td>\n",
       "      <td>-1.0</td>\n",
       "      <td>31.0</td>\n",
       "      <td>0.999889</td>\n",
       "      <td>0.999889</td>\n",
       "      <td>0.999889</td>\n",
       "      <td>0.0</td>\n",
       "      <td>0.999889</td>\n",
       "      <td>...</td>\n",
       "      <td>NaN</td>\n",
       "      <td>NaN</td>\n",
       "      <td>NaN</td>\n",
       "      <td>NaN</td>\n",
       "      <td>NaN</td>\n",
       "      <td>NaN</td>\n",
       "      <td>NaN</td>\n",
       "      <td>NaN</td>\n",
       "      <td>NaN</td>\n",
       "      <td>NaN</td>\n",
       "    </tr>\n",
       "    <tr>\n",
       "      <th>3</th>\n",
       "      <td>fraud-detection-experiment-sagemaker-run-17423...</td>\n",
       "      <td>fraud-detection-experiment-sagemaker-run-17423...</td>\n",
       "      <td>NaN</td>\n",
       "      <td>NaN</td>\n",
       "      <td>NaN</td>\n",
       "      <td>NaN</td>\n",
       "      <td>NaN</td>\n",
       "      <td>NaN</td>\n",
       "      <td>NaN</td>\n",
       "      <td>NaN</td>\n",
       "      <td>...</td>\n",
       "      <td>NaN</td>\n",
       "      <td>NaN</td>\n",
       "      <td>NaN</td>\n",
       "      <td>NaN</td>\n",
       "      <td>NaN</td>\n",
       "      <td>NaN</td>\n",
       "      <td>NaN</td>\n",
       "      <td>NaN</td>\n",
       "      <td>NaN</td>\n",
       "      <td>NaN</td>\n",
       "    </tr>\n",
       "    <tr>\n",
       "      <th>4</th>\n",
       "      <td>fraud-detection-experiment-sagemaker-run-17423...</td>\n",
       "      <td>fraud-detection-experiment-sagemaker-run-17423...</td>\n",
       "      <td>NaN</td>\n",
       "      <td>NaN</td>\n",
       "      <td>NaN</td>\n",
       "      <td>NaN</td>\n",
       "      <td>NaN</td>\n",
       "      <td>NaN</td>\n",
       "      <td>NaN</td>\n",
       "      <td>NaN</td>\n",
       "      <td>...</td>\n",
       "      <td>NaN</td>\n",
       "      <td>NaN</td>\n",
       "      <td>NaN</td>\n",
       "      <td>NaN</td>\n",
       "      <td>NaN</td>\n",
       "      <td>NaN</td>\n",
       "      <td>NaN</td>\n",
       "      <td>NaN</td>\n",
       "      <td>NaN</td>\n",
       "      <td>NaN</td>\n",
       "    </tr>\n",
       "    <tr>\n",
       "      <th>5</th>\n",
       "      <td>fraud-detection-experiment-sagemaker-run-17422...</td>\n",
       "      <td>fraud-detection-experiment-sagemaker-run-17422...</td>\n",
       "      <td>0.05</td>\n",
       "      <td>NaN</td>\n",
       "      <td>NaN</td>\n",
       "      <td>NaN</td>\n",
       "      <td>NaN</td>\n",
       "      <td>NaN</td>\n",
       "      <td>NaN</td>\n",
       "      <td>NaN</td>\n",
       "      <td>...</td>\n",
       "      <td>NaN</td>\n",
       "      <td>NaN</td>\n",
       "      <td>NaN</td>\n",
       "      <td>NaN</td>\n",
       "      <td>NaN</td>\n",
       "      <td>NaN</td>\n",
       "      <td>NaN</td>\n",
       "      <td>NaN</td>\n",
       "      <td>NaN</td>\n",
       "      <td>NaN</td>\n",
       "    </tr>\n",
       "    <tr>\n",
       "      <th>6</th>\n",
       "      <td>sagemaker-xgboost-2025-03-12-13-40-24-161-aws-...</td>\n",
       "      <td>sagemaker-xgboost-2025-03-12-13-40-24-161-aws-...</td>\n",
       "      <td>NaN</td>\n",
       "      <td>NaN</td>\n",
       "      <td>NaN</td>\n",
       "      <td>NaN</td>\n",
       "      <td>NaN</td>\n",
       "      <td>NaN</td>\n",
       "      <td>NaN</td>\n",
       "      <td>NaN</td>\n",
       "      <td>...</td>\n",
       "      <td>s3://fr-detector/balanced_train/train_final.csv</td>\n",
       "      <td>NaN</td>\n",
       "      <td>s3://fr-detector/models/</td>\n",
       "      <td>NaN</td>\n",
       "      <td>s3://fr-detector/models/sagemaker-xgboost-2025...</td>\n",
       "      <td>NaN</td>\n",
       "      <td>NaN</td>\n",
       "      <td>NaN</td>\n",
       "      <td>NaN</td>\n",
       "      <td>NaN</td>\n",
       "    </tr>\n",
       "    <tr>\n",
       "      <th>7</th>\n",
       "      <td>fraud-detection-experiment-trial-xgboost-17417...</td>\n",
       "      <td>fraud-detection-experiment-trial-xgboost-17417...</td>\n",
       "      <td>NaN</td>\n",
       "      <td>NaN</td>\n",
       "      <td>NaN</td>\n",
       "      <td>NaN</td>\n",
       "      <td>NaN</td>\n",
       "      <td>NaN</td>\n",
       "      <td>NaN</td>\n",
       "      <td>NaN</td>\n",
       "      <td>...</td>\n",
       "      <td>NaN</td>\n",
       "      <td>NaN</td>\n",
       "      <td>NaN</td>\n",
       "      <td>NaN</td>\n",
       "      <td>NaN</td>\n",
       "      <td>NaN</td>\n",
       "      <td>NaN</td>\n",
       "      <td>NaN</td>\n",
       "      <td>NaN</td>\n",
       "      <td>NaN</td>\n",
       "    </tr>\n",
       "    <tr>\n",
       "      <th>8</th>\n",
       "      <td>fraud-detection-experiment-fraud-detection-run...</td>\n",
       "      <td>fraud-detection-experiment-fraud-detection-run...</td>\n",
       "      <td>NaN</td>\n",
       "      <td>NaN</td>\n",
       "      <td>NaN</td>\n",
       "      <td>NaN</td>\n",
       "      <td>NaN</td>\n",
       "      <td>NaN</td>\n",
       "      <td>NaN</td>\n",
       "      <td>NaN</td>\n",
       "      <td>...</td>\n",
       "      <td>NaN</td>\n",
       "      <td>NaN</td>\n",
       "      <td>NaN</td>\n",
       "      <td>NaN</td>\n",
       "      <td>NaN</td>\n",
       "      <td>NaN</td>\n",
       "      <td>NaN</td>\n",
       "      <td>NaN</td>\n",
       "      <td>NaN</td>\n",
       "      <td>NaN</td>\n",
       "    </tr>\n",
       "    <tr>\n",
       "      <th>9</th>\n",
       "      <td>xgboost-2025-03-12-12-41-47-901-aws-training-job</td>\n",
       "      <td>xgboost-2025-03-12-12-41-47-901-aws-training-job</td>\n",
       "      <td>NaN</td>\n",
       "      <td>5.0</td>\n",
       "      <td>NaN</td>\n",
       "      <td>NaN</td>\n",
       "      <td>NaN</td>\n",
       "      <td>NaN</td>\n",
       "      <td>NaN</td>\n",
       "      <td>NaN</td>\n",
       "      <td>...</td>\n",
       "      <td>s3://fr-detector/balanced_train/processed_trai...</td>\n",
       "      <td>NaN</td>\n",
       "      <td>s3://fr-detector/xgboost_model</td>\n",
       "      <td>NaN</td>\n",
       "      <td>s3://fr-detector/xgboost_model/xgboost-2025-03...</td>\n",
       "      <td>0.2</td>\n",
       "      <td>4.0</td>\n",
       "      <td>6.0</td>\n",
       "      <td>0.0</td>\n",
       "      <td>0.7</td>\n",
       "    </tr>\n",
       "  </tbody>\n",
       "</table>\n",
       "<p>10 rows × 41 columns</p>\n",
       "</div>"
      ],
      "text/plain": [
       "                                  TrialComponentName  \\\n",
       "0  fraud-detection-experiment-sagemaker-run-17423...   \n",
       "1  fraud-detection-experiment-sagemaker-run-17423...   \n",
       "2  fraud-detection-experiment-sagemaker-run-17423...   \n",
       "3  fraud-detection-experiment-sagemaker-run-17423...   \n",
       "4  fraud-detection-experiment-sagemaker-run-17423...   \n",
       "5  fraud-detection-experiment-sagemaker-run-17422...   \n",
       "6  sagemaker-xgboost-2025-03-12-13-40-24-161-aws-...   \n",
       "7  fraud-detection-experiment-trial-xgboost-17417...   \n",
       "8  fraud-detection-experiment-fraud-detection-run...   \n",
       "9   xgboost-2025-03-12-12-41-47-901-aws-training-job   \n",
       "\n",
       "                                         DisplayName  learning_rate  \\\n",
       "0  fraud-detection-experiment-sagemaker-run-17423...           0.05   \n",
       "1  fraud-detection-experiment-sagemaker-run-17423...            NaN   \n",
       "2  fraud-detection-experiment-sagemaker-run-17423...           0.05   \n",
       "3  fraud-detection-experiment-sagemaker-run-17423...            NaN   \n",
       "4  fraud-detection-experiment-sagemaker-run-17423...            NaN   \n",
       "5  fraud-detection-experiment-sagemaker-run-17422...           0.05   \n",
       "6  sagemaker-xgboost-2025-03-12-13-40-24-161-aws-...            NaN   \n",
       "7  fraud-detection-experiment-trial-xgboost-17417...            NaN   \n",
       "8  fraud-detection-experiment-fraud-detection-run...            NaN   \n",
       "9   xgboost-2025-03-12-12-41-47-901-aws-training-job            NaN   \n",
       "\n",
       "   max_depth  num_leaves  final_auc - Min  final_auc - Max  final_auc - Avg  \\\n",
       "0       -1.0        31.0         0.999889         0.999889         0.999889   \n",
       "1        NaN         NaN              NaN              NaN              NaN   \n",
       "2       -1.0        31.0         0.999889         0.999889         0.999889   \n",
       "3        NaN         NaN              NaN              NaN              NaN   \n",
       "4        NaN         NaN              NaN              NaN              NaN   \n",
       "5        NaN         NaN              NaN              NaN              NaN   \n",
       "6        NaN         NaN              NaN              NaN              NaN   \n",
       "7        NaN         NaN              NaN              NaN              NaN   \n",
       "8        NaN         NaN              NaN              NaN              NaN   \n",
       "9        5.0         NaN              NaN              NaN              NaN   \n",
       "\n",
       "   final_auc - StdDev  final_auc - Last  ...  \\\n",
       "0                 0.0          0.999889  ...   \n",
       "1                 NaN               NaN  ...   \n",
       "2                 0.0          0.999889  ...   \n",
       "3                 NaN               NaN  ...   \n",
       "4                 NaN               NaN  ...   \n",
       "5                 NaN               NaN  ...   \n",
       "6                 NaN               NaN  ...   \n",
       "7                 NaN               NaN  ...   \n",
       "8                 NaN               NaN  ...   \n",
       "9                 NaN               NaN  ...   \n",
       "\n",
       "                                       train - Value  \\\n",
       "0                                                NaN   \n",
       "1                                                NaN   \n",
       "2                                                NaN   \n",
       "3                                                NaN   \n",
       "4                                                NaN   \n",
       "5                                                NaN   \n",
       "6    s3://fr-detector/balanced_train/train_final.csv   \n",
       "7                                                NaN   \n",
       "8                                                NaN   \n",
       "9  s3://fr-detector/balanced_train/processed_trai...   \n",
       "\n",
       "   SageMaker.DebugHookOutput - MediaType  SageMaker.DebugHookOutput - Value  \\\n",
       "0                                    NaN                                NaN   \n",
       "1                                    NaN                                NaN   \n",
       "2                                    NaN                                NaN   \n",
       "3                                    NaN                                NaN   \n",
       "4                                    NaN                                NaN   \n",
       "5                                    NaN                                NaN   \n",
       "6                                    NaN           s3://fr-detector/models/   \n",
       "7                                    NaN                                NaN   \n",
       "8                                    NaN                                NaN   \n",
       "9                                    NaN     s3://fr-detector/xgboost_model   \n",
       "\n",
       "   SageMaker.ModelArtifact - MediaType  \\\n",
       "0                                  NaN   \n",
       "1                                  NaN   \n",
       "2                                  NaN   \n",
       "3                                  NaN   \n",
       "4                                  NaN   \n",
       "5                                  NaN   \n",
       "6                                  NaN   \n",
       "7                                  NaN   \n",
       "8                                  NaN   \n",
       "9                                  NaN   \n",
       "\n",
       "                     SageMaker.ModelArtifact - Value  eta  gamma  \\\n",
       "0                                                NaN  NaN    NaN   \n",
       "1                                                NaN  NaN    NaN   \n",
       "2                                                NaN  NaN    NaN   \n",
       "3                                                NaN  NaN    NaN   \n",
       "4                                                NaN  NaN    NaN   \n",
       "5                                                NaN  NaN    NaN   \n",
       "6  s3://fr-detector/models/sagemaker-xgboost-2025...  NaN    NaN   \n",
       "7                                                NaN  NaN    NaN   \n",
       "8                                                NaN  NaN    NaN   \n",
       "9  s3://fr-detector/xgboost_model/xgboost-2025-03...  0.2    4.0   \n",
       "\n",
       "  min_child_weight silent subsample  \n",
       "0              NaN    NaN       NaN  \n",
       "1              NaN    NaN       NaN  \n",
       "2              NaN    NaN       NaN  \n",
       "3              NaN    NaN       NaN  \n",
       "4              NaN    NaN       NaN  \n",
       "5              NaN    NaN       NaN  \n",
       "6              NaN    NaN       NaN  \n",
       "7              NaN    NaN       NaN  \n",
       "8              NaN    NaN       NaN  \n",
       "9              6.0    0.0       0.7  \n",
       "\n",
       "[10 rows x 41 columns]"
      ]
     },
     "execution_count": 37,
     "metadata": {},
     "output_type": "execute_result"
    }
   ],
   "source": [
    "from sagemaker.analytics import ExperimentAnalytics\n",
    " \n",
    "experiment_name = \"fraud-detection-experiment\"\n",
    " \n",
    "analytics = ExperimentAnalytics(experiment_name=experiment_name)\n",
    "analytics.dataframe()"
   ]
  },
  {
   "cell_type": "code",
   "execution_count": null,
   "id": "e047b16f-a2c7-4bcb-9fad-67938e9cc37e",
   "metadata": {},
   "outputs": [],
   "source": []
  },
  {
   "cell_type": "code",
   "execution_count": null,
   "id": "852caaf3-058a-4267-8f2a-4a093d9584ff",
   "metadata": {},
   "outputs": [],
   "source": []
  },
  {
   "cell_type": "code",
   "execution_count": null,
   "id": "e8a4b5f8-1b2e-4d0e-818a-4ba92bbaf13b",
   "metadata": {},
   "outputs": [],
   "source": []
  },
  {
   "cell_type": "code",
   "execution_count": null,
   "id": "2deb999b-b683-40d7-b953-3edc488f419d",
   "metadata": {},
   "outputs": [],
   "source": []
  },
  {
   "cell_type": "code",
   "execution_count": null,
   "id": "43d3fc13-ba94-4661-911d-b5a4594b8d4b",
   "metadata": {},
   "outputs": [],
   "source": []
  },
  {
   "cell_type": "code",
   "execution_count": null,
   "id": "7c70d58a-b776-4e72-aebe-a842ecc4304a",
   "metadata": {},
   "outputs": [],
   "source": [
    "#DEBUGGING"
   ]
  },
  {
   "cell_type": "code",
   "execution_count": 75,
   "id": "ca222409-1e8a-4be0-9891-7802af2dcadd",
   "metadata": {},
   "outputs": [],
   "source": [
    "import os\n",
    "import lightgbm as lgb\n",
    " \n",
    "def model_fn(model_dir):\n",
    "    \"\"\"Loads the trained LightGBM model from disk.\"\"\"\n",
    "    model_path = os.path.join(model_dir, \"model.txt\")\n",
    "    \n",
    "    # Debugging statement\n",
    "    print(f\"Loading model from: {model_path}\")\n",
    "    \n",
    "    if not os.path.exists(model_path):\n",
    "        raise FileNotFoundError(f\"Model file not found at {model_path}\")\n",
    "    \n",
    "    model = lgb.Booster(model_file=model_path)\n",
    "    print(\"Model loaded successfully!\")\n",
    "    return model"
   ]
  },
  {
   "cell_type": "code",
   "execution_count": 82,
   "id": "c4961014-e68a-4eca-a6cf-9d849e97948e",
   "metadata": {},
   "outputs": [],
   "source": [
    "!python -m py_compile lightgbm_sagemaker/inference.py"
   ]
  },
  {
   "cell_type": "code",
   "execution_count": 77,
   "id": "617c36e0-ca4c-437b-a421-0e5e34dbe3e4",
   "metadata": {},
   "outputs": [
    {
     "name": "stdout",
     "output_type": "stream",
     "text": [
      "Loading model from: lightgbm_sagemaker/model.txt\n",
      "Model loaded successfully!\n"
     ]
    }
   ],
   "source": [
    "model=model_fn(\"lightgbm_sagemaker\")"
   ]
  },
  {
   "cell_type": "code",
   "execution_count": 79,
   "id": "2d3573cf-f376-42eb-8a62-1fc48e18fbf0",
   "metadata": {},
   "outputs": [],
   "source": [
    "import json\n",
    "import pandas as pd\n",
    " \n",
    "def input_fn(request_body, request_content_type):\n",
    "    \"\"\"Converts input JSON into a Pandas DataFrame.\"\"\"\n",
    "    \n",
    "    print(f\"Received request with content type: {request_content_type}\")\n",
    "    \n",
    "    if request_content_type == \"application/json\":\n",
    "        data = json.loads(request_body)\n",
    "        \n",
    "        print(f\"Parsed JSON: {data}\")\n",
    "        \n",
    "        df = pd.DataFrame(data)\n",
    "        print(\"Converted to DataFrame:\")\n",
    "        print(df.head())  # Show first few rows\n",
    "        \n",
    "        return df\n",
    "    else:\n",
    "        raise ValueError(f\"Unsupported content type: {request_content_type}\")\n",
    " "
   ]
  },
  {
   "cell_type": "code",
   "execution_count": 80,
   "id": "dbda7b4b-bfd6-410b-9011-aed648c7a793",
   "metadata": {},
   "outputs": [
    {
     "name": "stdout",
     "output_type": "stream",
     "text": [
      "Received request with content type: application/json\n",
      "Parsed JSON: {'V14': [0.5], 'V4': [1.2], 'V11': [-0.8], 'V9': [0.3], 'V7': [-1.5], 'V2': [0.7], 'V18': [0.9], 'V1': [-0.2], 'V6': [1.1], 'V5': [-0.4], 'V19': [0.8], 'EV90': [0.6]}\n",
      "Converted to DataFrame:\n",
      "   V14   V4  V11   V9   V7   V2  V18   V1   V6   V5  V19  EV90\n",
      "0  0.5  1.2 -0.8  0.3 -1.5  0.7  0.9 -0.2  1.1 -0.4  0.8   0.6\n"
     ]
    }
   ],
   "source": [
    "test_input = json.dumps({\n",
    "    \"V14\": [0.5],\n",
    "    \"V4\": [1.2],\n",
    "    \"V11\": [-0.8],\n",
    "    \"V9\": [0.3],\n",
    "    \"V7\": [-1.5],\n",
    "    \"V2\": [0.7],\n",
    "    \"V18\": [0.9],\n",
    "    \"V1\": [-0.2],\n",
    "    \"V6\": [1.1],\n",
    "    \"V5\": [-0.4],\n",
    "    \"V19\": [0.8],\n",
    "    \"EV90\": [0.6]\n",
    "})  \n",
    " \n",
    "df = input_fn(test_input, \"application/json\")"
   ]
  },
  {
   "cell_type": "code",
   "execution_count": 83,
   "id": "b700f6c3-fad4-48df-925d-d4f4d1d1e6fa",
   "metadata": {},
   "outputs": [],
   "source": [
    "import os\n",
    "import lightgbm as lgb\n",
    "import json\n",
    "import numpy as np\n",
    "import pandas as pd\n",
    "import joblib\n",
    " \n",
    "# Model loading function\n",
    "# def model_fn(model_dir):\n",
    "#     \"\"\"Loads the trained LightGBM model from disk.\"\"\"\n",
    "#     model_path = os.path.join(model_dir, \"model.txt\")\n",
    "#     model = lgb.Booster(model_file=model_path)\n",
    "#     return model\n",
    "\n",
    "def model_fn(model_dir):\n",
    "    \"\"\"Loads the trained LightGBM model from disk.\"\"\"\n",
    "    model_path = os.path.join(model_dir, \"model.txt\")\n",
    "    \n",
    "    # Debugging statement\n",
    "    print(f\"Loading model from: {model_path}\")\n",
    "    \n",
    "    if not os.path.exists(model_path):\n",
    "        raise FileNotFoundError(f\"Model file not found at {model_path}\")\n",
    "    \n",
    "    model = lgb.Booster(model_file=model_path)\n",
    "    print(\"Model loaded successfully!\")\n",
    "    return model\n",
    " \n",
    "# Input processing function\n",
    "# def input_fn(request_body, request_content_type):\n",
    "#     \"\"\"Converts input JSON into a Pandas DataFrame.\"\"\"\n",
    "#     if request_content_type == \"application/json\":\n",
    "#         data = json.loads(request_body)\n",
    "#         return pd.DataFrame(data)\n",
    "#     else:\n",
    "#         raise ValueError(f\"Unsupported content type: {request_content_type}\")\n",
    "\n",
    "def input_fn(request_body, request_content_type):\n",
    "    \"\"\"Converts input JSON into a Pandas DataFrame.\"\"\"\n",
    "    \n",
    "    print(f\"Received request with content type: {request_content_type}\")\n",
    "    \n",
    "    if request_content_type == \"application/json\":\n",
    "        data = json.loads(request_body)\n",
    "        \n",
    "        print(f\"Parsed JSON: {data}\")\n",
    "        \n",
    "        df = pd.DataFrame(data)\n",
    "        print(\"Converted to DataFrame:\")\n",
    "        print(df.head())  # Show first few rows\n",
    "        \n",
    "        return df\n",
    "    else:\n",
    "        raise ValueError(f\"Unsupported content type: {request_content_type}\")\n",
    " \n",
    "# Prediction function\n",
    "def predict_fn(input_data, model):\n",
    "    \"\"\"Runs inference and returns predictions.\"\"\"\n",
    "    predictions = model.predict(input_data)\n",
    "    return predictions.tolist()\n",
    " \n",
    "# Output formatting function\n",
    "def output_fn(predictions, response_content_type):\n",
    "    \"\"\"Formats the output as JSON.\"\"\"\n",
    "    if response_content_type == \"application/json\":\n",
    "        return json.dumps(predictions)\n",
    "    else:\n",
    "        raise ValueError(f\"Unsupported response type: {response_content_type}\")"
   ]
  },
  {
   "cell_type": "code",
   "execution_count": 88,
   "id": "a9f9c332-4dc8-4a1e-9710-31c53cf61591",
   "metadata": {},
   "outputs": [
    {
     "name": "stdout",
     "output_type": "stream",
     "text": [
      "predictions: [0.0023384551914107437]\n"
     ]
    }
   ],
   "source": [
    "predictions=predict_fn(df,model)\n",
    "print(\"predictions:\", predictions)"
   ]
  },
  {
   "cell_type": "code",
   "execution_count": 87,
   "id": "7805bc5b-5c2d-4822-ba31-98d25ee3d65d",
   "metadata": {},
   "outputs": [
    {
     "name": "stdout",
     "output_type": "stream",
     "text": [
      "['Time', 'V1', 'V2', 'V3', 'V4', 'V5', 'V6', 'V7', 'V8', 'V9', 'V10', 'V11', 'V12', 'V13', 'V14', 'V15', 'V16', 'V17', 'V18', 'V19', 'V20', 'V21', 'V22', 'V23', 'V24', 'V25', 'V26', 'V27', 'V28', 'Amount', 'record_id']\n"
     ]
    }
   ],
   "source": [
    "print(model.feature_name())"
   ]
  },
  {
   "cell_type": "code",
   "execution_count": 86,
   "id": "8481706d-1f0c-4416-a1ea-3e892142da50",
   "metadata": {},
   "outputs": [
    {
     "name": "stdout",
     "output_type": "stream",
     "text": [
      "Received request with content type: application/json\n",
      "Parsed JSON: {'Time': [0.5], 'V1': [1.2], 'V2': [-0.8], 'V3': [0.3], 'V4': [1.5], 'V5': [0.7], 'V6': [0.9], 'V7': [1.1], 'V8': [-0.2], 'V9': [1.1], 'V10': [-0.4], 'V11': [0.8], 'V12': [0.6], 'V13': [-0.1], 'V14': [1.3], 'V15': [0.2], 'V16': [0.9], 'V17': [-0.5], 'V18': [0.7], 'V19': [-1.2], 'V20': [0.4], 'V21': [0.6], 'V22': [-0.3], 'V23': [0.8], 'V24': [1.0], 'V25': [-0.9], 'V26': [1.2], 'V27': [0.5], 'V28': [-1.3], 'Amount': [50.0], 'record_id': [12345]}\n",
      "Converted to DataFrame:\n",
      "   Time   V1   V2   V3   V4   V5   V6   V7   V8   V9  ...  V21  V22  V23  V24  \\\n",
      "0   0.5  1.2 -0.8  0.3  1.5  0.7  0.9  1.1 -0.2  1.1  ...  0.6 -0.3  0.8  1.0   \n",
      "\n",
      "   V25  V26  V27  V28  Amount  record_id  \n",
      "0 -0.9  1.2  0.5 -1.3    50.0      12345  \n",
      "\n",
      "[1 rows x 31 columns]\n"
     ]
    }
   ],
   "source": [
    "import json\n",
    " \n",
    "test_input = json.dumps({\n",
    "    \"Time\": [0.5], \"V1\": [1.2], \"V2\": [-0.8], \"V3\": [0.3], \"V4\": [1.5], \"V5\": [0.7], \"V6\": [0.9], \"V7\": [1.1], \"V8\": [-0.2], \"V9\": [1.1],\n",
    "    \"V10\": [-0.4], \"V11\": [0.8], \"V12\": [0.6], \"V13\": [-0.1], \"V14\": [1.3], \"V15\": [0.2], \"V16\": [0.9], \"V17\": [-0.5], \"V18\": [0.7], \"V19\": [-1.2],\n",
    "    \"V20\": [0.4], \"V21\": [0.6], \"V22\": [-0.3], \"V23\": [0.8], \"V24\": [1.0], \"V25\": [-0.9], \"V26\": [1.2], \"V27\": [0.5], \"V28\": [-1.3], \"Amount\": [50.0],\n",
    "    \"record_id\": [12345]\n",
    "})\n",
    " \n",
    "df = input_fn(test_input, \"application/json\")"
   ]
  },
  {
   "cell_type": "code",
   "execution_count": null,
   "id": "fd307422-db86-4a8d-912c-04ae6185cb22",
   "metadata": {},
   "outputs": [],
   "source": []
  },
  {
   "cell_type": "code",
   "execution_count": null,
   "id": "b5c569be-e2de-4274-b9bb-cace94d024ed",
   "metadata": {},
   "outputs": [],
   "source": []
  },
  {
   "cell_type": "code",
   "execution_count": null,
   "id": "cac2bb7b-bd01-45a3-ab60-f84925bb05cd",
   "metadata": {},
   "outputs": [],
   "source": []
  },
  {
   "cell_type": "code",
   "execution_count": null,
   "id": "cd89ea1e-ddcf-4fe7-9511-02ba4c9ab5b7",
   "metadata": {},
   "outputs": [],
   "source": []
  },
  {
   "cell_type": "code",
   "execution_count": null,
   "id": "37448756-8246-49b3-8d27-3789eee2715c",
   "metadata": {},
   "outputs": [],
   "source": []
  },
  {
   "cell_type": "code",
   "execution_count": null,
   "id": "11a1c7ae-4f76-44b2-9a1a-daf79e3e0796",
   "metadata": {},
   "outputs": [],
   "source": []
  },
  {
   "cell_type": "code",
   "execution_count": null,
   "id": "5b8a160d-00d9-4040-a4fd-6a376999f198",
   "metadata": {},
   "outputs": [],
   "source": []
  },
  {
   "cell_type": "code",
   "execution_count": null,
   "id": "161bd7db-bd0a-49c2-80b2-fee5532cb7d8",
   "metadata": {},
   "outputs": [],
   "source": [
    "#ANOTHER ATTEMPT"
   ]
  },
  {
   "cell_type": "code",
   "execution_count": 104,
   "id": "bdbead23-8833-48d4-bcf4-216458eba73c",
   "metadata": {},
   "outputs": [
    {
     "name": "stdout",
     "output_type": "stream",
     "text": [
      "✅ Model uploaded successfully to: s3://fr-detector/models/lightgbm_sagemaker_v2.tar.gz\n"
     ]
    }
   ],
   "source": [
    "import boto3\n",
    " \n",
    "# Define S3 bucket and model path\n",
    "s3_bucket = \"fr-detector\"  # Your S3 bucket name\n",
    "s3_model_path = \"models/lightgbm_sagemaker_v2.tar.gz\"  # S3 path\n",
    "local_model_file = \"lightgbm_sagemaker/model_v2.tar.gz\"  # Local file\n",
    " \n",
    "# Initialize S3 client\n",
    "s3_client = boto3.client(\"s3\")\n",
    " \n",
    "# Upload model to S3\n",
    "s3_client.upload_file(local_model_file, s3_bucket, s3_model_path)\n",
    " \n",
    "print(f\"✅ Model uploaded successfully to: s3://{s3_bucket}/{s3_model_path}\")"
   ]
  },
  {
   "cell_type": "code",
   "execution_count": 98,
   "id": "8b26419c-3a88-4a46-b2a7-20d61ef974a6",
   "metadata": {},
   "outputs": [
    {
     "name": "stdout",
     "output_type": "stream",
     "text": [
      "✅ Archive created: lightgbm_sagemaker/model_v2.tar.gz\n"
     ]
    }
   ],
   "source": [
    "import tarfile\n",
    "import os\n",
    " \n",
    "# Define file names\n",
    "model_dir = \"lightgbm_sagemaker\"  # Update this path if needed\n",
    "model_file = os.path.join(model_dir, \"model.txt\")\n",
    "inference_file = os.path.join(model_dir, \"inference.py\")\n",
    "archive_file = os.path.join(model_dir, \"model_v2.tar.gz\")  # New archive name\n",
    " \n",
    "# Ensure both files exist before archiving\n",
    "if not os.path.exists(model_file):\n",
    "    raise FileNotFoundError(f\"Model file not found at {model_file}\")\n",
    " \n",
    "if not os.path.exists(inference_file):\n",
    "    raise FileNotFoundError(f\"Inference script not found at {inference_file}\")\n",
    " \n",
    "# Create tar.gz archive\n",
    "with tarfile.open(archive_file, \"w:gz\") as tar:\n",
    "    tar.add(model_file, arcname=\"model.txt\")\n",
    "    tar.add(inference_file, arcname=\"inference.py\")\n",
    " \n",
    "print(f\"✅ Archive created: {archive_file}\")\n",
    " "
   ]
  },
  {
   "cell_type": "raw",
   "id": "20d91911-c5ef-4419-a5c6-3fd02ccf75c2",
   "metadata": {},
   "source": [
    "import boto3\n",
    "import sagemaker\n",
    " \n",
    "# Get SageMaker session (handles credentials automatically)\n",
    "sagemaker_session = sagemaker.Session()\n",
    " \n",
    "# Define S3 bucket and model path\n",
    "s3_bucket = \"fr-detector\"  # Your S3 bucket name\n",
    "s3_model_path = \"models/lightgbm_sagemaker_v2.tar.gz\"  # Renamed to avoid conflict\n",
    " \n",
    "# Get S3 URI\n",
    "s3_uri = f\"s3://{s3_bucket}/{s3_model_path}\"\n",
    " \n",
    "# Upload using SageMaker session (ensures correct permissions)\n",
    "sagemaker_session.upload_data(path=\"lightgbm_sagemaker.tar.gz\", bucket=s3_bucket, key_prefix=\"models\")\n",
    " \n",
    "print(f\"✅ Model uploaded successfully to: {s3_uri}\")"
   ]
  },
  {
   "cell_type": "code",
   "execution_count": 105,
   "id": "00896d9f-8086-41bf-96ad-16d95fea0c65",
   "metadata": {},
   "outputs": [
    {
     "name": "stdout",
     "output_type": "stream",
     "text": [
      "✅ SageMaker Model 'lightgbm-fraud-detection-model-v2' created successfully!\n"
     ]
    },
    {
     "data": {
      "text/html": [
       "<pre style=\"white-space:pre;overflow-x:auto;line-height:normal;font-family:Menlo,'DejaVu Sans Mono',consolas,'Courier New',monospace\"><span style=\"color: #7fbfbf; text-decoration-color: #7fbfbf\">[03/18/25 16:41:58] </span><span style=\"color: #0069ff; text-decoration-color: #0069ff; font-weight: bold\">INFO    </span> Creating model with name: lightgbm-fraud-detection-model-v2            <a href=\"file:///home/ec2-user/anaconda3/envs/python3/lib/python3.10/site-packages/sagemaker/session.py\" target=\"_blank\"><span style=\"color: #7f7f7f; text-decoration-color: #7f7f7f\">session.py</span></a><span style=\"color: #7f7f7f; text-decoration-color: #7f7f7f\">:</span><a href=\"file:///home/ec2-user/anaconda3/envs/python3/lib/python3.10/site-packages/sagemaker/session.py#4094\" target=\"_blank\"><span style=\"color: #7f7f7f; text-decoration-color: #7f7f7f\">4094</span></a>\n",
       "</pre>\n"
      ],
      "text/plain": [
       "\u001b[2;36m[03/18/25 16:41:58]\u001b[0m\u001b[2;36m \u001b[0m\u001b[1;38;2;0;105;255mINFO    \u001b[0m Creating model with name: lightgbm-fraud-detection-model-v2            \u001b]8;id=204859;file:///home/ec2-user/anaconda3/envs/python3/lib/python3.10/site-packages/sagemaker/session.py\u001b\\\u001b[2msession.py\u001b[0m\u001b]8;;\u001b\\\u001b[2m:\u001b[0m\u001b]8;id=343360;file:///home/ec2-user/anaconda3/envs/python3/lib/python3.10/site-packages/sagemaker/session.py#4094\u001b\\\u001b[2m4094\u001b[0m\u001b]8;;\u001b\\\n"
      ]
     },
     "metadata": {},
     "output_type": "display_data"
    },
    {
     "data": {
      "text/html": [
       "<pre style=\"white-space:pre;overflow-x:auto;line-height:normal;font-family:Menlo,'DejaVu Sans Mono',consolas,'Courier New',monospace\"><span style=\"color: #7fbfbf; text-decoration-color: #7fbfbf\">[03/18/25 16:41:59] </span><span style=\"color: #0069ff; text-decoration-color: #0069ff; font-weight: bold\">INFO    </span> Creating endpoint-config with name                                     <a href=\"file:///home/ec2-user/anaconda3/envs/python3/lib/python3.10/site-packages/sagemaker/session.py\" target=\"_blank\"><span style=\"color: #7f7f7f; text-decoration-color: #7f7f7f\">session.py</span></a><span style=\"color: #7f7f7f; text-decoration-color: #7f7f7f\">:</span><a href=\"file:///home/ec2-user/anaconda3/envs/python3/lib/python3.10/site-packages/sagemaker/session.py#5937\" target=\"_blank\"><span style=\"color: #7f7f7f; text-decoration-color: #7f7f7f\">5937</span></a>\n",
       "<span style=\"color: #7fbfbf; text-decoration-color: #7fbfbf\">                    </span>         lightgbm-fraud-detection-endpoint-v2                                   <span style=\"color: #7f7f7f; text-decoration-color: #7f7f7f\">               </span>\n",
       "</pre>\n"
      ],
      "text/plain": [
       "\u001b[2;36m[03/18/25 16:41:59]\u001b[0m\u001b[2;36m \u001b[0m\u001b[1;38;2;0;105;255mINFO    \u001b[0m Creating endpoint-config with name                                     \u001b]8;id=922820;file:///home/ec2-user/anaconda3/envs/python3/lib/python3.10/site-packages/sagemaker/session.py\u001b\\\u001b[2msession.py\u001b[0m\u001b]8;;\u001b\\\u001b[2m:\u001b[0m\u001b]8;id=870491;file:///home/ec2-user/anaconda3/envs/python3/lib/python3.10/site-packages/sagemaker/session.py#5937\u001b\\\u001b[2m5937\u001b[0m\u001b]8;;\u001b\\\n",
       "\u001b[2;36m                    \u001b[0m         lightgbm-fraud-detection-endpoint-v2                                   \u001b[2m               \u001b[0m\n"
      ]
     },
     "metadata": {},
     "output_type": "display_data"
    },
    {
     "data": {
      "text/html": [
       "<pre style=\"white-space:pre;overflow-x:auto;line-height:normal;font-family:Menlo,'DejaVu Sans Mono',consolas,'Courier New',monospace\"><span style=\"color: #7fbfbf; text-decoration-color: #7fbfbf\">                    </span><span style=\"color: #0069ff; text-decoration-color: #0069ff; font-weight: bold\">INFO    </span> Creating endpoint with name lightgbm-fraud-detection-endpoint-v2       <a href=\"file:///home/ec2-user/anaconda3/envs/python3/lib/python3.10/site-packages/sagemaker/session.py\" target=\"_blank\"><span style=\"color: #7f7f7f; text-decoration-color: #7f7f7f\">session.py</span></a><span style=\"color: #7f7f7f; text-decoration-color: #7f7f7f\">:</span><a href=\"file:///home/ec2-user/anaconda3/envs/python3/lib/python3.10/site-packages/sagemaker/session.py#4759\" target=\"_blank\"><span style=\"color: #7f7f7f; text-decoration-color: #7f7f7f\">4759</span></a>\n",
       "</pre>\n"
      ],
      "text/plain": [
       "\u001b[2;36m                   \u001b[0m\u001b[2;36m \u001b[0m\u001b[1;38;2;0;105;255mINFO    \u001b[0m Creating endpoint with name lightgbm-fraud-detection-endpoint-v2       \u001b]8;id=177566;file:///home/ec2-user/anaconda3/envs/python3/lib/python3.10/site-packages/sagemaker/session.py\u001b\\\u001b[2msession.py\u001b[0m\u001b]8;;\u001b\\\u001b[2m:\u001b[0m\u001b]8;id=991929;file:///home/ec2-user/anaconda3/envs/python3/lib/python3.10/site-packages/sagemaker/session.py#4759\u001b\\\u001b[2m4759\u001b[0m\u001b]8;;\u001b\\\n"
      ]
     },
     "metadata": {},
     "output_type": "display_data"
    },
    {
     "name": "stdout",
     "output_type": "stream",
     "text": [
      "--------------------------------------------------*"
     ]
    },
    {
     "data": {
      "text/html": [
       "<pre style=\"white-space:pre;overflow-x:auto;line-height:normal;font-family:Menlo,'DejaVu Sans Mono',consolas,'Courier New',monospace\"><span style=\"color: #7fbfbf; text-decoration-color: #7fbfbf\">[03/18/25 17:07:35] </span><span style=\"color: #d70000; text-decoration-color: #d70000; font-weight: bold\">ERROR   </span> Please check the troubleshooting guide for common errors:              <a href=\"file:///home/ec2-user/anaconda3/envs/python3/lib/python3.10/site-packages/sagemaker/session.py\" target=\"_blank\"><span style=\"color: #7f7f7f; text-decoration-color: #7f7f7f\">session.py</span></a><span style=\"color: #7f7f7f; text-decoration-color: #7f7f7f\">:</span><a href=\"file:///home/ec2-user/anaconda3/envs/python3/lib/python3.10/site-packages/sagemaker/session.py#4782\" target=\"_blank\"><span style=\"color: #7f7f7f; text-decoration-color: #7f7f7f\">4782</span></a>\n",
       "<span style=\"color: #7fbfbf; text-decoration-color: #7fbfbf\">                    </span>         <span style=\"color: #0069ff; text-decoration-color: #0069ff; text-decoration: underline\">https://docs.aws.amazon.com/sagemaker/latest/dg/sagemaker-python-sdk-t</span> <span style=\"color: #7f7f7f; text-decoration-color: #7f7f7f\">               </span>\n",
       "<span style=\"color: #7fbfbf; text-decoration-color: #7fbfbf\">                    </span>         <span style=\"color: #0069ff; text-decoration-color: #0069ff; text-decoration: underline\">roubleshooting.html#sagemaker-python-sdk-troubleshooting-create-endpoi</span> <span style=\"color: #7f7f7f; text-decoration-color: #7f7f7f\">               </span>\n",
       "<span style=\"color: #7fbfbf; text-decoration-color: #7fbfbf\">                    </span>         <span style=\"color: #0069ff; text-decoration-color: #0069ff; text-decoration: underline\">nt</span>                                                                     <span style=\"color: #7f7f7f; text-decoration-color: #7f7f7f\">               </span>\n",
       "</pre>\n"
      ],
      "text/plain": [
       "\u001b[2;36m[03/18/25 17:07:35]\u001b[0m\u001b[2;36m \u001b[0m\u001b[1;38;2;215;0;0mERROR   \u001b[0m Please check the troubleshooting guide for common errors:              \u001b]8;id=124757;file:///home/ec2-user/anaconda3/envs/python3/lib/python3.10/site-packages/sagemaker/session.py\u001b\\\u001b[2msession.py\u001b[0m\u001b]8;;\u001b\\\u001b[2m:\u001b[0m\u001b]8;id=233212;file:///home/ec2-user/anaconda3/envs/python3/lib/python3.10/site-packages/sagemaker/session.py#4782\u001b\\\u001b[2m4782\u001b[0m\u001b]8;;\u001b\\\n",
       "\u001b[2;36m                    \u001b[0m         \u001b[4;38;2;0;105;255mhttps://docs.aws.amazon.com/sagemaker/latest/dg/sagemaker-python-sdk-t\u001b[0m \u001b[2m               \u001b[0m\n",
       "\u001b[2;36m                    \u001b[0m         \u001b[4;38;2;0;105;255mroubleshooting.html#sagemaker-python-sdk-troubleshooting-create-endpoi\u001b[0m \u001b[2m               \u001b[0m\n",
       "\u001b[2;36m                    \u001b[0m         \u001b[4;38;2;0;105;255mnt\u001b[0m                                                                     \u001b[2m               \u001b[0m\n"
      ]
     },
     "metadata": {},
     "output_type": "display_data"
    },
    {
     "data": {
      "text/html": [
       "<pre style=\"white-space:pre;overflow-x:auto;line-height:normal;font-family:Menlo,'DejaVu Sans Mono',consolas,'Courier New',monospace\"><span style=\"color: #ff0000; text-decoration-color: #ff0000\">╭─────────────────────────────── </span><span style=\"color: #ff0000; text-decoration-color: #ff0000; font-weight: bold\">Traceback </span><span style=\"color: #ff7f7f; text-decoration-color: #ff7f7f; font-weight: bold\">(most recent call last)</span><span style=\"color: #ff0000; text-decoration-color: #ff0000\"> ────────────────────────────────╮</span>\n",
       "<span style=\"color: #ff0000; text-decoration-color: #ff0000\">│</span> in <span style=\"color: #00ff00; text-decoration-color: #00ff00\">&lt;module&gt;</span>:<span style=\"color: #0000ff; text-decoration-color: #0000ff\">30</span>                                                                                   <span style=\"color: #ff0000; text-decoration-color: #ff0000\">│</span>\n",
       "<span style=\"color: #ff0000; text-decoration-color: #ff0000\">│</span>                                                                                                  <span style=\"color: #ff0000; text-decoration-color: #ff0000\">│</span>\n",
       "<span style=\"color: #ff0000; text-decoration-color: #ff0000\">│</span>   <span style=\"color: #7f7f7f; text-decoration-color: #7f7f7f\">27 </span><span style=\"color: #00ffff; text-decoration-color: #00ffff\">print</span>(<span style=\"color: #808000; text-decoration-color: #808000\">f\"✅ SageMaker Model '{</span>model_name<span style=\"color: #808000; text-decoration-color: #808000\">}' created successfully!\"</span>)                           <span style=\"color: #ff0000; text-decoration-color: #ff0000\">│</span>\n",
       "<span style=\"color: #ff0000; text-decoration-color: #ff0000\">│</span>   <span style=\"color: #7f7f7f; text-decoration-color: #7f7f7f\">28 </span>                                                                                            <span style=\"color: #ff0000; text-decoration-color: #ff0000\">│</span>\n",
       "<span style=\"color: #ff0000; text-decoration-color: #ff0000\">│</span>   <span style=\"color: #7f7f7f; text-decoration-color: #7f7f7f\">29 # Deploy the model as an endpoint with a specific name</span>                                      <span style=\"color: #ff0000; text-decoration-color: #ff0000\">│</span>\n",
       "<span style=\"color: #ff0000; text-decoration-color: #ff0000\">│</span> <span style=\"color: #800000; text-decoration-color: #800000\">❱ </span>30 predictor = lightgbm_model.deploy(                                                          <span style=\"color: #ff0000; text-decoration-color: #ff0000\">│</span>\n",
       "<span style=\"color: #ff0000; text-decoration-color: #ff0000\">│</span>   <span style=\"color: #7f7f7f; text-decoration-color: #7f7f7f\">31 </span><span style=\"color: #7f7f7f; text-decoration-color: #7f7f7f\">│   </span>initial_instance_count=<span style=\"color: #0000ff; text-decoration-color: #0000ff\">1</span>,                                                               <span style=\"color: #ff0000; text-decoration-color: #ff0000\">│</span>\n",
       "<span style=\"color: #ff0000; text-decoration-color: #ff0000\">│</span>   <span style=\"color: #7f7f7f; text-decoration-color: #7f7f7f\">32 </span><span style=\"color: #7f7f7f; text-decoration-color: #7f7f7f\">│   </span>instance_type=<span style=\"color: #808000; text-decoration-color: #808000\">\"ml.m5.large\"</span>,                                                            <span style=\"color: #ff0000; text-decoration-color: #ff0000\">│</span>\n",
       "<span style=\"color: #ff0000; text-decoration-color: #ff0000\">│</span>   <span style=\"color: #7f7f7f; text-decoration-color: #7f7f7f\">33 </span><span style=\"color: #7f7f7f; text-decoration-color: #7f7f7f\">│   </span>endpoint_name=endpoint_name  <span style=\"color: #7f7f7f; text-decoration-color: #7f7f7f\"># Explicitly naming the endpoint</span>                           <span style=\"color: #ff0000; text-decoration-color: #ff0000\">│</span>\n",
       "<span style=\"color: #ff0000; text-decoration-color: #ff0000\">│</span>                                                                                                  <span style=\"color: #ff0000; text-decoration-color: #ff0000\">│</span>\n",
       "<span style=\"color: #ff0000; text-decoration-color: #ff0000\">│</span> <span style=\"color: #bfbf7f; text-decoration-color: #bfbf7f\">/home/ec2-user/anaconda3/envs/python3/lib/python3.10/site-packages/sagemaker/</span><span style=\"color: #808000; text-decoration-color: #808000; font-weight: bold\">model.py</span>:<span style=\"color: #0000ff; text-decoration-color: #0000ff\">1786</span> in    <span style=\"color: #ff0000; text-decoration-color: #ff0000\">│</span>\n",
       "<span style=\"color: #ff0000; text-decoration-color: #ff0000\">│</span> <span style=\"color: #00ff00; text-decoration-color: #00ff00\">deploy</span>                                                                                           <span style=\"color: #ff0000; text-decoration-color: #ff0000\">│</span>\n",
       "<span style=\"color: #ff0000; text-decoration-color: #ff0000\">│</span>                                                                                                  <span style=\"color: #ff0000; text-decoration-color: #ff0000\">│</span>\n",
       "<span style=\"color: #ff0000; text-decoration-color: #ff0000\">│</span>   <span style=\"color: #7f7f7f; text-decoration-color: #7f7f7f\">1783 </span><span style=\"color: #7f7f7f; text-decoration-color: #7f7f7f\">│   │   │   </span><span style=\"color: #0000ff; text-decoration-color: #0000ff\">if</span> is_explainer_enabled:                                                      <span style=\"color: #ff0000; text-decoration-color: #ff0000\">│</span>\n",
       "<span style=\"color: #ff0000; text-decoration-color: #ff0000\">│</span>   <span style=\"color: #7f7f7f; text-decoration-color: #7f7f7f\">1784 </span><span style=\"color: #7f7f7f; text-decoration-color: #7f7f7f\">│   │   │   │   </span>explainer_config_dict = explainer_config._to_request_dict()               <span style=\"color: #ff0000; text-decoration-color: #ff0000\">│</span>\n",
       "<span style=\"color: #ff0000; text-decoration-color: #ff0000\">│</span>   <span style=\"color: #7f7f7f; text-decoration-color: #7f7f7f\">1785 </span><span style=\"color: #7f7f7f; text-decoration-color: #7f7f7f\">│   │   │   </span>                                                                              <span style=\"color: #ff0000; text-decoration-color: #ff0000\">│</span>\n",
       "<span style=\"color: #ff0000; text-decoration-color: #ff0000\">│</span> <span style=\"color: #800000; text-decoration-color: #800000\">❱ </span>1786 <span style=\"color: #7f7f7f; text-decoration-color: #7f7f7f\">│   │   │   </span><span style=\"color: #00ffff; text-decoration-color: #00ffff\">self</span>.sagemaker_session.endpoint_from_production_variants(                     <span style=\"color: #ff0000; text-decoration-color: #ff0000\">│</span>\n",
       "<span style=\"color: #ff0000; text-decoration-color: #ff0000\">│</span>   <span style=\"color: #7f7f7f; text-decoration-color: #7f7f7f\">1787 </span><span style=\"color: #7f7f7f; text-decoration-color: #7f7f7f\">│   │   │   │   </span>name=<span style=\"color: #00ffff; text-decoration-color: #00ffff\">self</span>.endpoint_name,                                                  <span style=\"color: #ff0000; text-decoration-color: #ff0000\">│</span>\n",
       "<span style=\"color: #ff0000; text-decoration-color: #ff0000\">│</span>   <span style=\"color: #7f7f7f; text-decoration-color: #7f7f7f\">1788 </span><span style=\"color: #7f7f7f; text-decoration-color: #7f7f7f\">│   │   │   │   </span>production_variants=[production_variant],                                 <span style=\"color: #ff0000; text-decoration-color: #ff0000\">│</span>\n",
       "<span style=\"color: #ff0000; text-decoration-color: #ff0000\">│</span>   <span style=\"color: #7f7f7f; text-decoration-color: #7f7f7f\">1789 </span><span style=\"color: #7f7f7f; text-decoration-color: #7f7f7f\">│   │   │   │   </span>tags=tags,                                                                <span style=\"color: #ff0000; text-decoration-color: #ff0000\">│</span>\n",
       "<span style=\"color: #ff0000; text-decoration-color: #ff0000\">│</span>                                                                                                  <span style=\"color: #ff0000; text-decoration-color: #ff0000\">│</span>\n",
       "<span style=\"color: #ff0000; text-decoration-color: #ff0000\">│</span> <span style=\"color: #bfbf7f; text-decoration-color: #bfbf7f\">/home/ec2-user/anaconda3/envs/python3/lib/python3.10/site-packages/sagemaker/</span><span style=\"color: #808000; text-decoration-color: #808000; font-weight: bold\">session.py</span>:<span style=\"color: #0000ff; text-decoration-color: #0000ff\">5940</span> in  <span style=\"color: #ff0000; text-decoration-color: #ff0000\">│</span>\n",
       "<span style=\"color: #ff0000; text-decoration-color: #ff0000\">│</span> <span style=\"color: #00ff00; text-decoration-color: #00ff00\">endpoint_from_production_variants</span>                                                                <span style=\"color: #ff0000; text-decoration-color: #ff0000\">│</span>\n",
       "<span style=\"color: #ff0000; text-decoration-color: #ff0000\">│</span>                                                                                                  <span style=\"color: #ff0000; text-decoration-color: #ff0000\">│</span>\n",
       "<span style=\"color: #ff0000; text-decoration-color: #ff0000\">│</span>   <span style=\"color: #7f7f7f; text-decoration-color: #7f7f7f\">5937 </span><span style=\"color: #7f7f7f; text-decoration-color: #7f7f7f\">│   │   </span>logger.info(<span style=\"color: #808000; text-decoration-color: #808000\">\"Creating endpoint-config with name %s\"</span>, name)                        <span style=\"color: #ff0000; text-decoration-color: #ff0000\">│</span>\n",
       "<span style=\"color: #ff0000; text-decoration-color: #ff0000\">│</span>   <span style=\"color: #7f7f7f; text-decoration-color: #7f7f7f\">5938 </span><span style=\"color: #7f7f7f; text-decoration-color: #7f7f7f\">│   │   </span><span style=\"color: #00ffff; text-decoration-color: #00ffff\">self</span>.sagemaker_client.create_endpoint_config(**config_options)                    <span style=\"color: #ff0000; text-decoration-color: #ff0000\">│</span>\n",
       "<span style=\"color: #ff0000; text-decoration-color: #ff0000\">│</span>   <span style=\"color: #7f7f7f; text-decoration-color: #7f7f7f\">5939 </span><span style=\"color: #7f7f7f; text-decoration-color: #7f7f7f\">│   │   </span>                                                                                  <span style=\"color: #ff0000; text-decoration-color: #ff0000\">│</span>\n",
       "<span style=\"color: #ff0000; text-decoration-color: #ff0000\">│</span> <span style=\"color: #800000; text-decoration-color: #800000\">❱ </span>5940 <span style=\"color: #7f7f7f; text-decoration-color: #7f7f7f\">│   │   </span><span style=\"color: #0000ff; text-decoration-color: #0000ff\">return</span> <span style=\"color: #00ffff; text-decoration-color: #00ffff\">self</span>.create_endpoint(                                                      <span style=\"color: #ff0000; text-decoration-color: #ff0000\">│</span>\n",
       "<span style=\"color: #ff0000; text-decoration-color: #ff0000\">│</span>   <span style=\"color: #7f7f7f; text-decoration-color: #7f7f7f\">5941 </span><span style=\"color: #7f7f7f; text-decoration-color: #7f7f7f\">│   │   │   </span>endpoint_name=name,                                                           <span style=\"color: #ff0000; text-decoration-color: #ff0000\">│</span>\n",
       "<span style=\"color: #ff0000; text-decoration-color: #ff0000\">│</span>   <span style=\"color: #7f7f7f; text-decoration-color: #7f7f7f\">5942 </span><span style=\"color: #7f7f7f; text-decoration-color: #7f7f7f\">│   │   │   </span>config_name=name,                                                             <span style=\"color: #ff0000; text-decoration-color: #ff0000\">│</span>\n",
       "<span style=\"color: #ff0000; text-decoration-color: #ff0000\">│</span>   <span style=\"color: #7f7f7f; text-decoration-color: #7f7f7f\">5943 </span><span style=\"color: #7f7f7f; text-decoration-color: #7f7f7f\">│   │   │   </span>tags=endpoint_tags,                                                           <span style=\"color: #ff0000; text-decoration-color: #ff0000\">│</span>\n",
       "<span style=\"color: #ff0000; text-decoration-color: #ff0000\">│</span>                                                                                                  <span style=\"color: #ff0000; text-decoration-color: #ff0000\">│</span>\n",
       "<span style=\"color: #ff0000; text-decoration-color: #ff0000\">│</span> <span style=\"color: #bfbf7f; text-decoration-color: #bfbf7f\">/home/ec2-user/anaconda3/envs/python3/lib/python3.10/site-packages/sagemaker/</span><span style=\"color: #808000; text-decoration-color: #808000; font-weight: bold\">session.py</span>:<span style=\"color: #0000ff; text-decoration-color: #0000ff\">4785</span> in  <span style=\"color: #ff0000; text-decoration-color: #ff0000\">│</span>\n",
       "<span style=\"color: #ff0000; text-decoration-color: #ff0000\">│</span> <span style=\"color: #00ff00; text-decoration-color: #00ff00\">create_endpoint</span>                                                                                  <span style=\"color: #ff0000; text-decoration-color: #ff0000\">│</span>\n",
       "<span style=\"color: #ff0000; text-decoration-color: #ff0000\">│</span>                                                                                                  <span style=\"color: #ff0000; text-decoration-color: #ff0000\">│</span>\n",
       "<span style=\"color: #ff0000; text-decoration-color: #ff0000\">│</span>   <span style=\"color: #7f7f7f; text-decoration-color: #7f7f7f\">4782 </span><span style=\"color: #7f7f7f; text-decoration-color: #7f7f7f\">│   │   │   </span>logger.error(                                                                 <span style=\"color: #ff0000; text-decoration-color: #ff0000\">│</span>\n",
       "<span style=\"color: #ff0000; text-decoration-color: #ff0000\">│</span>   <span style=\"color: #7f7f7f; text-decoration-color: #7f7f7f\">4783 </span><span style=\"color: #7f7f7f; text-decoration-color: #7f7f7f\">│   │   │   │   </span><span style=\"color: #808000; text-decoration-color: #808000\">\"Please check the troubleshooting guide for common errors: %s\"</span>, troubles  <span style=\"color: #ff0000; text-decoration-color: #ff0000\">│</span>\n",
       "<span style=\"color: #ff0000; text-decoration-color: #ff0000\">│</span>   <span style=\"color: #7f7f7f; text-decoration-color: #7f7f7f\">4784 </span><span style=\"color: #7f7f7f; text-decoration-color: #7f7f7f\">│   │   │   </span>)                                                                             <span style=\"color: #ff0000; text-decoration-color: #ff0000\">│</span>\n",
       "<span style=\"color: #ff0000; text-decoration-color: #ff0000\">│</span> <span style=\"color: #800000; text-decoration-color: #800000\">❱ </span>4785 <span style=\"color: #7f7f7f; text-decoration-color: #7f7f7f\">│   │   │   </span><span style=\"color: #0000ff; text-decoration-color: #0000ff\">raise</span> e                                                                       <span style=\"color: #ff0000; text-decoration-color: #ff0000\">│</span>\n",
       "<span style=\"color: #ff0000; text-decoration-color: #ff0000\">│</span>   <span style=\"color: #7f7f7f; text-decoration-color: #7f7f7f\">4786 </span><span style=\"color: #7f7f7f; text-decoration-color: #7f7f7f\">│   </span>                                                                                      <span style=\"color: #ff0000; text-decoration-color: #ff0000\">│</span>\n",
       "<span style=\"color: #ff0000; text-decoration-color: #ff0000\">│</span>   <span style=\"color: #7f7f7f; text-decoration-color: #7f7f7f\">4787 </span><span style=\"color: #7f7f7f; text-decoration-color: #7f7f7f\">│   </span><span style=\"color: #0000ff; text-decoration-color: #0000ff\">def</span><span style=\"color: #808080; text-decoration-color: #808080\"> </span><span style=\"color: #00ff00; text-decoration-color: #00ff00\">endpoint_in_service_or_not</span>(<span style=\"color: #00ffff; text-decoration-color: #00ffff\">self</span>, endpoint_name: <span style=\"color: #00ffff; text-decoration-color: #00ffff\">str</span>):                             <span style=\"color: #ff0000; text-decoration-color: #ff0000\">│</span>\n",
       "<span style=\"color: #ff0000; text-decoration-color: #ff0000\">│</span>   <span style=\"color: #7f7f7f; text-decoration-color: #7f7f7f\">4788 </span><span style=\"color: #bfbfbf; text-decoration-color: #bfbfbf\">│   │   </span><span style=\"color: #808000; text-decoration-color: #808000\">\"\"\"Check whether an Amazon SageMaker ``Endpoint``` is in IN_SERVICE status.</span>       <span style=\"color: #ff0000; text-decoration-color: #ff0000\">│</span>\n",
       "<span style=\"color: #ff0000; text-decoration-color: #ff0000\">│</span>                                                                                                  <span style=\"color: #ff0000; text-decoration-color: #ff0000\">│</span>\n",
       "<span style=\"color: #ff0000; text-decoration-color: #ff0000\">│</span> <span style=\"color: #bfbf7f; text-decoration-color: #bfbf7f\">/home/ec2-user/anaconda3/envs/python3/lib/python3.10/site-packages/sagemaker/</span><span style=\"color: #808000; text-decoration-color: #808000; font-weight: bold\">session.py</span>:<span style=\"color: #0000ff; text-decoration-color: #0000ff\">4774</span> in  <span style=\"color: #ff0000; text-decoration-color: #ff0000\">│</span>\n",
       "<span style=\"color: #ff0000; text-decoration-color: #ff0000\">│</span> <span style=\"color: #00ff00; text-decoration-color: #00ff00\">create_endpoint</span>                                                                                  <span style=\"color: #ff0000; text-decoration-color: #ff0000\">│</span>\n",
       "<span style=\"color: #ff0000; text-decoration-color: #ff0000\">│</span>                                                                                                  <span style=\"color: #ff0000; text-decoration-color: #ff0000\">│</span>\n",
       "<span style=\"color: #ff0000; text-decoration-color: #ff0000\">│</span>   <span style=\"color: #7f7f7f; text-decoration-color: #7f7f7f\">4771 </span><span style=\"color: #7f7f7f; text-decoration-color: #7f7f7f\">│   │   │   │   </span><span style=\"color: #00ffff; text-decoration-color: #00ffff\">self</span>.endpoint_arn = res[<span style=\"color: #808000; text-decoration-color: #808000\">\"EndpointArn\"</span>]                                    <span style=\"color: #ff0000; text-decoration-color: #ff0000\">│</span>\n",
       "<span style=\"color: #ff0000; text-decoration-color: #ff0000\">│</span>   <span style=\"color: #7f7f7f; text-decoration-color: #7f7f7f\">4772 </span><span style=\"color: #7f7f7f; text-decoration-color: #7f7f7f\">│   │   │   </span>                                                                              <span style=\"color: #ff0000; text-decoration-color: #ff0000\">│</span>\n",
       "<span style=\"color: #ff0000; text-decoration-color: #ff0000\">│</span>   <span style=\"color: #7f7f7f; text-decoration-color: #7f7f7f\">4773 </span><span style=\"color: #7f7f7f; text-decoration-color: #7f7f7f\">│   │   │   </span><span style=\"color: #0000ff; text-decoration-color: #0000ff\">if</span> wait:                                                                      <span style=\"color: #ff0000; text-decoration-color: #ff0000\">│</span>\n",
       "<span style=\"color: #ff0000; text-decoration-color: #ff0000\">│</span> <span style=\"color: #800000; text-decoration-color: #800000\">❱ </span>4774 <span style=\"color: #7f7f7f; text-decoration-color: #7f7f7f\">│   │   │   │   </span><span style=\"color: #00ffff; text-decoration-color: #00ffff\">self</span>.wait_for_endpoint(endpoint_name, live_logging=live_logging)          <span style=\"color: #ff0000; text-decoration-color: #ff0000\">│</span>\n",
       "<span style=\"color: #ff0000; text-decoration-color: #ff0000\">│</span>   <span style=\"color: #7f7f7f; text-decoration-color: #7f7f7f\">4775 </span><span style=\"color: #7f7f7f; text-decoration-color: #7f7f7f\">│   │   │   </span><span style=\"color: #0000ff; text-decoration-color: #0000ff\">return</span> endpoint_name                                                          <span style=\"color: #ff0000; text-decoration-color: #ff0000\">│</span>\n",
       "<span style=\"color: #ff0000; text-decoration-color: #ff0000\">│</span>   <span style=\"color: #7f7f7f; text-decoration-color: #7f7f7f\">4776 </span><span style=\"color: #7f7f7f; text-decoration-color: #7f7f7f\">│   │   </span><span style=\"color: #0000ff; text-decoration-color: #0000ff\">except</span> <span style=\"color: #00ffff; text-decoration-color: #00ffff\">Exception</span> <span style=\"color: #0000ff; text-decoration-color: #0000ff\">as</span> e:                                                            <span style=\"color: #ff0000; text-decoration-color: #ff0000\">│</span>\n",
       "<span style=\"color: #ff0000; text-decoration-color: #ff0000\">│</span>   <span style=\"color: #7f7f7f; text-decoration-color: #7f7f7f\">4777 </span><span style=\"color: #7f7f7f; text-decoration-color: #7f7f7f\">│   │   │   </span>troubleshooting = (                                                           <span style=\"color: #ff0000; text-decoration-color: #ff0000\">│</span>\n",
       "<span style=\"color: #ff0000; text-decoration-color: #ff0000\">│</span>                                                                                                  <span style=\"color: #ff0000; text-decoration-color: #ff0000\">│</span>\n",
       "<span style=\"color: #ff0000; text-decoration-color: #ff0000\">│</span> <span style=\"color: #bfbf7f; text-decoration-color: #bfbf7f\">/home/ec2-user/anaconda3/envs/python3/lib/python3.10/site-packages/sagemaker/</span><span style=\"color: #808000; text-decoration-color: #808000; font-weight: bold\">session.py</span>:<span style=\"color: #0000ff; text-decoration-color: #0000ff\">5583</span> in  <span style=\"color: #ff0000; text-decoration-color: #ff0000\">│</span>\n",
       "<span style=\"color: #ff0000; text-decoration-color: #ff0000\">│</span> <span style=\"color: #00ff00; text-decoration-color: #00ff00\">wait_for_endpoint</span>                                                                                <span style=\"color: #ff0000; text-decoration-color: #ff0000\">│</span>\n",
       "<span style=\"color: #ff0000; text-decoration-color: #ff0000\">│</span>                                                                                                  <span style=\"color: #ff0000; text-decoration-color: #ff0000\">│</span>\n",
       "<span style=\"color: #ff0000; text-decoration-color: #ff0000\">│</span>   <span style=\"color: #7f7f7f; text-decoration-color: #7f7f7f\">5580 </span><span style=\"color: #7f7f7f; text-decoration-color: #7f7f7f\">│   │   │   │   │   </span>allowed_statuses=[<span style=\"color: #808000; text-decoration-color: #808000\">\"InService\"</span>],                                       <span style=\"color: #ff0000; text-decoration-color: #ff0000\">│</span>\n",
       "<span style=\"color: #ff0000; text-decoration-color: #ff0000\">│</span>   <span style=\"color: #7f7f7f; text-decoration-color: #7f7f7f\">5581 </span><span style=\"color: #7f7f7f; text-decoration-color: #7f7f7f\">│   │   │   │   │   </span>actual_status=status,                                                 <span style=\"color: #ff0000; text-decoration-color: #ff0000\">│</span>\n",
       "<span style=\"color: #ff0000; text-decoration-color: #ff0000\">│</span>   <span style=\"color: #7f7f7f; text-decoration-color: #7f7f7f\">5582 </span><span style=\"color: #7f7f7f; text-decoration-color: #7f7f7f\">│   │   │   │   </span>)                                                                         <span style=\"color: #ff0000; text-decoration-color: #ff0000\">│</span>\n",
       "<span style=\"color: #ff0000; text-decoration-color: #ff0000\">│</span> <span style=\"color: #800000; text-decoration-color: #800000\">❱ </span>5583 <span style=\"color: #7f7f7f; text-decoration-color: #7f7f7f\">│   │   │   </span><span style=\"color: #0000ff; text-decoration-color: #0000ff\">raise</span> exceptions.UnexpectedStatusException(                                   <span style=\"color: #ff0000; text-decoration-color: #ff0000\">│</span>\n",
       "<span style=\"color: #ff0000; text-decoration-color: #ff0000\">│</span>   <span style=\"color: #7f7f7f; text-decoration-color: #7f7f7f\">5584 </span><span style=\"color: #7f7f7f; text-decoration-color: #7f7f7f\">│   │   │   │   </span>message=message,                                                          <span style=\"color: #ff0000; text-decoration-color: #ff0000\">│</span>\n",
       "<span style=\"color: #ff0000; text-decoration-color: #ff0000\">│</span>   <span style=\"color: #7f7f7f; text-decoration-color: #7f7f7f\">5585 </span><span style=\"color: #7f7f7f; text-decoration-color: #7f7f7f\">│   │   │   │   </span>allowed_statuses=[<span style=\"color: #808000; text-decoration-color: #808000\">\"InService\"</span>],                                           <span style=\"color: #ff0000; text-decoration-color: #ff0000\">│</span>\n",
       "<span style=\"color: #ff0000; text-decoration-color: #ff0000\">│</span>   <span style=\"color: #7f7f7f; text-decoration-color: #7f7f7f\">5586 </span><span style=\"color: #7f7f7f; text-decoration-color: #7f7f7f\">│   │   │   │   </span>actual_status=status,                                                     <span style=\"color: #ff0000; text-decoration-color: #ff0000\">│</span>\n",
       "<span style=\"color: #ff0000; text-decoration-color: #ff0000\">╰──────────────────────────────────────────────────────────────────────────────────────────────────╯</span>\n",
       "<span style=\"color: #ff0000; text-decoration-color: #ff0000; font-weight: bold\">UnexpectedStatusException: </span>Error hosting endpoint lightgbm-fraud-detection-endpoint-v2: Failed. Reason: The primary\n",
       "container for production variant AllTraffic did not pass the ping health check. Please check CloudWatch logs for \n",
       "this endpoint.. Try changing the instance type or reference the troubleshooting page \n",
       "<span style=\"color: #0069ff; text-decoration-color: #0069ff; text-decoration: underline\">https://docs.aws.amazon.com/sagemaker/latest/dg/async-inference-troubleshooting.html</span>\n",
       "</pre>\n"
      ],
      "text/plain": [
       "\u001b[38;2;255;0;0m╭─\u001b[0m\u001b[38;2;255;0;0m──────────────────────────────\u001b[0m\u001b[38;2;255;0;0m \u001b[0m\u001b[1;38;2;255;0;0mTraceback \u001b[0m\u001b[1;2;38;2;255;0;0m(most recent call last)\u001b[0m\u001b[38;2;255;0;0m \u001b[0m\u001b[38;2;255;0;0m───────────────────────────────\u001b[0m\u001b[38;2;255;0;0m─╮\u001b[0m\n",
       "\u001b[38;2;255;0;0m│\u001b[0m in \u001b[92m<module>\u001b[0m:\u001b[94m30\u001b[0m                                                                                   \u001b[38;2;255;0;0m│\u001b[0m\n",
       "\u001b[38;2;255;0;0m│\u001b[0m                                                                                                  \u001b[38;2;255;0;0m│\u001b[0m\n",
       "\u001b[38;2;255;0;0m│\u001b[0m   \u001b[2m27 \u001b[0m\u001b[96mprint\u001b[0m(\u001b[33mf\u001b[0m\u001b[33m\"\u001b[0m\u001b[33m✅ SageMaker Model \u001b[0m\u001b[33m'\u001b[0m\u001b[33m{\u001b[0mmodel_name\u001b[33m}\u001b[0m\u001b[33m'\u001b[0m\u001b[33m created successfully!\u001b[0m\u001b[33m\"\u001b[0m)                           \u001b[38;2;255;0;0m│\u001b[0m\n",
       "\u001b[38;2;255;0;0m│\u001b[0m   \u001b[2m28 \u001b[0m                                                                                            \u001b[38;2;255;0;0m│\u001b[0m\n",
       "\u001b[38;2;255;0;0m│\u001b[0m   \u001b[2m29 \u001b[0m\u001b[2m# Deploy the model as an endpoint with a specific name\u001b[0m                                      \u001b[38;2;255;0;0m│\u001b[0m\n",
       "\u001b[38;2;255;0;0m│\u001b[0m \u001b[31m❱ \u001b[0m30 predictor = lightgbm_model.deploy(                                                          \u001b[38;2;255;0;0m│\u001b[0m\n",
       "\u001b[38;2;255;0;0m│\u001b[0m   \u001b[2m31 \u001b[0m\u001b[2m│   \u001b[0minitial_instance_count=\u001b[94m1\u001b[0m,                                                               \u001b[38;2;255;0;0m│\u001b[0m\n",
       "\u001b[38;2;255;0;0m│\u001b[0m   \u001b[2m32 \u001b[0m\u001b[2m│   \u001b[0minstance_type=\u001b[33m\"\u001b[0m\u001b[33mml.m5.large\u001b[0m\u001b[33m\"\u001b[0m,                                                            \u001b[38;2;255;0;0m│\u001b[0m\n",
       "\u001b[38;2;255;0;0m│\u001b[0m   \u001b[2m33 \u001b[0m\u001b[2m│   \u001b[0mendpoint_name=endpoint_name  \u001b[2m# Explicitly naming the endpoint\u001b[0m                           \u001b[38;2;255;0;0m│\u001b[0m\n",
       "\u001b[38;2;255;0;0m│\u001b[0m                                                                                                  \u001b[38;2;255;0;0m│\u001b[0m\n",
       "\u001b[38;2;255;0;0m│\u001b[0m \u001b[2;33m/home/ec2-user/anaconda3/envs/python3/lib/python3.10/site-packages/sagemaker/\u001b[0m\u001b[1;33mmodel.py\u001b[0m:\u001b[94m1786\u001b[0m in    \u001b[38;2;255;0;0m│\u001b[0m\n",
       "\u001b[38;2;255;0;0m│\u001b[0m \u001b[92mdeploy\u001b[0m                                                                                           \u001b[38;2;255;0;0m│\u001b[0m\n",
       "\u001b[38;2;255;0;0m│\u001b[0m                                                                                                  \u001b[38;2;255;0;0m│\u001b[0m\n",
       "\u001b[38;2;255;0;0m│\u001b[0m   \u001b[2m1783 \u001b[0m\u001b[2m│   │   │   \u001b[0m\u001b[94mif\u001b[0m is_explainer_enabled:                                                      \u001b[38;2;255;0;0m│\u001b[0m\n",
       "\u001b[38;2;255;0;0m│\u001b[0m   \u001b[2m1784 \u001b[0m\u001b[2m│   │   │   │   \u001b[0mexplainer_config_dict = explainer_config._to_request_dict()               \u001b[38;2;255;0;0m│\u001b[0m\n",
       "\u001b[38;2;255;0;0m│\u001b[0m   \u001b[2m1785 \u001b[0m\u001b[2m│   │   │   \u001b[0m                                                                              \u001b[38;2;255;0;0m│\u001b[0m\n",
       "\u001b[38;2;255;0;0m│\u001b[0m \u001b[31m❱ \u001b[0m1786 \u001b[2m│   │   │   \u001b[0m\u001b[96mself\u001b[0m.sagemaker_session.endpoint_from_production_variants(                     \u001b[38;2;255;0;0m│\u001b[0m\n",
       "\u001b[38;2;255;0;0m│\u001b[0m   \u001b[2m1787 \u001b[0m\u001b[2m│   │   │   │   \u001b[0mname=\u001b[96mself\u001b[0m.endpoint_name,                                                  \u001b[38;2;255;0;0m│\u001b[0m\n",
       "\u001b[38;2;255;0;0m│\u001b[0m   \u001b[2m1788 \u001b[0m\u001b[2m│   │   │   │   \u001b[0mproduction_variants=[production_variant],                                 \u001b[38;2;255;0;0m│\u001b[0m\n",
       "\u001b[38;2;255;0;0m│\u001b[0m   \u001b[2m1789 \u001b[0m\u001b[2m│   │   │   │   \u001b[0mtags=tags,                                                                \u001b[38;2;255;0;0m│\u001b[0m\n",
       "\u001b[38;2;255;0;0m│\u001b[0m                                                                                                  \u001b[38;2;255;0;0m│\u001b[0m\n",
       "\u001b[38;2;255;0;0m│\u001b[0m \u001b[2;33m/home/ec2-user/anaconda3/envs/python3/lib/python3.10/site-packages/sagemaker/\u001b[0m\u001b[1;33msession.py\u001b[0m:\u001b[94m5940\u001b[0m in  \u001b[38;2;255;0;0m│\u001b[0m\n",
       "\u001b[38;2;255;0;0m│\u001b[0m \u001b[92mendpoint_from_production_variants\u001b[0m                                                                \u001b[38;2;255;0;0m│\u001b[0m\n",
       "\u001b[38;2;255;0;0m│\u001b[0m                                                                                                  \u001b[38;2;255;0;0m│\u001b[0m\n",
       "\u001b[38;2;255;0;0m│\u001b[0m   \u001b[2m5937 \u001b[0m\u001b[2m│   │   \u001b[0mlogger.info(\u001b[33m\"\u001b[0m\u001b[33mCreating endpoint-config with name \u001b[0m\u001b[33m%s\u001b[0m\u001b[33m\"\u001b[0m, name)                        \u001b[38;2;255;0;0m│\u001b[0m\n",
       "\u001b[38;2;255;0;0m│\u001b[0m   \u001b[2m5938 \u001b[0m\u001b[2m│   │   \u001b[0m\u001b[96mself\u001b[0m.sagemaker_client.create_endpoint_config(**config_options)                    \u001b[38;2;255;0;0m│\u001b[0m\n",
       "\u001b[38;2;255;0;0m│\u001b[0m   \u001b[2m5939 \u001b[0m\u001b[2m│   │   \u001b[0m                                                                                  \u001b[38;2;255;0;0m│\u001b[0m\n",
       "\u001b[38;2;255;0;0m│\u001b[0m \u001b[31m❱ \u001b[0m5940 \u001b[2m│   │   \u001b[0m\u001b[94mreturn\u001b[0m \u001b[96mself\u001b[0m.create_endpoint(                                                      \u001b[38;2;255;0;0m│\u001b[0m\n",
       "\u001b[38;2;255;0;0m│\u001b[0m   \u001b[2m5941 \u001b[0m\u001b[2m│   │   │   \u001b[0mendpoint_name=name,                                                           \u001b[38;2;255;0;0m│\u001b[0m\n",
       "\u001b[38;2;255;0;0m│\u001b[0m   \u001b[2m5942 \u001b[0m\u001b[2m│   │   │   \u001b[0mconfig_name=name,                                                             \u001b[38;2;255;0;0m│\u001b[0m\n",
       "\u001b[38;2;255;0;0m│\u001b[0m   \u001b[2m5943 \u001b[0m\u001b[2m│   │   │   \u001b[0mtags=endpoint_tags,                                                           \u001b[38;2;255;0;0m│\u001b[0m\n",
       "\u001b[38;2;255;0;0m│\u001b[0m                                                                                                  \u001b[38;2;255;0;0m│\u001b[0m\n",
       "\u001b[38;2;255;0;0m│\u001b[0m \u001b[2;33m/home/ec2-user/anaconda3/envs/python3/lib/python3.10/site-packages/sagemaker/\u001b[0m\u001b[1;33msession.py\u001b[0m:\u001b[94m4785\u001b[0m in  \u001b[38;2;255;0;0m│\u001b[0m\n",
       "\u001b[38;2;255;0;0m│\u001b[0m \u001b[92mcreate_endpoint\u001b[0m                                                                                  \u001b[38;2;255;0;0m│\u001b[0m\n",
       "\u001b[38;2;255;0;0m│\u001b[0m                                                                                                  \u001b[38;2;255;0;0m│\u001b[0m\n",
       "\u001b[38;2;255;0;0m│\u001b[0m   \u001b[2m4782 \u001b[0m\u001b[2m│   │   │   \u001b[0mlogger.error(                                                                 \u001b[38;2;255;0;0m│\u001b[0m\n",
       "\u001b[38;2;255;0;0m│\u001b[0m   \u001b[2m4783 \u001b[0m\u001b[2m│   │   │   │   \u001b[0m\u001b[33m\"\u001b[0m\u001b[33mPlease check the troubleshooting guide for common errors: \u001b[0m\u001b[33m%s\u001b[0m\u001b[33m\"\u001b[0m, troubles  \u001b[38;2;255;0;0m│\u001b[0m\n",
       "\u001b[38;2;255;0;0m│\u001b[0m   \u001b[2m4784 \u001b[0m\u001b[2m│   │   │   \u001b[0m)                                                                             \u001b[38;2;255;0;0m│\u001b[0m\n",
       "\u001b[38;2;255;0;0m│\u001b[0m \u001b[31m❱ \u001b[0m4785 \u001b[2m│   │   │   \u001b[0m\u001b[94mraise\u001b[0m e                                                                       \u001b[38;2;255;0;0m│\u001b[0m\n",
       "\u001b[38;2;255;0;0m│\u001b[0m   \u001b[2m4786 \u001b[0m\u001b[2m│   \u001b[0m                                                                                      \u001b[38;2;255;0;0m│\u001b[0m\n",
       "\u001b[38;2;255;0;0m│\u001b[0m   \u001b[2m4787 \u001b[0m\u001b[2m│   \u001b[0m\u001b[94mdef\u001b[0m\u001b[90m \u001b[0m\u001b[92mendpoint_in_service_or_not\u001b[0m(\u001b[96mself\u001b[0m, endpoint_name: \u001b[96mstr\u001b[0m):                             \u001b[38;2;255;0;0m│\u001b[0m\n",
       "\u001b[38;2;255;0;0m│\u001b[0m   \u001b[2m4788 \u001b[0m\u001b[2;90m│   │   \u001b[0m\u001b[33m\"\"\"Check whether an Amazon SageMaker ``Endpoint``` is in IN_SERVICE status.\u001b[0m       \u001b[38;2;255;0;0m│\u001b[0m\n",
       "\u001b[38;2;255;0;0m│\u001b[0m                                                                                                  \u001b[38;2;255;0;0m│\u001b[0m\n",
       "\u001b[38;2;255;0;0m│\u001b[0m \u001b[2;33m/home/ec2-user/anaconda3/envs/python3/lib/python3.10/site-packages/sagemaker/\u001b[0m\u001b[1;33msession.py\u001b[0m:\u001b[94m4774\u001b[0m in  \u001b[38;2;255;0;0m│\u001b[0m\n",
       "\u001b[38;2;255;0;0m│\u001b[0m \u001b[92mcreate_endpoint\u001b[0m                                                                                  \u001b[38;2;255;0;0m│\u001b[0m\n",
       "\u001b[38;2;255;0;0m│\u001b[0m                                                                                                  \u001b[38;2;255;0;0m│\u001b[0m\n",
       "\u001b[38;2;255;0;0m│\u001b[0m   \u001b[2m4771 \u001b[0m\u001b[2m│   │   │   │   \u001b[0m\u001b[96mself\u001b[0m.endpoint_arn = res[\u001b[33m\"\u001b[0m\u001b[33mEndpointArn\u001b[0m\u001b[33m\"\u001b[0m]                                    \u001b[38;2;255;0;0m│\u001b[0m\n",
       "\u001b[38;2;255;0;0m│\u001b[0m   \u001b[2m4772 \u001b[0m\u001b[2m│   │   │   \u001b[0m                                                                              \u001b[38;2;255;0;0m│\u001b[0m\n",
       "\u001b[38;2;255;0;0m│\u001b[0m   \u001b[2m4773 \u001b[0m\u001b[2m│   │   │   \u001b[0m\u001b[94mif\u001b[0m wait:                                                                      \u001b[38;2;255;0;0m│\u001b[0m\n",
       "\u001b[38;2;255;0;0m│\u001b[0m \u001b[31m❱ \u001b[0m4774 \u001b[2m│   │   │   │   \u001b[0m\u001b[96mself\u001b[0m.wait_for_endpoint(endpoint_name, live_logging=live_logging)          \u001b[38;2;255;0;0m│\u001b[0m\n",
       "\u001b[38;2;255;0;0m│\u001b[0m   \u001b[2m4775 \u001b[0m\u001b[2m│   │   │   \u001b[0m\u001b[94mreturn\u001b[0m endpoint_name                                                          \u001b[38;2;255;0;0m│\u001b[0m\n",
       "\u001b[38;2;255;0;0m│\u001b[0m   \u001b[2m4776 \u001b[0m\u001b[2m│   │   \u001b[0m\u001b[94mexcept\u001b[0m \u001b[96mException\u001b[0m \u001b[94mas\u001b[0m e:                                                            \u001b[38;2;255;0;0m│\u001b[0m\n",
       "\u001b[38;2;255;0;0m│\u001b[0m   \u001b[2m4777 \u001b[0m\u001b[2m│   │   │   \u001b[0mtroubleshooting = (                                                           \u001b[38;2;255;0;0m│\u001b[0m\n",
       "\u001b[38;2;255;0;0m│\u001b[0m                                                                                                  \u001b[38;2;255;0;0m│\u001b[0m\n",
       "\u001b[38;2;255;0;0m│\u001b[0m \u001b[2;33m/home/ec2-user/anaconda3/envs/python3/lib/python3.10/site-packages/sagemaker/\u001b[0m\u001b[1;33msession.py\u001b[0m:\u001b[94m5583\u001b[0m in  \u001b[38;2;255;0;0m│\u001b[0m\n",
       "\u001b[38;2;255;0;0m│\u001b[0m \u001b[92mwait_for_endpoint\u001b[0m                                                                                \u001b[38;2;255;0;0m│\u001b[0m\n",
       "\u001b[38;2;255;0;0m│\u001b[0m                                                                                                  \u001b[38;2;255;0;0m│\u001b[0m\n",
       "\u001b[38;2;255;0;0m│\u001b[0m   \u001b[2m5580 \u001b[0m\u001b[2m│   │   │   │   │   \u001b[0mallowed_statuses=[\u001b[33m\"\u001b[0m\u001b[33mInService\u001b[0m\u001b[33m\"\u001b[0m],                                       \u001b[38;2;255;0;0m│\u001b[0m\n",
       "\u001b[38;2;255;0;0m│\u001b[0m   \u001b[2m5581 \u001b[0m\u001b[2m│   │   │   │   │   \u001b[0mactual_status=status,                                                 \u001b[38;2;255;0;0m│\u001b[0m\n",
       "\u001b[38;2;255;0;0m│\u001b[0m   \u001b[2m5582 \u001b[0m\u001b[2m│   │   │   │   \u001b[0m)                                                                         \u001b[38;2;255;0;0m│\u001b[0m\n",
       "\u001b[38;2;255;0;0m│\u001b[0m \u001b[31m❱ \u001b[0m5583 \u001b[2m│   │   │   \u001b[0m\u001b[94mraise\u001b[0m exceptions.UnexpectedStatusException(                                   \u001b[38;2;255;0;0m│\u001b[0m\n",
       "\u001b[38;2;255;0;0m│\u001b[0m   \u001b[2m5584 \u001b[0m\u001b[2m│   │   │   │   \u001b[0mmessage=message,                                                          \u001b[38;2;255;0;0m│\u001b[0m\n",
       "\u001b[38;2;255;0;0m│\u001b[0m   \u001b[2m5585 \u001b[0m\u001b[2m│   │   │   │   \u001b[0mallowed_statuses=[\u001b[33m\"\u001b[0m\u001b[33mInService\u001b[0m\u001b[33m\"\u001b[0m],                                           \u001b[38;2;255;0;0m│\u001b[0m\n",
       "\u001b[38;2;255;0;0m│\u001b[0m   \u001b[2m5586 \u001b[0m\u001b[2m│   │   │   │   \u001b[0mactual_status=status,                                                     \u001b[38;2;255;0;0m│\u001b[0m\n",
       "\u001b[38;2;255;0;0m╰──────────────────────────────────────────────────────────────────────────────────────────────────╯\u001b[0m\n",
       "\u001b[1;91mUnexpectedStatusException: \u001b[0mError hosting endpoint lightgbm-fraud-detection-endpoint-v2: Failed. Reason: The primary\n",
       "container for production variant AllTraffic did not pass the ping health check. Please check CloudWatch logs for \n",
       "this endpoint.. Try changing the instance type or reference the troubleshooting page \n",
       "\u001b[4;38;2;0;105;255mhttps://docs.aws.amazon.com/sagemaker/latest/dg/async-inference-troubleshooting.html\u001b[0m\n"
      ]
     },
     "metadata": {},
     "output_type": "display_data"
    }
   ],
   "source": [
    "import sagemaker\n",
    "from sagemaker.model import Model\n",
    "from sagemaker.predictor import Predictor\n",
    " \n",
    "# Define S3 model path (Use your updated model path)\n",
    "s3_model_uri = \"s3://fr-detector/models/lightgbm_sagemaker_v2.tar.gz\"\n",
    " \n",
    "# Get SageMaker execution role\n",
    "role = sagemaker.get_execution_role()\n",
    " \n",
    "# Define the SageMaker container for deployment\n",
    "image_uri = \"683313688378.dkr.ecr.us-east-1.amazonaws.com/sagemaker-scikit-learn:1.2-1-cpu-py3\"\n",
    " \n",
    "# Define Model and Endpoint Names\n",
    "model_name = \"lightgbm-fraud-detection-model-v2\"\n",
    "endpoint_name = \"lightgbm-fraud-detection-endpoint-v2\"\n",
    " \n",
    "# Create a SageMaker Model with a specific name\n",
    "lightgbm_model = Model(\n",
    "    model_data=s3_model_uri,\n",
    "    role=role,\n",
    "    image_uri=image_uri,\n",
    "    predictor_cls=Predictor,\n",
    "    name=model_name  # Explicitly naming the model\n",
    ")\n",
    " \n",
    "print(f\"✅ SageMaker Model '{model_name}' created successfully!\")\n",
    " \n",
    "# Deploy the model as an endpoint with a specific name\n",
    "predictor = lightgbm_model.deploy(\n",
    "    initial_instance_count=1,\n",
    "    instance_type=\"ml.m5.large\",\n",
    "    endpoint_name=endpoint_name  # Explicitly naming the endpoint\n",
    ")\n",
    " \n",
    "print(f\"✅ Model deployed successfully with endpoint: {endpoint_name}\")"
   ]
  },
  {
   "cell_type": "code",
   "execution_count": null,
   "id": "b8600955-cdda-493a-82d4-24cd96052a04",
   "metadata": {},
   "outputs": [],
   "source": []
  },
  {
   "cell_type": "code",
   "execution_count": null,
   "id": "6cfc0efc-7962-4308-b743-bf41b3a8053b",
   "metadata": {},
   "outputs": [],
   "source": []
  },
  {
   "cell_type": "code",
   "execution_count": 1,
   "id": "444e2985-c9d6-47af-be60-a0e93b48ffb2",
   "metadata": {},
   "outputs": [
    {
     "name": "stdout",
     "output_type": "stream",
     "text": [
      "✅ Extracted 'model.txt' from archive\n"
     ]
    }
   ],
   "source": [
    "import tarfile\n",
    " \n",
    "# Path to the tar.gz file\n",
    "tar_path = \"lightgbm_sagemaker_v2.tar.gz\"\n",
    " \n",
    "# Extract model.txt\n",
    "with tarfile.open(tar_path, \"r:gz\") as tar:\n",
    "    tar.extract(\"model.txt\", path=\".\")\n",
    " \n",
    "print(\"✅ Extracted 'model.txt' from archive\")"
   ]
  },
  {
   "cell_type": "code",
   "execution_count": 4,
   "id": "0088b5d7-f9ba-404d-9b89-72cb4a7ba607",
   "metadata": {},
   "outputs": [
    {
     "name": "stdout",
     "output_type": "stream",
     "text": [
      "✅ Converted 'model.txt' to 'lightgbm_model.bst'\n"
     ]
    }
   ],
   "source": [
    "import lightgbm as lgb\n",
    " \n",
    "# Load model from model.txt\n",
    "booster = lgb.Booster(model_file=\"model.txt\")\n",
    " \n",
    "# Save model in .bst format\n",
    "booster.save_model(\"lightgbm_model.bst\")\n",
    " \n",
    "print(\"✅ Converted 'model.txt' to 'lightgbm_model.bst'\")"
   ]
  },
  {
   "cell_type": "code",
   "execution_count": 3,
   "id": "a7b13a46-e56b-43dc-9d81-e5c627f22b84",
   "metadata": {},
   "outputs": [
    {
     "name": "stdout",
     "output_type": "stream",
     "text": [
      "Collecting lightgbm\n",
      "  Downloading lightgbm-4.6.0.tar.gz (1.7 MB)\n",
      "\u001b[2K     \u001b[90m━━━━━━━━━━━━━━━━━━━━━━━━━━━━━━━━━━━━━━━━\u001b[0m \u001b[32m1.7/1.7 MB\u001b[0m \u001b[31m82.1 MB/s\u001b[0m eta \u001b[36m0:00:00\u001b[0m\n",
      "  Installing build dependencies ... \u001b[done\n",
      "\u001b[?25h  Getting requirements to build wheel ... \u001b[?25ldone\n",
      "\u001b[?25h  Installing backend dependencies ... \u001b[?25done\n",
      "\u001b[?25h  Preparing metadata (pyproject.toml) ... \u001b[?25ldone\n",
      "\u001b[?25hRequirement already satisfied: numpy>=1.17.0 in /home/ec2-user/anaconda3/envs/python3/lib/python3.10/site-packages (from lightgbm) (1.26.4)\n",
      "Requirement already satisfied: scipy in /home/ec2-user/anaconda3/envs/python3/lib/python3.10/site-packages (from lightgbm) (1.15.1)\n",
      "Building wheels for collected packages: lightgbm\n",
      "  Building wdone\n",
      "\u001b[?25h  Created wheel for lightgbm: filename=lightgbm-4.6.0-py3-none-linux_x86_64.whl size=2737778 sha256=321d55061c71c748da2c4deac0872a46e5248eee19d5a40fabad9ebe6760cf33\n",
      "  Stored in directory: /home/ec2-user/.cache/pip/wheels/bb/db/6d/7814aed03437129dc284a055c084f201b765deb54b6908efab\n",
      "Successfully built lightgbm\n",
      "Installing collected packages: lightgbm\n",
      "Successfully installed lightgbm-4.6.0\n"
     ]
    }
   ],
   "source": [
    "!pip install lightgbm"
   ]
  },
  {
   "cell_type": "code",
   "execution_count": null,
   "id": "cdb22600-7d22-49ef-8a2b-e6ea8d55cb85",
   "metadata": {},
   "outputs": [],
   "source": [
    "import boto3\n",
    " \n",
    "s3_client = boto3.client(\"s3\")\n",
    "bucket_name = \"fr-detector\"\n",
    "s3_model_path = \"models/lightgbm_model.bst\"\n",
    " \n",
    "# Upload the file\n",
    "s3_client.upload_file(\"lightgbm_model.bst\", bucket_name, s3_model_path)\n",
    " \n",
    "print(f\"✅ Model uploaded to S3: s3://{bucket_name}/{s3_model_path}\")"
   ]
  },
  {
   "cell_type": "code",
   "execution_count": null,
   "id": "ac297565-fb96-46ca-8c5e-2e56715c7c81",
   "metadata": {},
   "outputs": [],
   "source": [
    "import sagemaker\n",
    "from sagemaker.model import Model\n",
    "from sagemaker.predictor import Predictor\n",
    " \n",
    "# Updated S3 model path\n",
    "s3_model_uri = \"s3://fr-detector/models/lightgbm_model.bst\"\n",
    " \n",
    "# Get SageMaker execution role\n",
    "role = sagemaker.get_execution_role()\n",
    " \n",
    "# Use XGBoost container for deployment\n",
    "image_uri = \"683313688378.dkr.ecr.us-east-1.amazonaws.com/sagemaker-xgboost:1.5-1\"\n",
    " \n",
    "# Define Model and Endpoint Names\n",
    "model_name = \"lightgbm-fraud-detection-model-v2\"\n",
    "endpoint_name = \"lightgbm-fraud-detection-endpoint-v2\"\n",
    " \n",
    "# Create Model object\n",
    "lightgbm_model = Model(\n",
    "    model_data=s3_model_uri,\n",
    "    role=role,\n",
    "    image_uri=image_uri,\n",
    "    predictor_cls=Predictor,\n",
    "    name=model_name\n",
    ")\n",
    " \n",
    "print(f\"✅ SageMaker Model '{model_name}' created successfully!\")\n",
    " \n",
    "# Deploy model\n",
    "predictor = lightgbm_model.deploy(\n",
    "    initial_instance_count=1,\n",
    "    instance_type=\"ml.m5.large\",\n",
    "    endpoint_name=endpoint_name\n",
    ")\n",
    " \n",
    "print(f\"✅ Model deployed successfully with endpoint: {endpoint_name}\")"
   ]
  },
  {
   "cell_type": "code",
   "execution_count": null,
   "id": "89c67199-2ed4-4351-8119-3a397e4aa093",
   "metadata": {},
   "outputs": [],
   "source": []
  },
  {
   "cell_type": "code",
   "execution_count": null,
   "id": "efdf39f9-435d-441b-8ab3-1ed3806a31e3",
   "metadata": {},
   "outputs": [],
   "source": []
  },
  {
   "cell_type": "code",
   "execution_count": null,
   "id": "d7b9582b-7bf1-41f6-92af-aef6789cda4e",
   "metadata": {},
   "outputs": [],
   "source": []
  },
  {
   "cell_type": "code",
   "execution_count": null,
   "id": "18b80071-d902-41f4-852a-736fee706aa2",
   "metadata": {},
   "outputs": [],
   "source": []
  },
  {
   "cell_type": "code",
   "execution_count": null,
   "id": "d3044fba-689d-450c-8292-7f461944d43e",
   "metadata": {},
   "outputs": [],
   "source": []
  },
  {
   "cell_type": "code",
   "execution_count": null,
   "id": "f19689dc-4148-4e4b-b6c1-ae6aab6611f5",
   "metadata": {},
   "outputs": [],
   "source": []
  },
  {
   "cell_type": "code",
   "execution_count": null,
   "id": "8bc51e47-f049-43ee-b8a3-d6b19347745e",
   "metadata": {},
   "outputs": [],
   "source": []
  },
  {
   "cell_type": "code",
   "execution_count": null,
   "id": "0576b343-b80d-49a4-81d1-58e07e993cdc",
   "metadata": {},
   "outputs": [],
   "source": []
  },
  {
   "cell_type": "code",
   "execution_count": null,
   "id": "bea60f77-0b9e-47de-b38d-01d31a296bf8",
   "metadata": {},
   "outputs": [],
   "source": [
    "#docker container method"
   ]
  },
  {
   "cell_type": "code",
   "execution_count": 108,
   "id": "8624c87a-5acd-4a3a-a7de-da1fdf6847d2",
   "metadata": {},
   "outputs": [
    {
     "name": "stdout",
     "output_type": "stream",
     "text": [
      "✅ Model file downloaded successfully: lightgbm_sagemaker_v2.tar.gz\n"
     ]
    }
   ],
   "source": [
    "import boto3\n",
    "import os\n",
    " \n",
    "# Define S3 URI\n",
    "s3_uri = \"s3://fr-detector/models/lightgbm_sagemaker_v2.tar.gz\"\n",
    " \n",
    "# Extract bucket name and key from S3 URI\n",
    "parsed_url = s3_uri.replace(\"s3://\", \"\").split(\"/\", 1)\n",
    "s3_bucket = parsed_url[0]\n",
    "s3_key = parsed_url[1]\n",
    " \n",
    "# Define local file path\n",
    "local_file_path = os.path.basename(s3_key)  # Saves with same filename\n",
    " \n",
    "# Initialize S3 client\n",
    "s3_client = boto3.client(\"s3\")\n",
    " \n",
    "# Download the model file from S3\n",
    "s3_client.download_file(s3_bucket, s3_key, local_file_path)\n",
    " \n",
    "print(f\"✅ Model file downloaded successfully: {local_file_path}\")"
   ]
  },
  {
   "cell_type": "code",
   "execution_count": null,
   "id": "7dff7eb9-e7f1-41a2-907e-be4857d203e7",
   "metadata": {},
   "outputs": [],
   "source": []
  },
  {
   "cell_type": "code",
   "execution_count": null,
   "id": "4624d1d3-ab31-4d4a-9bcd-3a341ec118d3",
   "metadata": {},
   "outputs": [],
   "source": []
  },
  {
   "cell_type": "code",
   "execution_count": null,
   "id": "8e1d4181-d1bd-44ed-b5a2-8eb5d9ff1ef1",
   "metadata": {},
   "outputs": [],
   "source": []
  },
  {
   "cell_type": "code",
   "execution_count": null,
   "id": "17469ef8-7f04-4c77-8199-fcf89c2d9e1c",
   "metadata": {},
   "outputs": [],
   "source": []
  },
  {
   "cell_type": "code",
   "execution_count": null,
   "id": "fc6397bd-ff81-484e-8392-90f19ce3335b",
   "metadata": {},
   "outputs": [],
   "source": []
  },
  {
   "cell_type": "code",
   "execution_count": null,
   "id": "45f8b7f3-c425-493d-8521-f86073d15a61",
   "metadata": {},
   "outputs": [],
   "source": []
  },
  {
   "cell_type": "code",
   "execution_count": null,
   "id": "6e9565f6-24d9-4076-aa1a-2a97e7f39fbc",
   "metadata": {},
   "outputs": [],
   "source": []
  },
  {
   "cell_type": "code",
   "execution_count": 21,
   "id": "ce094d74-9aa7-46bc-b717-13c879edcef9",
   "metadata": {},
   "outputs": [
    {
     "name": "stdout",
     "output_type": "stream",
     "text": [
      "/home/ec2-user/anaconda3/envs/python3/lib/python3.10/site-packages/xgboost/core.py:377: FutureWarning: Your system has an old version of glibc (< 2.28). We will stop supporting Linux distros with glibc older than 2.28 after **May 31, 2025**. Please upgrade to a recent Linux distro (with glibc >= 2.28) to use future versions of XGBoost.\n",
      "Note: You have installed the 'manylinux2014' variant of XGBoost. Certain features such as GPU algorithms or federated learning are not available. To use these features, please upgrade to a recent Linux distro with glibc 2.28+, and install the 'manylinux_2_28' variant.\n",
      "  warnings.warn(\n",
      "/home/ec2-user/anaconda3/envs/python3/lib/python3.10/site-packages/xgboost/training.py:183: UserWarning: [09:08:12] WARNING: /workspace/src/learner.cc:738: \n",
      "Parameters: { \"use_label_encoder\" } are not used.\n",
      "\n",
      "  bst.update(dtrain, iteration=i, fobj=obj)\n",
      "F1 Score: 0.9993622308724242\n",
      "Error during training: [Errno 13] Permission denied: '/opt/ml/model'\n",
      "Traceback (most recent call last):\n",
      "  File \"/home/ec2-user/SageMaker/data/neha_exploration/train_script.py\", line 58, in <module>\n",
      "    os.makedirs(args.model_dir, exist_ok=True)\n",
      "  File \"/home/ec2-user/anaconda3/envs/python3/lib/python3.10/os.py\", line 225, in makedirs\n",
      "    mkdir(name, mode)\n",
      "PermissionError: [Errno 13] Permission denied: '/opt/ml/model'\n"
     ]
    }
   ],
   "source": [
    "!python train_script.py"
   ]
  },
  {
   "cell_type": "code",
   "execution_count": 22,
   "id": "fa700f09-3362-438b-a950-c882440d4e04",
   "metadata": {},
   "outputs": [
    {
     "name": "stdout",
     "output_type": "stream",
     "text": [
      "Requirement already satisfied: xgboost in /home/ec2-user/anaconda3/envs/python3/lib/python3.10/site-packages (3.0.0)\n",
      "Requirement already satisfied: numpy in /home/ec2-user/anaconda3/envs/python3/lib/python3.10/site-packages (from xgboost) (1.26.4)\n",
      "Requirement already satisfied: scipy in /home/ec2-user/anaconda3/envs/python3/lib/python3.10/site-packages (from xgboost) (1.15.1)\n"
     ]
    }
   ],
   "source": [
    "!pip install xgboost"
   ]
  },
  {
   "cell_type": "code",
   "execution_count": 25,
   "id": "26953e6d-1e15-4306-8eeb-24fefc56d64a",
   "metadata": {},
   "outputs": [
    {
     "name": "stderr",
     "output_type": "stream",
     "text": [
      "usage: ipykernel_launcher.py [-h] [--train-file TRAIN_FILE]\n",
      "                             [--output-data-dir OUTPUT_DATA_DIR]\n",
      "                             [--model-dir MODEL_DIR]\n",
      "                             [--eval-metric EVAL_METRIC]\n",
      "                             [--num-round NUM_ROUND] [--objective OBJECTIVE]\n",
      "ipykernel_launcher.py: error: unrecognized arguments: -f /home/ec2-user/.local/share/jupyter/runtime/kernel-7435812a-182e-403f-a390-e52748ec5136.json\n"
     ]
    },
    {
     "ename": "SystemExit",
     "evalue": "2",
     "output_type": "error",
     "traceback": [
      "An exception has occurred, use %tb to see the full traceback.\n",
      "\u001b[0;31mSystemExit\u001b[0m\u001b[0;31m:\u001b[0m 2\n"
     ]
    },
    {
     "name": "stderr",
     "output_type": "stream",
     "text": [
      "/home/ec2-user/anaconda3/envs/python3/lib/python3.10/site-packages/IPython/core/interactiveshell.py:3587: UserWarning: To exit: use 'exit', 'quit', or Ctrl-D.\n",
      "  warn(\"To exit: use 'exit', 'quit', or Ctrl-D.\", stacklevel=1)\n"
     ]
    }
   ],
   "source": [
    "import argparse\n",
    " \n",
    "parser = argparse.ArgumentParser()\n",
    "parser.add_argument(\"--train-file\", type=str, default=\"/opt/ml/input/data/train/train_final.csv\")\n",
    "parser.add_argument(\"--output-data-dir\", type=str, default=\"/opt/ml/model\")\n",
    "parser.add_argument(\"--model-dir\", type=str, default=\"/opt/ml/model\")\n",
    "parser.add_argument(\"--eval-metric\", type=str, default=\"auc\")\n",
    "parser.add_argument(\"--num-round\", type=int, default=100)\n",
    "parser.add_argument(\"--objective\", type=str, default=\"binary:logistic\")\n",
    " \n",
    "args = parser.parse_args()"
   ]
  },
  {
   "cell_type": "code",
   "execution_count": 26,
   "id": "73fc4e2a-c6de-48b3-af3f-408bf3b263b9",
   "metadata": {},
   "outputs": [
    {
     "ename": "NameError",
     "evalue": "name 'args' is not defined",
     "output_type": "error",
     "traceback": [
      "\u001b[0;31m---------------------------------------------------------------------------\u001b[0m",
      "\u001b[0;31mNameError\u001b[0m                                 Traceback (most recent call last)",
      "Cell \u001b[0;32mIn[26], line 2\u001b[0m\n\u001b[1;32m      1\u001b[0m \u001b[38;5;28;01mimport\u001b[39;00m\u001b[38;5;250m \u001b[39m\u001b[38;5;21;01mos\u001b[39;00m\n\u001b[0;32m----> 2\u001b[0m \u001b[38;5;28mprint\u001b[39m(\u001b[38;5;124m\"\u001b[39m\u001b[38;5;124mchecking if train_final.csv exists\u001b[39m\u001b[38;5;124m\"\u001b[39m,os\u001b[38;5;241m.\u001b[39mpath\u001b[38;5;241m.\u001b[39mexists(\u001b[43margs\u001b[49m\u001b[38;5;241m.\u001b[39mtrain_file))\n",
      "\u001b[0;31mNameError\u001b[0m: name 'args' is not defined"
     ]
    }
   ],
   "source": [
    "import os\n",
    "print(\"checking if train_final.csv exists\",os.path.exists(args.train_file))"
   ]
  },
  {
   "cell_type": "code",
   "execution_count": 17,
   "id": "78ab4bc7-66ce-45e8-b151-0a73e00ffddc",
   "metadata": {},
   "outputs": [
    {
     "name": "stdout",
     "output_type": "stream",
     "text": [
      "/home/ec2-user/anaconda3/envs/python3/lib/python3.10/site-packages/xgboost/core.py:377: FutureWarning: Your system has an old version of glibc (< 2.28). We will stop supporting Linux distros with glibc older than 2.28 after **May 31, 2025**. Please upgrade to a recent Linux distro (with glibc >= 2.28) to use future versions of XGBoost.\n",
      "Note: You have installed the 'manylinux2014' variant of XGBoost. Certain features such as GPU algorithms or federated learning are not available. To use these features, please upgrade to a recent Linux distro with glibc 2.28+, and install the 'manylinux_2_28' variant.\n",
      "  warnings.warn(\n",
      "/home/ec2-user/SageMaker/data/neha_exploration/dummy.py:21: UserWarning: [08:50:39] WARNING: /workspace/src/c_api/c_api.cc:1427: Saving model in the UBJSON format as default.  You can use file extension: `json`, `ubj` or `deprecated` to choose between formats.\n",
      "  model.save_model(model_path)\n",
      "Model saved at: ./model/xgboost_model.bst\n"
     ]
    }
   ],
   "source": [
    "!python dummy.py"
   ]
  },
  {
   "cell_type": "code",
   "execution_count": 18,
   "id": "41181c8e-37a8-41cb-8281-b6d8ccb0f1dc",
   "metadata": {},
   "outputs": [
    {
     "name": "stdout",
     "output_type": "stream",
     "text": [
      "total 608\n",
      "-rw-rw-r-- 1 ec2-user ec2-user 469027 Mar  7 12:32 xgb_model.json\n",
      "-rw-rw-r-- 1 ec2-user ec2-user  14773 Mar 19 08:50 xgboost_model.bst\n",
      "-rw-rw-r-- 1 ec2-user ec2-user 132021 Mar  7 12:32 xgboost-model.tar.gz\n"
     ]
    }
   ],
   "source": [
    "!ls -l ./model"
   ]
  },
  {
   "cell_type": "code",
   "execution_count": null,
   "id": "c19b0e97-d0f5-45c3-b66a-c75c2448957e",
   "metadata": {},
   "outputs": [],
   "source": []
  },
  {
   "cell_type": "code",
   "execution_count": null,
   "id": "267d2fb0-57f4-42bf-9e95-4e5abab8e991",
   "metadata": {},
   "outputs": [],
   "source": []
  }
 ],
 "metadata": {
  "kernelspec": {
   "display_name": "conda_python3",
   "language": "python",
   "name": "conda_python3"
  },
  "language_info": {
   "codemirror_mode": {
    "name": "ipython",
    "version": 3
   },
   "file_extension": ".py",
   "mimetype": "text/x-python",
   "name": "python",
   "nbconvert_exporter": "python",
   "pygments_lexer": "ipython3",
   "version": "3.10.16"
  }
 },
 "nbformat": 4,
 "nbformat_minor": 5
}
